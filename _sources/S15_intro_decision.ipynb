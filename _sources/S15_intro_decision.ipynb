{
 "cells": [
  {
   "cell_type": "code",
   "execution_count": null,
   "metadata": {
    "tags": [
     "remove-cell"
    ]
   },
   "outputs": [],
   "source": [
    "%pip install -q -U gtbook"
   ]
  },
  {
   "cell_type": "markdown",
   "metadata": {},
   "source": [
    "# Planning\n",
    "\n",
    "> :Planning is the process of determining which actions to execute in order to effect desired changes in the world."
   ]
  },
  {
   "cell_type": "code",
   "execution_count": 2,
   "metadata": {
    "tags": [
     "remove-input"
    ]
   },
   "outputs": [
    {
     "data": {
      "text/html": [
       "\n",
       "        <div align='center'>\n",
       "        <img src='https://github.com/gtbook/robotics/blob/main/Art/steampunk/S15-Robot%20menagerie-01.jpg?raw=1' style='height:256 width:100%'/>\n",
       "        </div>\n",
       "        "
      ],
      "text/plain": [
       "<IPython.core.display.HTML object>"
      ]
     },
     "metadata": {},
     "output_type": "display_data"
    }
   ],
   "source": [
    "from gtbook.display import randomImages\n",
    "from IPython.core.display import display\n",
    "display(randomImages(1, 5, \"steampunk\", 1))"
   ]
  },
  {
   "cell_type": "markdown",
   "metadata": {},
   "source": [
    "## Task Planning\n",
    "\n",
    "High-level planning stuff... "
   ]
  },
  {
   "cell_type": "markdown",
   "metadata": {},
   "source": [
    "## Path Planning\n",
    "\n",
    "get from start to goal, and don't collide with obstacles\n",
    "\n",
    "Also, there are sometimes constraints on how a robot can move. For example, a car-like robot can only move forward.\n",
    "These kinds of constraints must be taken into account during path planning."
   ]
  },
  {
   "cell_type": "markdown",
   "metadata": {},
   "source": [
    "## Trajectory Planning\n",
    "\n",
    "Now, time and dynamics matter. For exmaple, a drone can't fly in arbitrary directions or with arbitrary velocity.\n",
    "External forces, namely gravity, influence the drone's behavior, and must be taken into account when planning."
   ]
  },
  {
   "cell_type": "markdown",
   "metadata": {},
   "source": [
    "## Uncertainty\n",
    "\n",
    "In real-world applications, robot's never know precisely where they are, or precisely what will\n",
    "be the results of their actions.\n",
    "In some cases, uncertainties can be ignored during planning, if, for exmaple the uncertainties\n",
    "are small relative to task requirements, or if feedback control can be used to account for uncertainties\n",
    "during task execution. \n",
    "\n",
    "When uncertainties cannot be neglected, methods from decision theory can be used to derive plans that satisfy\n",
    "certain optimality criteria.\n",
    "For example, if the cost of collision with an obstacle is small (as is the case for a vacuuming robot),\n",
    "a planner might choose an aggressive strategy that minimizes the time to complete the task.\n",
    "If the cost of collision is high (e.g., a self-driving car sharing streets with cyclists and pedestrians),\n",
    "a planner might choose a much more conservative strategy, optimizing for safety rather than time of arrival.\n",
    "\n",
    "Words about how this can be modeled using probability, cost, expectation, etc...\n"
   ]
  }
 ],
 "metadata": {
  "kernelspec": {
   "display_name": "Python 3 (ipykernel)",
   "language": "python",
   "name": "python3"
  },
  "language_info": {
   "codemirror_mode": {
    "name": "ipython",
    "version": 3
   },
   "file_extension": ".py",
   "mimetype": "text/x-python",
   "name": "python",
   "nbconvert_exporter": "python",
   "pygments_lexer": "ipython3",
   "version": "3.8.12"
  },
  "latex_metadata": {
   "affiliation": "Georgia Institute of Technology",
   "author": "Frank Dellaert and Seth Hutchinson",
   "title": "Introduction to Robotics"
  }
 },
 "nbformat": 4,
 "nbformat_minor": 2
}
