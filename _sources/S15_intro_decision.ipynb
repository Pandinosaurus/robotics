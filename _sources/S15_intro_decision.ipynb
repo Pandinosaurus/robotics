{
 "cells": [
  {
   "cell_type": "markdown",
   "metadata": {},
   "source": [
    "# Planning\n",
    "\n",
    "> :Planning is the process of determining which actions to execute in order to effect desired changes in the world.\n",
    "\n",
    "## Task Planning\n",
    "\n",
    "High-level planning stuff... "
   ]
  },
  {
   "cell_type": "markdown",
   "metadata": {},
   "source": [
    "## Path Planning\n",
    "\n",
    "get from start to goal, and don't collide with obstacles\n",
    "\n",
    "Also, there are sometimes constraints on how a robot can move. For example, a car-like robot can only move forward.\n",
    "These kinds of constraints must be taken into account during path planning."
   ]
  },
  {
   "cell_type": "markdown",
   "metadata": {},
   "source": [
    "## Trajectory Planning\n",
    "\n",
    "Now, time and dynamics matter. For exmaple, a drone can't fly in arbitrary directions or with arbitrary velocity.\n",
    "External forces, namely gravity, influence the drone's behavior, and must be taken into account when planning."
   ]
  },
  {
   "cell_type": "markdown",
   "metadata": {},
   "source": [
    "## Uncertainty\n",
    "\n",
    "In real-world applications, robot's never know precisely where they are, or precisely what will\n",
    "be the results of their actions.\n",
    "In some cases, uncertainties can be ignored during planning, if, for exmaple the uncertainties\n",
    "are small relative to task requirements, or if feedback control can be used to account for uncertainties\n",
    "during task execution. \n",
    "\n",
    "When uncertainties cannot be neglected, methods from decision theory can be used to derive plans that satisfy\n",
    "certain optimality criteria.\n",
    "For example, if the cost of collision with an obstacle is small (as is the case for a vacuuming robot),\n",
    "a planner might choose an aggressive strategy that minimizes the time to complete the task.\n",
    "If the cost of collision is high (e.g., a self-driving car sharing streets with cyclists and pedestrians),\n",
    "a planner might choose a much more conservative strategy, optimizing for safety rather than time of arrival.\n",
    "\n",
    "Words about how this can be modeled using probability, cost, expectation, etc...\n"
   ]
  }
 ],
 "metadata": {
  "language_info": {
   "name": "plaintext"
  },
  "latex_metadata": {
   "affiliation": "Georgia Institute of Technology",
   "author": "Frank Dellaert and Seth Hutchinson",
   "title": "Introduction to Robotics"
  },
  "orig_nbformat": 4
 },
 "nbformat": 4,
 "nbformat_minor": 2
}
