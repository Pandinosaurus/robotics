{
 "cells": [
  {
   "cell_type": "markdown",
   "metadata": {
    "colab_type": "text",
    "id": "view-in-github"
   },
   "source": [
    "<a href=\"https://colab.research.google.com/github/gtbook/robotics/blob/main/S21_sorter_state.ipynb\" target=\"_parent\"><img src=\"https://colab.research.google.com/assets/colab-badge.svg\" alt=\"Open In Colab\"/></a>"
   ]
  },
  {
   "cell_type": "code",
   "execution_count": 1,
   "metadata": {
    "id": "JoW4C_OkOMhe",
    "tags": [
     "remove-cell"
    ]
   },
   "outputs": [],
   "source": [
    "%pip install -q -U gtbook"
   ]
  },
  {
   "cell_type": "code",
   "execution_count": null,
   "metadata": {
    "id": "10-snNDwOSuC",
    "tags": [
     "remove-cell"
    ]
   },
   "outputs": [],
   "source": [
    "# no imports"
   ]
  },
  {
   "cell_type": "markdown",
   "metadata": {
    "id": "nAvx4-UCNzt2"
   },
   "source": [
    "# Planar Geometry\n",
    "\n",
    "> Linear algebra can be used to deal efficiently with rotation and translations in the plane."
   ]
  },
  {
   "cell_type": "markdown",
   "metadata": {},
   "source": [
    "In this section, we saw that the configuration space for the differential drive robot\n",
    "was  ${\\cal Q} = \\mathbb{R}^2 \\times [0, 2\\pi),$\n",
    "and we used $q = (x,y,\\theta)$ to parameterize the configuration space.\n",
    "This choice of parameterization has the nice property of being minimal: \n",
    "${\\cal Q}$ is a three-dimensional object, and at least three\n",
    "parameters are required to represent arbitrary configurations.\n",
    "Unfortunately, this choice of parameterization doesn't help much when reasoning\n",
    "about the geometry of the robot and its motion.\n",
    "Recall, for example, the ad hoc planar geometry we used to derive coordinates of points\n",
    "on the DDR as a function of $x,y,\\theta$.\n",
    "In this section, we use tools from linear algebra to represent and manipulate configurations.\n",
    "We begin by focusing our attention on representing orientation.\n",
    "We then extend our methods to include translation, and develop methods\n",
    "to describe relative configurations of a robot, which could be used to describe\n",
    "sample points along a continuous trajectory in $\\cal Q$."
   ]
  },
  {
   "cell_type": "code",
   "execution_count": 1,
   "metadata": {
    "tags": [
     "remove-input"
    ]
   },
   "outputs": [
    {
     "data": {
      "text/html": [
       "\n",
       "        <div align='center'>\n",
       "        <img src='https://github.com/gtbook/robotics/blob/main/Art/steampunk/S61-Autonomous%20Vehicle%20with%20LIDAR%20and%20cameras-01.jpg?raw=1' style='height:256 width:100%'/>\n",
       "        </div>\n",
       "        "
      ],
      "text/plain": [
       "<IPython.core.display.HTML object>"
      ]
     },
     "metadata": {},
     "output_type": "display_data"
    }
   ],
   "source": [
    "from gtbook.display import randomImages\n",
    "from IPython.display import display\n",
    "display(randomImages(6, 1, \"steampunk\", 1))"
   ]
  },
  {
   "cell_type": "markdown",
   "metadata": {},
   "source": [
    "## Planar Rotations\n",
    "\n",
    "In the previous chapter, we represented the orientation of the robot simply by $\\theta \\in [0,2\\pi)$.\n",
    "There are two main drawbacks to this choice.\n",
    "First, the mapping from the robot's orientation to the parameter $\\theta$ is not continuous.\n",
    "If the robot's orientation is $\\theta = 2\\pi - \\epsilon$, for example, and we rotate the robot clockwise\n",
    "(decreasing $\\epsilon$ to zero), we will encounter a discontinuity when $\\theta$ goes from very nearly $2\\pi$ to zero.  This will occur regardless of the initial\n",
    "value we choose for $\\epsilon$: when $\\epsilon$ reaches zero, there will be a jump in the value of $\\theta$.\n",
    "We call this jump a $singularity$.\n",
    "The second drawback is that parameterizing orientation by a single angle $\\theta$ does not generalize in a straightforward way to representing orientation in 3D.\n",
    "Further, even if we go to the effort to make this generalization work, the problems with singularities\n",
    "are complex, and can cause serious problems if not handled properly."
   ]
  },
  {
   "cell_type": "markdown",
   "metadata": {},
   "source": [
    "Both difficulties above stem from the use of a minimal representation of orientation.\n",
    "To solve these problems, we'll introduce a somewhat redundant representation that explicity\n",
    "encodes the orientation of the axes of a target frame relative to a reference frame.\n",
    "Consider the two coordinate frames shown in the figure below.\n",
    "These two frames share a common origin, and Frame 1 is obtained by rotating by angle $\\theta$ w.r.t.\n",
    "frame 0.\n",
    "We can express the $x$-axis of Frame 1 in coordinates relative to Frame 0\n",
    "by projecting $x_1$ onto $x_0$ and $y_0$ (note that these are coordinate free representations\n",
    "of these vectors).\n",
    "Likewise,\n",
    "we can express the   $y$-axis of Frame 1 w.r.t. Frame 0\n",
    "by projecting $y_1$ onto $x_0$ and $y_0$.\n",
    "Because all of these vectors are unit vectors,\n",
    "the projections can be achieved using the dot product.\n",
    "\n",
    "\n",
    "\n",
    "$$\n",
    "x_{1}^{0}=\n",
    "\\begin{bmatrix}\n",
    "x_1 \\cdot x_0 \\\\\n",
    "x_1 \\cdot y_0\n",
    "\\end{bmatrix}=\n",
    "\\begin{bmatrix}\n",
    "\\cos \\theta \\\\\n",
    "\\sin \\theta\n",
    "\\end{bmatrix}\n",
    "~~~~~~~~~~~\n",
    "y_{1}^{0}=\n",
    "\\begin{bmatrix}\n",
    "y_1 \\cdot x_0 \\\\\n",
    "y_1 \\cdot y_0\n",
    "\\end{bmatrix}=\n",
    "\\begin{bmatrix}\n",
    "-\\sin \\theta \\\\\n",
    "\\cos \\theta\n",
    "\\end{bmatrix}\n",
    "$$\n",
    "\n",
    "Above, we adopt the notational convention that a subscript indicates the target\n",
    "frame, and the superscript indicates the reference frame.  In well-formed equations, subscripts on\n",
    "one symbol match the superscript of the next symbol.\n",
    "Thus, $x_1^0$ denotes the $x$-axis of Frame 1, expressed in coordinates relative to Frame 0."
   ]
  },
  {
   "cell_type": "markdown",
   "metadata": {},
   "source": [
    "\n",
    "<figure>\n",
    "<img src=\"https://github.com/gtbook/robotics/blob/main/Figures6/2D-rotation.PNG?raw=1\" id=\"fig:2drotation\" style=\"width:10cm\" alt=\"\">\n",
    "<figcaption>Two coordinate frames that share a common origin.</figcaption>\n",
    "</figure>"
   ]
  },
  {
   "cell_type": "markdown",
   "metadata": {},
   "source": [
    "We can group these two vectors into a a **rotation matrix**\n",
    "\n",
    "$$\n",
    "R_{1}^{0}\n",
    "=\\begin{bmatrix}\n",
    "x_1 \\cdot x_0 &  y_1 \\cdot x_0\\\\\n",
    "x_1 \\cdot y_0 & y_1 \\cdot y_0\n",
    "\\end{bmatrix}\n",
    "=\\begin{bmatrix}\n",
    "\\cos \\theta &  -\\sin \\theta\\\\\n",
    "\\sin \\theta & \\cos \\theta\n",
    "\\end{bmatrix}\n",
    "$$\n",
    "\n",
    "that describes the orientation of Frame 1 w.r.t. Frame 0.\n",
    "Using the notational convention defined above, $R_{1}^{0}$ indicates the reference frame\n",
    "as the superscript (Frame 0) and the target frame as the subscript (Frame 1)."
   ]
  },
  {
   "cell_type": "markdown",
   "metadata": {},
   "source": [
    "## The Special Orthogonal Group of Order 2, aka SO(2)\n",
    "\n",
    "\n",
    "The set of $2\\times2$ rotation matrices, together with matrix multiplication as the\n",
    "composition operator, form a group called the **Special Orthogonal group of order 2**,\n",
    "denoted by $SO(2)$.\n",
    "All matrices $R \\in SO(2)$ have the following properties:\n",
    "1. Each column $c_i$ is a unit vector.\n",
    "2. The columns are orthogonal (i.e., $c_i \\cdot c_j = 0$ for $i \\neq j$).\n",
    "3. The inverse of $R$ is equal to its transpose, $R^{-1}=R^{T}$.\n",
    "4. The determinant of $R$ is +1.\n",
    "\n",
    "The first three properties hold for all orthogonal matrices.\n",
    "\n",
    "It is easy to understand the first two properties by thinking of the columns\n",
    "as representations of coordinate axes. We typically use unit vectors to represent\n",
    "the directions of coordinate axes, and any two coordinate axes are orthogonal to one\n",
    "another.\n",
    "\n",
    "The third property provides a simple method for inverting rotation matrices,\n",
    "which is a frequently used operation in robotics applications.\n",
    "\n",
    "The fourth property holds for rotation matrices, but not for arbitrary orthogonal\n",
    "matrices. \n",
    "The determinant of an arbitrary orthogonal matrix is $\\pm 1$.\n",
    "Those orthogonal matrices with determinant $+1$ correspond to right-handed coordinate systems\n",
    "(when curling the fingers of your right hand from the $x$-axis to the $y$-axis, your thumb points\n",
    "in the direction of the $z$-axis, which is \"out of the page\" in the 2D case).\n",
    "Those orthogonal matrices with determinant $-1$ correspond to left-handed systems,\n",
    "which are useful in computer graphics applications, but not so much for roboticists.\n",
    "Note that it is this fourth property that justifies the designation *special* for this\n",
    "set of matrices. \n",
    "\n",
    "As we will see in the next chapter, all of the properties described above generalize to the case\n",
    "of rotations in 3D.\n"
   ]
  },
  {
   "cell_type": "markdown",
   "metadata": {},
   "source": [
    "## Coordinate Transformations for Pure Rotations\n",
    "\n",
    "We can use rotation matrices to perform coordinate transformations under pure rotation.\n",
    "Consider a point $P$ that is rigidly attached to Frame 1, and whose coordinates w.r.t. Frame 1\n",
    "are given by\n",
    "\n",
    "$$\n",
    "P_{}^{1}=\\begin{bmatrix}\n",
    "p_x \\\\\n",
    "p_y\n",
    "\\end{bmatrix}\n",
    "$$\n",
    "\n",
    "Using the definition of coordinates, we can describe the point $P$\n",
    "using the equation\n",
    "\n",
    "$$\n",
    "P = p_x x_1 + p_y y_1\n",
    "$$\n",
    "\n",
    "in which $x_1$ and $y_1$ are the vectors defining the coordinate axes of Frame 1.\n",
    "To compute the coordinates of $P$ w.r.t. Frame 0, we merely project $P$ onto the $x$- and $y$- axes\n",
    "of Frame 0. Since the vectors $x_0$ and $y_0$ are unit vectors, this projection can be accomplished\n",
    "using a the dot product:\n",
    "\n",
    "\n",
    "$$\n",
    "P^0 = \n",
    "\\begin{bmatrix}\n",
    "P \\cdot x_0 \\\\\n",
    "P \\cdot y_0\n",
    "\\end{bmatrix}\n",
    "=\n",
    "\\begin{bmatrix}\n",
    "(p_x x_1 + p_y y_1) \\cdot x_0 \\\\\n",
    "(p_x x_1 + p_y y_1) \\cdot y_0\n",
    "\\end{bmatrix} \n",
    "=\n",
    "\\begin{bmatrix}\n",
    "p_x (x_1 \\cdot x_0) + p_y(y_1 \\cdot x_0)   \\\\\n",
    "p_x (x_1 \\cdot y_0) + p_y(y_1 \\cdot y_0)  \n",
    "\\end{bmatrix}\n",
    "=\n",
    "\\begin{bmatrix}\n",
    "x_1 \\cdot x_0  & y_1 \\cdot x_0   \\\\\n",
    "x_1 \\cdot y_0  & y_1 \\cdot y_0  \n",
    "\\end{bmatrix}\n",
    "\\begin{bmatrix}\n",
    "p_x    \\\\\n",
    " p_y\n",
    "\\end{bmatrix}\n",
    "= R^0_1 P^1\n",
    "$$\n",
    "\n",
    "Summarizing the above:\n",
    "$$\n",
    "P^0 =  R^0_1 P^1\n",
    "$$"
   ]
  },
  {
   "cell_type": "markdown",
   "metadata": {},
   "source": [
    "<figure>\n",
    "<img src=\"https://github.com/gtbook/robotics/blob/main/Figures6/2d-rotation-transformation.png?raw=1\" id=\"fig:2drotation-trans\" style=\"width:10cm\" alt=\"\">\n",
    "<figcaption>Coordinate transformation under pure rotation.</figcaption>\n",
    "</figure>"
   ]
  },
  {
   "cell_type": "markdown",
   "metadata": {},
   "source": [
    "## 2D Rigid Transforms aka SE(2)\n",
    "\n",
    "It is easy to extend the above method of coordinate transformations to the case of both\n",
    "rotation and translation.\n",
    "Suppose that, as above, the point $P$ is rigidly attached to a frame that is rotated\n",
    "by angle $\\theta$ w.r.t. Frame 0.\n",
    "If we now translate that frame, as shown in the figure below, the point $P$ undergoes\n",
    "the same translation as the frame.\n",
    "To calculate the coordinates of $P$ relative to Frame 0, we merely\n",
    "perform the rotational coordinate transformation as above,\n",
    "and then add the translation from the origin of Frame 0 to the origin of Frame 1:\n",
    "$$\n",
    "P^0 =  R^0_1 P^1 + d^0_1\n",
    "$$\n"
   ]
  },
  {
   "cell_type": "markdown",
   "id": "03f7b35f",
   "metadata": {},
   "source": [
    "<figure>\n",
    "<img src=\"https://github.com/gtbook/robotics/blob/main/Figures6/2d-coord-trans.png?raw=1\" id=\"fig:2drotation-trans\" style=\"width:20cm\" alt=\"\">\n",
    "<figcaption>Coordinate transformation under both rotation and translation.</figcaption>\n",
    "</figure>"
   ]
  },
  {
   "cell_type": "markdown",
   "metadata": {},
   "source": [
    "We can write the above coordinate transformation as a matrix equation:\n",
    "\n",
    "$$\n",
    "\\begin{bmatrix}\n",
    "P^0 \\\\ 1\n",
    "\\end{bmatrix}\n",
    "=\n",
    "\\begin{bmatrix}\n",
    "R_{1}^{0} & d_{1}^{0}\\\\\n",
    "0_{2} & 1\n",
    "\\end{bmatrix}\n",
    "\\begin{bmatrix}\n",
    "P^1 \\\\ 0\n",
    "\\end{bmatrix}\n",
    "$$\n",
    "\n",
    "in which $0_2$ denotes the row vector $[0~ 0]$.\n",
    "Note that the bottom row of this matrix equation is merely the equation\n",
    "\n",
    "$$\n",
    "1 = \\begin{bmatrix} 0 & 0 & 1 \\end{bmatrix} \n",
    "\\begin{bmatrix} p_x \\\\ p_y \\\\ 1 \\end{bmatrix}\n",
    "$$\n",
    "\n",
    "which holds for any $p_x, p_y$.\n",
    "\n",
    "It is convenient to define the vector $\\tilde{P}$ as\n",
    "\n",
    "$$\n",
    "\\tilde{P} =\n",
    "\\begin{bmatrix}\n",
    "P \\\\ 1\n",
    "\\end{bmatrix}\n",
    "$$\n",
    "\n",
    "Using this convention, we can write the homogeneous coordinate transformation as\n",
    "\n",
    "$$\n",
    "\\tilde{P}^0 = T^0_1 \\tilde{P}^1\n",
    "$$\n",
    "\n",
    "\n",
    "The set of matrices of the form\n",
    "\n",
    "$$\n",
    "T =\n",
    "\\begin{bmatrix}\n",
    "R & d\\\\\n",
    "0_2 & 1\n",
    "\\end{bmatrix}\n",
    "$$\n",
    "\n",
    "with $R \\in SO(2)$ and $d \\in \\mathbb{R}^2$ is called\n",
    "the **special Euclidean group of order 2**, denoted by SE(2)."
   ]
  },
  {
   "cell_type": "markdown",
   "metadata": {},
   "source": [
    "## Composition of Homogeneous Transformations\n",
    "\n",
    "Consider a mobile robot that begins at some initial configuration, moves to a new location, reorients itself and then moves to another location. How can we determine the final configuration of the robot if we are given\n",
    "only the individual motions in the sequence?\n",
    "The answer is suprisingly simple.\n",
    "Suppose the point $P$ is rigidly attached to the robot.\n",
    "Using the coordinate transformation equation above, we have the following:\n",
    "\n",
    "$$\\tilde{P}^0 = T^0_1 \\tilde{P}^1, ~~~~~ \\tilde{P}^1 = T^1_2 \\tilde{P}^2, ~~~~~ \\tilde{P}^0 = T^0_2 \\tilde{P}^2$$ \n",
    "\n",
    "Combining the first two of these gives\n",
    "\n",
    "$$\\tilde{P}^0 = T^0_1 T^1_2 \\tilde{P}^2$$\n",
    "\n",
    "and since this equation holds for every possible $\\tilde{P}^2$ we have\n",
    "\n",
    "$$T^0_2 = T^0_1 T^1_2 $$\n",
    "\n",
    "It is easy to show (by induction) that this result extends to an arbitarily long sequence of transformations.\n",
    "Therefore, if we have a sequence of robot configurations $T^{i-1}_i$, for $i = 1, \\dots , n$ we can compute\n",
    "the composite transformation $T^0_n$ using\n",
    "\n",
    "$$T^0_n = T^0_1 \\dots T^{n-1}_n $$\n",
    "\n"
   ]
  },
  {
   "cell_type": "markdown",
   "metadata": {},
   "source": [
    "\n",
    "\n",
    "\n",
    "\n",
    "<figure>\n",
    "<img src=\"https://github.com/gtbook/robotics/blob/main/Figures6/transform-composition.png?raw=1\" id=\"fig:TransformComposition\" style=\"width:14cm\" alt=\"\">\n",
    "<figcaption>The composition of two homogeneous transformations. </figcaption>\n",
    "</figure>\n"
   ]
  },
  {
   "cell_type": "markdown",
   "metadata": {},
   "source": [
    "## Lie Groups\n",
    "\n",
    "A **group** (in mathematics) consists of a set (in our case, a set of matrices) along\n",
    "with a group operator (in our case, matrix multiplication).\n",
    "All groups posses certain properties, sometimes called the *group axioms*.\n",
    "For a matrix group, $G$, with matrix multiplication as the group operation,\n",
    "these properties are as follows:\n",
    "\n",
    "1. **Closure**: For all matrices $M, M' \\in G$, their product is also in $G$, i.e., $MM' \\in G$.\n",
    "2. **Identity Element**: The identity matrix $I$ is included in the group, and for\n",
    "all $M\\in G$ we have $MI = IM = M$.\n",
    "3. **Inverse**: For every $M \\in G$ there exists $M^{-1} \\in G$ such that $M^{-1}M = MM^{-1} = I$.\n",
    "3. **Associativity**: For all $M_1, M_2, M_3 \\in G$, $(M_1 M_2) M_3 = M_1 (M_2 M_3)$.\n",
    "\n",
    "Both $SO(2)$ and $SE(2)$, together with their composition operators, are examples of groups."
   ]
  },
  {
   "cell_type": "markdown",
   "metadata": {},
   "source": [
    "Consider first $SO(2)$.\n",
    "Of these four properties, only the fourth applies to arbitrary sets of matrices, since matrix multiplication is associative.\n",
    "Therefore $SO(2)$ satisfies the fourth property.\n",
    "The identity matrix satisfies the conditions of $SO(2)$, and is therefore included in the group, satisfying the\n",
    "second property.\n",
    "Each $R \\in SO(2)$ has as its inverse $R^{-1} = R^T$, which satisfies the third property.\n",
    "It can be shown that $SO(2)$ is closed under matrix multiplication, but we omit this proof here.\n",
    "\n",
    "It is interesting, but potentially dangerous, to note that $SO(2)$ is an **abelian group**, i.e.,\n",
    "for $R_1, R_2 \\in SO(2)$, $R_1 R_2 = R_2 R_1$. Beware: this property does not hold\n",
    "for $SO(3)$, nor does it hold for $SE(n)$ (for any $n$). "
   ]
  },
  {
   "cell_type": "markdown",
   "metadata": {},
   "source": [
    "Consider now $SE(2)$.\n",
    "Each matrix $T \\in SE(2)$ can be written as\n",
    "\n",
    "$$ T =\n",
    "\\begin{bmatrix}\n",
    "R & d \\\\\n",
    "0_2 & 1\n",
    "\\end{bmatrix}\n",
    "$$\n",
    "\n",
    "As above, since matrix multiplication is associative, $SE(2)$ satisfies the fourth property.\n",
    "The identity matrix satisfies the conditions of $SE(2)$ (simply let $d = 0$, and $R = I_{2\\times 2}$), and is therefore included in the group, satisfying the second property.\n",
    "The inverse of $T \\in SE(2)$ is given by\n",
    "\n",
    "$$ T^{-1} =\n",
    "\\begin{bmatrix}\n",
    "R^T & -R^Td \\\\\n",
    "0_2 & 1\n",
    "\\end{bmatrix}\n",
    "$$\n",
    "\n",
    "Finally, as with $SO(2)$, It can be shown that $SE(2)$ is closed under matrix multiplication, but we omit this proof here.\n",
    "\n",
    "It is worth pointing out again the following for $T, T_1, T_2 \\in SE(2)$:\n",
    "* $T^{-1} \\neq T^T$\n",
    "* $T_1 T_2 \\neq T_2 T_1$."
   ]
  },
  {
   "cell_type": "markdown",
   "metadata": {},
   "source": [
    "Groups can be either discrete or continous.\n",
    "For example, the set of integers along with addition as the group operation forms a discrete\n",
    "group.\n",
    "In contrast, both $SO(2)$ and $SE(2)$ are continuous groups.\n",
    "Not only are they continuous, but they are examples of **manifolds**.\n",
    "Informally, a manifold is a set that is locally like $\\mathbb{R}^k$ for some $k$.\n",
    "In the present case, $SO(2)$ is locally like $\\mathbb{R}^1$, and $SE(2)$ is locally like $\\mathbb{R}^3$.\n",
    "\n",
    "While the topic of manifolds is beyond the scope of this book,\n",
    "the easiest way to understand this is to note that $SO(2)$ can be parameterized by the angle $\\theta \\in [0,2\\pi) \\subset \\mathbb{R}^1$.\n",
    "This parameterization is local (and not global) because it breaks down in a neighborhood of $\\theta = 2\\pi$ (as described above).\n",
    "This is not a problem, however, since in that case, we can simply\n",
    "choose to use $\\theta \\in [-\\pi, pi)$ instead of $\\theta \\in [0,2\\pi)$.\n",
    "We can completely *cover* $SO(2)$ using two parameterizations: one for cases when $\\theta$ is near $2\\pi$, \n",
    "and a second for when $\\theta$ is near $\\pi$.\n",
    "\n",
    "For the case of $SE(2)$, we merely use the two parameterizations $(x,y,\\theta) \\in \\mathbb{R}^2 \\times [0,2\\pi) \\subset \\mathbb{R}^3$\n",
    "and $(x,y,\\theta) \\in \\mathbb{R}^2 \\times [-\\pi,\\pi) \\subset \\mathbb{R}^3$,\n",
    "which demonstrates that *locally* $SE(2)$ is like $\\mathbb{R}^3$.\n"
   ]
  },
  {
   "cell_type": "markdown",
   "metadata": {},
   "source": [
    "In addition to being manifolds, both $SO(2)$ and $SE(2)$ posses the additional property of being differentiable.\n",
    "Such groups are known as **Lie groups** (pronounced \"Lee groups\").\n",
    "While again beyond the scope of this book,\n",
    "we can understand this by considering the parameterizations for $SO(2)$ and $SE(2)$ described above.\n",
    "For each of these parameterizations, we can differentiate the elements of $SO(2)$ and $SE(2)$,\n",
    "which implies the existence of linear and angular velocities.\n",
    "In fact, in this chapter, we will use define the actions of the car using these velocities as\n",
    "the inputs to the system.\n"
   ]
  }
 ],
 "metadata": {
  "colab": {
   "collapsed_sections": [],
   "include_colab_link": true,
   "name": "S11_sorter_state.ipynb",
   "provenance": []
  },
  "interpreter": {
   "hash": "c6e4e9f98eb68ad3b7c296f83d20e6de614cb42e90992a65aa266555a3137d0d"
  },
  "kernelspec": {
   "display_name": "Python 3.9.6 64-bit ('base': conda)",
   "name": "python3"
  },
  "language_info": {
   "codemirror_mode": {
    "name": "ipython",
    "version": 3
   },
   "file_extension": ".py",
   "mimetype": "text/x-python",
   "name": "python",
   "nbconvert_exporter": "python",
   "pygments_lexer": "ipython3",
   "version": "3.8.12"
  },
  "latex_metadata": {
   "affiliation": "Georgia Institute of Technology",
   "author": "Frank Dellaert and Seth Hutchinson",
   "title": "Introduction to Robotics"
  }
 },
 "nbformat": 4,
 "nbformat_minor": 2
}
