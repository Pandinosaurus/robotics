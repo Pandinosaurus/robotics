{
 "cells": [
  {
   "cell_type": "markdown",
   "metadata": {
    "colab_type": "text",
    "id": "view-in-github"
   },
   "source": [
    "<a href=\"https://colab.research.google.com/github/gtbook/robotics/blob/main/S40_logistics_intro.ipynb\" target=\"_parent\"><img src=\"https://colab.research.google.com/assets/colab-badge.svg\" alt=\"Open In Colab\"/></a>"
   ]
  },
  {
   "cell_type": "code",
   "execution_count": 1,
   "metadata": {
    "id": "JoW4C_OkOMhe",
    "tags": [
     "remove-cell"
    ]
   },
   "outputs": [
    {
     "name": "stdout",
     "output_type": "stream",
     "text": [
      "Note: you may need to restart the kernel to use updated packages.\n"
     ]
    }
   ],
   "source": [
    "%pip install -q -U gtbook"
   ]
  },
  {
   "cell_type": "markdown",
   "metadata": {
    "id": "nAvx4-UCNzt2"
   },
   "source": [
    "# Warehouse Robots in 2D\n",
    "\n",
    "> Omnidirectional robots operating in a warehouse-like environment with LIDAR sensors."
   ]
  },
  {
   "cell_type": "code",
   "execution_count": 2,
   "metadata": {
    "tags": [
     "remove-input"
    ]
   },
   "outputs": [
    {
     "data": {
      "text/html": [
       "\n",
       "        <div align='center'>\n",
       "        <img src='https://github.com/gtbook/robotics/blob/main/Art/steampunk/S40-Warehouse%20robots-00.jpg?raw=1' style='height:256 width:100%'/>\n",
       "        </div>\n",
       "        "
      ],
      "text/plain": [
       "<IPython.core.display.HTML object>"
      ]
     },
     "metadata": {},
     "output_type": "display_data"
    }
   ],
   "source": [
    "from gtbook.display import randomImages\n",
    "from IPython.display import display\n",
    "display(randomImages(4, 0, \"steampunk\", 1))"
   ]
  },
  {
   "cell_type": "markdown",
   "metadata": {},
   "source": [
    "In this chapter, we consider a simple mobile robot that operates in a warehouse,\n",
    "and whose main task is to transport products from various storage locations to a shipping station.\n",
    "The representations and models in this chapter are significantly more complex than those\n",
    "in the previous chapters, but they are also much more realistic than those of previous chapters,\n",
    "and in some cases are not so different from what is used in current state-of-the-art robotic systems.\n",
    "\n",
    "For the first time, we will consider the case in which the state space is continuous.\n",
    "While we do not consider rotation in this chapter, we will assume that\n",
    "the robot can translate freely to any point in the warehouse, so the state space will be a subset\n",
    "of $\\mathbb{R}^2$.\n",
    "In order to represent uncertainty in state, we will introduce continuous probability\n",
    "distributions on  $\\mathbb{R}^2$.\n",
    "To model the motion of such a robot, we introduce omni-wheels, and investigate\n",
    "the geometry of motion using such wheels.\n",
    "Then, to model uncertainty in the motion model, we introduce the multi-variate Gaussian\n",
    "distribution."
   ]
  },
  {
   "cell_type": "markdown",
   "metadata": {},
   "source": [
    "For sensing and perception, we again use continuous probability distributions: one-dimensional\n",
    "distributions for a range sensor, and two-dimensional distributions for a GPS-like sensor.\n",
    "We then introduce the perception problem of localization: given a map of the environment,\n",
    "along with the action and sensor measurement histories, determine the robot's current location\n",
    "(i.e., the current state).\n",
    "We first look at \"Markov Localization\", which is a straightforward application of HMMs. We then look at a particle filter as a better alternative. When applied to localization, the resulting algorithm is called \"Monte Carlo Localization\". Finally, as an advanced technique, Kalman smoothing is discussed.\n",
    "These three solution approaches demonstrate trade-offs between computational cost and accuracy.\n"
   ]
  },
  {
   "cell_type": "markdown",
   "metadata": {},
   "source": [
    "For planning, we will extend our value iteration algorithm of the previous chapter to the case of\n",
    "planning motions for a robot that translates in the plane,  with uncertainty in both its motion model\n",
    "and its knowledge of the current state.\n",
    "This requires defining a reward function that guides the robot to its goal while avoiding\n",
    "collisions with obstacles."
   ]
  }
 ],
 "metadata": {
  "colab": {
   "collapsed_sections": [],
   "include_colab_link": true,
   "name": "S40_logistics_intro.ipynb",
   "provenance": []
  },
  "interpreter": {
   "hash": "c6e4e9f98eb68ad3b7c296f83d20e6de614cb42e90992a65aa266555a3137d0d"
  },
  "kernelspec": {
   "display_name": "Python 3 (ipykernel)",
   "language": "python",
   "name": "python3"
  },
  "language_info": {
   "codemirror_mode": {
    "name": "ipython",
    "version": 3
   },
   "file_extension": ".py",
   "mimetype": "text/x-python",
   "name": "python",
   "nbconvert_exporter": "python",
   "pygments_lexer": "ipython3",
   "version": "3.8.12"
  },
  "latex_metadata": {
   "affiliation": "Georgia Institute of Technology",
   "author": "Frank Dellaert and Seth Hutchinson",
   "title": "Introduction to Robotics"
  }
 },
 "nbformat": 4,
 "nbformat_minor": 2
}
