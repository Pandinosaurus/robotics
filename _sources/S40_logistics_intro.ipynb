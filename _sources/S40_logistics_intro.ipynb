{
 "cells": [
  {
   "cell_type": "markdown",
   "metadata": {
    "colab_type": "text",
    "id": "view-in-github"
   },
   "source": [
    "<a href=\"https://colab.research.google.com/github/gtbook/robotics/blob/main/S40_logistics_intro.ipynb\" target=\"_parent\"><img src=\"https://colab.research.google.com/assets/colab-badge.svg\" alt=\"Open In Colab\"/></a>"
   ]
  },
  {
   "cell_type": "code",
   "execution_count": 1,
   "metadata": {
    "id": "JoW4C_OkOMhe",
    "tags": [
     "remove-cell"
    ]
   },
   "outputs": [
    {
     "name": "stdout",
     "output_type": "stream",
     "text": [
      "Note: you may need to restart the kernel to use updated packages.\n"
     ]
    }
   ],
   "source": [
    "%pip install -q -U gtbook"
   ]
  },
  {
   "cell_type": "markdown",
   "metadata": {
    "id": "nAvx4-UCNzt2"
   },
   "source": [
    "# Warehouse Robots in 2D\n",
    "\n",
    "> Omnidirectional robots operating in a warehouse-like environment with LIDAR sensors.\n",
    "\n",
    "**This Section is still in draft mode and was released for adventurous spirits (and TAs) only.**"
   ]
  },
  {
   "cell_type": "code",
   "execution_count": 2,
   "metadata": {
    "tags": [
     "remove-input"
    ]
   },
   "outputs": [
    {
     "data": {
      "text/html": [
       "\n",
       "        <div align='center'>\n",
       "        <img src='https://github.com/gtbook/robotics/blob/main/Art/steampunk/S40-Warehouse%20robots-00.jpg?raw=1' style='height:256 width:100%'/>\n",
       "        </div>\n",
       "        "
      ],
      "text/plain": [
       "<IPython.core.display.HTML object>"
      ]
     },
     "metadata": {},
     "output_type": "display_data"
    }
   ],
   "source": [
    "from gtbook.display import randomImages\n",
    "from IPython.display import display\n",
    "display(randomImages(4, 0, \"steampunk\", 1))"
   ]
  },
  {
   "cell_type": "markdown",
   "metadata": {},
   "source": [
    "As a preview, this is what we'll do in this chapter:\n",
    "- State:        2D, i.e., $(x,y)$\n",
    "- Actuators:    Omni wheels\n",
    "- Sensors:      Proximity, range, and GPS-like\n",
    "- Perception:   Localization (Markov, Monte Carlo, Kalman)\n",
    "- Planning:     Graph-based, configuration space\n",
    "- Learning:     Learning a motion model\n",
    "\n",
    "The state will for the first time be continuous. We just operate in 2D translation space for now, because adding orientation adds complexity, mainly because of the nonlinearities inherent in sine/cosine evaluations.\n",
    "\n",
    "As actuators (described in the next section) we use omni-directional or \"Swedish\" wheels, which allows us to move in x and y without constraint. This is in contrast to cars and bicycles, which are \"non-holonomic\".\n",
    "\n",
    "As sensors, we will discuss three different type of sensors one might encounter in a warehouse scenario. We derive an observation models which we can then use in perception.\n",
    "\n",
    "Perception in this chapter is limited to *localizing* in these 2D environments, given an a priori map. We first look at \"Markov Localization\", which is a straightforward application of HMMs. We then look at a particle filter as a better alternative. When applied to localization, the resulting algorithm is called \"Monte Carlo Localization\". Finally, as an advanced technique, Kalman smoothing is discussed.\n",
    "\n",
    "To plan our actions, we use graph-based approaches to plan in configuration space."
   ]
  }
 ],
 "metadata": {
  "colab": {
   "collapsed_sections": [],
   "include_colab_link": true,
   "name": "S40_logistics_intro.ipynb",
   "provenance": []
  },
  "interpreter": {
   "hash": "c6e4e9f98eb68ad3b7c296f83d20e6de614cb42e90992a65aa266555a3137d0d"
  },
  "kernelspec": {
   "display_name": "Python 3 (ipykernel)",
   "language": "python",
   "name": "python3"
  },
  "language_info": {
   "codemirror_mode": {
    "name": "ipython",
    "version": 3
   },
   "file_extension": ".py",
   "mimetype": "text/x-python",
   "name": "python",
   "nbconvert_exporter": "python",
   "pygments_lexer": "ipython3",
   "version": "3.8.12"
  },
  "latex_metadata": {
   "affiliation": "Georgia Institute of Technology",
   "author": "Frank Dellaert and Seth Hutchinson",
   "title": "Introduction to Robotics"
  }
 },
 "nbformat": 4,
 "nbformat_minor": 2
}
