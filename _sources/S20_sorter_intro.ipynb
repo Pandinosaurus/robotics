{
 "cells": [
  {
   "cell_type": "code",
   "execution_count": null,
   "metadata": {},
   "outputs": [],
   "source": [
    "%pip install -q -U gtbook"
   ]
  },
  {
   "cell_type": "markdown",
   "metadata": {},
   "source": [
    "# A Trash Sorting Robot\n",
    "\n",
    "> :A simple robot that sorts trash into appropriate bins can be used to illustrate most all of the concepts that we will teach in this class.\n"
   ]
  },
  {
   "cell_type": "code",
   "execution_count": 1,
   "metadata": {},
   "outputs": [
    {
     "data": {
      "text/html": [
       "\n",
       "        <div align='center'>\n",
       "        <img src='https://github.com/gtbook/robotics/blob/main/Art/steampunk/S20-Trash%20sorting%20robot%20with%20gripper-07.jpg?raw=1' style='height:256 width:100%'/>\n",
       "        </div>\n",
       "        "
      ],
      "text/plain": [
       "<IPython.core.display.HTML object>"
      ]
     },
     "metadata": {},
     "output_type": "display_data"
    }
   ],
   "source": [
    "from gtbook.display import randomImages\n",
    "from IPython.core.display import display\n",
    "display(randomImages(2, 0, \"steampunk\", 1))"
   ]
  },
  {
   "cell_type": "markdown",
   "metadata": {},
   "source": [
    "<!---TODO: get Amp Robotics photo.\n",
    "\n",
    " As shown in the photo, each individual trash sorting robot is mounted in a work cell, and we will assume that one piece of trash is available is in the work cell at any given time. -->\n",
    "\n",
    "In this chapter we introduce the main concepts that will be covered in this book using\n",
    "a simple trash sorting robot as an example.\n",
    "The robot is fed items of trash, one at a time, by a conveyor belt.\n",
    "Depending on the *category of the item* (state), e.g., paper, metal, etc.,\n",
    "the robot's task is to *move the item* (actions) into the appropriate bin.\n",
    "Sensors are used to *measure certain characteristics* (sensing) of a given item of trash,\n",
    "and these sensor measurements are then used to *infer the item's category* (simple perception).\n",
    "Using these inferences, the robot *chooses an action* (planning) to place the item in an appropriate bin.\n",
    "The robot can *refine its model of the world based on data* acquired during operation (learning),\n",
    "and this new model can be used to improve operation over time.\n",
    "\n",
    "For now, we will abstract away many details of real-world robotics problems. \n",
    "We will not consider\n",
    "the geometric or physical aspects of robot motion, and we will assume that the robot is\n",
    "able to move items from the conveyor belt to the commanded bin without error.\n",
    "On the other hand, we will explicitly consider uncertainty associated to the problem\n",
    "of classifying items of trash into their appropriate categories, and how this uncertainty\n",
    "affects decision making when choosing actions (i.e., destination bins for items of trash).\n",
    "This will allow us to introduce some basic concepts from probability and decision theory\n",
    "that will be used throughout the book.\n",
    "\n",
    "<!-- \n",
    "\n",
    "- State:\t\tplastic|paper|cardboard|metal|glass|unknown\n",
    "- Actuators: \tgripper (4 actions or no-op)\n",
    "- Sensors:      Attributes -> conductivity (2), computer vision (3), weight (continuous)\n",
    "- Perception: \tEstimation probabilities of plastic|paper|cardboard|metal|unknown\n",
    "- Planning: \tDecision Theory -> sort into three bins (plastics|mixed paper|metals|glass) or do nothing\n",
    "\n",
    "\n",
    "\n",
    "Perception is different from sensing: it turns prior knowledge and sensed information into a probabilistic knowledge about the current state of the world/robot.\n",
    "\n",
    "Using probalistic knowledge, we can try to act optimallly, and hence we will define notions of optimality, and develop some decision theory. -->"
   ]
  }
 ],
 "metadata": {
  "kernelspec": {
   "display_name": "Python 3 (ipykernel)",
   "language": "python",
   "name": "python3"
  },
  "language_info": {
   "codemirror_mode": {
    "name": "ipython",
    "version": 3
   },
   "file_extension": ".py",
   "mimetype": "text/x-python",
   "name": "python",
   "nbconvert_exporter": "python",
   "pygments_lexer": "ipython3",
   "version": "3.8.12"
  },
  "latex_metadata": {
   "affiliation": "Georgia Institute of Technology",
   "author": "Frank Dellaert and Seth Hutchinson",
   "title": "Introduction to Robotics"
  }
 },
 "nbformat": 4,
 "nbformat_minor": 2
}
