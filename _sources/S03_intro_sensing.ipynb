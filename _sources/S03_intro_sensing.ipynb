{
 "cells": [
  {
   "cell_type": "markdown",
   "metadata": {},
   "source": [
    "# Sensing\n",
    "\n",
    "> a nice tweet\n",
    "\n",
    "A robot's sensors provide information that can be used to infer things about the world, about the robot, and about the robot's\n",
    "location in the world.\n",
    "Sensors can provide simple information (e.g., a simple collision sensor on a vacuuming robot), or rich, highly complex data\n",
    "(e.g., an RGB-D camera, which provides a color image along with a depth estimate for each pixel). \n",
    "In the ideal case, the sensing process can be modeled using the laws of physics (e.g., how light reflects off\n",
    "of object surfaces) or geometry (e.g., stereo vision relies uses simple triangulation to determine the\n",
    "the distance to an object).\n",
    "\n",
    "Sensors, of course, are not perfect, and each type of sensor has its own specific type of uncertainty.\n",
    "This uncertainty is typically characteriazed using models that describe the probability\n",
    "of a particular measurement given that certain physical conditions occur. These conditional probabilities\n",
    "are typically called observation models.\n",
    "As will be described in the next section, these observation models, along with the sensor values,\n",
    "can be used for inference about the world, which defines perception.\n",
    "\n",
    "## A catalog of sensors (?)"
   ]
  }
 ],
 "metadata": {
  "latex_metadata": {
     "affiliation": "Georgia Institute of Technology",
     "author": "Frank Dellaert and Seth Hutchinson",
     "title": "Introduction to Robotics"
  },    
  "language_info": {
   "name": "plaintext"
  },
  "orig_nbformat": 4
 },
 "nbformat": 4,
 "nbformat_minor": 2
}
