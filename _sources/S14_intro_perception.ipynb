{
 "cells": [
  {
   "cell_type": "markdown",
   "metadata": {},
   "source": [
    "# Perception\n",
    "\n",
    "> Perception is the act of using sensor values to drive inference about the world."
   ]
  }
 ],
 "metadata": {
  "latex_metadata": {
     "affiliation": "Georgia Institute of Technology",
     "author": "Frank Dellaert and Seth Hutchinson",
     "title": "Introduction to Robotics"
  },    
  "language_info": {
   "name": "plaintext"
  },
  "orig_nbformat": 4
 },
 "nbformat": 4,
 "nbformat_minor": 2
}
