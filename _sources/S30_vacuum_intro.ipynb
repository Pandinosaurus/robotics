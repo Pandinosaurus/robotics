{
 "cells": [
  {
   "cell_type": "markdown",
   "metadata": {
    "colab_type": "text",
    "id": "view-in-github"
   },
   "source": [
    "<a href=\"https://colab.research.google.com/github/gtbook/robotics/blob/main/S30_vacuum_intro.ipynb\" target=\"_parent\"><img src=\"https://colab.research.google.com/assets/colab-badge.svg\" alt=\"Open In Colab\"/></a>"
   ]
  },
  {
   "cell_type": "code",
   "execution_count": 1,
   "metadata": {
    "id": "JoW4C_OkOMhe",
    "tags": [
     "remove-cell"
    ]
   },
   "outputs": [
    {
     "name": "stdout",
     "output_type": "stream",
     "text": [
      "Note: you may need to restart the kernel to use updated packages.\n"
     ]
    }
   ],
   "source": [
    "%pip install -q -U gtbook"
   ]
  },
  {
   "cell_type": "code",
   "execution_count": 2,
   "metadata": {
    "id": "10-snNDwOSuC",
    "tags": [
     "remove-cell"
    ]
   },
   "outputs": [],
   "source": [
    "import numpy as np\n",
    "import plotly.express as px\n",
    "import gtsam \n",
    "\n",
    "from gtbook.discrete import Variables\n",
    "from gtbook.display import show, pretty"
   ]
  },
  {
   "cell_type": "markdown",
   "metadata": {
    "id": "nAvx4-UCNzt2"
   },
   "source": [
    "# A Vacuum Cleaning Robot\n",
    "\n",
    "> A domestic vacuuming robot is a good model to introduce probabilistic actions and reasoning over time, still in discrete state spaces.\n",
    "\n",
    "**This Section is still in draft mode and was released for adventurous spirits (and TAs) only.**"
   ]
  },
  {
   "cell_type": "code",
   "execution_count": 3,
   "metadata": {
    "tags": [
     "remove-input"
    ]
   },
   "outputs": [
    {
     "data": {
      "text/html": [
       "\n",
       "        <div align='center'>\n",
       "        <img src='https://github.com/gtbook/robotics/blob/main/Art/steampunk/S30-iRobot%20vacuuming%20robot-00.jpg?raw=1' style='height:256 width:100%'/>\n",
       "        </div>\n",
       "        "
      ],
      "text/plain": [
       "<IPython.core.display.HTML object>"
      ]
     },
     "metadata": {},
     "output_type": "display_data"
    }
   ],
   "source": [
    "from gtbook.display import randomImages\n",
    "from IPython.display import display\n",
    "display(randomImages(3, 0, \"steampunk\", 1))"
   ]
  },
  {
   "cell_type": "markdown",
   "metadata": {
    "id": "nAvx4-UCNzt2"
   },
   "source": [
    "The second robot we will discuss is a vacuuming robot that knows about rooms in a house, but still reasons in a discrete state space. However, we will now add (discrete) time as a new dimension.\n",
    "\n",
    "We will learn about probabilistic outcomes of actions, which we can model with conditional probability distributions, just like we did with the measurements in the previous chapter. Given set of actions over time, we can then sample  plausible state trajectories. For our vacuum robot, states corresponds to location, and hence it is as if we are simulating the robot moving from room to room.\n",
    "\n",
    "Sensing will be quite limited in this chapter. We will just model a (discrete) light sensor, because this chapter will mainly be concerned with action.\n",
    "\n",
    "To turn noisy actions and probabilistic sensing into an evolving probability over the current state of the robot, i.e., where it is, we will introduce **Hidden Markov Models**. An HMM, as they are frequently abbreviated, is a probabilistic model for sensing over time, and has its roots in speech recognition. But we will use it to find the most probable sequence of states given a set of measurements and actions.\n",
    "\n",
    "Finally, to plan in a sequential fashion, we will introduce **Markov Decision Processes**. An MDP adds the notion of *reward*, which will allow us to reason about optimal actions. We will even be able to deduce an optimal *policy*, i.e., a recipe for what to do in what state, to maximize your reward over time.\n",
    "\n",
    "Finally, we will introduce the notion of reinforcement learning, where we will estimate the parameters of an MDP from data."
   ]
  },
  {
   "cell_type": "code",
   "execution_count": null,
   "metadata": {},
   "outputs": [],
   "source": []
  }
 ],
 "metadata": {
  "colab": {
   "collapsed_sections": [],
   "include_colab_link": true,
   "name": "S30_vacuum_intro.ipynb",
   "provenance": []
  },
  "interpreter": {
   "hash": "c6e4e9f98eb68ad3b7c296f83d20e6de614cb42e90992a65aa266555a3137d0d"
  },
  "kernelspec": {
   "display_name": "Python 3 (ipykernel)",
   "language": "python",
   "name": "python3"
  },
  "language_info": {
   "codemirror_mode": {
    "name": "ipython",
    "version": 3
   },
   "file_extension": ".py",
   "mimetype": "text/x-python",
   "name": "python",
   "nbconvert_exporter": "python",
   "pygments_lexer": "ipython3",
   "version": "3.9.9"
  },
  "latex_metadata": {
   "affiliation": "Georgia Institute of Technology",
   "author": "Frank Dellaert and Seth Hutchinson",
   "title": "Introduction to Robotics"
  }
 },
 "nbformat": 4,
 "nbformat_minor": 2
}
