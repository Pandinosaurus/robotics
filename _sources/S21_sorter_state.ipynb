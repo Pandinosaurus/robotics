{
 "cells": [
  {
   "cell_type": "markdown",
   "metadata": {
    "colab_type": "text",
    "id": "view-in-github",
    "slideshow": {
     "slide_type": "skip"
    }
   },
   "source": [
    "<a href=\"https://colab.research.google.com/github/gtbook/robotics/blob/main/S21_sorter_state.ipynb\" target=\"_parent\"><img src=\"https://colab.research.google.com/assets/colab-badge.svg\" alt=\"Open In Colab\"/></a>"
   ]
  },
  {
   "cell_type": "code",
   "execution_count": 1,
   "metadata": {
    "colab": {
     "base_uri": "https://localhost:8080/"
    },
    "id": "JoW4C_OkOMhe",
    "outputId": "9699f781-e0d4-4fad-a0a0-7ea90ff91392",
    "slideshow": {
     "slide_type": "skip"
    },
    "tags": [
     "remove-cell"
    ]
   },
   "outputs": [
    {
     "name": "stdout",
     "output_type": "stream",
     "text": [
      "Note: you may need to restart the kernel to use updated packages.\n"
     ]
    }
   ],
   "source": [
    "%pip install -q -U gtbook"
   ]
  },
  {
   "cell_type": "code",
   "execution_count": 2,
   "metadata": {
    "id": "10-snNDwOSuC",
    "slideshow": {
     "slide_type": "skip"
    },
    "tags": [
     "remove-cell"
    ]
   },
   "outputs": [],
   "source": [
    "import numpy as np\n",
    "import gtsam\n",
    "\n",
    "import plotly.express as px\n",
    "try:\n",
    "    import google.colab\n",
    "except:\n",
    "    import plotly.io as pio\n",
    "    pio.renderers.default = \"png\"\n",
    "\n",
    "import gtbook\n",
    "from gtbook.discrete import Variables\n",
    "from gtbook.display import show\n",
    "\n",
    "VARIABLES = Variables()\n",
    "def pretty(obj): \n",
    "    return gtbook.display.pretty(obj, VARIABLES)"
   ]
  },
  {
   "cell_type": "markdown",
   "metadata": {
    "id": "nAvx4-UCNzt2",
    "slideshow": {
     "slide_type": "slide"
    }
   },
   "source": [
    "# Modeling the World State\n",
    "\n",
    "> :For this chapter, the physical properties of a piece of trash comprise all of the information needed by the robot."
   ]
  },
  {
   "cell_type": "code",
   "execution_count": 3,
   "metadata": {
    "tags": [
     "remove-input"
    ]
   },
   "outputs": [
    {
     "data": {
      "text/html": [
       "\n",
       "        <div align='center'>\n",
       "        <img src='https://github.com/gtbook/robotics/blob/main/Art/steampunk/S21-Trash%20sorting%20robot%20with%20gripper-00.jpg?raw=1' style='height:256 width:100%'/>\n",
       "        </div>\n",
       "        "
      ],
      "text/plain": [
       "<IPython.core.display.HTML object>"
      ]
     },
     "metadata": {},
     "output_type": "display_data"
    }
   ],
   "source": [
    "from gtbook.display import randomImages\n",
    "from IPython.core.display import display\n",
    "display(randomImages(2, 1, \"steampunk\", 1))"
   ]
  },
  {
   "cell_type": "markdown",
   "metadata": {
    "id": "nAvx4-UCNzt2",
    "slideshow": {
     "slide_type": "fragment"
    }
   },
   "source": [
    "For our simple trash sorting robot, the only thing that matters at a given moment is the category\n",
    "of the item of trash on the conveyor belt (remember that items of trash are fed individually to the robot,\n",
    "so there is no clutter, and no circumstance in which multiple pieces of trash are simultaneously in the workspace).\n",
    "Therefore, it is natural to define the world state explicitly in terms of the category of the current\n",
    "item of trash.\n",
    "\n",
    "We will consider five possible categories:\n",
    "- cardboard\n",
    "- paper\n",
    "- cans\n",
    "- scrap metal\n",
    "- bottle"
   ]
  },
  {
   "cell_type": "markdown",
   "metadata": {
    "slideshow": {
     "slide_type": "notes"
    }
   },
   "source": [
    "Perhaps unrealistically, we assume here that there will never be a piece of trash that does not belong to any of these categories.  We will not, however, assume that the category of an item can be reliably determined with 100% accuracy. \n",
    "Instead, we will use probability theory to quantify the uncertainty associated to an object's categorization."
   ]
  },
  {
   "cell_type": "markdown",
   "metadata": {
    "id": "KcHJG7C-cBeO",
    "slideshow": {
     "slide_type": "slide"
    }
   },
   "source": [
    "## Using Probability to Model Uncertainty\n",
    "\n",
    "> :Probability theory provides a consistent, rigorous methodology for reasoning quantitatively about uncertainty."
   ]
  },
  {
   "cell_type": "markdown",
   "metadata": {
    "id": "KcHJG7C-cBeO",
    "slideshow": {
     "slide_type": "skip"
    }
   },
   "source": [
    "While a comprehensive coverage of probability theory is beyond the scope of this book,\n",
    "we will introduce key concepts and methods throughout the text, as needed,\n",
    "to deal with various kinds of uncertainty that occur in robotics applications.\n",
    "Rigorous introductions can be found in many textbooks, including [Probability for Data Science](https://probability4datascience.com/index.html) (which is available online)."
   ]
  },
  {
   "cell_type": "markdown",
   "metadata": {
    "slideshow": {
     "slide_type": "fragment"
    }
   },
   "source": [
    "The starting point for reasoning with uncertainty is to define the set of **outcomes** that might occur.\n",
    "This set of all possible outocomes is called the **sample space**, often denoted by $\\Omega.$\n",
    "In our example, when an item of trash arrives on the conveyor belt,\n",
    "there are five possible outcomes,\n",
    "\n",
    "$\\Omega = \\{ \\rm{cardboard, paper, cans, scrap \\; metal, bottle}\\}.$"
   ]
  },
  {
   "cell_type": "markdown",
   "metadata": {
    "id": "KcHJG7C-cBeO",
    "slideshow": {
     "slide_type": "slide"
    }
   },
   "source": [
    "## Probability Distribution\n",
    "Subsets of $\\Omega$ are called **events**.  A **probability distribution**, $P$, assigns a probability $0 \\leq P(A) \\leq 1$ to each event $A \\subset \\Omega$, with $P(\\emptyset) = 0$ and $P(\\Omega)=1$. \n",
    "In addition, for disjoint events, $A_i \\cap A_j = \\emptyset$, we have\n",
    "$P(A_i \\cup A_j) = P(A_i) + P(A_j)$.\n",
    "Using this property, it is a simple matter to compute the probability for any $A \\subset \\Omega$\n",
    "if we are provided with the probabilities of the individual outcomes.\n",
    "Further, since $P(\\Omega)=1$, it follows immediately that \n",
    "\n",
    "$$P(\\Omega) = \\sum_{\\omega \\in \\Omega} P(\\{\\omega\\}) = 1$$\n",
    "\n",
    "i.e., that the probabilities of the individual outcomes sum to unity.\n",
    "As a slight abuse of notation, for singleton events, we will often write $P(\\omega)$ rather than $P(\\{\\omega\\})$\n",
    "to simplify notation."
   ]
  },
  {
   "cell_type": "markdown",
   "metadata": {
    "id": "KcHJG7C-cBeO",
    "slideshow": {
     "slide_type": "notes"
    }
   },
   "source": [
    "In robotics applications, the probability assigned to an outcome reflects our certainty in that outcome.\n",
    "These probabilities can change based on the arrival of new evidence.\n",
    "In robotics, this can occur when the robot acts in the world, or based on sensor data.\n",
    "How evidence affects the propagation of probability values will be a recurring topic in this book."
   ]
  },
  {
   "cell_type": "markdown",
   "metadata": {
    "id": "rkFiTuQacBeO",
    "slideshow": {
     "slide_type": "slide"
    }
   },
   "source": [
    "## Prior Probability Distributions\n",
    "> :We can estimate a probability distribution from data that tells us how likely a particular outcome is, a priori.\n",
    "\n",
    "Once we have enumerated the set of possible outcomes, we confront a fundamental question: *Where do the\n",
    "probability values come from?*\n",
    "\n",
    "In some cases, we merely assume that all outcomes are equally likely, for example, when rolling a die or tossing coin.\n",
    "In such cases, the probability of any outcome is merely $P(\\omega) = 1/N$ for each $\\omega \\in \\Omega$, where $N =| \\Omega |$.\n",
    "This leads to $P(\\mathrm{heads}) = P(\\mathrm{tails}) = 0.5$ when tossing a fair coin, \n",
    "where $\\Omega = \\{ \\mathrm{heads, tails} \\}$.\n",
    "\n",
    "In other cases, we can estimate probabilities using data.\n",
    "Suppose, for example, that the owner of the trash-sorting facility has told us (or we kept statistics over time) that for every 1000 pieces of trash, the observed category counts are approximately as follows:\n",
    "- cardboard: 200\n",
    "- paper: 300\n",
    "- cans: 250\n",
    "- scrap metal: 200\n",
    "- bottle: 50"
   ]
  },
  {
   "cell_type": "markdown",
   "metadata": {
    "id": "rkFiTuQacBeO",
    "slideshow": {
     "slide_type": "slide"
    }
   },
   "source": [
    "It is common to assume that outcomes occur in proportion to their probability (there are a number of\n",
    "technical conditions that underlie this assumption, such as the condition that outcomes are indpendent,\n",
    "but we will not address these here). Thus, from the above observed frequencies, we might estimate that the probability of seeing a piece of cardboard in the work cell is given by\n",
    "\n",
    "$$P(\\mathrm{cardboard}) \\approx 200/1000 = 0.2$$\n",
    "\n",
    "Using the same logic, we can do the same for all categories, yielding:\n",
    "\n",
    "| *Category (C)* | *P(C)* |\n",
    "|----------------|:------:|\n",
    "| cardboard      |   0.20 |\n",
    "| paper          |   0.30 |\n",
    "| can            |   0.25 |\n",
    "| scrap metal    |   0.20 |\n",
    "| bottle         |   0.05 |"
   ]
  },
  {
   "cell_type": "markdown",
   "metadata": {
    "id": "rkFiTuQacBeO",
    "slideshow": {
     "slide_type": "notes"
    }
   },
   "source": [
    "We call this type of probabilistic knowledge about the state of the world, in the absence of any other information, a **prior**, because it represents our belief *before* any evidence (e.g., sensor data) has been acquired.\n",
    "In this case the state of the world is merely the category of the piece of trash in our cell.\n",
    "\n",
    "<!-- Here, a word about notation is in order.  We use upper case letters to denote random quantities. For example, we use $C$ to denote the random outcome of a particular\n",
    "category of trash arriving to the sorting station.  When you see an uppercase letter, it indicates that we do not know what value this outcome will take, but\n",
    "that we do know a probability distribution for the values that could occur.\n",
    "We use lower case letters, possibly subscripted, to denote specific outcomes. For example, we might define $c_1 =$ cardboard,\n",
    "$c_2 =$ paper, etc.  Thus, we might write $P(C = c_1)$ or merely $P(c_1)$ to denote the prior probability that an item of trash is cardboard. -->"
   ]
  },
  {
   "cell_type": "markdown",
   "metadata": {
    "id": "Kc_UeQX7cBeP",
    "slideshow": {
     "slide_type": "slide"
    }
   },
   "source": [
    "## Probability Distributions in Python\n",
    "> :In this book, we represent probability distributions using the GTSAM library, which defines a `DiscretePrior` class to do just that.\n",
    "\n",
    "The code below illustrates the use of GTSAM. Although not strictly necessary, we can create a `Variables` data structure to provide more informative output:"
   ]
  },
  {
   "cell_type": "code",
   "execution_count": 4,
   "metadata": {
    "id": "zIqYIln4P9Ou",
    "slideshow": {
     "slide_type": "fragment"
    }
   },
   "outputs": [],
   "source": [
    "categories = [\"cardboard\", \"paper\", \"can\", \"scrap metal\", \"bottle\"]\n",
    "Category = VARIABLES.discrete(\"Category\", categories)"
   ]
  },
  {
   "cell_type": "markdown",
   "metadata": {},
   "source": [
    "Conceptually, the Variables class keeps track of the names of variables and what values each variable can take on. For example in the above, we need the variable `Category`, and it can take on the values `cardboard`, `paper`, `can`, `scrap metal`, and `bottle`. We do this so that later when we print, it can show us a beautiful outputs."
   ]
  },
  {
   "cell_type": "markdown",
   "metadata": {
    "id": "1gEeQUJQP9Ou",
    "slideshow": {
     "slide_type": "fragment"
    }
   },
   "source": [
    "We can now create a prior probability $P(Category)$ on the category: "
   ]
  },
  {
   "cell_type": "code",
   "execution_count": 5,
   "metadata": {
    "id": "vuv1JUsFP9Ov",
    "slideshow": {
     "slide_type": "fragment"
    }
   },
   "outputs": [],
   "source": [
    "category_prior = gtsam.DiscretePrior(Category, \"200/300/250/200/50\")"
   ]
  },
  {
   "cell_type": "markdown",
   "metadata": {
    "id": "wzrhXDkzP9Ov",
    "slideshow": {
     "slide_type": "skip"
    }
   },
   "source": [
    "The constructor automatically normalizes to a proper probability distribution, i.e., it sums to one. It is rendered in notebook as a table below, where we can verify this:"
   ]
  },
  {
   "cell_type": "code",
   "execution_count": 6,
   "metadata": {
    "colab": {
     "base_uri": "https://localhost:8080/",
     "height": 175
    },
    "id": "qH0uUczsP9Ow",
    "outputId": "c8706115-a1e8-430e-f99b-e31d82e37350",
    "slideshow": {
     "slide_type": "slide"
    }
   },
   "outputs": [
    {
     "data": {
      "text/html": [
       "<div>\n",
       "<p>  <i>P(Category):</i></p>\n",
       "<div>\n",
       "<table class='DecisionTreeFactor'>\n",
       "  <thead>\n",
       "    <tr><th>Category</th><th>value</th></tr>\n",
       "  </thead>\n",
       "  <tbody>\n",
       "    <tr><th>cardboard</th><td>0.2</td></tr>\n",
       "    <tr><th>paper</th><td>0.3</td></tr>\n",
       "    <tr><th>can</th><td>0.25</td></tr>\n",
       "    <tr><th>scrap metal</th><td>0.2</td></tr>\n",
       "    <tr><th>bottle</th><td>0.05</td></tr>\n",
       "  </tbody>\n",
       "</table>\n",
       "</div>"
      ],
      "text/plain": [
       "<gtbook.display.pretty at 0x13c9eb3a0>"
      ]
     },
     "execution_count": 6,
     "metadata": {},
     "output_type": "execute_result"
    }
   ],
   "source": [
    "pretty(category_prior)"
   ]
  },
  {
   "cell_type": "markdown",
   "metadata": {
    "slideshow": {
     "slide_type": "slide"
    }
   },
   "source": [
    "## Common Operations"
   ]
  },
  {
   "cell_type": "markdown",
   "metadata": {
    "id": "FjA0nXaSP9Ow",
    "slideshow": {
     "slide_type": "fragment"
    }
   },
   "source": [
    "We can of course evaluate the prior for any category value:"
   ]
  },
  {
   "cell_type": "code",
   "execution_count": 7,
   "metadata": {
    "colab": {
     "base_uri": "https://localhost:8080/"
    },
    "id": "r1yKMGu9P9Ow",
    "outputId": "a9817da7-938b-49a5-cfd1-9c1debc9f65e",
    "slideshow": {
     "slide_type": "fragment"
    }
   },
   "outputs": [
    {
     "name": "stdout",
     "output_type": "stream",
     "text": [
      "P('can') = 0.25\n"
     ]
    }
   ],
   "source": [
    "index = categories.index('can')  # we still have to use an integer value\n",
    "Pcan = category_prior(index)\n",
    "print(f\"P('can') = {Pcan}\")"
   ]
  },
  {
   "cell_type": "markdown",
   "metadata": {
    "id": "jP9H_6aEP9Ow",
    "slideshow": {
     "slide_type": "fragment"
    }
   },
   "source": [
    "We can also recover all values in the probability mass function at once, like so:"
   ]
  },
  {
   "cell_type": "code",
   "execution_count": 8,
   "metadata": {
    "colab": {
     "base_uri": "https://localhost:8080/"
    },
    "id": "51BH3wF4P9Ow",
    "outputId": "786197c4-d1c7-4fd1-87e8-9a4326a10996",
    "slideshow": {
     "slide_type": "fragment"
    }
   },
   "outputs": [
    {
     "data": {
      "text/plain": [
       "[0.2, 0.3, 0.25, 0.2, 0.05]"
      ]
     },
     "execution_count": 8,
     "metadata": {},
     "output_type": "execute_result"
    }
   ],
   "source": [
    "PMF = category_prior.pmf()\n",
    "PMF"
   ]
  },
  {
   "cell_type": "markdown",
   "metadata": {
    "id": "MrcIXHKac07Q",
    "slideshow": {
     "slide_type": "notes"
    }
   },
   "source": [
    "Note that the ordering of the array was fixed when we defined `categories` above.  It is your responsibility\n",
    "to maintain consistency when using arrays to store values associated to a collection of variables.\n",
    "\n",
    "We can display probability distributions in various ways, including as a bar graph, as shown below."
   ]
  },
  {
   "cell_type": "code",
   "execution_count": 9,
   "metadata": {
    "colab": {
     "base_uri": "https://localhost:8080/",
     "height": 542
    },
    "id": "BNJf2OBlP9Ow",
    "outputId": "495376af-aae7-4c01-d35d-4a958aa67866",
    "slideshow": {
     "slide_type": "slide"
    }
   },
   "outputs": [
    {
     "data": {
      "image/png": "[encoded data removed]"
     },
     "metadata": {},
     "output_type": "display_data"
    }
   ],
   "source": [
    "px.bar(y=PMF, x=categories)"
   ]
  },
  {
   "cell_type": "markdown",
   "metadata": {
    "slideshow": {
     "slide_type": "slide"
    }
   },
   "source": [
    "## Simulation by Sampling\n",
    "\n",
    "> :Sampling from the prior simulates our trash sorting cell."
   ]
  },
  {
   "cell_type": "markdown",
   "metadata": {
    "id": "xstYfXw9cBeQ",
    "slideshow": {
     "slide_type": "fragment"
    }
   },
   "source": [
    "### Intro\n",
    "Suppose we wish to simulate our trash sorting system such that the behavior of the simulation matches, \n",
    "in some statistical sense, the behavior of the actual system.\n",
    "In our case, this amounts to generating samples from the probability distribution\n",
    "on trash categories.\n",
    "In particular, we would like to generate a sequence of categories,\n",
    "$\\omega_1, \\omega_2, \\dots, \\omega_n$ such that \n",
    "$\\omega_i = \\mathrm{cardboard}$ approximately 25% of the time,\n",
    "$\\omega_i = \\mathrm{paper}$ approximately 20% of the time, etc.\n",
    "How can we write a computer program to do this?\n",
    "\n",
    "While most programming libraries do not include functions to generate samples from an arbitrary distribution,\n",
    "almost all include a random number generator that will generate a random number from the unit interval.\n",
    "We denote by $U(a,b)$ the uniform probability distribution on the interval $[a,b]$.\n",
    "In numpy, the function *np.random.rand()* generates a sample $x \\sim U(0,1)$.\n",
    "How can we use this result to generate a sample from an aribitrary probability distribution?"
   ]
  },
  {
   "cell_type": "markdown",
   "metadata": {
    "slideshow": {
     "slide_type": "slide"
    }
   },
   "source": [
    "### Cumulative Distribution Function\n",
    "We begin by introducing the Cumulative Distribution Function (CDF).\n",
    "For a random variabls $X$, the CDF for $X$ is defined as\n",
    "as \n",
    "\n",
    "$$F_X(\\alpha) = P(X \\leq \\alpha)$$\n",
    "\n",
    "It follows immediately that $0 \\leq F_X(\\alpha) \\leq 1$,\n",
    "since $F_X(\\alpha)$ is itself a probability.\n",
    "In the case of discrete random variables,\n",
    "say $X \\in \\{ x_0, \\dots x_n\\}$, we can compute the CDF\n",
    "$F_X(\\alpha)$ by summing the probabilities assigned\n",
    "to all $x_i \\leq \\alpha$\n",
    "\n",
    "$$F(\\alpha) = \\sum_{x_i \\leq \\alpha} P(x_i) = \\sum_{i=0}^{k-1} P(x_i)$$\n",
    "\n",
    "in which the rightmost summation follows if we choose $k$ such that $x_{k-1} < \\alpha \\leq x_k$.\n",
    "The terminology *Cumulative Distribution Function* is due to the fact that $F(\\alpha)$\n",
    "is the accumulated probability assigned to all outcomes less than or equal to $\\alpha$,\n",
    "which is apparent in these sumuation expressions."
   ]
  },
  {
   "cell_type": "markdown",
   "metadata": {
    "slideshow": {
     "slide_type": "slide"
    }
   },
   "source": [
    "But what does this have to do with generating samples from our distribution on categories?\n",
    "The idea is simple: we can generate $x\\sim U(0,1)$, and a CDF takes on values in the\n",
    "interval $[0,1]$.  For a discrete random variable $X \\in \\{ x_0, \\dots x_n\\}$\n",
    "the probability that our sample $x$ corresponds to category $k$\n",
    "is exactly equal to $F_X(x_k) - F_X(x_{k-1})$.\n",
    "\n",
    "To see this, we impose an ordering on our categories,\n",
    "- $c_0 = \\mathrm{cardboard}$\n",
    "- $c_1 = \\mathrm{paper}$\n",
    "- $c_2 = \\mathrm{can}$\n",
    "- $c_3 = \\mathrm{scrap \\; metal}$\n",
    "- $c_4 = \\mathrm{bottle}$\n",
    "\n",
    "and we define the random variable $X \\in \\{ 0,1,2,3,4\\}$ to be the index of the chosen category.\n",
    "The CDF for $X$ is given by:\n",
    "\n",
    "| $x_i$ | $F_X$($x_i$) |\n",
    "|----------------|:------:|\n",
    "| cardboard    |   0.20 |\n",
    "| paper    |   0.50 |\n",
    "| can    |   0.75 |\n",
    "| scrap metal    |   0.95 |\n",
    "| bottle    |   1.00 |"
   ]
  },
  {
   "cell_type": "markdown",
   "metadata": {
    "slideshow": {
     "slide_type": "slide"
    }
   },
   "source": [
    "### Example\n",
    "Some numpy code to generate the CDF:"
   ]
  },
  {
   "cell_type": "code",
   "execution_count": 10,
   "metadata": {
    "colab": {
     "base_uri": "https://localhost:8080/"
    },
    "id": "2kUyKEO6c07R",
    "outputId": "b310dfef-21f8-48ba-e5d8-088c94cdb978",
    "slideshow": {
     "slide_type": "fragment"
    }
   },
   "outputs": [
    {
     "name": "stdout",
     "output_type": "stream",
     "text": [
      "[0.2  0.5  0.75 0.95 1.  ]\n"
     ]
    }
   ],
   "source": [
    "CDF = np.cumsum(PMF)\n",
    "print(CDF)"
   ]
  },
  {
   "cell_type": "markdown",
   "metadata": {
    "id": "mNOqcKEec07R",
    "slideshow": {
     "slide_type": "skip"
    }
   },
   "source": [
    "\n",
    "Now, suppose we generate a random sample $x \\sim U(0,1)$,\n",
    "and use this $x$ to choose category $k$ such that $F_X(x_{k-1}) < x \\leq F_X(x_k)$.\n",
    "For example, we choose category 4 if $0.95 < x \\leq 1.0$.\n",
    "In this case, what is the probability of choosing category 4?\n",
    "The answer follows from the fact that,\n",
    "for the uniform distribution, $P(X \\in [a,b]) = b-a$.\n",
    "Therefore, the probability that our sample lies in the interval $[0.95,1.0]$ is\n",
    "$0.05$, which happens to be exactly the prior probability assigned to category 4!\n",
    "Likewise, if our sample $x$ satisfies $0.2 < x \\leq 0.5$,\n",
    "we choose category 1, and the probability that our sample lies in the interval\n",
    "$[0.2,0.5]$ is $0.3$, which is, as expected, exactly the prior probability assigned\n",
    "to category 1\n"
   ]
  },
  {
   "cell_type": "markdown",
   "metadata": {
    "id": "wHwPuUArcBeR",
    "slideshow": {
     "slide_type": "fragment"
    }
   },
   "source": [
    "The code to accomplish sampling is:"
   ]
  },
  {
   "cell_type": "code",
   "execution_count": 11,
   "metadata": {
    "colab": {
     "base_uri": "https://localhost:8080/",
     "height": 542
    },
    "id": "8vDBsvNEcBeR",
    "outputId": "55ffca22-626f-4563-a60b-d525bfa56484",
    "slideshow": {
     "slide_type": "fragment"
    }
   },
   "outputs": [],
   "source": [
    "def sample():\n",
    "    u = np.random.rand()\n",
    "    for category in range(5):\n",
    "        if u<float(CDF[category]):\n",
    "            return category"
   ]
  },
  {
   "cell_type": "markdown",
   "metadata": {
    "slideshow": {
     "slide_type": "slide"
    }
   },
   "source": [
    "Plotting this as a histogram:"
   ]
  },
  {
   "cell_type": "code",
   "execution_count": 12,
   "metadata": {
    "slideshow": {
     "slide_type": "fragment"
    }
   },
   "outputs": [
    {
     "data": {
      "image/png": "[encoded data removed]"
     },
     "metadata": {},
     "output_type": "display_data"
    }
   ],
   "source": [
    "px.histogram(x=[sample() for i in range(1000)])"
   ]
  },
  {
   "cell_type": "markdown",
   "metadata": {
    "id": "H5bOGS8iP9Ox",
    "slideshow": {
     "slide_type": "slide"
    }
   },
   "source": [
    "### In GTSAM\n",
    "Of course, GTSAM has all this machinery built-in:"
   ]
  },
  {
   "cell_type": "code",
   "execution_count": 13,
   "metadata": {
    "id": "wB9sPmB3P9Ox",
    "slideshow": {
     "slide_type": "fragment"
    }
   },
   "outputs": [
    {
     "data": {
      "image/png": "[encoded data removed]"
     },
     "metadata": {},
     "output_type": "display_data"
    }
   ],
   "source": [
    "px.histogram(x=[category_prior.sample() for i in range(1000)])"
   ]
  },
  {
   "cell_type": "markdown",
   "metadata": {
    "id": "yacwV-PdP9Ox",
    "slideshow": {
     "slide_type": "slide"
    }
   },
   "source": [
    "## GTSAM 101\n",
    "\n",
    "> The GTSAM concepts used in this section, explained."
   ]
  },
  {
   "cell_type": "markdown",
   "metadata": {},
   "source": [
    "Above we created an instance of the `gtsam.DiscretePrior` class. As with any GTSAM class, you can type\n",
    "\n",
    "```python\n",
    "help(gtsam.DiscretePrior)\n",
    "```\n",
    "\n",
    "to get documentation on its constructors and methods. In particular, we called the constructor\n",
    "\n",
    "```python\n",
    " __init__(self: gtsam.gtsam.DiscretePrior, key: Tuple[int, int], spec: str) -> None\n",
    " ```\n",
    "\n",
    "which expects two arguments:\n",
    "- `key`: Many GTSAM objects take a *key* to indicate which variable is involved. In the case of a DiscretePrior, the key is actually a tuple of ints:\n",
    "    - the first int is a 64-bit identifier for the variable;\n",
    "    - the second int is the *cardinality* of the variable.\n",
    "- `spec`: The `DiscretePrior` class specifies a PMF (remember: probability mass function) which is given as a string of numbers, separated by `/`.\n",
    "\n",
    "Let's look at an example below:"
   ]
  },
  {
   "cell_type": "code",
   "execution_count": 14,
   "metadata": {},
   "outputs": [
    {
     "data": {
      "text/html": [
       "<div>\n",
       "<p>  <i>P(42):</i></p>\n",
       "<div>\n",
       "<table class='DecisionTreeFactor'>\n",
       "  <thead>\n",
       "    <tr><th>42</th><th>value</th></tr>\n",
       "  </thead>\n",
       "  <tbody>\n",
       "    <tr><th>0</th><td>0.4</td></tr>\n",
       "    <tr><th>1</th><td>0.1</td></tr>\n",
       "    <tr><th>2</th><td>0.5</td></tr>\n",
       "  </tbody>\n",
       "</table>\n",
       "</div>"
      ],
      "text/markdown": [
       " *P(42):*\n",
       "\n",
       "|42|value|\n",
       "|:-:|:-:|\n",
       "|0|0.4|\n",
       "|1|0.1|\n",
       "|2|0.5|\n"
      ],
      "text/plain": [
       "Discrete Prior\n",
       " P( 42 ) Choice(42) \n",
       " 0 Leaf  0.4\n",
       " 1 Leaf  0.1\n",
       " 2 Leaf  0.5\n"
      ]
     },
     "execution_count": 14,
     "metadata": {},
     "output_type": "execute_result"
    }
   ],
   "source": [
    "prior = gtsam.DiscretePrior((42, 3), \"0.4/0.1/0.5\")\n",
    "prior\n"
   ]
  },
  {
   "cell_type": "markdown",
   "metadata": {},
   "source": [
    "As you can see, this is a PMF on the variable with id $42$, and it indeed has probabilities (that add up to one) for values `0..2`. Internally, GTSAM *acyually* represents a PMF as a small **decision tree*, which you can reveal using `show`:"
   ]
  },
  {
   "cell_type": "code",
   "execution_count": 15,
   "metadata": {},
   "outputs": [
    {
     "data": {
      "image/svg+xml": "<?xml version=\"1.0\" encoding=\"UTF-8\" standalone=\"no\"?>\n<!DOCTYPE svg PUBLIC \"-//W3C//DTD SVG 1.1//EN\"\n \"http://www.w3.org/Graphics/SVG/1.1/DTD/svg11.dtd\">\n<!-- Generated by graphviz version 2.50.0 (0)\n -->\n<!-- Title: G Pages: 1 -->\n<svg width=\"206pt\" height=\"109pt\"\n viewBox=\"0.00 0.00 206.00 109.30\" xmlns=\"http://www.w3.org/2000/svg\" xmlns:xlink=\"http://www.w3.org/1999/xlink\">\n<g id=\"graph0\" class=\"graph\" transform=\"scale(1 1) rotate(0) translate(4 105.3)\">\n<title>G</title>\n<polygon fill=\"white\" stroke=\"transparent\" points=\"-4,4 -4,-105.3 202,-105.3 202,4 -4,4\"/>\n<!-- 0x600003f00930 -->\n<g id=\"node1\" class=\"node\">\n<title>0x600003f00930</title>\n<ellipse fill=\"none\" stroke=\"black\" cx=\"99\" cy=\"-81.15\" rx=\"20.3\" ry=\"20.3\"/>\n<text text-anchor=\"middle\" x=\"99\" y=\"-77.45\" font-family=\"Times,serif\" font-size=\"14.00\">42</text>\n</g>\n<!-- 0x600001e0f350 -->\n<g id=\"node2\" class=\"node\">\n<title>0x600001e0f350</title>\n<polygon fill=\"none\" stroke=\"black\" points=\"54,-25 0,-25 0,0 54,0 54,-25\"/>\n<text text-anchor=\"middle\" x=\"27\" y=\"-8.8\" font-family=\"Times,serif\" font-size=\"14.00\"> 0.4</text>\n</g>\n<!-- 0x600003f00930&#45;&gt;0x600001e0f350 -->\n<g id=\"edge1\" class=\"edge\">\n<title>0x600003f00930&#45;&gt;0x600001e0f350</title>\n<path fill=\"none\" stroke=\"black\" d=\"M84.43,-66.66C73.75,-56.77 59.1,-43.22 47.28,-32.27\"/>\n<polygon fill=\"black\" stroke=\"black\" points=\"49.34,-29.41 39.62,-25.19 44.58,-34.55 49.34,-29.41\"/>\n</g>\n<!-- 0x600001e0f340 -->\n<g id=\"node3\" class=\"node\">\n<title>0x600001e0f340</title>\n<polygon fill=\"none\" stroke=\"black\" points=\"126,-25 72,-25 72,0 126,0 126,-25\"/>\n<text text-anchor=\"middle\" x=\"99\" y=\"-8.8\" font-family=\"Times,serif\" font-size=\"14.00\"> 0.1</text>\n</g>\n<!-- 0x600003f00930&#45;&gt;0x600001e0f340 -->\n<g id=\"edge2\" class=\"edge\">\n<title>0x600003f00930&#45;&gt;0x600001e0f340</title>\n<path fill=\"none\" stroke=\"black\" d=\"M99,-60.87C99,-52.85 99,-43.5 99,-35.24\"/>\n<polygon fill=\"black\" stroke=\"black\" points=\"102.5,-35.21 99,-25.21 95.5,-35.21 102.5,-35.21\"/>\n</g>\n<!-- 0x600001e0f310 -->\n<g id=\"node4\" class=\"node\">\n<title>0x600001e0f310</title>\n<polygon fill=\"none\" stroke=\"black\" points=\"198,-25 144,-25 144,0 198,0 198,-25\"/>\n<text text-anchor=\"middle\" x=\"171\" y=\"-8.8\" font-family=\"Times,serif\" font-size=\"14.00\"> 0.5</text>\n</g>\n<!-- 0x600003f00930&#45;&gt;0x600001e0f310 -->\n<g id=\"edge3\" class=\"edge\">\n<title>0x600003f00930&#45;&gt;0x600001e0f310</title>\n<path fill=\"none\" stroke=\"black\" d=\"M113.57,-66.66C124.25,-56.77 138.9,-43.22 150.72,-32.27\"/>\n<polygon fill=\"black\" stroke=\"black\" points=\"153.42,-34.55 158.38,-25.19 148.66,-29.41 153.42,-34.55\"/>\n</g>\n</g>\n</svg>\n",
      "text/plain": [
       "<gtbook.display.show at 0x13cc41e50>"
      ]
     },
     "execution_count": 15,
     "metadata": {},
     "output_type": "execute_result"
    }
   ],
   "source": [
    "show(prior)"
   ]
  },
  {
   "cell_type": "markdown",
   "metadata": {},
   "source": [
    "Of course, it would be much nicer if we could print out these PMFs in a more readable format, that shows us a name for each variable as well as a pretty name for each. This is where the `Variables` class comes to the rescue. We actually defined a global variable at the top of this notebook, like so:\n",
    "\n",
    "```python\n",
    "VARIABLES = Variables()\n",
    "```\n",
    "\n",
    "which then allows us to give a name to a variable. It will also pick a unique ID for our variable. WE can do this with the `discrete` method,w hich takes a name and a set of value names:"
   ]
  },
  {
   "cell_type": "code",
   "execution_count": 16,
   "metadata": {
    "id": "zIqYIln4P9Ou",
    "slideshow": {
     "slide_type": "fragment"
    }
   },
   "outputs": [
    {
     "name": "stdout",
     "output_type": "stream",
     "text": [
      "key = (1, 3)\n"
     ]
    }
   ],
   "source": [
    "T = VARIABLES.discrete(\"TresCommas\", [\"one\", \"two\", \"three\"])\n",
    "print(f\"key = {T}\")"
   ]
  },
  {
   "cell_type": "markdown",
   "metadata": {},
   "source": [
    "As you can see, the id for the variable is 1 (Categeory, defined above, took id 0), and the cardinality was inferred to be three from the length of the list given as second argument.\n",
    "\n",
    "The `Variables` class can tell us about any discrete variable so defined, using the two methods `name` and `domain`:"
   ]
  },
  {
   "cell_type": "code",
   "execution_count": 17,
   "metadata": {},
   "outputs": [
    {
     "name": "stdout",
     "output_type": "stream",
     "text": [
      "key = (1, 3), name = TresCommas, domain = ['one', 'two', 'three']\n"
     ]
    }
   ],
   "source": [
    "print(f\"key = {T}, name = {VARIABLES.name(T)}, domain = {VARIABLES.domain(T)}\")\n"
   ]
  },
  {
   "cell_type": "markdown",
   "metadata": {},
   "source": [
    "Conceptually, the Variables class keeps track of the names of variables and what values each variable can take on. We do this so that later when we print, it can show us a beautiful outputs. Of course , this only works if we actually use the key returned to use by `Variables.discrete`. Let's demonstrate this next:"
   ]
  },
  {
   "cell_type": "code",
   "execution_count": 18,
   "metadata": {},
   "outputs": [
    {
     "data": {
      "text/html": [
       "<div>\n",
       "<p>  <i>P(TresCommas):</i></p>\n",
       "<div>\n",
       "<table class='DecisionTreeFactor'>\n",
       "  <thead>\n",
       "    <tr><th>TresCommas</th><th>value</th></tr>\n",
       "  </thead>\n",
       "  <tbody>\n",
       "    <tr><th>one</th><td>0.25</td></tr>\n",
       "    <tr><th>two</th><td>0.5</td></tr>\n",
       "    <tr><th>three</th><td>0.25</td></tr>\n",
       "  </tbody>\n",
       "</table>\n",
       "</div>"
      ],
      "text/plain": [
       "<gtbook.display.pretty at 0x13d59f7c0>"
      ]
     },
     "execution_count": 18,
     "metadata": {},
     "output_type": "execute_result"
    }
   ],
   "source": [
    "prior_on_tres_commas = gtsam.DiscretePrior(T, \"2/4/2\")\n",
    "pretty(prior_on_tres_commas)"
   ]
  },
  {
   "cell_type": "markdown",
   "metadata": {},
   "source": [
    "The above also illustrates once again that the `spec` string does not need to contain normalized probabilties. The constructor will do the normalization for us!\n",
    "\n",
    "Note that the function `pretty(*)` above is just a shortcut for `gtbook.discrete.pretty(*, VARIABLES)`, and is also defined alongside VARIABLES."
   ]
  },
  {
   "cell_type": "markdown",
   "metadata": {
    "id": "NS-dhUF4P9Ox",
    "slideshow": {
     "slide_type": "skip"
    }
   },
   "source": [
    "Finally, let us also look at the other `DiscretePrior` methods we called above:\n",
    "\n",
    "- `sample(self: gtsam.gtsam.DiscreteConditional) -> int`: The `sample` method samples according to the PMF, returning the integer index of the sampled value, in $0\\dots cardinality-1$.\n",
    "- `pmf(self: gtsam.gtsam.DiscretePrior) -> List[float]`: The `pmf` method will simply return all probability values, in order\n",
    "- `__call__(self: gtsam.gtsam.DiscretePrior, arg0: int) -> float`: The call operator: when given an integer value, will return just the one corresponding probability value.\n"
   ]
  },
  {
   "cell_type": "markdown",
   "metadata": {},
   "source": [
    "We have illustrated the use of all of these in the text, already."
   ]
  }
 ],
 "metadata": {
  "colab": {
   "collapsed_sections": [],
   "include_colab_link": true,
   "name": "S11_sorter_state.ipynb",
   "provenance": []
  },
  "interpreter": {
   "hash": "c6e4e9f98eb68ad3b7c296f83d20e6de614cb42e90992a65aa266555a3137d0d"
  },
  "kernelspec": {
   "display_name": "Python 3 (ipykernel)",
   "language": "python",
   "name": "python3"
  },
  "language_info": {
   "codemirror_mode": {
    "name": "ipython",
    "version": 3
   },
   "file_extension": ".py",
   "mimetype": "text/x-python",
   "name": "python",
   "nbconvert_exporter": "python",
   "pygments_lexer": "ipython3",
   "version": "3.8.12"
  },
  "latex_metadata": {
   "affiliation": "Georgia Institute of Technology",
   "author": "Frank Dellaert and Seth Hutchinson",
   "title": "Introduction to Robotics"
  }
 },
 "nbformat": 4,
 "nbformat_minor": 4
}
