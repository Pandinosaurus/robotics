{
 "cells": [
  {
   "cell_type": "markdown",
   "metadata": {
    "colab_type": "text",
    "id": "view-in-github"
   },
   "source": [
    "<a href=\"https://colab.research.google.com/github/gtbook/robotics/blob/main/S31_vacuum_state.ipynb\" target=\"_parent\"><img src=\"https://colab.research.google.com/assets/colab-badge.svg\" alt=\"Open In Colab\"/></a>"
   ]
  },
  {
   "cell_type": "code",
   "execution_count": 2,
   "metadata": {
    "id": "JoW4C_OkOMhe",
    "tags": [
     "remove-cell"
    ]
   },
   "outputs": [
    {
     "name": "stdout",
     "output_type": "stream",
     "text": [
      "Note: you may need to restart the kernel to use updated packages.\n"
     ]
    }
   ],
   "source": [
    "%pip install -q -U gtbook"
   ]
  },
  {
   "cell_type": "code",
   "execution_count": 1,
   "metadata": {
    "id": "10-snNDwOSuC",
    "tags": [
     "remove-cell"
    ]
   },
   "outputs": [],
   "source": [
    "import gtsam \n",
    "import gtbook\n",
    "import gtbook.display\n",
    "from gtbook.discrete import Variables\n",
    "VARIABLES = Variables()\n",
    "def pretty(obj): \n",
    "    return gtbook.display.pretty(obj, VARIABLES)"
   ]
  },
  {
   "cell_type": "markdown",
   "metadata": {
    "id": "nAvx4-UCNzt2"
   },
   "source": [
    "# State Abstractions\n",
    "\n",
    "> We introduce discrete states as an abstraction of navigationg through space.\n",
    "\n",
    "**This Section is still in draft mode and was released for adventurous spirits (and TAs) only.**"
   ]
  },
  {
   "cell_type": "code",
   "execution_count": 2,
   "metadata": {
    "tags": [
     "remove-input"
    ]
   },
   "outputs": [
    {
     "data": {
      "text/html": [
       "\n",
       "        <div align='center'>\n",
       "        <img src='https://github.com/gtbook/robotics/blob/main/Art/steampunk/S31-iRobot%20vacuuming%20robot-06.jpg?raw=1' style='height:256 width:100%'/>\n",
       "        </div>\n",
       "        "
      ],
      "text/plain": [
       "<IPython.core.display.HTML object>"
      ]
     },
     "metadata": {},
     "output_type": "display_data"
    }
   ],
   "source": [
    "from gtbook.display import randomImages\n",
    "from IPython.display import display\n",
    "display(randomImages(3, 1, \"steampunk\", 1))"
   ]
  },
  {
   "cell_type": "markdown",
   "metadata": {
    "id": "nAvx4-UCNzt2"
   },
   "source": [
    "The concept of state is an abstraction, allowing robots to reason about what is happening to them and their environment as they act. This does not necessarily mean that we, as robot programmers, have no deeper knowledge of what is going on: we do know that a vacuuming robot operates in a two dimensional space, typically a single floor in a domestic residence. However, we might have programmed in \"actions\" that abstract to the notion of moving from room to room, and hence may only be interested in knowing which room the robot is in for the purposes of triggering those actions. Other actions that are useful but will not discuss further in this section might involve vacuuming the current room, terminating when it is done or when the robot is stuck. Rather, we will concentrate below on navigation actions, moving from room to room, knowing that it might be only a small part of the repertoire that a true vacuuming robot needs to be useful."
   ]
  },
  {
   "cell_type": "markdown",
   "metadata": {},
   "source": [
    "## A Vacuuming Robot\n",
    "<figure>\n",
    "<img src=\"https://github.com/gtbook/robotics/blob/main/Figures3/S31-House.png?raw=1\" id=\"fig:House\" alt=\"\" />\n",
    "<figcaption id=\"fig:House\" label=\"fig:House\">The floor plan of a a house in which our hypothetical vacuum robot will operate.</figcaption>\n",
    "</figure>\n",
    "\n",
    "As an example, let us look at the floor plan in Figure <a href=\"#fig:Vacuum\" data-reference-type=\"ref\" data-reference=\"fig:House\">1</a>, depicting the ground floor of a house with 5 connected rooms. These rooms will constitute the abstracted **state space** for the robot.\n",
    "\n",
    "As before, we can create a variable and a prior distribution over this variable. In this chapter we will model the actions of a robot overtime. Hence, the prior distribution will only concern or knowledge about the state at the very first time step. In particular we will assume that the robot *always* starts out in the office, where its charging station is located. The following code does this:"
   ]
  },
  {
   "cell_type": "code",
   "execution_count": 3,
   "metadata": {},
   "outputs": [
    {
     "data": {
      "text/html": [
       "<div>\n",
       "<p>  <i>P(X1):</i></p>\n",
       "<div>\n",
       "<table class='DecisionTreeFactor'>\n",
       "  <thead>\n",
       "    <tr><th>X1</th><th>value</th></tr>\n",
       "  </thead>\n",
       "  <tbody>\n",
       "    <tr><th>Living Room</th><td>0</td></tr>\n",
       "    <tr><th>Kitchen</th><td>0</td></tr>\n",
       "    <tr><th>Office</th><td>1</td></tr>\n",
       "    <tr><th>Hallway</th><td>0</td></tr>\n",
       "    <tr><th>Dining Room</th><td>0</td></tr>\n",
       "  </tbody>\n",
       "</table>\n",
       "</div>"
      ],
      "text/plain": [
       "<gtbook.display.pretty at 0x109f7dc70>"
      ]
     },
     "execution_count": 3,
     "metadata": {},
     "output_type": "execute_result"
    }
   ],
   "source": [
    "rooms = [\"Living Room\", \"Kitchen\", \"Office\", \"Hallway\", \"Dining Room\"]\n",
    "X = VARIABLES.discrete_series(\"X\", [1], rooms)\n",
    "prior = gtsam.DiscreteDistribution(X[1], \"0/0/1/0/0\")\n",
    "pretty(prior)"
   ]
  },
  {
   "cell_type": "markdown",
   "metadata": {},
   "source": [
    "We use a discrete distribution to convey our knowledge that the robot *always* starts out in the office. We do this with $100\\%$ certainty in this case. This use of probability values to indicate how certain we are about facts in the world is a \"Bayesian\" view, as we explain below."
   ]
  },
  {
   "cell_type": "markdown",
   "metadata": {},
   "source": [
    "## Bayesian vs. Frequentist\n",
    "\n",
    "<figure>\n",
    "<img src=\"https://github.com/gtbook/robotics/blob/main/Figures3/N3-Bayes.png?raw=1\" id=\"fig: Bayesian\" style=\"width:14cm\" alt=\"\" />\n",
    "<figcaption id=\"fig: Bayesian\" label=\"fig: Bayesian\">The Reverend Thomas Bayes gave his name to associating probabilities with the strength of beliefs rather than a frequency of events, even though this seems to have been first introduced by Laplace.</figcaption>\n",
    "</figure>\n",
    "\n",
    "We take a Bayesian view of probability, rather than a frequentist one.\n",
    "This means that we see probabilities as describing our knowledge about\n",
    "events, rather than tallying up frequencies by which they occur. Think\n",
    "of the weather-person talking about the probability of rain tomorrow.\n",
    "Probabilities viewed this way can be used to describe knowledge about\n",
    "the state of the world, and how actions affect the state of an agent and\n",
    "the world.\n",
    "\n",
    "<figure>\n",
    "<img src=\"https://github.com/gtbook/robotics/blob/main/Figures3/N3-Frequentist.png?raw=1\" id=\"fig: Frequentist\" style=\"width:9cm\" alt=\"\" /><figcaption id=\"fig: Frequentist\" label=\"fig: Frequentist\">The caricature of the frequentist view involves counting many heads and tails.</figcaption>\n",
    "</figure>\n",
    "\n",
    "This is to be contrasted with a frequentist view, where probabilities\n",
    "are used to describe the frequencies of events in a series of repeated\n",
    "trials. A Bayesian, instead, might qualify their knowledge about an\n",
    "event that has not even happened yet, let alone multiple times. Of\n",
    "course, in most cases this belief is based on experience, i.e., lots of\n",
    "repeated events in the past, and so it can be seen that perhaps these\n",
    "views are not so different after all.\n"
   ]
  },
  {
   "cell_type": "markdown",
   "metadata": {},
   "source": [
    "## GTSAM 101\n",
    "\n",
    "Most everything above should by now be familiar, but we used a new `Variables` method, `discrete_series`, to define a time series of state variables. The signature of this method is\n",
    "```python\n",
    "def discrete_series(self, character: str, indices: Iterable[int],\n",
    "                    domain: List[str]) -> List[DiscreteKey]:\n",
    "    \"\"\"Create several discrete variables with Symbol names.\n",
    "\n",
    "    Args:\n",
    "        character (str): a single character.\n",
    "        indices: (Iterable[int]): a set of integer indices.\n",
    "        domain (List[str]): names for the different values.\n",
    "\n",
    "    Returns:\n",
    "        List[DiscreteKey], i.e., [(gtsam.Key, cardinality)]\n",
    "    \"\"\"\n",
    "```\n",
    "\n",
    "For example, the following creates a series of 5 state variables:"
   ]
  },
  {
   "cell_type": "code",
   "execution_count": 4,
   "metadata": {},
   "outputs": [],
   "source": [
    "states = VARIABLES.discrete_series('X', [1, 2, 3], rooms)"
   ]
  },
  {
   "cell_type": "code",
   "execution_count": 5,
   "metadata": {},
   "outputs": [
    {
     "name": "stdout",
     "output_type": "stream",
     "text": [
      "{1: (6341068275337658369, 5), 2: (6341068275337658370, 5), 3: (6341068275337658371, 5)}\n"
     ]
    }
   ],
   "source": [
    "print(states)"
   ]
  },
  {
   "cell_type": "markdown",
   "metadata": {},
   "source": [
    "When we print the results, we see that we now get a *list* of DiscreteKeys, i.e., integer tuples. However, the \"Keys\" now seem to be very large integers. This is because for series of variables we use the `gtsam.Symbol` type, composed of a single character and an integer index:"
   ]
  },
  {
   "cell_type": "code",
   "execution_count": 6,
   "metadata": {},
   "outputs": [
    {
     "name": "stdout",
     "output_type": "stream",
     "text": [
      "X1\n"
     ]
    }
   ],
   "source": [
    "symbol = gtsam.Symbol('X', 1)\n",
    "print(symbol.string())"
   ]
  },
  {
   "cell_type": "markdown",
   "metadata": {},
   "source": [
    "GTSAM internally stores symbols as a 64-bit integer key, with the 8-bit character in the most significant bits, which explains the large integer value:"
   ]
  },
  {
   "cell_type": "code",
   "execution_count": 7,
   "metadata": {},
   "outputs": [
    {
     "name": "stdout",
     "output_type": "stream",
     "text": [
      "6341068275337658369\n"
     ]
    }
   ],
   "source": [
    "print(symbol.key())"
   ]
  },
  {
   "cell_type": "markdown",
   "metadata": {},
   "source": [
    "You can see that this corresponds to the first state above. However, as before, pretty printing translates these into a nicer looking strings wherever it matters."
   ]
  }
 ],
 "metadata": {
  "colab": {
   "collapsed_sections": [],
   "include_colab_link": true,
   "name": "S31_vacuum_state.ipynb",
   "provenance": []
  },
  "interpreter": {
   "hash": "c6e4e9f98eb68ad3b7c296f83d20e6de614cb42e90992a65aa266555a3137d0d"
  },
  "kernelspec": {
   "display_name": "Python 3 (ipykernel)",
   "language": "python",
   "name": "python3"
  },
  "language_info": {
   "codemirror_mode": {
    "name": "ipython",
    "version": 3
   },
   "file_extension": ".py",
   "mimetype": "text/x-python",
   "name": "python",
   "nbconvert_exporter": "python",
   "pygments_lexer": "ipython3",
   "version": "3.8.12"
  },
  "latex_metadata": {
   "affiliation": "Georgia Institute of Technology",
   "author": "Frank Dellaert and Seth Hutchinson",
   "title": "Introduction to Robotics"
  }
 },
 "nbformat": 4,
 "nbformat_minor": 2
}
