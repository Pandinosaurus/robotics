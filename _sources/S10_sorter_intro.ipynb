{
 "cells": [
  {
   "cell_type": "markdown",
   "metadata": {},
   "source": [
    "# A Trash Sorting Robot\n",
    "\n",
    "> :A simple robot that sorts trash into appropriate bins can be used to illustrate most all of the concepts that we will teach in this class.\n"
   ]
  },
  {
   "cell_type": "markdown",
   "metadata": {},
   "source": [
    "<!---TODO: get Amp Robotics photo.\n",
    "\n",
    " As shown in the photo, each individual trash sorting robot is mounted in a work cell, and we will assume that one piece of trash is available is in the work cell at any given time. -->\n",
    "\n",
    "In this chapter we introduce the main concepts that will be covered in this book using\n",
    "a simple trash sorting robot as an example.\n",
    "The robot is fed items of trash, one at a time, by a conveyor belt.\n",
    "Depending on the *category of the item* (state), e.g., paper, metal, etc.,\n",
    "the robot's task is to *move the item* (actions) into the appropriate bin.\n",
    "Sensors are used to *measure certain characteristics* (sensing) of a given item of trash,\n",
    "and these sensor measurements are then used to *infer the item's category* (simple perception).\n",
    "Using these inferences, the robot *chooses an action* (planning) to place the item in an appropriate bin.\n",
    "The robot can *refine its model of the world based on data* acquired during operation (learning),\n",
    "and this new model can be used to improve operation over time.\n",
    "\n",
    "For now, we will abstract away many details of real-world robotics problems. \n",
    "We will not consider\n",
    "the geometric or physical aspects of robot motion, and we will assume that the robot is\n",
    "able to move items from the conveyor belt to the commanded bin without error.\n",
    "On the other hand, we will explicitly consider uncertainty associated to the problem\n",
    "of classifying items of trash into their appropriate categories, and how this uncertainty\n",
    "affects decision making when choosing actions (i.e., destination bins for items of trash).\n",
    "This will allow us to introduce some basic concepts from probability and decision theory\n",
    "that will be used throughout the book.\n",
    "\n",
    "<!-- \n",
    "\n",
    "- State:\t\tplastic|paper|cardboard|metal|glass|unknown\n",
    "- Actuators: \tgripper (4 actions or no-op)\n",
    "- Sensors:      Attributes -> conductivity (2), computer vision (3), weight (continuous)\n",
    "- Perception: \tEstimation probabilities of plastic|paper|cardboard|metal|unknown\n",
    "- Planning: \tDecision Theory -> sort into three bins (plastics|mixed paper|metals|glass) or do nothing\n",
    "\n",
    "\n",
    "\n",
    "Perception is different from sensing: it turns prior knowledge and sensed information into a probabilistic knowledge about the current state of the world/robot.\n",
    "\n",
    "Using probalistic knowledge, we can try to act optimallly, and hence we will define notions of optimality, and develop some decision theory. -->"
   ]
  }
 ],
 "metadata": {
  "latex_metadata": {
     "affiliation": "Georgia Institute of Technology",
     "author": "Frank Dellaert and Seth Hutchinson",
     "title": "Introduction to Robotics"
  },    
  "language_info": {
   "name": "plaintext"
  },
  "orig_nbformat": 4
 },
 "nbformat": 4,
 "nbformat_minor": 2
}
