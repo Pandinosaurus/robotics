{
 "cells": [
  {
   "cell_type": "markdown",
   "metadata": {
    "colab_type": "text",
    "id": "view-in-github"
   },
   "source": [
    "<a href=\"https://colab.research.google.com/github/gtbook/robotics/blob/main/S72_drone_actions.ipynb\" target=\"_parent\"><img src=\"https://colab.research.google.com/assets/colab-badge.svg\" alt=\"Open In Colab\"/></a>"
   ]
  },
  {
   "cell_type": "code",
   "execution_count": 1,
   "metadata": {
    "id": "JoW4C_OkOMhe",
    "tags": [
     "remove-cell"
    ]
   },
   "outputs": [
    {
     "name": "stdout",
     "output_type": "stream",
     "text": [
      "Note: you may need to restart the kernel to use updated packages.\n"
     ]
    }
   ],
   "source": [
    "%pip install -q -U gtbook"
   ]
  },
  {
   "cell_type": "code",
   "execution_count": 2,
   "metadata": {
    "id": "10-snNDwOSuC",
    "tags": [
     "remove-cell"
    ]
   },
   "outputs": [],
   "source": [
    "import math\n",
    "import numpy as np\n",
    "import pandas as pd\n",
    "\n",
    "import plotly.express as px\n",
    "# try:\n",
    "#     import google.colab\n",
    "# except:\n",
    "#     import plotly.io as pio\n",
    "#     pio.renderers.default = \"png\"\n",
    "\n",
    "import gtsam\n",
    "from gtbook.drone import axes"
   ]
  },
  {
   "cell_type": "markdown",
   "metadata": {
    "id": "nAvx4-UCNzt2"
   },
   "source": [
    "# Multi-rotor Aircraft\n",
    "\n",
    "> An amazing way to fly in 3D.\n",
    "\n",
    "**This Section is still in draft mode and was released for adventurous spirits (and TAs) only.**"
   ]
  },
  {
   "cell_type": "code",
   "execution_count": 3,
   "metadata": {
    "tags": [
     "remove-input"
    ]
   },
   "outputs": [
    {
     "data": {
      "text/html": [
       "\n",
       "        <div align='center'>\n",
       "        <img src='https://github.com/gtbook/robotics/blob/main/Art/steampunk/S72-Autonomous%20camera%20drone-07.jpg?raw=1' style='height:256 width:100%'/>\n",
       "        </div>\n",
       "        "
      ],
      "text/plain": [
       "<IPython.core.display.HTML object>"
      ]
     },
     "metadata": {},
     "output_type": "display_data"
    }
   ],
   "source": [
    "from gtbook.display import randomImages\n",
    "from IPython.display import display\n",
    "display(randomImages(7, 2, \"steampunk\", 1))"
   ]
  },
  {
   "cell_type": "markdown",
   "metadata": {},
   "source": [
    "The kinematics of quadrotors and multicopters are those of simple rigid 3D bodies. Many different coordinate frame conventions are used in the literature. I introduce one good choice below, and convert equations from the literature to this convention where needed.\n",
    "\n",
    "The kinematics equations are most useful for navigation and control when expressed in the navigation frame $\\mathcal{N}$, which for MAV applications is almost universally assumed to be non-rotating and aligned with gravity, but can otherwise be defined arbitrarily, e.g., **East-North-Up (ENU)**. The origin of the navigation frame is often chosen as the take-off point, but does not have to be.\n",
    "\n",
    "We also define a body frame $\\mathcal{B}$ as having its origin at the center of mass of the vehicle. Following convention in aerospace applications, we fix the x-axis as pointing to the front of the vehicle (not always the direction of travel), the y-axis as pointing to the left, and the z-axis pointing up, the so-called **FLU convention**. \n",
    "\n",
    "We then define, respectively,\n",
    "\n",
    "• the vehicle's position $r^{n}\\doteq[x,y,z]^{T}$,\n",
    "\n",
    "• its linear velocity $v^n=\\dot{r^{n}}\\doteq[u,v,w]^{T}$,\n",
    "\n",
    "• the attitude $R^n_b\\doteq[i^b,j^b,k^b]\\in SO(3)$, a $3\\times 3$ rotation matrix from $\\mathcal{B}$ to $\\mathcal{N}$,\n",
    "\n",
    "• the body angular velocity $\\omega^b\\doteq[p,q,r]^{T}$.\n",
    "\n",
    "Above the superscript $n$ and $b$ denote quantities expressed in the *navigation* and *body* frame, respectively. "
   ]
  },
  {
   "cell_type": "markdown",
   "metadata": {},
   "source": [
    "## Drone Dynamics\n",
    "\n",
    "Let us take the [Skydio 2+](https://www.skydio.com/skydio-2-plus) as a prototypical and relevant example. Its mass, with battery, is $800g$, but let's just say $1kg$ to make the calculations easier. Its dimensions are $229mm \\times 274mm$, but let's assume the motors are at $(+/- 0.10m, +/- 0.10m)$, which is not too far off."
   ]
  },
  {
   "cell_type": "markdown",
   "metadata": {},
   "source": [
    "## Hover\n",
    "To hover, assuming $g=10m/s^2$, the four rotors have to provide a thrust of 10N upwards to compensate for gravity, i.e., 2.5N per motor. Of course, we need to be able to accelerate upwards, so let's assume each motor can provide up to double that, i.e., 0 to 5N. So, while the drone is level, here are some sample accelerations we can deliver:\n",
    "\n",
    "- $f_i=0N$ for $i\\in{1..4}$: downwards acceleration at $-10\\frac{m}{s^2}$.\n",
    "- $f_i=2.5N$ for $i\\in{1..4}$: stable hover $0\\frac{m}{s^2}$.\n",
    "- $f_i=5N$ for $i\\in{1..4}$: upwards acceleration at $10\\frac{m}{s^2}$.\n",
    "\n",
    "In general, the force $F^b_z$ aligned with the body Z-axis will be  \n",
    "\n",
    "$$\n",
    "F^b_z = \\sum_{i=1}^4 f_i\n",
    "$$"
   ]
  },
  {
   "cell_type": "markdown",
   "metadata": {},
   "source": [
    "## Forward Flight\n",
    "\n",
    "Of course, when we *tilt* the quadrotor forwards, we will direct some of that thrust towards generating horizontal acceleration. To get a handle on this, we need to calculate the thrust in the *navigation* frame, but this is just a matter of multiplying with the rotation matrix $R^n_b$:\n",
    "\n",
    "$$\n",
    "F^n = R^n_b \\begin{bmatrix}0 \\\\ 0 \\\\ F^b_z\\end{bmatrix} = \\hat{z}^n_b F^b_z\n",
    "$$\n",
    "\n",
    "where $\\hat{z}^n_b$ is the third column of $R^n_b$, i.e., this is simply the Z-axis $\\hat{z}$ of the body frame, expressed in the navigation frame. *In other words, the thrust in the navigation frame is always aligned with the body's Z-axis, and hence by rotating the quadrotor appropriately we can achieve any thrust direction we desire*.\n",
    "\n",
    "Let us assume that the FLU body frame is currently oriented along the Y-axis of the ENU navigation frame, i.e., we are flying NORTH, then if we tilt forward with an angle of $\\theta$ with respect to vertical, we obtain \n",
    "\n",
    "$$\n",
    "F^n = \\begin{bmatrix}0 \\\\ \\sin \\theta \\\\ \\cos \\theta\\end{bmatrix} F^b_z\n",
    "$$\n",
    "\n",
    "and hence if we want to maintain level flight, we need to keep compensating for gravity by maintaining\n",
    "\n",
    "$$\n",
    "\\cos \\theta F^b_z = 10N.\n",
    "$$\n",
    "\n",
    "That in turn means that the forward trust (along the navigation Y-axis) will be\n",
    "\n",
    "$$\n",
    "F^n_y = \\sin \\theta F^b_z = \\sin \\theta \\frac{10N}{\\cos \\theta} = \\tan \\theta \\cdot 10N \n",
    "$$\n"
   ]
  },
  {
   "cell_type": "markdown",
   "metadata": {},
   "source": [
    "## Maximum Tilt and Thrust\n",
    "\n",
    "We are also constrained, however, by the maximum thrust $F^b_z$ we can deliver, which is 20N. Hence,\n",
    "\n",
    "$$\n",
    "F^b_z = \\frac{10N}{\\cos \\theta} \\leq 20N \\rightarrow \\cos \\theta \\geq 0.5 \\rightarrow -60^\\circ \\leq \\theta \\leq 60^\\circ,\n",
    "$$\n",
    "\n",
    "the maximum tilt angle is 60 degrees. At that maximum tilt angle, we have\n",
    "\n",
    "$$\n",
    "F^n_y = \\tan \\theta_{\\max} \\cdot 10N \\approx 17N \n",
    "$$\n",
    "\n",
    "So, we are limited to $17N$ of forward thrust, and this when tilting very aggressively at 60 degrees. If we tilt more, we can improve thrust even more (up to 20N) but the drone will start falling out of the sky. "
   ]
  },
  {
   "cell_type": "markdown",
   "metadata": {},
   "source": [
    "## Drag and Maximum Velocity\n",
    "\n",
    "Importantly, constant forward thrust does *not* mean that the drone will continue accelerating, because of *drag*. In fact, from the spec-sheet of the Skydio-2 we see that the top speed (in autonomous mode) is 36Mph, which is about $16m/s$, and the theoretical top speed is probably more like $20m/s$. Since drag increases *quadratically* with velocity, we can calculate the corresponding drag coefficient as the drag force has to exactly balance the maximum forward thrust at the top speed:\n",
    "\n",
    "$$\n",
    "17N = k_d v_{top}^2 = k_d 20^2 m^2/s^2 \\rightarrow k_d = 0.0425\n",
    "$$\n",
    "\n",
    "Now that we have the drag coefficient $k_d$, we can calculate a simple mapping from tilt angle $\\theta$ to forward velocity. Indeed, given tilt $\\theta$, can calculate the forward thrust $F^n_y$ in the navigation frame, and the velocity can be obtained by equating that to the drag force $k^d v^2$:\n",
    "\n",
    "$$\n",
    "F^n_y = \\tan \\theta \\cdot 10N = k_d v^2 \\rightarrow v = \\sqrt{\\frac{\\tan \\theta \\cdot 10}{k_d}} = \\sqrt{\\frac{10}{k_d}} \\sqrt{\\tan \\theta} \\approx 15 \\sqrt{\\tan \\theta}\n",
    "$$"
   ]
  },
  {
   "cell_type": "code",
   "execution_count": 4,
   "metadata": {},
   "outputs": [
    {
     "name": "stdout",
     "output_type": "stream",
     "text": [
      "v(0) ~ 0 m/s\n",
      "v(1) ~ 2 m/s\n",
      "v(5) ~ 4 m/s\n",
      "v(10) ~ 6 m/s\n",
      "v(15) ~ 8 m/s\n",
      "v(20) ~ 9 m/s\n",
      "v(30) ~ 11 m/s\n",
      "v(40) ~ 14 m/s\n",
      "v(50) ~ 16 m/s\n"
     ]
    }
   ],
   "source": [
    "vmap = {}\n",
    "for theta in [0,1,5,10,15,20,30,40,50]:\n",
    "  vmap[theta] = 15 * math.sqrt(math.tan(math.radians(theta)))\n",
    "  print(f\"v({theta}) ~ {round(vmap[theta])} m/s\")"
   ]
  },
  {
   "cell_type": "code",
   "execution_count": 5,
   "metadata": {},
   "outputs": [
    {
     "data": {
      "application/vnd.plotly.v1+json": {
       "config": {
        "plotlyServerURL": "https://plot.ly"
       },
       "data": [
        {
         "hovertemplate": "x=%{x}<br>y=%{y}<extra></extra>",
         "legendgroup": "",
         "line": {
          "color": "#636efa",
          "dash": "solid"
         },
         "marker": {
          "symbol": "circle"
         },
         "mode": "lines",
         "name": "",
         "orientation": "v",
         "showlegend": false,
         "type": "scatter",
         "x": [
          0,
          1,
          5,
          10,
          15,
          20,
          30,
          40,
          50
         ],
         "xaxis": "x",
         "y": [
          0,
          1.981764266720176,
          4.436772395935236,
          6.298695949115548,
          7.764571353075622,
          9.049491848158963,
          11.397535284773886,
          13.740357237527997,
          16.375120101351843
         ],
         "yaxis": "y"
        }
       ],
       "layout": {
        "legend": {
         "tracegroupgap": 0
        },
        "margin": {
         "t": 60
        },
        "template": {
         "data": {
          "bar": [
           {
            "error_x": {
             "color": "#2a3f5f"
            },
            "error_y": {
             "color": "#2a3f5f"
            },
            "marker": {
             "line": {
              "color": "#E5ECF6",
              "width": 0.5
             },
             "pattern": {
              "fillmode": "overlay",
              "size": 10,
              "solidity": 0.2
             }
            },
            "type": "bar"
           }
          ],
          "barpolar": [
           {
            "marker": {
             "line": {
              "color": "#E5ECF6",
              "width": 0.5
             },
             "pattern": {
              "fillmode": "overlay",
              "size": 10,
              "solidity": 0.2
             }
            },
            "type": "barpolar"
           }
          ],
          "carpet": [
           {
            "aaxis": {
             "endlinecolor": "#2a3f5f",
             "gridcolor": "white",
             "linecolor": "white",
             "minorgridcolor": "white",
             "startlinecolor": "#2a3f5f"
            },
            "baxis": {
             "endlinecolor": "#2a3f5f",
             "gridcolor": "white",
             "linecolor": "white",
             "minorgridcolor": "white",
             "startlinecolor": "#2a3f5f"
            },
            "type": "carpet"
           }
          ],
          "choropleth": [
           {
            "colorbar": {
             "outlinewidth": 0,
             "ticks": ""
            },
            "type": "choropleth"
           }
          ],
          "contour": [
           {
            "colorbar": {
             "outlinewidth": 0,
             "ticks": ""
            },
            "colorscale": [
             [
              0,
              "#0d0887"
             ],
             [
              0.1111111111111111,
              "#46039f"
             ],
             [
              0.2222222222222222,
              "#7201a8"
             ],
             [
              0.3333333333333333,
              "#9c179e"
             ],
             [
              0.4444444444444444,
              "#bd3786"
             ],
             [
              0.5555555555555556,
              "#d8576b"
             ],
             [
              0.6666666666666666,
              "#ed7953"
             ],
             [
              0.7777777777777778,
              "#fb9f3a"
             ],
             [
              0.8888888888888888,
              "#fdca26"
             ],
             [
              1,
              "#f0f921"
             ]
            ],
            "type": "contour"
           }
          ],
          "contourcarpet": [
           {
            "colorbar": {
             "outlinewidth": 0,
             "ticks": ""
            },
            "type": "contourcarpet"
           }
          ],
          "heatmap": [
           {
            "colorbar": {
             "outlinewidth": 0,
             "ticks": ""
            },
            "colorscale": [
             [
              0,
              "#0d0887"
             ],
             [
              0.1111111111111111,
              "#46039f"
             ],
             [
              0.2222222222222222,
              "#7201a8"
             ],
             [
              0.3333333333333333,
              "#9c179e"
             ],
             [
              0.4444444444444444,
              "#bd3786"
             ],
             [
              0.5555555555555556,
              "#d8576b"
             ],
             [
              0.6666666666666666,
              "#ed7953"
             ],
             [
              0.7777777777777778,
              "#fb9f3a"
             ],
             [
              0.8888888888888888,
              "#fdca26"
             ],
             [
              1,
              "#f0f921"
             ]
            ],
            "type": "heatmap"
           }
          ],
          "heatmapgl": [
           {
            "colorbar": {
             "outlinewidth": 0,
             "ticks": ""
            },
            "colorscale": [
             [
              0,
              "#0d0887"
             ],
             [
              0.1111111111111111,
              "#46039f"
             ],
             [
              0.2222222222222222,
              "#7201a8"
             ],
             [
              0.3333333333333333,
              "#9c179e"
             ],
             [
              0.4444444444444444,
              "#bd3786"
             ],
             [
              0.5555555555555556,
              "#d8576b"
             ],
             [
              0.6666666666666666,
              "#ed7953"
             ],
             [
              0.7777777777777778,
              "#fb9f3a"
             ],
             [
              0.8888888888888888,
              "#fdca26"
             ],
             [
              1,
              "#f0f921"
             ]
            ],
            "type": "heatmapgl"
           }
          ],
          "histogram": [
           {
            "marker": {
             "pattern": {
              "fillmode": "overlay",
              "size": 10,
              "solidity": 0.2
             }
            },
            "type": "histogram"
           }
          ],
          "histogram2d": [
           {
            "colorbar": {
             "outlinewidth": 0,
             "ticks": ""
            },
            "colorscale": [
             [
              0,
              "#0d0887"
             ],
             [
              0.1111111111111111,
              "#46039f"
             ],
             [
              0.2222222222222222,
              "#7201a8"
             ],
             [
              0.3333333333333333,
              "#9c179e"
             ],
             [
              0.4444444444444444,
              "#bd3786"
             ],
             [
              0.5555555555555556,
              "#d8576b"
             ],
             [
              0.6666666666666666,
              "#ed7953"
             ],
             [
              0.7777777777777778,
              "#fb9f3a"
             ],
             [
              0.8888888888888888,
              "#fdca26"
             ],
             [
              1,
              "#f0f921"
             ]
            ],
            "type": "histogram2d"
           }
          ],
          "histogram2dcontour": [
           {
            "colorbar": {
             "outlinewidth": 0,
             "ticks": ""
            },
            "colorscale": [
             [
              0,
              "#0d0887"
             ],
             [
              0.1111111111111111,
              "#46039f"
             ],
             [
              0.2222222222222222,
              "#7201a8"
             ],
             [
              0.3333333333333333,
              "#9c179e"
             ],
             [
              0.4444444444444444,
              "#bd3786"
             ],
             [
              0.5555555555555556,
              "#d8576b"
             ],
             [
              0.6666666666666666,
              "#ed7953"
             ],
             [
              0.7777777777777778,
              "#fb9f3a"
             ],
             [
              0.8888888888888888,
              "#fdca26"
             ],
             [
              1,
              "#f0f921"
             ]
            ],
            "type": "histogram2dcontour"
           }
          ],
          "mesh3d": [
           {
            "colorbar": {
             "outlinewidth": 0,
             "ticks": ""
            },
            "type": "mesh3d"
           }
          ],
          "parcoords": [
           {
            "line": {
             "colorbar": {
              "outlinewidth": 0,
              "ticks": ""
             }
            },
            "type": "parcoords"
           }
          ],
          "pie": [
           {
            "automargin": true,
            "type": "pie"
           }
          ],
          "scatter": [
           {
            "marker": {
             "colorbar": {
              "outlinewidth": 0,
              "ticks": ""
             }
            },
            "type": "scatter"
           }
          ],
          "scatter3d": [
           {
            "line": {
             "colorbar": {
              "outlinewidth": 0,
              "ticks": ""
             }
            },
            "marker": {
             "colorbar": {
              "outlinewidth": 0,
              "ticks": ""
             }
            },
            "type": "scatter3d"
           }
          ],
          "scattercarpet": [
           {
            "marker": {
             "colorbar": {
              "outlinewidth": 0,
              "ticks": ""
             }
            },
            "type": "scattercarpet"
           }
          ],
          "scattergeo": [
           {
            "marker": {
             "colorbar": {
              "outlinewidth": 0,
              "ticks": ""
             }
            },
            "type": "scattergeo"
           }
          ],
          "scattergl": [
           {
            "marker": {
             "colorbar": {
              "outlinewidth": 0,
              "ticks": ""
             }
            },
            "type": "scattergl"
           }
          ],
          "scattermapbox": [
           {
            "marker": {
             "colorbar": {
              "outlinewidth": 0,
              "ticks": ""
             }
            },
            "type": "scattermapbox"
           }
          ],
          "scatterpolar": [
           {
            "marker": {
             "colorbar": {
              "outlinewidth": 0,
              "ticks": ""
             }
            },
            "type": "scatterpolar"
           }
          ],
          "scatterpolargl": [
           {
            "marker": {
             "colorbar": {
              "outlinewidth": 0,
              "ticks": ""
             }
            },
            "type": "scatterpolargl"
           }
          ],
          "scatterternary": [
           {
            "marker": {
             "colorbar": {
              "outlinewidth": 0,
              "ticks": ""
             }
            },
            "type": "scatterternary"
           }
          ],
          "surface": [
           {
            "colorbar": {
             "outlinewidth": 0,
             "ticks": ""
            },
            "colorscale": [
             [
              0,
              "#0d0887"
             ],
             [
              0.1111111111111111,
              "#46039f"
             ],
             [
              0.2222222222222222,
              "#7201a8"
             ],
             [
              0.3333333333333333,
              "#9c179e"
             ],
             [
              0.4444444444444444,
              "#bd3786"
             ],
             [
              0.5555555555555556,
              "#d8576b"
             ],
             [
              0.6666666666666666,
              "#ed7953"
             ],
             [
              0.7777777777777778,
              "#fb9f3a"
             ],
             [
              0.8888888888888888,
              "#fdca26"
             ],
             [
              1,
              "#f0f921"
             ]
            ],
            "type": "surface"
           }
          ],
          "table": [
           {
            "cells": {
             "fill": {
              "color": "#EBF0F8"
             },
             "line": {
              "color": "white"
             }
            },
            "header": {
             "fill": {
              "color": "#C8D4E3"
             },
             "line": {
              "color": "white"
             }
            },
            "type": "table"
           }
          ]
         },
         "layout": {
          "annotationdefaults": {
           "arrowcolor": "#2a3f5f",
           "arrowhead": 0,
           "arrowwidth": 1
          },
          "autotypenumbers": "strict",
          "coloraxis": {
           "colorbar": {
            "outlinewidth": 0,
            "ticks": ""
           }
          },
          "colorscale": {
           "diverging": [
            [
             0,
             "#8e0152"
            ],
            [
             0.1,
             "#c51b7d"
            ],
            [
             0.2,
             "#de77ae"
            ],
            [
             0.3,
             "#f1b6da"
            ],
            [
             0.4,
             "#fde0ef"
            ],
            [
             0.5,
             "#f7f7f7"
            ],
            [
             0.6,
             "#e6f5d0"
            ],
            [
             0.7,
             "#b8e186"
            ],
            [
             0.8,
             "#7fbc41"
            ],
            [
             0.9,
             "#4d9221"
            ],
            [
             1,
             "#276419"
            ]
           ],
           "sequential": [
            [
             0,
             "#0d0887"
            ],
            [
             0.1111111111111111,
             "#46039f"
            ],
            [
             0.2222222222222222,
             "#7201a8"
            ],
            [
             0.3333333333333333,
             "#9c179e"
            ],
            [
             0.4444444444444444,
             "#bd3786"
            ],
            [
             0.5555555555555556,
             "#d8576b"
            ],
            [
             0.6666666666666666,
             "#ed7953"
            ],
            [
             0.7777777777777778,
             "#fb9f3a"
            ],
            [
             0.8888888888888888,
             "#fdca26"
            ],
            [
             1,
             "#f0f921"
            ]
           ],
           "sequentialminus": [
            [
             0,
             "#0d0887"
            ],
            [
             0.1111111111111111,
             "#46039f"
            ],
            [
             0.2222222222222222,
             "#7201a8"
            ],
            [
             0.3333333333333333,
             "#9c179e"
            ],
            [
             0.4444444444444444,
             "#bd3786"
            ],
            [
             0.5555555555555556,
             "#d8576b"
            ],
            [
             0.6666666666666666,
             "#ed7953"
            ],
            [
             0.7777777777777778,
             "#fb9f3a"
            ],
            [
             0.8888888888888888,
             "#fdca26"
            ],
            [
             1,
             "#f0f921"
            ]
           ]
          },
          "colorway": [
           "#636efa",
           "#EF553B",
           "#00cc96",
           "#ab63fa",
           "#FFA15A",
           "#19d3f3",
           "#FF6692",
           "#B6E880",
           "#FF97FF",
           "#FECB52"
          ],
          "font": {
           "color": "#2a3f5f"
          },
          "geo": {
           "bgcolor": "white",
           "lakecolor": "white",
           "landcolor": "#E5ECF6",
           "showlakes": true,
           "showland": true,
           "subunitcolor": "white"
          },
          "hoverlabel": {
           "align": "left"
          },
          "hovermode": "closest",
          "mapbox": {
           "style": "light"
          },
          "paper_bgcolor": "white",
          "plot_bgcolor": "#E5ECF6",
          "polar": {
           "angularaxis": {
            "gridcolor": "white",
            "linecolor": "white",
            "ticks": ""
           },
           "bgcolor": "#E5ECF6",
           "radialaxis": {
            "gridcolor": "white",
            "linecolor": "white",
            "ticks": ""
           }
          },
          "scene": {
           "xaxis": {
            "backgroundcolor": "#E5ECF6",
            "gridcolor": "white",
            "gridwidth": 2,
            "linecolor": "white",
            "showbackground": true,
            "ticks": "",
            "zerolinecolor": "white"
           },
           "yaxis": {
            "backgroundcolor": "#E5ECF6",
            "gridcolor": "white",
            "gridwidth": 2,
            "linecolor": "white",
            "showbackground": true,
            "ticks": "",
            "zerolinecolor": "white"
           },
           "zaxis": {
            "backgroundcolor": "#E5ECF6",
            "gridcolor": "white",
            "gridwidth": 2,
            "linecolor": "white",
            "showbackground": true,
            "ticks": "",
            "zerolinecolor": "white"
           }
          },
          "shapedefaults": {
           "line": {
            "color": "#2a3f5f"
           }
          },
          "ternary": {
           "aaxis": {
            "gridcolor": "white",
            "linecolor": "white",
            "ticks": ""
           },
           "baxis": {
            "gridcolor": "white",
            "linecolor": "white",
            "ticks": ""
           },
           "bgcolor": "#E5ECF6",
           "caxis": {
            "gridcolor": "white",
            "linecolor": "white",
            "ticks": ""
           }
          },
          "title": {
           "x": 0.05
          },
          "xaxis": {
           "automargin": true,
           "gridcolor": "white",
           "linecolor": "white",
           "ticks": "",
           "title": {
            "standoff": 15
           },
           "zerolinecolor": "white",
           "zerolinewidth": 2
          },
          "yaxis": {
           "automargin": true,
           "gridcolor": "white",
           "linecolor": "white",
           "ticks": "",
           "title": {
            "standoff": 15
           },
           "zerolinecolor": "white",
           "zerolinewidth": 2
          }
         }
        },
        "xaxis": {
         "anchor": "y",
         "domain": [
          0,
          1
         ],
         "title": {
          "text": "x"
         }
        },
        "yaxis": {
         "anchor": "x",
         "domain": [
          0,
          1
         ],
         "title": {
          "text": "y"
         }
        }
       }
      }
     },
     "metadata": {},
     "output_type": "display_data"
    }
   ],
   "source": [
    "px.line(x=list(vmap.keys()), y= list(vmap.values()))"
   ]
  },
  {
   "cell_type": "markdown",
   "metadata": {},
   "source": [
    "## Full Rigid-Body Kinematics\n",
    "\n",
    "Below I develop all attitude kinematics and dynamics directly on $SO(3)$, following Murray et al. (1994).\n",
    "In particular, the vehicle's kinematics are given by \n",
    "\n",
    "$$\n",
    "\\begin{align}\n",
    "\\dot{r}^{n}\t&= v^n \\\\\n",
    "\\dot{R}^n_b\t&= R^n_b\\hat{\\omega}^b\n",
    "\\end{align}\n",
    "$$\n",
    "\n",
    "where the $3\\times 3$ skew-symmetric matrix $\\hat{\\omega}^b\\doteq (R^n_b)^{T}\\dot{R}^n_b$ is obtained from the 3-vector $\\omega^b$ as follows:\n",
    "\n",
    "$$\n",
    "\\hat{\\omega}^b\\doteq\\begin{bmatrix}\n",
    " & -\\omega^b_{z} & \\omega^b_{y}\\\\\n",
    "\\omega^b_{z} &  & -\\omega^b_{x}\\\\\n",
    "-\\omega^b_{y} & \\omega^b_{x}\n",
    "\\end{bmatrix}.\n",
    "$$\n",
    "\n",
    "Note $\\hat{\\omega}^b\\in so(3)$, the Lie algebra associated with the 3D rotation group $SO(3)$. \n",
    "Also, the kinematics can also expressed using the spatial angular velocity $\\omega^n\\doteq R^n_b\\omega^b$, i.e.,\n",
    "\n",
    "$$\n",
    "\\dot{R}^n_b\t= \\hat{\\omega}^n R^n_b\n",
    "$$\n",
    "\n",
    "However, it is much easier to visualize and calculate the angular velocity in the body frame."
   ]
  },
  {
   "cell_type": "markdown",
   "metadata": {},
   "source": [
    "## Simulation aka Forward Integrating\n",
    "\n",
    "If time histories $v^n(t)$ and $\\omega^b(t)$ for the linear and angular velocities are available, the vehicle's position $r^{n}(t)$ and attitude $R^n_b(t)$ can be integrated forward using the following two equations:\n",
    "\n",
    "$$\n",
    "\\begin{align}\n",
    "r^n_{k+1} &= r^n_{k} + d^k_{k+1}[v^n(t), \\Delta t]\\\\\n",
    "R^n_{b,k+1} &= R^n_{b,k} R^k_{k+1}[\\omega^b(t), \\Delta t]\n",
    "\\end{align}\n",
    "$$\n",
    "\n",
    "where $\\Delta t$ is the sample time and \n",
    "\n",
    "- $d^k_{k+1}[v^n(t), \\Delta t]$ is the relative displacement obtained by exactly integrating the velocity $v^n(t)$ over the interval $(t_k,t_{k+1}]$, and\n",
    "- $R^k_{k+1}[\\omega^b(t), \\Delta t]$ is the relative rotation obtained by exactly integrating the angular velocity $\\omega^b(t)$ over that same interval."
   ]
  },
  {
   "cell_type": "markdown",
   "metadata": {},
   "source": [
    "### Integrating Position\n",
    "\n",
    "The above is exact, but when implementing this in code we need to use a numerical integration scheme. For position, the simplest integration scheme is the **forward Euler method**\n",
    "\n",
    "$$\n",
    "d^k_{k+1}[v^n(t), \\Delta t] \\approx v^n(t_k) \\Delta t\n",
    "$$\n",
    "\n",
    "which approximates velocity $v^n(t)$ over the interval $(t_k,t_{k+1}]$ as constant with value $v^n(t_k)$. There is also the **backward Euler method**, which uses $v^n(t_{k+1})$, and the **trapezoidal method**, which uses the average $0.5v^n(t_k)+0.5v^n(t_{k+1})$. More sophisticated integration schemes are possible, allowing for larger sample times $\\Delta t$, but they require more function evaluations of the velocity."
   ]
  },
  {
   "cell_type": "markdown",
   "metadata": {},
   "source": [
    "### Integrating Attitude\n",
    "\n",
    "For the attitude part, it turns out that the Euler method can be implemented *in closed form* using **Rodrigues' rotation formula**:\n",
    "\n",
    "$$\n",
    "R^k_{k+1}[\\omega^b(t), \\Delta t] \\approx I + \\sin\\theta K + (1-\\cos\\theta) K^2\n",
    "$$\n",
    "\n",
    "where $\\theta=\\|\\omega^b_k\\| \\Delta t$ is the amount of rotation over the $\\Delta t$ interval, and the $3\\times 3$ matrix $K=\\hat{\\omega}^b_k/\\|\\omega^b_k\\|$ is the screw symmetric matrix $\\hat{\\omega}^b_k$ normalized by $\\|\\omega^b_k\\|$. The approximation sign above is because this is *still* an Euler step, only exact if the time-varying angular velocity $\\omega^b(t)$ is actually constant over the interval.\n",
    "This formula is also sometimes written in terms of an exponentiation,\n",
    "\n",
    "$$\n",
    "\\exp \\{ \\hat{\\omega}^b_k \\Delta t \\} = I + \\sin\\theta K + (1-\\cos\\theta) K^2\n",
    "$$\n",
    "because Rodrigues' formula is also the expression of the *exponential map* in $SO(3)$, a concept that generalizes to other Lie groups and which we will encounter again later in this chapter.\n",
    "\n",
    "The last term in Rodrigues' formula is typically small for small sample times $\\Delta t$ because (a) $(1-\\cos\\theta)$ is small for small $\\theta$, and (b) the matrix $K^2$ contains squares of numbers smaller than 1. Hence, an often used first-order approximation for Euler's method in rotation spaces is\n",
    "\n",
    "$$\n",
    "R^k_{k+1}[\\omega^b(t), \\Delta t] \\approx I + \\sin\\theta K \\approx I + \\hat{\\omega}^b_k \\Delta t =\n",
    "\\begin{bmatrix}\n",
    "1 & -\\omega^b_{z}\\Delta t  & \\omega^b_{y}\\Delta t \\\\\n",
    "\\omega^b_{z}\\Delta t  & 1 & -\\omega^b_{x}\\Delta t \\\\\n",
    "-\\omega^b_{y}\\Delta t  & \\omega^b_{x}\\Delta t  & 1\n",
    "\\end{bmatrix}\n",
    "$$\n",
    "where we also used the small angle approximation $\\sin \\theta \\approx \\theta$.\n",
    "Note that strictly speaking this approximation (unlike Rodrigues` formula) departs the rotation manifold and we need to periodically re-normalize to ensure that $R^n_b\\in SO(3)$.\n"
   ]
  },
  {
   "cell_type": "markdown",
   "metadata": {},
   "source": [
    "## An Example in Code\n",
    "\n",
    "We demonstrate the above by forward integrating a quadrotor's position and orientation starting from a \"forward flight\" configuration at the origin, i.e., pitched forward by 10 degrees. We first specify the attitude using `Rot3.Pitch`:"
   ]
  },
  {
   "cell_type": "code",
   "execution_count": 6,
   "metadata": {},
   "outputs": [
    {
     "name": "stdout",
     "output_type": "stream",
     "text": [
      "[[ 0.98  0.    0.17]\n",
      " [ 0.    1.    0.  ]\n",
      " [-0.17  0.    0.98]]\n"
     ]
    }
   ],
   "source": [
    "nRb0 = gtsam.Rot3.Pitch(math.radians(10))\n",
    "print(np.round(nRb0.matrix(),2))"
   ]
  },
  {
   "cell_type": "markdown",
   "metadata": {},
   "source": [
    "Note that the forward X-axis (first column) is pointed slightly down, the Y-axis is level, and the Z-axis is pointed up but slightly forward. We have calculated before that the velocity at this angle is $6~m/s$, and let us also assume that the 4 rotors conspire to create a small angular velocity around the vertical body axis:"
   ]
  },
  {
   "cell_type": "code",
   "execution_count": 7,
   "metadata": {},
   "outputs": [],
   "source": [
    "vb = gtsam.Point3(6,0,0)\n",
    "wb = gtsam.Point3(0,0,math.radians(10)) # 10 degrees per second"
   ]
  },
  {
   "cell_type": "markdown",
   "metadata": {},
   "source": [
    "We can now integrate these, taking care to convert the body velocity to the navigation frame at each time step:"
   ]
  },
  {
   "cell_type": "code",
   "execution_count": 8,
   "metadata": {},
   "outputs": [],
   "source": [
    "delta_t = 1 # in seconds\n",
    "K = 10 # number of intervals to integrate\n",
    "\n",
    "# allocate storage for time series and initialize for k=0\n",
    "rn = np.zeros((3, K+1), float)\n",
    "rn[:,0] = gtsam.Point3(0,0,0)\n",
    "nRb = np.zeros((3, 3, K+1), float)\n",
    "nRb[:,:,0] = nRb0.matrix()\n",
    "\n",
    "# integrate forward\n",
    "for k in range(K):\n",
    "    vn = nRb[:,:,k] @ vb\n",
    "    vn[2] = 0 # we assume gravity is compensated for\n",
    "    rn[:,k+1] = rn[:,k] + vn * delta_t\n",
    "    delta_R = gtsam.Rot3.Expmap(wb * delta_t)\n",
    "    nRb[:,:,k+1] = nRb[:,:,k] @ delta_R.matrix()"
   ]
  },
  {
   "cell_type": "markdown",
   "metadata": {},
   "source": [
    "The plotting code is almost as verbose, and this is using the `gtbook.drone.axes` method, which hides more magic to create the axes:"
   ]
  },
  {
   "cell_type": "code",
   "execution_count": 10,
   "metadata": {},
   "outputs": [
    {
     "data": {
      "application/vnd.plotly.v1+json": {
       "config": {
        "plotlyServerURL": "https://plot.ly"
       },
       "data": [
        {
         "hovertemplate": "x=%{x}<br>y=%{y}<br>z=%{z}<extra></extra>",
         "legendgroup": "",
         "line": {
          "color": "#636efa",
          "dash": "solid"
         },
         "marker": {
          "symbol": "circle"
         },
         "mode": "lines",
         "name": "",
         "scene": "scene",
         "showlegend": false,
         "type": "scatter3d",
         "x": [
          0,
          5.908846518073248,
          11.727924380430974,
          17.280423850820913,
          22.397635042535573,
          26.924074082948508,
          30.722207412305444,
          33.67663067134207,
          35.69757520434286,
          36.72363563431987,
          36.72363563431987
         ],
         "y": [
          0,
          0,
          1.041889066001582,
          3.0940099259555938,
          6.094009925955593,
          9.950735584074827,
          14.547002242788695,
          19.743154665495325,
          25.381310390210775,
          31.290156908284022,
          37.29015690828402
         ],
         "z": [
          0,
          0,
          0,
          0,
          0,
          0,
          0,
          0,
          0,
          0,
          0
         ]
        },
        {
         "hovertemplate": "index=F<br>x=%{x}<br>y=%{y}<br>z=%{z}<extra></extra>",
         "legendgroup": "F",
         "line": {
          "color": "red",
          "dash": "solid"
         },
         "marker": {
          "symbol": "circle"
         },
         "mode": "lines",
         "name": "F",
         "scene": "scene",
         "showlegend": true,
         "type": "scatter3d",
         "x": [
          0,
          9.84807753012208
         ],
         "y": [
          0,
          0
         ],
         "z": [
          0,
          -1.7364817766693033
         ]
        },
        {
         "hovertemplate": "index=L<br>x=%{x}<br>y=%{y}<br>z=%{z}<extra></extra>",
         "legendgroup": "L",
         "line": {
          "color": "green",
          "dash": "solid"
         },
         "marker": {
          "symbol": "circle"
         },
         "mode": "lines",
         "name": "L",
         "scene": "scene",
         "showlegend": true,
         "type": "scatter3d",
         "x": [
          0,
          0
         ],
         "y": [
          0,
          10
         ],
         "z": [
          0,
          0
         ]
        },
        {
         "hovertemplate": "index=U<br>x=%{x}<br>y=%{y}<br>z=%{z}<extra></extra>",
         "legendgroup": "U",
         "line": {
          "color": "blue",
          "dash": "solid"
         },
         "marker": {
          "symbol": "circle"
         },
         "mode": "lines",
         "name": "U",
         "scene": "scene",
         "showlegend": true,
         "type": "scatter3d",
         "x": [
          0,
          1.7364817766693033
         ],
         "y": [
          0,
          0
         ],
         "z": [
          0,
          9.84807753012208
         ]
        },
        {
         "hovertemplate": "index=F<br>x=%{x}<br>y=%{y}<br>z=%{z}<extra></extra>",
         "legendgroup": "F",
         "line": {
          "color": "red",
          "dash": "solid"
         },
         "marker": {
          "symbol": "circle"
         },
         "mode": "lines",
         "name": "F",
         "scene": "scene",
         "showlegend": true,
         "type": "scatter3d",
         "x": [
          5.908846518073248,
          15.607309622002788
         ],
         "y": [
          0,
          1.7364817766693033
         ],
         "z": [
          0,
          -1.7101007166283433
         ]
        },
        {
         "hovertemplate": "index=L<br>x=%{x}<br>y=%{y}<br>z=%{z}<extra></extra>",
         "legendgroup": "L",
         "line": {
          "color": "green",
          "dash": "solid"
         },
         "marker": {
          "symbol": "circle"
         },
         "mode": "lines",
         "name": "L",
         "scene": "scene",
         "showlegend": true,
         "type": "scatter3d",
         "x": [
          5.908846518073248,
          4.198745801444905
         ],
         "y": [
          0,
          9.84807753012208
         ],
         "z": [
          0,
          0.301536896070458
         ]
        },
        {
         "hovertemplate": "index=U<br>x=%{x}<br>y=%{y}<br>z=%{z}<extra></extra>",
         "legendgroup": "U",
         "line": {
          "color": "blue",
          "dash": "solid"
         },
         "marker": {
          "symbol": "circle"
         },
         "mode": "lines",
         "name": "U",
         "scene": "scene",
         "showlegend": true,
         "type": "scatter3d",
         "x": [
          5.908846518073248,
          7.645328294742551
         ],
         "y": [
          0,
          0
         ],
         "z": [
          0,
          9.84807753012208
         ]
        },
        {
         "hovertemplate": "index=F<br>x=%{x}<br>y=%{y}<br>z=%{z}<extra></extra>",
         "legendgroup": "F",
         "line": {
          "color": "red",
          "dash": "solid"
         },
         "marker": {
          "symbol": "circle"
         },
         "mode": "lines",
         "name": "F",
         "scene": "scene",
         "showlegend": true,
         "type": "scatter3d",
         "x": [
          11.727924380430974,
          20.982090164414206
         ],
         "y": [
          1.041889066001582,
          4.462090499258268
         ],
         "z": [
          0,
          -1.6317591116653478
         ]
        },
        {
         "hovertemplate": "index=L<br>x=%{x}<br>y=%{y}<br>z=%{z}<extra></extra>",
         "legendgroup": "L",
         "line": {
          "color": "green",
          "dash": "solid"
         },
         "marker": {
          "symbol": "circle"
         },
         "mode": "lines",
         "name": "L",
         "scene": "scene",
         "showlegend": true,
         "type": "scatter3d",
         "x": [
          11.727924380430974,
          8.359683492096323
         ],
         "y": [
          1.041889066001582,
          10.438815273860666
         ],
         "z": [
          0,
          0.5939117461388469
         ]
        },
        {
         "hovertemplate": "index=U<br>x=%{x}<br>y=%{y}<br>z=%{z}<extra></extra>",
         "legendgroup": "U",
         "line": {
          "color": "blue",
          "dash": "solid"
         },
         "marker": {
          "symbol": "circle"
         },
         "mode": "lines",
         "name": "U",
         "scene": "scene",
         "showlegend": true,
         "type": "scatter3d",
         "x": [
          11.727924380430974,
          13.464406157100276
         ],
         "y": [
          1.041889066001582,
          1.041889066001582
         ],
         "z": [
          0,
          9.84807753012208
         ]
        },
        {
         "hovertemplate": "index=F<br>x=%{x}<br>y=%{y}<br>z=%{z}<extra></extra>",
         "legendgroup": "F",
         "line": {
          "color": "red",
          "dash": "solid"
         },
         "marker": {
          "symbol": "circle"
         },
         "mode": "lines",
         "name": "F",
         "scene": "scene",
         "showlegend": true,
         "type": "scatter3d",
         "x": [
          17.280423850820913,
          25.809109170345344
         ],
         "y": [
          3.0940099259555938,
          8.094009925955593
         ],
         "z": [
          0,
          -1.5038373318043523
         ]
        },
        {
         "hovertemplate": "index=L<br>x=%{x}<br>y=%{y}<br>z=%{z}<extra></extra>",
         "legendgroup": "L",
         "line": {
          "color": "green",
          "dash": "solid"
         },
         "marker": {
          "symbol": "circle"
         },
         "mode": "lines",
         "name": "L",
         "scene": "scene",
         "showlegend": true,
         "type": "scatter3d",
         "x": [
          17.280423850820913,
          12.356385085759875
         ],
         "y": [
          3.0940099259555938,
          11.754263963799978
         ],
         "z": [
          0,
          0.8682408883346515
         ]
        },
        {
         "hovertemplate": "index=U<br>x=%{x}<br>y=%{y}<br>z=%{z}<extra></extra>",
         "legendgroup": "U",
         "line": {
          "color": "blue",
          "dash": "solid"
         },
         "marker": {
          "symbol": "circle"
         },
         "mode": "lines",
         "name": "U",
         "scene": "scene",
         "showlegend": true,
         "type": "scatter3d",
         "x": [
          17.280423850820913,
          19.016905627490218
         ],
         "y": [
          3.0940099259555938,
          3.0940099259555938
         ],
         "z": [
          0,
          9.84807753012208
         ]
        },
        {
         "hovertemplate": "index=F<br>x=%{x}<br>y=%{y}<br>z=%{z}<extra></extra>",
         "legendgroup": "F",
         "line": {
          "color": "red",
          "dash": "solid"
         },
         "marker": {
          "symbol": "circle"
         },
         "mode": "lines",
         "name": "F",
         "scene": "scene",
         "showlegend": true,
         "type": "scatter3d",
         "x": [
          22.397635042535573,
          29.941700109890462
         ],
         "y": [
          6.094009925955593,
          12.521886022820985
         ],
         "z": [
          0,
          -1.3302222155948897
         ]
        },
        {
         "hovertemplate": "index=L<br>x=%{x}<br>y=%{y}<br>z=%{z}<extra></extra>",
         "legendgroup": "L",
         "line": {
          "color": "green",
          "dash": "solid"
         },
         "marker": {
          "symbol": "circle"
         },
         "mode": "lines",
         "name": "L",
         "scene": "scene",
         "showlegend": true,
         "type": "scatter3d",
         "x": [
          22.397635042535573,
          16.067412826940686
         ],
         "y": [
          6.094009925955593,
          13.754454357145374
         ],
         "z": [
          0,
          1.1161889704894963
         ]
        },
        {
         "hovertemplate": "index=U<br>x=%{x}<br>y=%{y}<br>z=%{z}<extra></extra>",
         "legendgroup": "U",
         "line": {
          "color": "blue",
          "dash": "solid"
         },
         "marker": {
          "symbol": "circle"
         },
         "mode": "lines",
         "name": "U",
         "scene": "scene",
         "showlegend": true,
         "type": "scatter3d",
         "x": [
          22.397635042535573,
          24.134116819204877
         ],
         "y": [
          6.094009925955593,
          6.094009925955593
         ],
         "z": [
          0,
          9.84807753012208
         ]
        },
        {
         "hovertemplate": "index=F<br>x=%{x}<br>y=%{y}<br>z=%{z}<extra></extra>",
         "legendgroup": "F",
         "line": {
          "color": "red",
          "dash": "solid"
         },
         "marker": {
          "symbol": "circle"
         },
         "mode": "lines",
         "name": "F",
         "scene": "scene",
         "showlegend": true,
         "type": "scatter3d",
         "x": [
          26.924074082948508,
          33.2542962985434
         ],
         "y": [
          9.950735584074827,
          17.61118001526461
         ],
         "z": [
          0,
          -1.116188970489496
         ]
        },
        {
         "hovertemplate": "index=L<br>x=%{x}<br>y=%{y}<br>z=%{z}<extra></extra>",
         "legendgroup": "L",
         "line": {
          "color": "green",
          "dash": "solid"
         },
         "marker": {
          "symbol": "circle"
         },
         "mode": "lines",
         "name": "L",
         "scene": "scene",
         "showlegend": true,
         "type": "scatter3d",
         "x": [
          26.924074082948508,
          19.38000901559362
         ],
         "y": [
          9.950735584074827,
          16.37861168094022
         ],
         "z": [
          0,
          1.3302222155948897
         ]
        },
        {
         "hovertemplate": "index=U<br>x=%{x}<br>y=%{y}<br>z=%{z}<extra></extra>",
         "legendgroup": "U",
         "line": {
          "color": "blue",
          "dash": "solid"
         },
         "marker": {
          "symbol": "circle"
         },
         "mode": "lines",
         "name": "U",
         "scene": "scene",
         "showlegend": true,
         "type": "scatter3d",
         "x": [
          26.924074082948508,
          28.660555859617812
         ],
         "y": [
          9.950735584074827,
          9.950735584074827
         ],
         "z": [
          0,
          9.84807753012208
         ]
        },
        {
         "hovertemplate": "index=F<br>x=%{x}<br>y=%{y}<br>z=%{z}<extra></extra>",
         "legendgroup": "F",
         "line": {
          "color": "red",
          "dash": "solid"
         },
         "marker": {
          "symbol": "circle"
         },
         "mode": "lines",
         "name": "F",
         "scene": "scene",
         "showlegend": true,
         "type": "scatter3d",
         "x": [
          30.722207412305444,
          35.646246177366486
         ],
         "y": [
          14.547002242788695,
          23.207256280633082
         ],
         "z": [
          0,
          -0.8682408883346514
         ]
        },
        {
         "hovertemplate": "index=L<br>x=%{x}<br>y=%{y}<br>z=%{z}<extra></extra>",
         "legendgroup": "L",
         "line": {
          "color": "green",
          "dash": "solid"
         },
         "marker": {
          "symbol": "circle"
         },
         "mode": "lines",
         "name": "L",
         "scene": "scene",
         "showlegend": true,
         "type": "scatter3d",
         "x": [
          30.722207412305444,
          22.193522092781016
         ],
         "y": [
          14.547002242788695,
          19.547002242788693
         ],
         "z": [
          0,
          1.5038373318043523
         ]
        },
        {
         "hovertemplate": "index=U<br>x=%{x}<br>y=%{y}<br>z=%{z}<extra></extra>",
         "legendgroup": "U",
         "line": {
          "color": "blue",
          "dash": "solid"
         },
         "marker": {
          "symbol": "circle"
         },
         "mode": "lines",
         "name": "U",
         "scene": "scene",
         "showlegend": true,
         "type": "scatter3d",
         "x": [
          30.722207412305444,
          32.458689188974745
         ],
         "y": [
          14.547002242788695,
          14.547002242788695
         ],
         "z": [
          0,
          9.84807753012208
         ]
        },
        {
         "hovertemplate": "index=F<br>x=%{x}<br>y=%{y}<br>z=%{z}<extra></extra>",
         "legendgroup": "F",
         "line": {
          "color": "red",
          "dash": "solid"
         },
         "marker": {
          "symbol": "circle"
         },
         "mode": "lines",
         "name": "F",
         "scene": "scene",
         "showlegend": true,
         "type": "scatter3d",
         "x": [
          33.67663067134207,
          37.04487155967672
         ],
         "y": [
          19.743154665495325,
          29.140080873354407
         ],
         "z": [
          0,
          -0.5939117461388468
         ]
        },
        {
         "hovertemplate": "index=L<br>x=%{x}<br>y=%{y}<br>z=%{z}<extra></extra>",
         "legendgroup": "L",
         "line": {
          "color": "green",
          "dash": "solid"
         },
         "marker": {
          "symbol": "circle"
         },
         "mode": "lines",
         "name": "L",
         "scene": "scene",
         "showlegend": true,
         "type": "scatter3d",
         "x": [
          33.67663067134207,
          24.422464887358835
         ],
         "y": [
          19.743154665495325,
          23.16335609875201
         ],
         "z": [
          0,
          1.6317591116653476
         ]
        },
        {
         "hovertemplate": "index=U<br>x=%{x}<br>y=%{y}<br>z=%{z}<extra></extra>",
         "legendgroup": "U",
         "line": {
          "color": "blue",
          "dash": "solid"
         },
         "marker": {
          "symbol": "circle"
         },
         "mode": "lines",
         "name": "U",
         "scene": "scene",
         "showlegend": true,
         "type": "scatter3d",
         "x": [
          33.67663067134207,
          35.41311244801137
         ],
         "y": [
          19.743154665495325,
          19.743154665495325
         ],
         "z": [
          0,
          9.84807753012208
         ]
        },
        {
         "hovertemplate": "index=F<br>x=%{x}<br>y=%{y}<br>z=%{z}<extra></extra>",
         "legendgroup": "F",
         "line": {
          "color": "red",
          "dash": "solid"
         },
         "marker": {
          "symbol": "circle"
         },
         "mode": "lines",
         "name": "F",
         "scene": "scene",
         "showlegend": true,
         "type": "scatter3d",
         "x": [
          35.69757520434286,
          37.40767592097121
         ],
         "y": [
          25.381310390210775,
          35.229387920332854
         ],
         "z": [
          0,
          -0.30153689607045797
         ]
        },
        {
         "hovertemplate": "index=L<br>x=%{x}<br>y=%{y}<br>z=%{z}<extra></extra>",
         "legendgroup": "L",
         "line": {
          "color": "green",
          "dash": "solid"
         },
         "marker": {
          "symbol": "circle"
         },
         "mode": "lines",
         "name": "L",
         "scene": "scene",
         "showlegend": true,
         "type": "scatter3d",
         "x": [
          35.69757520434286,
          25.99911210041332
         ],
         "y": [
          25.381310390210775,
          27.11779216688008
         ],
         "z": [
          0,
          1.7101007166283426
         ]
        },
        {
         "hovertemplate": "index=U<br>x=%{x}<br>y=%{y}<br>z=%{z}<extra></extra>",
         "legendgroup": "U",
         "line": {
          "color": "blue",
          "dash": "solid"
         },
         "marker": {
          "symbol": "circle"
         },
         "mode": "lines",
         "name": "U",
         "scene": "scene",
         "showlegend": true,
         "type": "scatter3d",
         "x": [
          35.69757520434286,
          37.43405698101216
         ],
         "y": [
          25.381310390210775,
          25.381310390210775
         ],
         "z": [
          0,
          9.84807753012208
         ]
        },
        {
         "hovertemplate": "index=F<br>x=%{x}<br>y=%{y}<br>z=%{z}<extra></extra>",
         "legendgroup": "F",
         "line": {
          "color": "red",
          "dash": "solid"
         },
         "marker": {
          "symbol": "circle"
         },
         "mode": "lines",
         "name": "F",
         "scene": "scene",
         "showlegend": true,
         "type": "scatter3d",
         "x": [
          36.72363563431987,
          36.72363563431987
         ],
         "y": [
          31.290156908284022,
          41.29015690828402
         ],
         "z": [
          0,
          -1.0408340855860843e-16
         ]
        },
        {
         "hovertemplate": "index=L<br>x=%{x}<br>y=%{y}<br>z=%{z}<extra></extra>",
         "legendgroup": "L",
         "line": {
          "color": "green",
          "dash": "solid"
         },
         "marker": {
          "symbol": "circle"
         },
         "mode": "lines",
         "name": "L",
         "scene": "scene",
         "showlegend": true,
         "type": "scatter3d",
         "x": [
          36.72363563431987,
          26.87555810419779
         ],
         "y": [
          31.290156908284022,
          31.290156908284022
         ],
         "z": [
          0,
          1.7364817766693026
         ]
        },
        {
         "hovertemplate": "index=U<br>x=%{x}<br>y=%{y}<br>z=%{z}<extra></extra>",
         "legendgroup": "U",
         "line": {
          "color": "blue",
          "dash": "solid"
         },
         "marker": {
          "symbol": "circle"
         },
         "mode": "lines",
         "name": "U",
         "scene": "scene",
         "showlegend": true,
         "type": "scatter3d",
         "x": [
          36.72363563431987,
          38.46011741098917
         ],
         "y": [
          31.290156908284022,
          31.290156908284022
         ],
         "z": [
          0,
          9.84807753012208
         ]
        },
        {
         "hovertemplate": "index=F<br>x=%{x}<br>y=%{y}<br>z=%{z}<extra></extra>",
         "legendgroup": "F",
         "line": {
          "color": "red",
          "dash": "solid"
         },
         "marker": {
          "symbol": "circle"
         },
         "mode": "lines",
         "name": "F",
         "scene": "scene",
         "showlegend": true,
         "type": "scatter3d",
         "x": [
          36.72363563431987,
          35.01353491769153
         ],
         "y": [
          37.29015690828402,
          47.138234438406094
         ],
         "z": [
          0,
          0.30153689607045775
         ]
        },
        {
         "hovertemplate": "index=L<br>x=%{x}<br>y=%{y}<br>z=%{z}<extra></extra>",
         "legendgroup": "L",
         "line": {
          "color": "green",
          "dash": "solid"
         },
         "marker": {
          "symbol": "circle"
         },
         "mode": "lines",
         "name": "L",
         "scene": "scene",
         "showlegend": true,
         "type": "scatter3d",
         "x": [
          36.72363563431987,
          27.02517253039033
         ],
         "y": [
          37.29015690828402,
          35.55367513161472
         ],
         "z": [
          0,
          1.7101007166283426
         ]
        },
        {
         "hovertemplate": "index=U<br>x=%{x}<br>y=%{y}<br>z=%{z}<extra></extra>",
         "legendgroup": "U",
         "line": {
          "color": "blue",
          "dash": "solid"
         },
         "marker": {
          "symbol": "circle"
         },
         "mode": "lines",
         "name": "U",
         "scene": "scene",
         "showlegend": true,
         "type": "scatter3d",
         "x": [
          36.72363563431987,
          38.46011741098917
         ],
         "y": [
          37.29015690828402,
          37.29015690828402
         ],
         "z": [
          0,
          9.84807753012208
         ]
        }
       ],
       "layout": {
        "legend": {
         "tracegroupgap": 0
        },
        "margin": {
         "b": 0,
         "l": 0,
         "r": 0,
         "t": 0
        },
        "scene": {
         "aspectmode": "data",
         "domain": {
          "x": [
           0,
           1
          ],
          "y": [
           0,
           1
          ]
         },
         "xaxis": {
          "title": {
           "text": "x"
          }
         },
         "yaxis": {
          "title": {
           "text": "y"
          }
         },
         "zaxis": {
          "title": {
           "text": "z"
          }
         }
        },
        "template": {
         "data": {
          "bar": [
           {
            "error_x": {
             "color": "#2a3f5f"
            },
            "error_y": {
             "color": "#2a3f5f"
            },
            "marker": {
             "line": {
              "color": "#E5ECF6",
              "width": 0.5
             },
             "pattern": {
              "fillmode": "overlay",
              "size": 10,
              "solidity": 0.2
             }
            },
            "type": "bar"
           }
          ],
          "barpolar": [
           {
            "marker": {
             "line": {
              "color": "#E5ECF6",
              "width": 0.5
             },
             "pattern": {
              "fillmode": "overlay",
              "size": 10,
              "solidity": 0.2
             }
            },
            "type": "barpolar"
           }
          ],
          "carpet": [
           {
            "aaxis": {
             "endlinecolor": "#2a3f5f",
             "gridcolor": "white",
             "linecolor": "white",
             "minorgridcolor": "white",
             "startlinecolor": "#2a3f5f"
            },
            "baxis": {
             "endlinecolor": "#2a3f5f",
             "gridcolor": "white",
             "linecolor": "white",
             "minorgridcolor": "white",
             "startlinecolor": "#2a3f5f"
            },
            "type": "carpet"
           }
          ],
          "choropleth": [
           {
            "colorbar": {
             "outlinewidth": 0,
             "ticks": ""
            },
            "type": "choropleth"
           }
          ],
          "contour": [
           {
            "colorbar": {
             "outlinewidth": 0,
             "ticks": ""
            },
            "colorscale": [
             [
              0,
              "#0d0887"
             ],
             [
              0.1111111111111111,
              "#46039f"
             ],
             [
              0.2222222222222222,
              "#7201a8"
             ],
             [
              0.3333333333333333,
              "#9c179e"
             ],
             [
              0.4444444444444444,
              "#bd3786"
             ],
             [
              0.5555555555555556,
              "#d8576b"
             ],
             [
              0.6666666666666666,
              "#ed7953"
             ],
             [
              0.7777777777777778,
              "#fb9f3a"
             ],
             [
              0.8888888888888888,
              "#fdca26"
             ],
             [
              1,
              "#f0f921"
             ]
            ],
            "type": "contour"
           }
          ],
          "contourcarpet": [
           {
            "colorbar": {
             "outlinewidth": 0,
             "ticks": ""
            },
            "type": "contourcarpet"
           }
          ],
          "heatmap": [
           {
            "colorbar": {
             "outlinewidth": 0,
             "ticks": ""
            },
            "colorscale": [
             [
              0,
              "#0d0887"
             ],
             [
              0.1111111111111111,
              "#46039f"
             ],
             [
              0.2222222222222222,
              "#7201a8"
             ],
             [
              0.3333333333333333,
              "#9c179e"
             ],
             [
              0.4444444444444444,
              "#bd3786"
             ],
             [
              0.5555555555555556,
              "#d8576b"
             ],
             [
              0.6666666666666666,
              "#ed7953"
             ],
             [
              0.7777777777777778,
              "#fb9f3a"
             ],
             [
              0.8888888888888888,
              "#fdca26"
             ],
             [
              1,
              "#f0f921"
             ]
            ],
            "type": "heatmap"
           }
          ],
          "heatmapgl": [
           {
            "colorbar": {
             "outlinewidth": 0,
             "ticks": ""
            },
            "colorscale": [
             [
              0,
              "#0d0887"
             ],
             [
              0.1111111111111111,
              "#46039f"
             ],
             [
              0.2222222222222222,
              "#7201a8"
             ],
             [
              0.3333333333333333,
              "#9c179e"
             ],
             [
              0.4444444444444444,
              "#bd3786"
             ],
             [
              0.5555555555555556,
              "#d8576b"
             ],
             [
              0.6666666666666666,
              "#ed7953"
             ],
             [
              0.7777777777777778,
              "#fb9f3a"
             ],
             [
              0.8888888888888888,
              "#fdca26"
             ],
             [
              1,
              "#f0f921"
             ]
            ],
            "type": "heatmapgl"
           }
          ],
          "histogram": [
           {
            "marker": {
             "pattern": {
              "fillmode": "overlay",
              "size": 10,
              "solidity": 0.2
             }
            },
            "type": "histogram"
           }
          ],
          "histogram2d": [
           {
            "colorbar": {
             "outlinewidth": 0,
             "ticks": ""
            },
            "colorscale": [
             [
              0,
              "#0d0887"
             ],
             [
              0.1111111111111111,
              "#46039f"
             ],
             [
              0.2222222222222222,
              "#7201a8"
             ],
             [
              0.3333333333333333,
              "#9c179e"
             ],
             [
              0.4444444444444444,
              "#bd3786"
             ],
             [
              0.5555555555555556,
              "#d8576b"
             ],
             [
              0.6666666666666666,
              "#ed7953"
             ],
             [
              0.7777777777777778,
              "#fb9f3a"
             ],
             [
              0.8888888888888888,
              "#fdca26"
             ],
             [
              1,
              "#f0f921"
             ]
            ],
            "type": "histogram2d"
           }
          ],
          "histogram2dcontour": [
           {
            "colorbar": {
             "outlinewidth": 0,
             "ticks": ""
            },
            "colorscale": [
             [
              0,
              "#0d0887"
             ],
             [
              0.1111111111111111,
              "#46039f"
             ],
             [
              0.2222222222222222,
              "#7201a8"
             ],
             [
              0.3333333333333333,
              "#9c179e"
             ],
             [
              0.4444444444444444,
              "#bd3786"
             ],
             [
              0.5555555555555556,
              "#d8576b"
             ],
             [
              0.6666666666666666,
              "#ed7953"
             ],
             [
              0.7777777777777778,
              "#fb9f3a"
             ],
             [
              0.8888888888888888,
              "#fdca26"
             ],
             [
              1,
              "#f0f921"
             ]
            ],
            "type": "histogram2dcontour"
           }
          ],
          "mesh3d": [
           {
            "colorbar": {
             "outlinewidth": 0,
             "ticks": ""
            },
            "type": "mesh3d"
           }
          ],
          "parcoords": [
           {
            "line": {
             "colorbar": {
              "outlinewidth": 0,
              "ticks": ""
             }
            },
            "type": "parcoords"
           }
          ],
          "pie": [
           {
            "automargin": true,
            "type": "pie"
           }
          ],
          "scatter": [
           {
            "marker": {
             "colorbar": {
              "outlinewidth": 0,
              "ticks": ""
             }
            },
            "type": "scatter"
           }
          ],
          "scatter3d": [
           {
            "line": {
             "colorbar": {
              "outlinewidth": 0,
              "ticks": ""
             }
            },
            "marker": {
             "colorbar": {
              "outlinewidth": 0,
              "ticks": ""
             }
            },
            "type": "scatter3d"
           }
          ],
          "scattercarpet": [
           {
            "marker": {
             "colorbar": {
              "outlinewidth": 0,
              "ticks": ""
             }
            },
            "type": "scattercarpet"
           }
          ],
          "scattergeo": [
           {
            "marker": {
             "colorbar": {
              "outlinewidth": 0,
              "ticks": ""
             }
            },
            "type": "scattergeo"
           }
          ],
          "scattergl": [
           {
            "marker": {
             "colorbar": {
              "outlinewidth": 0,
              "ticks": ""
             }
            },
            "type": "scattergl"
           }
          ],
          "scattermapbox": [
           {
            "marker": {
             "colorbar": {
              "outlinewidth": 0,
              "ticks": ""
             }
            },
            "type": "scattermapbox"
           }
          ],
          "scatterpolar": [
           {
            "marker": {
             "colorbar": {
              "outlinewidth": 0,
              "ticks": ""
             }
            },
            "type": "scatterpolar"
           }
          ],
          "scatterpolargl": [
           {
            "marker": {
             "colorbar": {
              "outlinewidth": 0,
              "ticks": ""
             }
            },
            "type": "scatterpolargl"
           }
          ],
          "scatterternary": [
           {
            "marker": {
             "colorbar": {
              "outlinewidth": 0,
              "ticks": ""
             }
            },
            "type": "scatterternary"
           }
          ],
          "surface": [
           {
            "colorbar": {
             "outlinewidth": 0,
             "ticks": ""
            },
            "colorscale": [
             [
              0,
              "#0d0887"
             ],
             [
              0.1111111111111111,
              "#46039f"
             ],
             [
              0.2222222222222222,
              "#7201a8"
             ],
             [
              0.3333333333333333,
              "#9c179e"
             ],
             [
              0.4444444444444444,
              "#bd3786"
             ],
             [
              0.5555555555555556,
              "#d8576b"
             ],
             [
              0.6666666666666666,
              "#ed7953"
             ],
             [
              0.7777777777777778,
              "#fb9f3a"
             ],
             [
              0.8888888888888888,
              "#fdca26"
             ],
             [
              1,
              "#f0f921"
             ]
            ],
            "type": "surface"
           }
          ],
          "table": [
           {
            "cells": {
             "fill": {
              "color": "#EBF0F8"
             },
             "line": {
              "color": "white"
             }
            },
            "header": {
             "fill": {
              "color": "#C8D4E3"
             },
             "line": {
              "color": "white"
             }
            },
            "type": "table"
           }
          ]
         },
         "layout": {
          "annotationdefaults": {
           "arrowcolor": "#2a3f5f",
           "arrowhead": 0,
           "arrowwidth": 1
          },
          "autotypenumbers": "strict",
          "coloraxis": {
           "colorbar": {
            "outlinewidth": 0,
            "ticks": ""
           }
          },
          "colorscale": {
           "diverging": [
            [
             0,
             "#8e0152"
            ],
            [
             0.1,
             "#c51b7d"
            ],
            [
             0.2,
             "#de77ae"
            ],
            [
             0.3,
             "#f1b6da"
            ],
            [
             0.4,
             "#fde0ef"
            ],
            [
             0.5,
             "#f7f7f7"
            ],
            [
             0.6,
             "#e6f5d0"
            ],
            [
             0.7,
             "#b8e186"
            ],
            [
             0.8,
             "#7fbc41"
            ],
            [
             0.9,
             "#4d9221"
            ],
            [
             1,
             "#276419"
            ]
           ],
           "sequential": [
            [
             0,
             "#0d0887"
            ],
            [
             0.1111111111111111,
             "#46039f"
            ],
            [
             0.2222222222222222,
             "#7201a8"
            ],
            [
             0.3333333333333333,
             "#9c179e"
            ],
            [
             0.4444444444444444,
             "#bd3786"
            ],
            [
             0.5555555555555556,
             "#d8576b"
            ],
            [
             0.6666666666666666,
             "#ed7953"
            ],
            [
             0.7777777777777778,
             "#fb9f3a"
            ],
            [
             0.8888888888888888,
             "#fdca26"
            ],
            [
             1,
             "#f0f921"
            ]
           ],
           "sequentialminus": [
            [
             0,
             "#0d0887"
            ],
            [
             0.1111111111111111,
             "#46039f"
            ],
            [
             0.2222222222222222,
             "#7201a8"
            ],
            [
             0.3333333333333333,
             "#9c179e"
            ],
            [
             0.4444444444444444,
             "#bd3786"
            ],
            [
             0.5555555555555556,
             "#d8576b"
            ],
            [
             0.6666666666666666,
             "#ed7953"
            ],
            [
             0.7777777777777778,
             "#fb9f3a"
            ],
            [
             0.8888888888888888,
             "#fdca26"
            ],
            [
             1,
             "#f0f921"
            ]
           ]
          },
          "colorway": [
           "#636efa",
           "#EF553B",
           "#00cc96",
           "#ab63fa",
           "#FFA15A",
           "#19d3f3",
           "#FF6692",
           "#B6E880",
           "#FF97FF",
           "#FECB52"
          ],
          "font": {
           "color": "#2a3f5f"
          },
          "geo": {
           "bgcolor": "white",
           "lakecolor": "white",
           "landcolor": "#E5ECF6",
           "showlakes": true,
           "showland": true,
           "subunitcolor": "white"
          },
          "hoverlabel": {
           "align": "left"
          },
          "hovermode": "closest",
          "mapbox": {
           "style": "light"
          },
          "paper_bgcolor": "white",
          "plot_bgcolor": "#E5ECF6",
          "polar": {
           "angularaxis": {
            "gridcolor": "white",
            "linecolor": "white",
            "ticks": ""
           },
           "bgcolor": "#E5ECF6",
           "radialaxis": {
            "gridcolor": "white",
            "linecolor": "white",
            "ticks": ""
           }
          },
          "scene": {
           "xaxis": {
            "backgroundcolor": "#E5ECF6",
            "gridcolor": "white",
            "gridwidth": 2,
            "linecolor": "white",
            "showbackground": true,
            "ticks": "",
            "zerolinecolor": "white"
           },
           "yaxis": {
            "backgroundcolor": "#E5ECF6",
            "gridcolor": "white",
            "gridwidth": 2,
            "linecolor": "white",
            "showbackground": true,
            "ticks": "",
            "zerolinecolor": "white"
           },
           "zaxis": {
            "backgroundcolor": "#E5ECF6",
            "gridcolor": "white",
            "gridwidth": 2,
            "linecolor": "white",
            "showbackground": true,
            "ticks": "",
            "zerolinecolor": "white"
           }
          },
          "shapedefaults": {
           "line": {
            "color": "#2a3f5f"
           }
          },
          "ternary": {
           "aaxis": {
            "gridcolor": "white",
            "linecolor": "white",
            "ticks": ""
           },
           "baxis": {
            "gridcolor": "white",
            "linecolor": "white",
            "ticks": ""
           },
           "bgcolor": "#E5ECF6",
           "caxis": {
            "gridcolor": "white",
            "linecolor": "white",
            "ticks": ""
           }
          },
          "title": {
           "x": 0.05
          },
          "xaxis": {
           "automargin": true,
           "gridcolor": "white",
           "linecolor": "white",
           "ticks": "",
           "title": {
            "standoff": 15
           },
           "zerolinecolor": "white",
           "zerolinewidth": 2
          },
          "yaxis": {
           "automargin": true,
           "gridcolor": "white",
           "linecolor": "white",
           "ticks": "",
           "title": {
            "standoff": 15
           },
           "zerolinecolor": "white",
           "zerolinewidth": 2
          }
         }
        }
       }
      }
     },
     "metadata": {},
     "output_type": "display_data"
    }
   ],
   "source": [
    "fig = px.line_3d(x=rn[0], y=rn[1], z=rn[2])\n",
    "scale, labels = 10, [\"F\", \"L\", \"U\"]\n",
    "for k in range(K+1):\n",
    "    nTb = gtsam.Pose3(gtsam.Rot3(nRb[:,:,k]), rn[:,k]);\n",
    "    fig.add_traces(axes(nTb, scale, labels))\n",
    "fig.update_layout(margin=dict(l=0, r=0, t=0, b=0))\n",
    "fig.update_layout(scene_aspectmode='data')\n",
    "fig.show()"
   ]
  },
  {
   "cell_type": "markdown",
   "metadata": {},
   "source": [
    "You can see that the drone takes off in the positive X-direction, which is East in the ENU convention, and then gradually turns towards the North.\n",
    "\n",
    "**Exercises**\n",
    "\n",
    "- Change the initial forward orientation to be the *northern* direction.\n",
    "- Change the direction of the turn to the other side.\n",
    "- Change the code to use different values for $\\Delta t$ and observe the results."
   ]
  },
  {
   "cell_type": "markdown",
   "metadata": {},
   "source": [
    "## Full Rigid-Body Dynamics*\n",
    "\n",
    "> Not hard to write down, but harder to understand.\n",
    "\n",
    "Ultimately we need to move a quadrotor to provide forces by the four rotors, which will produce a force and a moment on the quadrotor body. These in turn will generate linear and angular accelerations, through the quadrotor **dynamics**.\n",
    "\n",
    "To start, everyone knows the famous Newton's law:\n",
    "\n",
    "$$\n",
    "F^n = m \\dot{v}^n\n",
    "$$\n",
    "\n",
    "where the **mass** m is a scalar *resisting* motion: the higher the mass, the higher the force needed to produce an acceleration in any dimension. Note that we could consider $m$ to be a diagonal matrix with the mass on the diagonal: acceleration is resisted the same way in all three axes, in whatever coordinate frame we choose.\n",
    "\n",
    "The same is (approximately) true for rotational motion\n",
    "\n",
    "$$\n",
    "\\tau^b \\approx I \\dot{\\omega}^b\n",
    "$$\n",
    "\n",
    "where the approximation is good for small angular velocities $\\omega^b$. \n",
    "The inertial matrix $I$ is typically a diagonal matrix with \"small-small-big\" diagonal elements in the FLU body coordinate frame, as the motor masses are further away from the Z-axis than from the X and Y axes, and hence resist acceleration around the Z-axis more.\n",
    "\n",
    "One last step is still missing, which is how to translate from forces at the rotors to a force and moment on the *body*. In the body coordinate frame, the force equation is easy:\n",
    "\n",
    "$$\n",
    "F^b_z = \\sum_i f_i.\n",
    "$$\n",
    "\n",
    "Above the forces $f_i$ at the rotors are all oriented along the body Z-coordinate axis (up!) and hence when we sum them we get a single force component $F^b_z$ along the body Z-axis.\n",
    "\n",
    "The torque $\\tau^b$ in the body frame is a bit more involved, and is a function of the force vector $f$ as well as the vector $\\tau$, specifying the (small) torques generated around each rotor axis. The exact formula depends on the geometry of the rotors. For example, for a 4-motor “X” configuration with motor 1 forward left and numbered clockwise, we obtain\n",
    "\n",
    "$$\n",
    "\\tau^b = \\begin{bmatrix}\n",
    "(f_{1}-f_{2}-f_{3}+f_{4})l\\\\\n",
    "(f_{1}+f_{2}-f_{3}-f_{4})l\\\\\n",
    "\\sum_i\\tau_{i}\n",
    "\\end{bmatrix}\n",
    "$$\n",
    "\n",
    "where $l$ is the distance from the rotors to the center of mass.\n",
    "From this equation you can see that a quadrotor is like a differential drive robot but with *two* differential axes. Controlling it is easy in principle: *tilt, then move*. A part of $F^b_z$ will be used to keep the quadrotor flying, the other part will be used to overcome drag."
   ]
  },
  {
   "cell_type": "markdown",
   "metadata": {},
   "source": [
    "## Gyroscopic effects*\n",
    "\n",
    "> Dotting the I's.\n",
    "\n",
    "If a quadrotor undergoes large angular velocities, we cannot ignore gyroscopic effects and we have to modify the moment dynamics equation above to\n",
    "\n",
    "$$\n",
    "\\tau = I \\dot{\\omega}^b - \\omega^b \\times I \\omega^b,\n",
    "$$\n",
    "\n",
    "where $\\times$ is the cross-product. The second term is a set of quadratic components in the angular velocity $\\omega^b$ and that is why for small angular velocities they can be ignored. In fact, in many cases the orientation of a quadrotor is *actively controlled* to stay constant during hovering or in fast forward flight, and it is only in complicated maneuvers that large angular velocities occur."
   ]
  },
  {
   "cell_type": "markdown",
   "metadata": {},
   "source": []
  }
 ],
 "metadata": {
  "colab": {
   "collapsed_sections": [],
   "include_colab_link": true,
   "name": "S72_drone_actions.ipynb",
   "provenance": []
  },
  "interpreter": {
   "hash": "c6e4e9f98eb68ad3b7c296f83d20e6de614cb42e90992a65aa266555a3137d0d"
  },
  "kernelspec": {
   "display_name": "Python 3.9.6 64-bit ('base': conda)",
   "name": "python3"
  },
  "language_info": {
   "codemirror_mode": {
    "name": "ipython",
    "version": 3
   },
   "file_extension": ".py",
   "mimetype": "text/x-python",
   "name": "python",
   "nbconvert_exporter": "python",
   "pygments_lexer": "ipython3",
   "version": "3.8.12"
  },
  "latex_metadata": {
   "affiliation": "Georgia Institute of Technology",
   "author": "Frank Dellaert and Seth Hutchinson",
   "title": "Introduction to Robotics"
  }
 },
 "nbformat": 4,
 "nbformat_minor": 2
}
