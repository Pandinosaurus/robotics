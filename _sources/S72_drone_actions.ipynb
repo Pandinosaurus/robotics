{
 "cells": [
  {
   "cell_type": "markdown",
   "metadata": {
    "colab_type": "text",
    "id": "view-in-github"
   },
   "source": [
    "<a href=\"https://colab.research.google.com/github/gtbook/robotics/blob/main/S72_drone_actions.ipynb\" target=\"_parent\"><img src=\"https://colab.research.google.com/assets/colab-badge.svg\" alt=\"Open In Colab\"/></a>"
   ]
  },
  {
   "cell_type": "code",
   "execution_count": 1,
   "metadata": {
    "id": "JoW4C_OkOMhe",
    "tags": [
     "remove-cell"
    ]
   },
   "outputs": [],
   "source": [
    "%pip install -q -U gtbook"
   ]
  },
  {
   "cell_type": "code",
   "execution_count": 3,
   "metadata": {
    "id": "10-snNDwOSuC",
    "tags": [
     "remove-cell"
    ]
   },
   "outputs": [],
   "source": [
    "import math\n",
    "import plotly.express as px\n",
    "try:\n",
    "    import google.colab\n",
    "except:\n",
    "    import plotly.io as pio\n",
    "    pio.renderers.default = \"png\""
   ]
  },
  {
   "cell_type": "markdown",
   "metadata": {
    "id": "nAvx4-UCNzt2"
   },
   "source": [
    "# Multi-rotor Aircraft\n",
    "\n",
    "> An amazing way to fly in 3D.\n",
    "\n",
    "**This Section is still in draft mode and was released for adventurous spirits (and TAs) only.**"
   ]
  },
  {
   "cell_type": "code",
   "execution_count": 1,
   "metadata": {
    "tags": [
     "remove-input"
    ]
   },
   "outputs": [
    {
     "data": {
      "text/html": [
       "\n",
       "        <div align='center'>\n",
       "        <img src='https://github.com/gtbook/robotics/blob/main/Art/steampunk/S72-Autonomous%20camera%20drone-02.jpg?raw=1' style='height:256 width:100%'/>\n",
       "        </div>\n",
       "        "
      ],
      "text/plain": [
       "<IPython.core.display.HTML object>"
      ]
     },
     "metadata": {},
     "output_type": "display_data"
    }
   ],
   "source": [
    "from gtbook.display import randomImages\n",
    "from IPython.display import display\n",
    "display(randomImages(7, 2, \"steampunk\", 1))"
   ]
  },
  {
   "cell_type": "markdown",
   "metadata": {},
   "source": [
    "The kinematics of quadrotors and multicopters are those of simple rigid 3D bodies. Many different coordinate frame conventions are used in the literature. I introduce one good choice below, and convert equations from the literature to this convention where needed.\n",
    "\n",
    "The kinematics equations are most useful for navigation and control when expressed in the navigation frame $\\mathcal{N}$, which for MAV applications is almost universally assumed to be non-rotating and aligned with gravity, but can otherwise be defined arbitrarily, e.g., **East-North-Up (ENU)**. The origin of the navigation frame is often chosen as the take-off point, but does not have to be.\n",
    "\n",
    "We also define a body frame $\\mathcal{B}$ as having its origin at the center of mass of the vehicle. Following convention in aerospace applications, we fix the the x-axis as pointing to the front of the vehicle (not always the direction of travel), the y-axis as pointing to the left, and the z-axis pointing up, the sol-called **FLU convention**. \n",
    "\n",
    "We then define, respectively,\n",
    "\n",
    "• the vehicle's position $r^{n}\\doteq[x,y,z]^{T}$,\n",
    "\n",
    "• its linear velocity $v^n=\\dot{r^{n}}\\doteq[u,v,w]^{T}$,\n",
    "\n",
    "• the attitude $R^n_b\\doteq[i^b,j^b,k^b]\\in SO(3)$, a $3\\times 3$ rotation matrix from $\\mathcal{B}$ to $\\mathcal{N}$,\n",
    "\n",
    "• the body angular velocity $\\omega^b\\doteq[p,q,r]^{T}$.\n",
    "\n",
    "Above the superscript $n$ and $b$ denote quantities expressed in the *navigation* and *body* frame, respectively. "
   ]
  },
  {
   "cell_type": "markdown",
   "metadata": {},
   "source": [
    "## Drone Dynamics\n",
    "\n",
    "Let us take the [Skydio 2+](https://www.skydio.com/skydio-2-plus) as a prototypical and relevant example. Its mass, with battery, is 800g, but let's just say $1kg$ to make the calculations easier. Its dimensions are $229mm x 274mm$, but let's assume the motors are at $(+/- 0.10m, +/- 0.10m)$, which is not too far off."
   ]
  },
  {
   "cell_type": "markdown",
   "metadata": {},
   "source": [
    "## Hover\n",
    "To hover, assuming $g=10m/s^2$, the four rotors have to provide a thrust of 10N upwards to compensate for gravity, i.e., 2.5N per motor. Of course, we need to be able to accelerate upwards, so let's assume each motor can provide up to double that, i.e., 0 to 5N. So, while the drone is level, here are some sample accelerations we can deliver:\n",
    "\n",
    "- $f_i=0N$ for $i\\in{1..4}$: downwards acceleration at $-10\\frac{m}{s^2}$.\n",
    "- $f_i=2.5N$ for $i\\in{1..4}$: stable hover $0\\frac{m}{s^2}$.\n",
    "- $f_i=5N$ for $i\\in{1..4}$: upwards acceleration at $10\\frac{m}{s^2}$.\n",
    "\n",
    "In general, the force $F^b_z$ aligned with the body Z-axis will be  \n",
    "\n",
    "$$\n",
    "F^b_z = \\sum_{i=1}^4 f_i\n",
    "$$"
   ]
  },
  {
   "cell_type": "markdown",
   "metadata": {},
   "source": [
    "## Forward Flight\n",
    "\n",
    "Of course, when we *tilt* the quadrotor forwards, we will direct some of that thrust towards generating horizontal acceleration. To get a handle on this, we need to calculate the thrust in the *navigation* frame, but this is just a matter of multiplying with the rotation matrix $R^n_b$:\n",
    "\n",
    "$$\n",
    "F^n = R^n_b \\begin{bmatrix}0 \\\\ 0 \\\\ F^b_z\\end{bmatrix} = \\hat{z}^n_b F^b_z\n",
    "$$\n",
    "\n",
    "where $\\hat{z}^n_b$ is the third column of $R^n_b$, i.e., this is simply the Z-axis $\\hat{z}$ of the body frame, expressed in the navigation frame. *In other words, the thrust in the navigation frame is always aligned with the body's Z-axis, and hence by rotating the quadrotor appropriately we can any thrust direction we desire*.\n",
    "\n",
    "Let us assume that the FLU body frame is currently oriented along the Y-axis of the ENU navigation frame, i.e., we are flying NORTH, then if we tilt forward with an angle of $\\theta$ with respect to vertical, we obtain \n",
    "\n",
    "$$\n",
    "F^n = \\begin{bmatrix}0 \\\\ \\sin \\theta \\\\ \\cos \\theta\\end{bmatrix} F^b_z\n",
    "$$\n",
    "\n",
    "and hence if we want to maintain level flight, we need to keep compensating for gravity by maintaining\n",
    "\n",
    "$$\n",
    "\\cos \\theta F^b_z = 10N.\n",
    "$$\n",
    "\n",
    "That in turn means that the forward trust (along the navigation Y-axis) will be\n",
    "\n",
    "$$\n",
    "F^n_y = \\sin \\theta F^b_z = \\sin \\theta \\frac{10N}{\\cos \\theta} = \\tan \\theta \\cdot 10N \n",
    "$$\n"
   ]
  },
  {
   "cell_type": "markdown",
   "metadata": {},
   "source": [
    "## Maximum Tilt and Thrust\n",
    "\n",
    "We are also constrained, however, by the maximum thrust $F^b_z$ we can deliver, which is 20N. Hence,\n",
    "\n",
    "$$\n",
    "F^b_z = \\frac{10N}{\\cos \\theta} \\leq 20N \\rightarrow \\cos \\theta \\geq 0.5 \\rightarrow -60^\\circ \\leq \\theta \\leq 60^\\circ,\n",
    "$$\n",
    "\n",
    "the maximum tilt angle is 60 degrees. At that maximum tilt angle, we have\n",
    "\n",
    "$$\n",
    "F^n_y = \\tan \\theta_{\\max} \\cdot 10N \\approx 17N \n",
    "$$\n",
    "\n",
    "So, we are limited to $17N$ of forward thrust, and this when tilt very aggressively at 60 degrees. If we tilt more, we can improve thrust even more (up to 20N) but the drone will start falling out of the sky. "
   ]
  },
  {
   "cell_type": "markdown",
   "metadata": {},
   "source": [
    "## Drag and Maximum Velocity\n",
    "\n",
    "Importantly, constant forward thrust does *not* mean that the drone will continue accelerating, because of *drag*. In fact, from the spec-sheet of the Skydio-2 we see that the top speed (in autonomous mode) is 36Mph, which is about $16m/s$, and the theoretical top speed is probably more like $20m/s$. Since drag increases *quadratically* with velocity, we can calculate the corresponding drag coefficient as the drag force has to exactly balance the maximum forward thrust at the top speed:\n",
    "\n",
    "$$\n",
    "17N = k_d v_{top}^2 = k_d 20^2 m^2/s^2 \\rightarrow k_d = 0.0425\n",
    "$$\n",
    "\n",
    "Now that we have the drag coefficient $k_d$, we can calculate a simple mapping from tilt angle $\\theta$ to forward velocity. Indeed, given tilt $\\theta$, can calculate the forward thrust $F^n_y$ in the navigation frame, and the velocity can be calculate equating that to the drag force $k^d v^2$:\n",
    "\n",
    "$$\n",
    "F^n_y = \\tan \\theta \\cdot 10N = k_d v^2 \\rightarrow v = \\sqrt{\\frac{\\tan \\theta \\cdot 10}{k_d}} = \\sqrt{\\frac{10}{k_d}} \\sqrt{\\tan \\theta} \\approx 15 \\sqrt{\\tan \\theta}\n",
    "$$"
   ]
  },
  {
   "cell_type": "code",
   "execution_count": 4,
   "metadata": {},
   "outputs": [
    {
     "name": "stdout",
     "output_type": "stream",
     "text": [
      "v(0) ~ 0 m/s\n",
      "v(1) ~ 2 m/s\n",
      "v(5) ~ 4 m/s\n",
      "v(10) ~ 6 m/s\n",
      "v(15) ~ 8 m/s\n",
      "v(20) ~ 9 m/s\n",
      "v(30) ~ 11 m/s\n",
      "v(40) ~ 14 m/s\n",
      "v(50) ~ 16 m/s\n"
     ]
    }
   ],
   "source": [
    "vmap = {}\n",
    "for theta in [0,1,5,10,15,20,30,40,50]:\n",
    "  vmap[theta] = 15 * math.sqrt(math.tan(math.radians(theta)))\n",
    "  print(f\"v({theta}) ~ {round(vmap[theta])} m/s\")"
   ]
  },
  {
   "cell_type": "code",
   "execution_count": 5,
   "metadata": {},
   "outputs": [
    {
     "data": {
      "image/png": "[encoded data removed]"
     },
     "metadata": {},
     "output_type": "display_data"
    }
   ],
   "source": [
    "px.line(x=list(vmap.keys()), y= list(vmap.values()))"
   ]
  },
  {
   "cell_type": "markdown",
   "metadata": {},
   "source": [
    "## Control\n",
    "\n",
    "The rotational dynamics are an order of magnitude faster, so one control strategy is to assume that you have almost complete control over the orientation, with a very fast response.\n",
    "\n",
    "Finally, we have complete freedom over horizontal direction, and the drone does not *have* to maintain hover: we can move up and down at the same time that we are moving horizontally. In that case we have to calculate the constant horizontal and vertical velocity separately."
   ]
  },
  {
   "cell_type": "markdown",
   "metadata": {},
   "source": [
    "## Full Rigid-Body Kinematics*\n",
    "\n",
    "Below I develop all attitude kinematics and dynamics directly on $SO(3)$, following Murray et al. (1994).\n",
    "In particular, the vehicle's kinematics are given by \n",
    "\n",
    "$$\n",
    "\\begin{align}\n",
    "\\dot{r}^{n}\t&= v^n \\\\\n",
    "\\dot{R}^n_b\t&= R^n_b\\hat{\\omega}^b\n",
    "\\end{align}\n",
    "$$\n",
    "\n",
    "where the $3\\times 3$ skew-symmetric matrix $\\hat{\\omega}^b\\doteq (R^n_b)^{T}\\dot{R}^n_b$ is obtained from the 3-vector $\\omega^b$ as the as follows:\n",
    "\n",
    "$$\n",
    "\\hat{\\omega}^b\\doteq\\begin{bmatrix}\n",
    " & -\\omega^b_{z} & \\omega^b_{y}\\\\\n",
    "\\omega^b_{z} &  & -\\omega^b_{x}\\\\\n",
    "-\\omega^b_{y} & \\omega^b_{x}\n",
    "\\end{bmatrix}.\n",
    "$$\n",
    "\n",
    "Note $\\hat{\\omega}^b\\in so(3)$, the Lie algebra associated with the 3D rotation group $SO(3)$. \n",
    "Also, the kinematics can also expressed using the spatial angular velocity $\\omega^n\\doteq R^n_b\\omega^b$, as follows\n",
    "\n",
    "$$\n",
    "\\dot{R}^n_b\t= \\hat{\\omega}^n R^n_b\n",
    "$$\n",
    "\n",
    "However, it is much easier to visualize and calculate the angular velocity in the body frame (see Section [sec:Dynamics])."
   ]
  },
  {
   "cell_type": "markdown",
   "metadata": {},
   "source": [
    "## Simulation aka Forward Integrating*\n",
    "\n",
    "If time histories $v^n(t)$ and $\\omega^b(t)$ for the linear and angular velocities are available, the vehicle's position $r^{n}(t)$ and attitude $R^n_b(t)$ can be integrated by Equations \n",
    "\n",
    "The translation can easily be done using any integration scheme. The attitude part can be done in discrete time by\n",
    "\n",
    "$$\n",
    "R^n_{b,k+1}\\approx R^n_{b,k}e^{h\\hat{\\omega}^b}\n",
    "$$\n",
    "\n",
    "where h is the sample time and $\\exp\\left(h\\hat{\\omega}^b\\right)$ is the *exponential map* from $so(3)$ to $SO(3)$. This assumes $\\omega^b$ is constant over the sample period, and hence this is equivalent to Euler's method for forward integration. \n",
    "Since $\\exp\\left(h\\hat{\\omega}^b\\right)\\approx I+h\\hat{\\omega}^b$ for small $h$, we can also approximate Equation [eq:Euler-1] by \n",
    "\n",
    "$$\n",
    "\\begin{align}\n",
    "R^n_{b,k+1}\n",
    "&\\approx R^n_{b,k} (I+h\\hat{\\omega}^b) \n",
    "& = R^n_{b,k}\n",
    "\\begin{bmatrix}\n",
    "1 & -h\\omega^b_{z} & h\\omega^b_{y}\\\\\n",
    "h\\omega^b_{z} & 1 & -h\\omega^b_{x}\\\\\n",
    "-h\\omega^b_{y} & h\\omega^b_{x} & 1\n",
    "\\end{bmatrix}\n",
    "\\end{align}\n",
    "$$\n",
    "\n",
    "but this will require re-normalizing to ensure that $R^n_{b,k+1}\\in SO(3)$. "
   ]
  },
  {
   "cell_type": "markdown",
   "metadata": {},
   "source": [
    "## Full Rigid-Body Dynamics*\n",
    "\n",
    "> Not hard to write down, but harder to understand.\n",
    "\n",
    "Ultimately we need to move a quadrotor to provide forces by the for rotors, which will produce a force and a moment on the quadrotor body. These in turn will generate linear and angular accelerations, through the quadrotor **dynamics**.\n",
    "\n",
    "To start, everyone knows the famous Newton's law:\n",
    "\n",
    "$$\n",
    "F^n = m \\dot{v}^n\n",
    "$$\n",
    "\n",
    "where the **mass** m is a scalar *resisting* motion: the higher the mass, the higher the force needed to produce an acceleration in any dimension. Note that we could consider $m$ to be a diagonal matrix with the mass on the diagonal: acceleration is resisted the same way in all three axes, in whatever coordinate frame we choose.\n",
    "\n",
    "The same is true for rotational motion\n",
    "\n",
    "$$\n",
    "\\tau^b = I \\dot{\\omega}^b\n",
    "$$\n",
    "\n",
    "The inertial matrix $I$ is typically \"small-small-big\" in FLU body coordinate frame.\n",
    "\n",
    "One last step is still missing, which is how to translate from forces at the rotors to a force and moment on the *body*. In the body coordinate frame, the force equation is easy:\n",
    "\n",
    "$$\n",
    "F^b_z = \\sum_i f_i.\n",
    "$$\n",
    "\n",
    "Above the forces $f_i$ at the rotors are all oriented along the body Z-coordinate axis (up!) and hence when we sum them we get a single force component $F^b_z$ along the body Z-axis.\n",
    "\n",
    "$$\n",
    "\\tau^b = M f\n",
    "$$\n",
    "\n",
    "Tilting is like a differential drive robot. Controlling a quadrotor is easy in principle: *tilt, then move*. part of F will be used to keep the quadrotor flying, the other part will be used to overcome drag."
   ]
  },
  {
   "cell_type": "markdown",
   "metadata": {},
   "source": [
    "## Gyroscopic effects*\n",
    "\n",
    "> Dotting the I's.\n",
    "\n",
    "If a quadrotor undergoes large angular velocities, we cannot ignore gyroscopic affects and we have to modify the moment dynamics equation above slightly:\n",
    "\n",
    "$$\n",
    "\\tau = I \\dot{\\omega} - \\omega^b \\times I \\omega^b\n",
    "$$\n",
    "\n",
    "where $\\times$ is the cross-product. The second term is a set of quadratic components in the angular velocity $\\omega_b$ and that is why for small angular velocities they can be ignored. In fact, in many cases the orientation of a crocodile call Reiter stays constant underwear hovering over in fast forward flight, and it is only in complicated maneuvers that we are rapidly changing orientation."
   ]
  },
  {
   "cell_type": "markdown",
   "metadata": {},
   "source": []
  }
 ],
 "metadata": {
  "colab": {
   "collapsed_sections": [],
   "include_colab_link": true,
   "name": "S72_drone_actions.ipynb",
   "provenance": []
  },
  "interpreter": {
   "hash": "c6e4e9f98eb68ad3b7c296f83d20e6de614cb42e90992a65aa266555a3137d0d"
  },
  "kernelspec": {
   "display_name": "Python 3.9.6 64-bit ('base': conda)",
   "name": "python3"
  },
  "language_info": {
   "codemirror_mode": {
    "name": "ipython",
    "version": 3
   },
   "file_extension": ".py",
   "mimetype": "text/x-python",
   "name": "python",
   "nbconvert_exporter": "python",
   "pygments_lexer": "ipython3",
   "version": "3.8.12"
  },
  "latex_metadata": {
   "affiliation": "Georgia Institute of Technology",
   "author": "Frank Dellaert and Seth Hutchinson",
   "title": "Introduction to Robotics"
  }
 },
 "nbformat": 4,
 "nbformat_minor": 2
}
