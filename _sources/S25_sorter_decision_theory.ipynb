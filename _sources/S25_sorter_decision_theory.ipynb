{
  "cells": [
    {
      "cell_type": "markdown",
      "metadata": {
        "colab_type": "text",
        "id": "view-in-github"
      },
      "source": [
        "<a href=\"https://colab.research.google.com/github/gtbook/robotics/blob/main/S25_sorter_decision_theory.ipynb\" target=\"_parent\"><img src=\"https://colab.research.google.com/assets/colab-badge.svg\" alt=\"Open In Colab\"/></a>"
      ]
    },
    {
      "cell_type": "code",
      "execution_count": 1,
      "metadata": {
        "colab": {
          "base_uri": "https://localhost:8080/"
        },
        "id": "w-CIikP0ZZnm",
        "outputId": "1eb10a06-4b94-420b-edd9-1620b93cefdd"
      },
      "outputs": [
        {
          "name": "stdout",
          "output_type": "stream",
          "text": [
            "Note: you may need to restart the kernel to use updated packages.\n"
          ]
        }
      ],
      "source": [
        "%pip install -q -U gtbook"
      ]
    },
    {
      "cell_type": "code",
      "execution_count": 2,
      "metadata": {
        "id": "uef6Kglzcrha"
      },
      "outputs": [],
      "source": [
        "from gtbook.discrete import Variables\n",
        "import numpy as np\n",
        "import pandas as pd\n",
        "import gtsam\n",
        "import plotly.express as px\n",
        "try:\n",
        "    import google.colab\n",
        "except:\n",
        "    import plotly.io as pio\n",
        "    pio.renderers.default = \"png\"\n"
      ]
    },
    {
      "cell_type": "markdown",
      "metadata": {},
      "source": [
        "# Decision Theory\n",
        "> TODO(tweet)\n"
      ]
    },
    {
      "cell_type": "markdown",
      "metadata": {
        "id": "ul23OZt2WV5m"
      },
      "source": [
        "Planning is super simple in this problem.  At each time instant, we make a decision about what to do, and do it.\n",
        "There's no coupling between actions, no dependence on the current action for ensuring success at future stages.\n",
        "Thus, planning reduces to nothing more than simple decision making: at this moment, based on the best information\n",
        "I have, what single action should I execute. And then repeat this each time a new item of trash arrives.\n",
        "\n",
        "\n",
        "## Evaluating the Cost of Applying an Action\n",
        "\n",
        "> When the world is uncertain, choosing actions is a game of chance. Probability provides some useful tools. The concept of *Expectation* is key.\n",
        "\n",
        "Uncertainty can arise from many sources.\n",
        "For the moment, consider the extreme case in which our trash sorting robot is not equipped with any sensing capabilities.\n",
        "How can this robot make a decision about how to act in the world? \n",
        "Without sensing, the best information that is available is the prior knowledge the robot has about the world.\n",
        "In our case, this knowledge is encoded as the prior proability $P(C)$ over the categories of trash. \n",
        "Looking back at the table of priors in the previous sections, we see that paper occurs about 30% of the time\n",
        "and that cardboard occurs about 20% of the time, meaning that the paper bin is the appropriate destination\n",
        "about 50% of the time.\n",
        "We could adopt a simple decision rule for selecting actions:\n",
        "*Choose the action that maximizes the prior probability of making the right choice.*\n",
        "This would result in the robot always putting trash in the paper bin.\n",
        "If we do this, we expect that the robot will do the right thing around 50% of the time. This isn't great, but it's better than any other action, given the typical distribution of categories of trash.\n",
        "This approach, however, takes no account of the cost of wrong actions, which can result in significant problems.\n",
        "\n",
        "One way to account for the costs of actions would be to apply an action that minimizes the worst-case cost.\n",
        "This provides a quantitative upper bound on how badly things could go.\n",
        "We can express this formally as\n",
        "$$a^* = \\arg \\min_{a_i} \\max_{c \\in \\Omega} \\mathrm{cost}(a_i,c).$$\n",
        "From the table above, we see that this approach leads\n",
        "to always executing the *nop* action, since the worst-case cost for this action is 1,\n",
        "while the worst-case costs for the other three actions are 6, 2, and 10.\n",
        "This approach, however, makes no sense at all. It merely reduces our trash sorting\n",
        "system to a conveyor belt that allows all items of trash to pass through, unsorted.\n",
        "\n",
        "What is the right way to approach this problem? The ideal decision would always minimize the cost of exectuting the action, but because our knowledge of the world is uncertain (captured in the prior probability distribution),\n",
        "it is impossible to know which action this would be. \n",
        "In such cases, the concept of $expectation$ from probability theory provides a principled way to reason about decisions.\n",
        "\n",
        "The idea of expected cost is this: If we were to perform the action many times, what do we expect would be the average cost over those many actions.\n",
        "Let us denote the cost of applying action $a$ to trash category $c$ by $cost(a,c)$. The expected value for the cost of applying action $a$\n",
        "is merely the weighted average of the costs $cost(a,c)$, where the weights are exactly the prior probabilities assigned to the categories, $c$:\n",
        "\n",
        "$$E[ cost(a, C) ] = \\sum_{c \\in \\Omega} cost(a,c) P(c) $$\n",
        "\n",
        "\n",
        "In the equation above for expectation, the notation $E [ cost(a, C) ]$ denotes the expected cost for exectuing the action $a$ with the expectation being taken with respect to the randomly occuring trash category.\n",
        "We use upper case $C$ to indicate that the category is a random quantity, and that the expectation\n",
        "should be computed with respect to the probability distribution on categories\n",
        "(i.e., the priors given in the previous section).\n",
        "\n",
        "\n",
        "\n"
      ]
    },
    {
      "cell_type": "code",
      "execution_count": 3,
      "metadata": {
        "colab": {
          "base_uri": "https://localhost:8080/",
          "height": 175
        },
        "id": "wIkfiBY_WiBZ",
        "outputId": "5e94e251-8d60-4d64-82f4-737716526b50"
      },
      "outputs": [
        {
          "data": {
            "text/html": [
              "<div>\n",
              "<style scoped>\n",
              "    .dataframe tbody tr th:only-of-type {\n",
              "        vertical-align: middle;\n",
              "    }\n",
              "\n",
              "    .dataframe tbody tr th {\n",
              "        vertical-align: top;\n",
              "    }\n",
              "\n",
              "    .dataframe thead th {\n",
              "        text-align: right;\n",
              "    }\n",
              "</style>\n",
              "<table border=\"1\" class=\"dataframe\">\n",
              "  <thead>\n",
              "    <tr style=\"text-align: right;\">\n",
              "      <th></th>\n",
              "      <th>cardboard</th>\n",
              "      <th>paper</th>\n",
              "      <th>can</th>\n",
              "      <th>scrap metal</th>\n",
              "      <th>bottle</th>\n",
              "    </tr>\n",
              "  </thead>\n",
              "  <tbody>\n",
              "    <tr>\n",
              "      <th>glass bin</th>\n",
              "      <td>2</td>\n",
              "      <td>2</td>\n",
              "      <td>4</td>\n",
              "      <td>6</td>\n",
              "      <td>0</td>\n",
              "    </tr>\n",
              "    <tr>\n",
              "      <th>metal bin</th>\n",
              "      <td>1</td>\n",
              "      <td>1</td>\n",
              "      <td>0</td>\n",
              "      <td>0</td>\n",
              "      <td>2</td>\n",
              "    </tr>\n",
              "    <tr>\n",
              "      <th>paper bin</th>\n",
              "      <td>0</td>\n",
              "      <td>0</td>\n",
              "      <td>5</td>\n",
              "      <td>10</td>\n",
              "      <td>3</td>\n",
              "    </tr>\n",
              "    <tr>\n",
              "      <th>nop</th>\n",
              "      <td>1</td>\n",
              "      <td>1</td>\n",
              "      <td>1</td>\n",
              "      <td>1</td>\n",
              "      <td>1</td>\n",
              "    </tr>\n",
              "  </tbody>\n",
              "</table>\n",
              "</div>"
            ],
            "text/plain": [
              "           cardboard  paper  can  scrap metal  bottle\n",
              "glass bin          2      2    4            6       0\n",
              "metal bin          1      1    0            0       2\n",
              "paper bin          0      0    5           10       3\n",
              "nop                1      1    1            1       1"
            ]
          },
          "execution_count": 3,
          "metadata": {},
          "output_type": "execute_result"
        }
      ],
      "source": [
        "# as before, in S12:\n",
        "categories = [\"cardboard\", \"paper\", \"can\", \"scrap metal\", \"bottle\"]\n",
        "actions = [\"glass bin\", \"metal bin\", \"paper bin\", \"nop\"]\n",
        "cost = np.array([[2,  2,  4,  6,  0],\n",
        "                 [1,  1,  0,  0,  2],\n",
        "                 [0,  0,  5, 10,  3],\n",
        "                 [1,  1,  1,  1,  1]])\n",
        "pd.DataFrame(cost, index=actions, columns=categories)"
      ]
    },
    {
      "cell_type": "code",
      "execution_count": 4,
      "metadata": {
        "colab": {
          "base_uri": "https://localhost:8080/",
          "height": 175
        },
        "id": "HzWLWlVOWV5n",
        "outputId": "b11a5aad-32ed-48d4-9296-e0b580cf5f32"
      },
      "outputs": [
        {
          "data": {
            "text/markdown": [
              " *P(0)*:\n",
              "\n",
              "|0|value|\n",
              "|:-:|:-:|\n",
              "|0|0.2|\n",
              "|1|0.3|\n",
              "|2|0.25|\n",
              "|3|0.2|\n",
              "|4|0.05|\n"
            ],
            "text/plain": [
              "Discrete Prior\n",
              " P( 0 ) Choice(0) \n",
              " 0 Leaf  0.2\n",
              " 1 Leaf  0.3\n",
              " 2 Leaf 0.25\n",
              " 3 Leaf  0.2\n",
              " 4 Leaf 0.05\n"
            ]
          },
          "execution_count": 4,
          "metadata": {},
          "output_type": "execute_result"
        }
      ],
      "source": [
        "variables = Variables()\n",
        "Category = variables.discrete(\"Category\", categories)\n",
        "category_prior = gtsam.DiscretePrior(Category, \"200/300/250/200/50\")\n",
        "category_prior"
      ]
    },
    {
      "cell_type": "markdown",
      "metadata": {
        "id": "nYqM4D8GWV5o"
      },
      "source": [
        "\n",
        "With this, we can calculate the expected cost of taking action \"put in glass bin\":\n",
        "\n",
        "$E[cost(a_1, C)] = 2 \\times 0.25 + 2 \\times 0.2 + 4 \\times 0.3 + 6 \\times 0.2 + 0 \\times 0.05 = 3.3$\n",
        "\n",
        "If we apply this to each action, we arrive to the following table of expected costs for the actions:\n",
        "\n",
        "**CAN WE CHANGE THE NOTATION BELOW FROM P(T) TO SOMETHING ABOUT COSTS??**"
      ]
    },
    {
      "cell_type": "code",
      "execution_count": 5,
      "metadata": {
        "colab": {
          "base_uri": "https://localhost:8080/"
        },
        "id": "Uas-Ytn0WV5o",
        "outputId": "b37c80e2-7e4c-45db-b4f3-2242802cb2ab"
      },
      "outputs": [
        {
          "data": {
            "text/plain": [
              "array([3.2, 0.6, 3.4, 1. ])"
            ]
          },
          "execution_count": 5,
          "metadata": {},
          "output_type": "execute_result"
        }
      ],
      "source": [
        "cost @ category_prior.pmf()"
      ]
    },
    {
      "cell_type": "markdown",
      "metadata": {
        "id": "ijHuZJndWV5o"
      },
      "source": [
        "\n",
        "Using the table above, it is clear that the optimal action given only the prior distribution on\n",
        "categories is to always place the trash item in the metal bin.\n",
        "If we wish to improve upon this, it will be necessary for the robot to somehow improve\n",
        "its knowledge of the world state.  This can be done by using sensors to measure various\n",
        "properties of the world, and then drawing inferences about the world state using these measurements.\n",
        "We now turn out attention to this problem."
      ]
    },
    {
      "cell_type": "markdown",
      "metadata": {
        "id": "5_gRa4NQZsD4"
      },
      "source": [
        "## Minimum cost\n",
        "Given an posterior probability over the possible classes does not yet tell us what action to take. With decision theory, we can associate a cost with making the right or wrong decision.\n",
        "\n",
        "$$a^*(Z=z) = \\arg \\min_a \\sum_c C(a|C=c) P(C=c|Z=z)$$"
      ]
    },
    {
      "cell_type": "markdown",
      "metadata": {
        "id": "LOn8jLehXhGR"
      },
      "source": [
        "In python, we just calculate the expected cost, now using the posterior instead of the prior, and take argmin using `np.argmin`:"
      ]
    },
    {
      "cell_type": "code",
      "execution_count": 6,
      "metadata": {
        "colab": {
          "base_uri": "https://localhost:8080/"
        },
        "id": "8qVZCrKMXcTG",
        "outputId": "6497fa09-2248-4c61-fa5a-6ba97530869a"
      },
      "outputs": [
        {
          "name": "stdout",
          "output_type": "stream",
          "text": [
            "expected_cost=[2.  1.1 2.4 1. ], optimal action=3\n"
          ]
        }
      ],
      "source": [
        "posterior = np.array([0.2, 0.3, 0.1, 0.1, 0.3])\n",
        "expected_cost = cost @ posterior\n",
        "optimal_action = np.argmin(expected_cost)\n",
        "print(f\"expected_cost={expected_cost}, optimal action={optimal_action}\")"
      ]
    }
  ],
  "metadata": {
    "colab": {
      "include_colab_link": true,
      "name": "S15_sorter_decision_theory.ipynb",
      "provenance": []
    },
    "interpreter": {
      "hash": "95ec9ec1504d83f612128e0fb229072f90bbb4cb09d9d5d93b5dd26e0ca2cfd1"
    },
    "kernelspec": {
      "display_name": "Python 3.9.6 64-bit ('base': conda)",
      "name": "python3"
    },
    "language_info": {
      "codemirror_mode": {
        "name": "ipython",
        "version": 3
      },
      "file_extension": ".py",
      "mimetype": "text/x-python",
      "name": "python",
      "nbconvert_exporter": "python",
      "pygments_lexer": "ipython3",
      "version": "3.8.12"
    },
    "latex_metadata": {
      "affiliation": "Georgia Institute of Technology",
      "author": "Frank Dellaert and Seth Hutchinson",
      "title": "Introduction to Robotics"
    }
  },
  "nbformat": 4,
  "nbformat_minor": 0
}
