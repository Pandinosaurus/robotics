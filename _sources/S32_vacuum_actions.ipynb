{
 "cells": [
  {
   "cell_type": "markdown",
   "metadata": {
    "colab_type": "text",
    "id": "view-in-github"
   },
   "source": [
    "<a href=\"https://colab.research.google.com/github/gtbook/robotics/blob/main/S32_vacuum_actions.ipynb\" target=\"_parent\"><img src=\"https://colab.research.google.com/assets/colab-badge.svg\" alt=\"Open In Colab\"/></a>"
   ]
  },
  {
   "cell_type": "code",
   "execution_count": 7,
   "metadata": {
    "colab": {
     "base_uri": "https://localhost:8080/"
    },
    "id": "_lb_cdVxGrN1",
    "outputId": "8e5f4d6e-a5ba-4011-9fa9-a9ef3627686b",
    "tags": [
     "remove-cell"
    ]
   },
   "outputs": [
    {
     "name": "stdout",
     "output_type": "stream",
     "text": [
      "Note: you may need to restart the kernel to use updated packages.\n"
     ]
    }
   ],
   "source": [
    "%pip install -q -U gtbook"
   ]
  },
  {
   "cell_type": "code",
   "execution_count": 33,
   "metadata": {
    "id": "_vgA01LrHBkU",
    "tags": [
     "remove-cell"
    ]
   },
   "outputs": [],
   "source": [
    "import numpy as np\n",
    "import gtsam\n",
    "\n",
    "import gtbook\n",
    "import gtbook.display\n",
    "from gtbook.discrete import Variables\n",
    "VARIABLES = Variables()\n",
    "def pretty(obj): \n",
    "    return gtbook.display.pretty(obj, VARIABLES)\n",
    "def show(obj, **kwargs): \n",
    "    return gtbook.display.show(obj, VARIABLES, **kwargs)\n",
    "\n",
    "# From section 3.1:\n",
    "rooms = [\"Living Room\", \"Kitchen\", \"Office\", \"Hallway\", \"Dining Room\"]\n",
    "X = VARIABLES.discrete_series(\"X\", [1], rooms)\n",
    "state_prior = gtsam.DiscreteDistribution(X[1], \"0/0/1/0/0\")"
   ]
  },
  {
   "cell_type": "markdown",
   "metadata": {
    "id": "dd_NRh1QLVrg"
   },
   "source": [
    "# Actions over time\n",
    "\n",
    "> Actions are not perfect.\n",
    "\n",
    "**This Section is still in draft mode and was released for adventurous spirits (and TAs) only.**"
   ]
  },
  {
   "cell_type": "code",
   "execution_count": 34,
   "metadata": {
    "tags": [
     "remove-input"
    ]
   },
   "outputs": [
    {
     "data": {
      "text/html": [
       "\n",
       "        <div align='center'>\n",
       "        <img src='https://github.com/gtbook/robotics/blob/main/Art/steampunk/S32-iRobot%20vacuuming%20robot-06.jpg?raw=1' style='height:256 width:100%'/>\n",
       "        </div>\n",
       "        "
      ],
      "text/plain": [
       "<IPython.core.display.HTML object>"
      ]
     },
     "metadata": {},
     "output_type": "display_data"
    }
   ],
   "source": [
    "from gtbook.display import randomImages\n",
    "from IPython.display import display\n",
    "display(randomImages(3, 2, \"steampunk\", 1))"
   ]
  },
  {
   "cell_type": "markdown",
   "metadata": {},
   "source": [
    "In the real world, robots do not always execute actions perfectly, for a\n",
    "variety of reasons. We can use discrete variables to model the state a\n",
    "robot is in, and actions that connect these states. To model the\n",
    "uncertainty with executing an action, we will once again use the\n",
    "language of probability. As before we will use \n",
    "*conditional probability distributions* to model how we can affect the state \n",
    "of the robot by actions. \n",
    "We can model this graphically, using directed edges to specify conditional\n",
    "probabilities on variables, and use simulation in a graphical model to\n",
    "explore what a sequence of actions will yield as outcome. \n",
    "The graphical model approach allows us to easily extend probabilistic actions to\n",
    "factored state representations."
   ]
  },
  {
   "cell_type": "markdown",
   "metadata": {},
   "source": [
    "## Probabilistic Outcomes of Actions\n",
    "\n",
    "<figure>\n",
    "<img src=\"https://github.com/gtbook/robotics/blob/main/Figures3/N3-Mud.png?raw=1\" id=\"fig:Mud\" style=\"width:14cm\" alt=\"\" />\n",
    "<figcaption id=\"fig:Mud\" label=\"fig:Mud\">Mobile robot driving in mud.</figcaption>\n",
    "</figure>\n",
    "\n",
    "In the real world, robots do not always execute actions perfectly, for a\n",
    "variety of reasons. For example, as shown in Figure\n",
    "<a href=\"#fig:Mud\" data-reference-type=\"ref\" data-reference=\"fig:Mud\">1</a>,\n",
    "a robot may want to drive forwards in an outdoor environment but mud\n",
    "under its wheels might prevent it from traveling as far as we would\n",
    "like.\n",
    "\n",
    "<figure>\n",
    "<img src=\"https://github.com/gtbook/robotics/blob/main/Figures3/N3-Pick.png?raw=1\" id=\"fig:Pickup\" style=\"width:14cm\" alt=\"\" />\n",
    "<figcaption id=\"fig:Pickup\" label=\"fig:Pickup\">A humanoid attempting to pick up an object.</figcaption>\n",
    "</figure>\n",
    "\n",
    "Or a robot with an articulated arm (Figure\n",
    "<a href=\"#fig:Pickup\" data-reference-type=\"ref\" data-reference=\"fig:Pickup\">2</a>)\n",
    "might attempt picking up an object, but fail. "
   ]
  },
  {
   "cell_type": "markdown",
   "metadata": {},
   "source": [
    "## Navigation Actions\n",
    "<figure>\n",
    "<img src=\"https://github.com/gtbook/robotics/blob/main/Figures3/S32-Actions.png?raw=1\" id=\"fig:Stochastic\" style=\"width:14cm\" alt=\"\" />\n",
    "<figcaption id=\"fig:Stochastic\" label=\"fig:Stochastic\">In our abstracted floor plan, actions attempted to the robot (Left, right, Up, and Down), might or might not succeed.</figcaption>\n",
    "</figure>\n",
    "\n",
    "Our hypothetical vacuum robot can take actions that succeed probabilistically. Abstracting the floor plan from the previous section, let us model this vacuum robot as moving between the five rooms in the floor plan. We have already discussed the state space in the previous section. The **action space** is simple: the robot can choose to go left (L), right (R), up (U), or down (D), schematically shown in Figure <a href=\"#fig:Vacuum\" data-reference-type=\"ref\" data-reference=\"fig:Vacuum\">1</a>. However, a variety of things could go wrong: a particular doorway might be blocked, the robot might get lost, or it might take an action that is simply not available in a particular room - for example going from the office to the living room directly."
   ]
  },
  {
   "cell_type": "markdown",
   "metadata": {},
   "source": [
    "To model the uncertainty associated with executing an action, we will once again use the language of probability. \n",
    "In particular, we will now use conditional probability distributions to model how we can\n",
    "affect the state of the robot by actions. We model the\n",
    "effects of actions by the **state transition model** $P(X_{t+1}|X_{t}=x,A=a)$ on the next state $X_{t+1}$, \n",
    "given the value\n",
    "$x$ of the current state $X_{t}$, and the value $a$ of the action $A$. Because the state space in this case involves navigation, we also call the corresponding conditional distribution $P(X_{t+1}|X_{t},A)$ a **motion model**."
   ]
  },
  {
   "cell_type": "markdown",
   "metadata": {},
   "source": [
    "The code below creates a motion model for moving from state $X_1$ to $X_2$:"
   ]
  },
  {
   "cell_type": "code",
   "execution_count": 35,
   "metadata": {},
   "outputs": [
    {
     "data": {
      "text/html": [
       "<div>\n",
       "<p>  <i>P(X2|X1,A1):</i></p>\n",
       "<table class='DiscreteConditional'>\n",
       "  <thead>\n",
       "    <tr><th><i>X1</i></th><th><i>A1</i></th><th>Living Room</th><th>Kitchen</th><th>Office</th><th>Hallway</th><th>Dining Room</th></tr>\n",
       "  </thead>\n",
       "  <tbody>\n",
       "    <tr><th>Living Room</th><th>L</th><td>1</td><td>0</td><td>0</td><td>0</td><td>0</td></tr>\n",
       "    <tr><th>Living Room</th><th>R</th><td>0.2</td><td>0.8</td><td>0</td><td>0</td><td>0</td></tr>\n",
       "    <tr><th>Living Room</th><th>U</th><td>1</td><td>0</td><td>0</td><td>0</td><td>0</td></tr>\n",
       "    <tr><th>Living Room</th><th>D</th><td>0.2</td><td>0</td><td>0</td><td>0.8</td><td>0</td></tr>\n",
       "    <tr><th>Kitchen</th><th>L</th><td>0.8</td><td>0.2</td><td>0</td><td>0</td><td>0</td></tr>\n",
       "    <tr><th>Kitchen</th><th>R</th><td>0</td><td>1</td><td>0</td><td>0</td><td>0</td></tr>\n",
       "    <tr><th>Kitchen</th><th>U</th><td>0</td><td>1</td><td>0</td><td>0</td><td>0</td></tr>\n",
       "    <tr><th>Kitchen</th><th>D</th><td>0.2</td><td>0</td><td>0</td><td>0</td><td>0.8</td></tr>\n",
       "    <tr><th>Office</th><th>L</th><td>0</td><td>0</td><td>1</td><td>0</td><td>0</td></tr>\n",
       "    <tr><th>Office</th><th>R</th><td>0</td><td>0</td><td>0.2</td><td>0.8</td><td>0</td></tr>\n",
       "    <tr><th>Office</th><th>U</th><td>0</td><td>0</td><td>1</td><td>0</td><td>0</td></tr>\n",
       "    <tr><th>Office</th><th>D</th><td>0</td><td>0</td><td>1</td><td>0</td><td>0</td></tr>\n",
       "    <tr><th>Hallway</th><th>L</th><td>0</td><td>0</td><td>0.8</td><td>0.2</td><td>0</td></tr>\n",
       "    <tr><th>Hallway</th><th>R</th><td>0</td><td>0</td><td>0</td><td>0.2</td><td>0.8</td></tr>\n",
       "    <tr><th>Hallway</th><th>U</th><td>0.8</td><td>0</td><td>0</td><td>0.2</td><td>0</td></tr>\n",
       "    <tr><th>Hallway</th><th>D</th><td>0</td><td>0</td><td>0</td><td>1</td><td>0</td></tr>\n",
       "    <tr><th>Dining Room</th><th>L</th><td>0</td><td>0</td><td>0</td><td>0.8</td><td>0.2</td></tr>\n",
       "    <tr><th>Dining Room</th><th>R</th><td>0</td><td>0</td><td>0</td><td>0</td><td>1</td></tr>\n",
       "    <tr><th>Dining Room</th><th>U</th><td>0</td><td>0.8</td><td>0</td><td>0</td><td>0.2</td></tr>\n",
       "    <tr><th>Dining Room</th><th>D</th><td>0</td><td>0</td><td>0</td><td>0</td><td>1</td></tr>\n",
       "  </tbody>\n",
       "</table>\n",
       "</div>"
      ],
      "text/plain": [
       "<gtbook.display.pretty at 0x105e15ca0>"
      ]
     },
     "execution_count": 35,
     "metadata": {},
     "output_type": "execute_result"
    }
   ],
   "source": [
    "actions = [\"L\",\"R\",\"U\",\"D\",]\n",
    "A = VARIABLES.discrete_series(\"A\", [1, 2], actions)\n",
    "X = VARIABLES.discrete_series(\"X\", [1, 2, 3], rooms)\n",
    "spec = \"\"\"\n",
    "    1/0/0/0/0 2/8/0/0/0 1/0/0/0/0 2/0/0/8/0\n",
    "    8/2/0/0/0 0/1/0/0/0 0/1/0/0/0 2/0/0/0/8\n",
    "    0/0/1/0/0 0/0/2/8/0 0/0/1/0/0 0/0/1/0/0\n",
    "    0/0/8/2/0 0/0/0/2/8 8/0/0/2/0 0/0/0/1/0\n",
    "    0/0/0/8/2 0/0/0/0/1 0/8/0/0/2 0/0/0/0/1\n",
    "    \"\"\"\n",
    "motion_model = gtsam.DiscreteConditional(X[2], [X[1], A[1]], spec)\n",
    "pretty(motion_model)"
   ]
  },
  {
   "cell_type": "markdown",
   "metadata": {},
   "source": [
    "It is of course very tedious to specify this table by hand: it has $5*5*4=100$ entries, because for every one of the 5 rooms in the house we have to specify what happens for every one of the 4 possible actions. To specify what happens we need 5 numbers that have to add up to one, because the robot has to end up *somewhere*. In the example above, we specified impossible actions to have no effect (with 100% certainty), whereas allowable actions succeed with 80% chance of success.\n",
    "\n",
    "Conditional probability distributions do not *have* to be specified as giant\n",
    "tables. Because the state space is potentially quite large, such a\n",
    "motion model is almost never explicitly specified, but\n",
    "rather exploits the semantics of the states and actions to calculate the conditional distribution at run-time."
   ]
  },
  {
   "cell_type": "markdown",
   "metadata": {},
   "source": [
    "### Exercises\n",
    "\n",
    "1.  Even though the CPT above\n",
    "    has 100 numbers in it, how many independent degrees of freedom do we\n",
    "    actually have when specifying this CPT?\n",
    "\n",
    "2.  Specify a parametric conditional density for the action models for\n",
    "    the vacuuming robot that is somewhat realistic, yet not completely\n",
    "    deterministic.\n",
    "\n",
    "3.  It is possible to create models that do not reflect everyday\n",
    "    physics. For example, how could we model the game “Portal”?"
   ]
  },
  {
   "cell_type": "markdown",
   "metadata": {},
   "source": [
    "## A Simple Graphical Model"
   ]
  },
  {
   "cell_type": "markdown",
   "metadata": {},
   "source": [
    "Graphically, we can represent a probability mass function (PMF) over a\n",
    "single random variable $X$ as a single node, with the label $X$, and we can \n",
    "use directed edges to specify conditional probabilities on\n",
    "variables. As an application, we can use this simple graphical model to represent\n",
    "the probabilistic transitions between states, as shown below:"
   ]
  },
  {
   "cell_type": "code",
   "execution_count": 36,
   "metadata": {},
   "outputs": [
    {
     "data": {
      "image/svg+xml": "<?xml version=\"1.0\" encoding=\"UTF-8\" standalone=\"no\"?>\n<!DOCTYPE svg PUBLIC \"-//W3C//DTD SVG 1.1//EN\"\n \"http://www.w3.org/Graphics/SVG/1.1/DTD/svg11.dtd\">\n<!-- Generated by graphviz version 2.50.0 (0)\n -->\n<!-- Pages: 1 -->\n<svg width=\"134pt\" height=\"116pt\"\n viewBox=\"0.00 0.00 134.00 116.00\" xmlns=\"http://www.w3.org/2000/svg\" xmlns:xlink=\"http://www.w3.org/1999/xlink\">\n<g id=\"graph0\" class=\"graph\" transform=\"scale(1 1) rotate(0) translate(4 112)\">\n<polygon fill=\"white\" stroke=\"transparent\" points=\"-4,4 -4,-112 130,-112 130,4 -4,4\"/>\n<!-- varA1 -->\n<g id=\"node1\" class=\"node\">\n<title>varA1</title>\n<polygon fill=\"none\" stroke=\"black\" points=\"54,-108 0,-108 0,-72 54,-72 54,-108\"/>\n<text text-anchor=\"middle\" x=\"27\" y=\"-86.3\" font-family=\"Times,serif\" font-size=\"14.00\">A1</text>\n</g>\n<!-- varX2 -->\n<g id=\"node3\" class=\"node\">\n<title>varX2</title>\n<ellipse fill=\"none\" stroke=\"black\" cx=\"99\" cy=\"-18\" rx=\"27\" ry=\"18\"/>\n<text text-anchor=\"middle\" x=\"99\" y=\"-14.3\" font-family=\"Times,serif\" font-size=\"14.00\">X2</text>\n</g>\n<!-- varA1&#45;&gt;varX2 -->\n<g id=\"edge2\" class=\"edge\">\n<title>varA1&#45;&gt;varX2</title>\n<path fill=\"none\" stroke=\"black\" d=\"M45.17,-71.83C54.73,-62.27 66.53,-50.47 76.65,-40.35\"/>\n<polygon fill=\"black\" stroke=\"black\" points=\"79.4,-42.55 83.99,-33.01 74.45,-37.6 79.4,-42.55\"/>\n</g>\n<!-- varX1 -->\n<g id=\"node2\" class=\"node\">\n<title>varX1</title>\n<polygon fill=\"none\" stroke=\"black\" points=\"54,-36 0,-36 0,0 54,0 54,-36\"/>\n<text text-anchor=\"middle\" x=\"27\" y=\"-14.3\" font-family=\"Times,serif\" font-size=\"14.00\">X1</text>\n</g>\n<!-- varX1&#45;&gt;varX2 -->\n<g id=\"edge1\" class=\"edge\">\n<title>varX1&#45;&gt;varX2</title>\n<path fill=\"none\" stroke=\"black\" d=\"M54.22,-18C56.64,-18 59.11,-18 61.6,-18\"/>\n<polygon fill=\"black\" stroke=\"black\" points=\"61.74,-21.5 71.74,-18 61.74,-14.5 61.74,-21.5\"/>\n</g>\n</g>\n</svg>\n",
      "text/plain": [
       "<gtbook.display.show at 0x106e09d90>"
      ]
     },
     "execution_count": 36,
     "metadata": {},
     "output_type": "execute_result"
    }
   ],
   "source": [
    "action_prior = gtsam.DiscreteDistribution(A[1], \"1/1/1/1\")\n",
    "fragment = gtsam.DiscreteBayesNet()\n",
    "fragment.add(motion_model)\n",
    "show(fragment, hints={\"A\":2, \"X\":1}, boxes={A[1][0], X[1][0]})"
   ]
  },
  {
   "cell_type": "markdown",
   "metadata": {},
   "source": [
    "In the graph above, we indicate by the *boxes* those values thar are *assumed known*. To evaluate the probability of $P(X_2|X_1,A_1)$, we *need* to know what the conditioning variables $X_1$ and $A_1$ are.\n",
    "\n",
    "Given values for the parent variables, we can examine the corresponding transition probability. For example, if we start from the $X_1=\\text{Hallway}$ and attempt to go right, i.e., action $A_0=\\text{R}$, we retrieve the following PMF over the next state $X_2$:"
   ]
  },
  {
   "cell_type": "code",
   "execution_count": 37,
   "metadata": {},
   "outputs": [
    {
     "data": {
      "text/html": [
       "<div>\n",
       "<p>  <i>P(X2):</i></p>\n",
       "<div>\n",
       "<table class='DecisionTreeFactor'>\n",
       "  <thead>\n",
       "    <tr><th>X2</th><th>value</th></tr>\n",
       "  </thead>\n",
       "  <tbody>\n",
       "    <tr><th>Living Room</th><td>0</td></tr>\n",
       "    <tr><th>Kitchen</th><td>0</td></tr>\n",
       "    <tr><th>Office</th><td>0</td></tr>\n",
       "    <tr><th>Hallway</th><td>0.2</td></tr>\n",
       "    <tr><th>Dining Room</th><td>0.8</td></tr>\n",
       "  </tbody>\n",
       "</table>\n",
       "</div>"
      ],
      "text/plain": [
       "<gtbook.display.pretty at 0x106e09d60>"
      ]
     },
     "execution_count": 37,
     "metadata": {},
     "output_type": "execute_result"
    }
   ],
   "source": [
    "values = VARIABLES.assignment({X[1]:\"Hallway\", A[1]: \"R\"})\n",
    "pretty(motion_model.choose(values))"
   ]
  },
  {
   "cell_type": "markdown",
   "metadata": {},
   "source": [
    "## Bayes Nets\n",
    "\n",
    ">  Bayes nets provide a graphical language to string together several conditional probabilities into a generative world model.\n",
    "\n",
    "A **Bayes net** is a directed *acyclic* graph (DAG) describing a factored\n",
    "probability distribution a set of random variables. \n",
    "The joint\n",
    "distribution on the set of all variables is given as\n",
    "\n",
    "$$P(\\{X_{i}\\})=\\prod_{i=1}^{n}P(X_{i}|\\Pi_{i})$$ \n",
    "\n",
    "where $n$ is the number\n",
    "of variables, and $\\Pi_{i}$ denotes the set of parents for variable\n",
    "$X_{i}$. An example of a Bayes net is shown in the Figure below,\n",
    "and it is simply a graphical representation of which random variables’s\n",
    "CPT depend on which other variables. In this case, the joint\n",
    "distribution can be read off as\n",
    "\n",
    "$$P(W,X,Y,Z)=P(W|X,Y)P(X|Y,Z)P(Y|Z)P(Z).$$\n",
    "\n",
    "Note that the order in which\n",
    "we multiply the conditionals does not matter, but we typically prefer to put the parents more towards the right, as above."
   ]
  },
  {
   "cell_type": "code",
   "execution_count": 38,
   "metadata": {},
   "outputs": [
    {
     "data": {
      "image/svg+xml": "<?xml version=\"1.0\" encoding=\"UTF-8\" standalone=\"no\"?>\n<!DOCTYPE svg PUBLIC \"-//W3C//DTD SVG 1.1//EN\"\n \"http://www.w3.org/Graphics/SVG/1.1/DTD/svg11.dtd\">\n<!-- Generated by graphviz version 2.50.0 (0)\n -->\n<!-- Pages: 1 -->\n<svg width=\"128pt\" height=\"260pt\"\n viewBox=\"0.00 0.00 128.00 260.00\" xmlns=\"http://www.w3.org/2000/svg\" xmlns:xlink=\"http://www.w3.org/1999/xlink\">\n<g id=\"graph0\" class=\"graph\" transform=\"scale(1 1) rotate(0) translate(4 256)\">\n<polygon fill=\"white\" stroke=\"transparent\" points=\"-4,4 -4,-256 124,-256 124,4 -4,4\"/>\n<!-- varW -->\n<g id=\"node1\" class=\"node\">\n<title>varW</title>\n<ellipse fill=\"none\" stroke=\"black\" cx=\"27\" cy=\"-18\" rx=\"27\" ry=\"18\"/>\n<text text-anchor=\"middle\" x=\"27\" y=\"-14.3\" font-family=\"Times,serif\" font-size=\"14.00\">W</text>\n</g>\n<!-- varX -->\n<g id=\"node2\" class=\"node\">\n<title>varX</title>\n<ellipse fill=\"none\" stroke=\"black\" cx=\"55\" cy=\"-90\" rx=\"27\" ry=\"18\"/>\n<text text-anchor=\"middle\" x=\"55\" y=\"-86.3\" font-family=\"Times,serif\" font-size=\"14.00\">X</text>\n</g>\n<!-- varX&#45;&gt;varW -->\n<g id=\"edge4\" class=\"edge\">\n<title>varX&#45;&gt;varW</title>\n<path fill=\"none\" stroke=\"black\" d=\"M48.36,-72.41C45.09,-64.22 41.06,-54.14 37.38,-44.95\"/>\n<polygon fill=\"black\" stroke=\"black\" points=\"40.55,-43.45 33.59,-35.47 34.05,-46.05 40.55,-43.45\"/>\n</g>\n<!-- varY -->\n<g id=\"node3\" class=\"node\">\n<title>varY</title>\n<ellipse fill=\"none\" stroke=\"black\" cx=\"93\" cy=\"-162\" rx=\"27\" ry=\"18\"/>\n<text text-anchor=\"middle\" x=\"93\" y=\"-158.3\" font-family=\"Times,serif\" font-size=\"14.00\">Y</text>\n</g>\n<!-- varY&#45;&gt;varX -->\n<g id=\"edge2\" class=\"edge\">\n<title>varY&#45;&gt;varX</title>\n<path fill=\"none\" stroke=\"black\" d=\"M84.19,-144.76C79.58,-136.28 73.84,-125.71 68.68,-116.2\"/>\n<polygon fill=\"black\" stroke=\"black\" points=\"71.61,-114.27 63.77,-107.15 65.46,-117.61 71.61,-114.27\"/>\n</g>\n<!-- varZ -->\n<g id=\"node4\" class=\"node\">\n<title>varZ</title>\n<ellipse fill=\"none\" stroke=\"black\" cx=\"38\" cy=\"-234\" rx=\"27\" ry=\"18\"/>\n<text text-anchor=\"middle\" x=\"38\" y=\"-230.3\" font-family=\"Times,serif\" font-size=\"14.00\">Z</text>\n</g>\n<!-- varZ&#45;&gt;varW -->\n<g id=\"edge5\" class=\"edge\">\n<title>varZ&#45;&gt;varW</title>\n<path fill=\"none\" stroke=\"black\" d=\"M33.85,-216.12C27.14,-186.86 15.04,-124.76 19,-72 19.64,-63.52 20.84,-54.34 22.12,-46.04\"/>\n<polygon fill=\"black\" stroke=\"black\" points=\"25.58,-46.55 23.75,-36.11 18.68,-45.41 25.58,-46.55\"/>\n</g>\n<!-- varZ&#45;&gt;varX -->\n<g id=\"edge3\" class=\"edge\">\n<title>varZ&#45;&gt;varX</title>\n<path fill=\"none\" stroke=\"black\" d=\"M40.05,-215.87C42.95,-191.67 48.27,-147.21 51.72,-118.39\"/>\n<polygon fill=\"black\" stroke=\"black\" points=\"55.23,-118.53 52.94,-108.19 48.28,-117.7 55.23,-118.53\"/>\n</g>\n<!-- varZ&#45;&gt;varY -->\n<g id=\"edge1\" class=\"edge\">\n<title>varZ&#45;&gt;varY</title>\n<path fill=\"none\" stroke=\"black\" d=\"M49.93,-217.81C57.21,-208.55 66.66,-196.52 74.85,-186.09\"/>\n<polygon fill=\"black\" stroke=\"black\" points=\"77.66,-188.18 81.09,-178.16 72.16,-183.86 77.66,-188.18\"/>\n</g>\n</g>\n</svg>\n",
      "text/plain": [
       "<gtbook.display.show at 0x105e15be0>"
      ]
     },
     "execution_count": 38,
     "metadata": {},
     "output_type": "execute_result"
    }
   ],
   "source": [
    "wxyz = gtsam.DiscreteBayesNet()\n",
    "W1 = VARIABLES.binary(\"W\")\n",
    "X1 = VARIABLES.binary(\"X\")\n",
    "Y1 = VARIABLES.binary(\"Y\")\n",
    "Z1 = VARIABLES.binary(\"Z\")\n",
    "wxyz.add(W1, [X1, Z1], \"1/1 1/1 1/1 1/1\")\n",
    "wxyz.add(X1, [Y1, Z1], \"1/1 1/1 1/1 1/1\")\n",
    "wxyz.add(Y1, [Z1], \"1/1 1/1\")\n",
    "wxyz.add(Z1, \"1/1\")\n",
    "show(wxyz)"
   ]
  },
  {
   "cell_type": "markdown",
   "metadata": {},
   "source": [
    "Note that the above graph has cycles, but the cycles are only in the underlying *undirected* graph, not in the directed graph. Directed cycles, i.e. cycles with a consistent direction, are not allowed."
   ]
  },
  {
   "cell_type": "markdown",
   "metadata": {},
   "source": [
    "A Bayes net can be a very efficient representation of complex\n",
    "probability distributions, as they encode the dependence and especially\n",
    "independence relationships between the variables.\n",
    "The Bayes net above was created assuming binary variables, and hence did not take\n",
    "a lot of effort to specify, but as we saw above, even for relatively small state spaces \n",
    "the complexity of specifying CPTs can be daunting.\n",
    "\n",
    "For example, if we\n",
    "were to construct a full table of probabilities for each possible\n",
    "outcome of the variables $W$,$X$,$Y$, and $Z$, the table could be quite\n",
    "long. For example, if we assume they all have 10 possible values, then\n",
    "the full joint has $10^{4}$ entries, i.e., $10,000$ unique values. You\n",
    "can save a tiny bit, because they have to sum up to 1, so strictly\n",
    "speaking we need only $9,999$ values. In contrast, we can tally how many\n",
    "entries all four CPT tables have for the Bayes net above. \n",
    "In the table below we did just that:\n",
    "\n",
    "|     CPT    | \\# entries |\n",
    "|-|-|\n",
    "|   *P(Z)*   |      9     |\n",
    "|  *P(Y\\|Z)*  |     90     |\n",
    "| *P(X\\|Y,Z)* |     900    |\n",
    "| *P(W\\|X,Y)* |     900    |\n",
    "\n",
    "For example, $P(X|Y,Z)$ has 900 entries, i.e., 9\n",
    "(independent) entries for each of 100 possible combinations of $Y$ and\n",
    "$Z$. Hence, the total number of parameters we need is only $1,899$,\n",
    "which is way less than $9,999$."
   ]
  },
  {
   "cell_type": "markdown",
   "metadata": {},
   "source": [
    "## Markov Chains\n",
    "\n",
    "> A Markov chain is a special kind of Bayes net.\n",
    "\n",
    "A **Markov chain** is a graphical representation of repeated state\n",
    "transitions. Indeed, by chaining transition probabilities together\n",
    "we can create a Markov chain programmatically (try varying N):"
   ]
  },
  {
   "cell_type": "code",
   "execution_count": 39,
   "metadata": {},
   "outputs": [
    {
     "data": {
      "image/svg+xml": "<?xml version=\"1.0\" encoding=\"UTF-8\" standalone=\"no\"?>\n<!DOCTYPE svg PUBLIC \"-//W3C//DTD SVG 1.1//EN\"\n \"http://www.w3.org/Graphics/SVG/1.1/DTD/svg11.dtd\">\n<!-- Generated by graphviz version 2.50.0 (0)\n -->\n<!-- Pages: 1 -->\n<svg width=\"206pt\" height=\"44pt\"\n viewBox=\"0.00 0.00 206.00 44.00\" xmlns=\"http://www.w3.org/2000/svg\" xmlns:xlink=\"http://www.w3.org/1999/xlink\">\n<g id=\"graph0\" class=\"graph\" transform=\"scale(1 1) rotate(0) translate(4 40)\">\n<polygon fill=\"white\" stroke=\"transparent\" points=\"-4,4 -4,-40 202,-40 202,4 -4,4\"/>\n<!-- varX1 -->\n<g id=\"node1\" class=\"node\">\n<title>varX1</title>\n<ellipse fill=\"none\" stroke=\"black\" cx=\"27\" cy=\"-18\" rx=\"27\" ry=\"18\"/>\n<text text-anchor=\"middle\" x=\"27\" y=\"-14.3\" font-family=\"Times,serif\" font-size=\"14.00\">X1</text>\n</g>\n<!-- varX2 -->\n<g id=\"node2\" class=\"node\">\n<title>varX2</title>\n<ellipse fill=\"none\" stroke=\"black\" cx=\"99\" cy=\"-18\" rx=\"27\" ry=\"18\"/>\n<text text-anchor=\"middle\" x=\"99\" y=\"-14.3\" font-family=\"Times,serif\" font-size=\"14.00\">X2</text>\n</g>\n<!-- varX1&#45;&gt;varX2 -->\n<g id=\"edge2\" class=\"edge\">\n<title>varX1&#45;&gt;varX2</title>\n<path fill=\"none\" stroke=\"black\" d=\"M54.22,-18C56.64,-18 59.11,-18 61.6,-18\"/>\n<polygon fill=\"black\" stroke=\"black\" points=\"61.74,-21.5 71.74,-18 61.74,-14.5 61.74,-21.5\"/>\n</g>\n<!-- varX3 -->\n<g id=\"node3\" class=\"node\">\n<title>varX3</title>\n<ellipse fill=\"none\" stroke=\"black\" cx=\"171\" cy=\"-18\" rx=\"27\" ry=\"18\"/>\n<text text-anchor=\"middle\" x=\"171\" y=\"-14.3\" font-family=\"Times,serif\" font-size=\"14.00\">X3</text>\n</g>\n<!-- varX2&#45;&gt;varX3 -->\n<g id=\"edge1\" class=\"edge\">\n<title>varX2&#45;&gt;varX3</title>\n<path fill=\"none\" stroke=\"black\" d=\"M126.22,-18C128.64,-18 131.11,-18 133.6,-18\"/>\n<polygon fill=\"black\" stroke=\"black\" points=\"133.74,-21.5 143.74,-18 133.74,-14.5 133.74,-21.5\"/>\n</g>\n</g>\n</svg>\n",
      "text/plain": [
       "<gtbook.display.show at 0x105e15fa0>"
      ]
     },
     "execution_count": 39,
     "metadata": {},
     "output_type": "execute_result"
    }
   ],
   "source": [
    "N = 3\n",
    "X = VARIABLES.discrete_series(\"X\", range(1, N+1), rooms)\n",
    "markov_chain = gtsam.DiscreteBayesNet()\n",
    "markov_chain.add(state_prior)\n",
    "for k in range(1, N):\n",
    "    markov_chain.add(X[k+1], [X[k]], \"6/1/1/1/1 1/6/1/1/1 1/1/6/1/1 1/1/6/1/1 1/1/1/1/6 \")\n",
    "show(markov_chain, hints={\"X\":1})"
   ]
  },
  {
   "cell_type": "markdown",
   "metadata": {},
   "source": [
    "Every state $X_k$ only depends on the previous state $X_{k-1}$, a property known as the **Markov property**, hence the name."
   ]
  },
  {
   "cell_type": "markdown",
   "metadata": {},
   "source": [
    "## Markov Decision Processes\n",
    "\n",
    "> An MDP chain is a Markov chain with actions added.\n",
    "\n",
    "A **Markov Decision Process** or MDP is a graphical representation of repeated state transitions, given a known sequence of actions. \n",
    "This is the ideal representation to represent effects of actions on robot states, as in our example.\n",
    "Indeed, by chaining the \"action fragments\" defined above together, we can create an MDP programmatically (try varying N):"
   ]
  },
  {
   "cell_type": "code",
   "execution_count": 40,
   "metadata": {},
   "outputs": [
    {
     "data": {
      "image/svg+xml": "<?xml version=\"1.0\" encoding=\"UTF-8\" standalone=\"no\"?>\n<!DOCTYPE svg PUBLIC \"-//W3C//DTD SVG 1.1//EN\"\n \"http://www.w3.org/Graphics/SVG/1.1/DTD/svg11.dtd\">\n<!-- Generated by graphviz version 2.50.0 (0)\n -->\n<!-- Pages: 1 -->\n<svg width=\"206pt\" height=\"116pt\"\n viewBox=\"0.00 0.00 206.00 116.00\" xmlns=\"http://www.w3.org/2000/svg\" xmlns:xlink=\"http://www.w3.org/1999/xlink\">\n<g id=\"graph0\" class=\"graph\" transform=\"scale(1 1) rotate(0) translate(4 112)\">\n<polygon fill=\"white\" stroke=\"transparent\" points=\"-4,4 -4,-112 202,-112 202,4 -4,4\"/>\n<!-- varA1 -->\n<g id=\"node1\" class=\"node\">\n<title>varA1</title>\n<polygon fill=\"none\" stroke=\"black\" points=\"54,-108 0,-108 0,-72 54,-72 54,-108\"/>\n<text text-anchor=\"middle\" x=\"27\" y=\"-86.3\" font-family=\"Times,serif\" font-size=\"14.00\">A1</text>\n</g>\n<!-- varX2 -->\n<g id=\"node4\" class=\"node\">\n<title>varX2</title>\n<ellipse fill=\"none\" stroke=\"black\" cx=\"99\" cy=\"-18\" rx=\"27\" ry=\"18\"/>\n<text text-anchor=\"middle\" x=\"99\" y=\"-14.3\" font-family=\"Times,serif\" font-size=\"14.00\">X2</text>\n</g>\n<!-- varA1&#45;&gt;varX2 -->\n<g id=\"edge4\" class=\"edge\">\n<title>varA1&#45;&gt;varX2</title>\n<path fill=\"none\" stroke=\"black\" d=\"M45.17,-71.83C54.73,-62.27 66.53,-50.47 76.65,-40.35\"/>\n<polygon fill=\"black\" stroke=\"black\" points=\"79.4,-42.55 83.99,-33.01 74.45,-37.6 79.4,-42.55\"/>\n</g>\n<!-- varA2 -->\n<g id=\"node2\" class=\"node\">\n<title>varA2</title>\n<polygon fill=\"none\" stroke=\"black\" points=\"126,-108 72,-108 72,-72 126,-72 126,-108\"/>\n<text text-anchor=\"middle\" x=\"99\" y=\"-86.3\" font-family=\"Times,serif\" font-size=\"14.00\">A2</text>\n</g>\n<!-- varX3 -->\n<g id=\"node5\" class=\"node\">\n<title>varX3</title>\n<ellipse fill=\"none\" stroke=\"black\" cx=\"171\" cy=\"-18\" rx=\"27\" ry=\"18\"/>\n<text text-anchor=\"middle\" x=\"171\" y=\"-14.3\" font-family=\"Times,serif\" font-size=\"14.00\">X3</text>\n</g>\n<!-- varA2&#45;&gt;varX3 -->\n<g id=\"edge2\" class=\"edge\">\n<title>varA2&#45;&gt;varX3</title>\n<path fill=\"none\" stroke=\"black\" d=\"M117.17,-71.83C126.73,-62.27 138.53,-50.47 148.65,-40.35\"/>\n<polygon fill=\"black\" stroke=\"black\" points=\"151.4,-42.55 155.99,-33.01 146.45,-37.6 151.4,-42.55\"/>\n</g>\n<!-- varX1 -->\n<g id=\"node3\" class=\"node\">\n<title>varX1</title>\n<ellipse fill=\"none\" stroke=\"black\" cx=\"27\" cy=\"-18\" rx=\"27\" ry=\"18\"/>\n<text text-anchor=\"middle\" x=\"27\" y=\"-14.3\" font-family=\"Times,serif\" font-size=\"14.00\">X1</text>\n</g>\n<!-- varX1&#45;&gt;varX2 -->\n<g id=\"edge3\" class=\"edge\">\n<title>varX1&#45;&gt;varX2</title>\n<path fill=\"none\" stroke=\"black\" d=\"M54.22,-18C56.64,-18 59.11,-18 61.6,-18\"/>\n<polygon fill=\"black\" stroke=\"black\" points=\"61.74,-21.5 71.74,-18 61.74,-14.5 61.74,-21.5\"/>\n</g>\n<!-- varX2&#45;&gt;varX3 -->\n<g id=\"edge1\" class=\"edge\">\n<title>varX2&#45;&gt;varX3</title>\n<path fill=\"none\" stroke=\"black\" d=\"M126.22,-18C128.64,-18 131.11,-18 133.6,-18\"/>\n<polygon fill=\"black\" stroke=\"black\" points=\"133.74,-21.5 143.74,-18 133.74,-14.5 133.74,-21.5\"/>\n</g>\n</g>\n</svg>\n",
      "text/plain": [
       "<gtbook.display.show at 0x105e157f0>"
      ]
     },
     "execution_count": 40,
     "metadata": {},
     "output_type": "execute_result"
    }
   ],
   "source": [
    "A = VARIABLES.discrete_series(\"A\", range(1, N), actions)\n",
    "bayesNet = gtsam.DiscreteBayesNet()\n",
    "bayesNet.add(state_prior)\n",
    "for k in range(1, N):\n",
    "    bayesNet.add(X[k+1], [X[k], A[k]], spec) # add creates conditional and adds\n",
    "show(bayesNet, hints={\"A\":2, \"X\":1}, boxes={A[1][0],A[2][0]})"
   ]
  },
  {
   "cell_type": "markdown",
   "metadata": {},
   "source": [
    "In an MDP we assume we *know* the actions (hence the boxes!) and the hence the chain is really defined on the state variables $X$. Looking at the Bayes net above, the state variables $X_1$, $X_2$ and $X_3$ indeed form a Markov chain, albeit one where the transition matrix depends on the chosen action.\n",
    "\n",
    "The joint distribution over the states $X$, *given* the action sequence $A$ is given by\n",
    "\n",
    "$$P(X|A)=P(X_1)\\prod_{k=2}^{N}P(X_k|A_k,X_{k-1})$$ \n",
    "\n",
    "\n",
    "While we know from the motion model given earlier where we expect to end up after one action,  it is less straightforward to calculate what our belief is after *two* actions. \n",
    "We will defer the exact calculation to the next Chapter, but in the next section we show how to get an approximate answer to that question via sampling."
   ]
  },
  {
   "cell_type": "markdown",
   "metadata": {},
   "source": [
    "## Forward Simulation\n",
    "\n",
    "We can use simulation in a graphical model to explore what a sequence of\n",
    "actions will yield as outcome. \n",
    "To sample from a *conditional* distribution $p(X|Y)$ we need to make\n",
    "sure we sample the variable $Y$ beforehand, and then proceed simply by\n",
    "selecting the appropriate PMF depending on the value of $Y$. We can then\n",
    "proceed as before using the inverse transform sampling method.\n",
    "\n",
    "Forward sampling in a Markov chain simply repeats these steps in\n",
    "succession, proceeding from left to right. \n",
    "Simulating a robot *given* an initial state $X_1$ and \n",
    "sequence of actions $A_{1},A_{2},\\ldots$ is then equivalent to sampling\n",
    "from this Markov chain:\n",
    "\n",
    "1.  Set $k=1$.\n",
    "\n",
    "2.  Simulate the effect of the next action by sampling the next state\n",
    "    $x_{k+1}$ from \n",
    "    \n",
    "    $$P(X_{k+1}|X_{k}=x_{k},A_{k}=a_{k}).$$\n",
    "\n",
    "3.  Increase $k$ and return to step $2$."
   ]
  },
  {
   "cell_type": "markdown",
   "metadata": {},
   "source": [
    "Below we show how to code this up and show  4 different “rollouts” by simulating in this way. After\n",
    "that, we can approximate the PMF of the final state by construction a\n",
    "histogram over the possible values of the state:"
   ]
  },
  {
   "cell_type": "code",
   "execution_count": 41,
   "metadata": {},
   "outputs": [
    {
     "name": "stdout",
     "output_type": "stream",
     "text": [
      "['Office', 'Office', 'Living Room']\n",
      "['Office', 'Office', 'Living Room']\n",
      "['Office', 'Office', 'Living Room']\n",
      "['Office', 'Office', 'Living Room']\n"
     ]
    }
   ],
   "source": [
    "def sample(x1, a1, a2):\n",
    "    values = VARIABLES.assignment({X[1]:x1, A[1]: a1})\n",
    "    x2 = rooms[bayesNet.at(1).sample(values)]\n",
    "    values = VARIABLES.assignment({X[2]:x2, A[2]: a2})\n",
    "    x3 = rooms[bayesNet.at(2).sample(values)]\n",
    "    return [x1, x1, x3]\n",
    "\n",
    "for i in range(4):\n",
    "    print(sample(\"Office\", \"R\",\"U\"))"
   ]
  },
  {
   "cell_type": "markdown",
   "metadata": {},
   "source": [
    "While simple, simulating from a forward model is a rather important\n",
    "technique, and underlies some of the recent successes in deep\n",
    "reinforcement learning, as well as the success of DeepMind in beating\n",
    "the world’s best players of the game of Go.\n",
    "\n",
    "### Exercise\n",
    "\n",
    "Generalize the above forward sampling algorithm to an arbitrary number of actions. Hint: you will have to make sure the variables are defined, and the Bayes Net is extended properly."
   ]
  },
  {
   "cell_type": "markdown",
   "metadata": {},
   "source": [
    "## Factored State Representations\n",
    "\n",
    "Factored state representations are useful if the state of the robot can\n",
    "be described using features that are relatively independent of each\n",
    "other. Continuing our example, the robot vacuum cleaner might also run\n",
    "out of battery power, so we could associate a different variable with\n",
    "its battery status, e.g., `empty`, `half`, or `full`.\n",
    "The state of the robot would then be specified by the combination of\n",
    "these two variables. Note that now the total number of possible states\n",
    "is combinatorial: if there are five rooms and three different battery\n",
    "levels, we have a total of 15 possible states for the robot.\n",
    "\n",
    "A possible model for battery life could be the following transition table, which is independent of which action was taken, and will always progress from `full` to `half`, then from `half` to `empty`, and of course once the battery is empty it will stay empty:"
   ]
  },
  {
   "cell_type": "code",
   "execution_count": 42,
   "metadata": {},
   "outputs": [
    {
     "data": {
      "text/html": [
       "<div>\n",
       "<p>  <i>P(B2|B1):</i></p>\n",
       "<table class='DiscreteConditional'>\n",
       "  <thead>\n",
       "    <tr><th><i>B1</i></th><th>full</th><th>half</th><th>empty</th></tr>\n",
       "  </thead>\n",
       "  <tbody>\n",
       "    <tr><th>full</th><td>0.9</td><td>0.1</td><td>0</td></tr>\n",
       "    <tr><th>half</th><td>0</td><td>0.9</td><td>0.1</td></tr>\n",
       "    <tr><th>empty</th><td>0</td><td>0</td><td>1</td></tr>\n",
       "  </tbody>\n",
       "</table>\n",
       "</div>"
      ],
      "text/plain": [
       "<gtbook.display.pretty at 0x106d727f0>"
      ]
     },
     "execution_count": 42,
     "metadata": {},
     "output_type": "execute_result"
    }
   ],
   "source": [
    "battery_states = [\"full\", \"half\", \"empty\"]\n",
    "B = VARIABLES.discrete_series(\"B\", range(1,N+1), battery_states)\n",
    "spec_b = \"9/1/0 0/9/1 0/0/1 \"\n",
    "pretty(gtsam.DiscreteConditional(B[2], [B[1]], spec_b))"
   ]
  },
  {
   "cell_type": "markdown",
   "metadata": {},
   "source": [
    "The graphical model approach allows us to easily extend probabilistic\n",
    "actions to factored state representations. The code below shows one way to do it: "
   ]
  },
  {
   "cell_type": "code",
   "execution_count": 43,
   "metadata": {},
   "outputs": [
    {
     "data": {
      "image/svg+xml": "<?xml version=\"1.0\" encoding=\"UTF-8\" standalone=\"no\"?>\n<!DOCTYPE svg PUBLIC \"-//W3C//DTD SVG 1.1//EN\"\n \"http://www.w3.org/Graphics/SVG/1.1/DTD/svg11.dtd\">\n<!-- Generated by graphviz version 2.50.0 (0)\n -->\n<!-- Pages: 1 -->\n<svg width=\"206pt\" height=\"188pt\"\n viewBox=\"0.00 0.00 206.00 188.00\" xmlns=\"http://www.w3.org/2000/svg\" xmlns:xlink=\"http://www.w3.org/1999/xlink\">\n<g id=\"graph0\" class=\"graph\" transform=\"scale(1 1) rotate(0) translate(4 184)\">\n<polygon fill=\"white\" stroke=\"transparent\" points=\"-4,4 -4,-184 202,-184 202,4 -4,4\"/>\n<!-- varA1 -->\n<g id=\"node1\" class=\"node\">\n<title>varA1</title>\n<polygon fill=\"none\" stroke=\"black\" points=\"54,-180 0,-180 0,-144 54,-144 54,-180\"/>\n<text text-anchor=\"middle\" x=\"27\" y=\"-158.3\" font-family=\"Times,serif\" font-size=\"14.00\">A1</text>\n</g>\n<!-- varB2 -->\n<g id=\"node4\" class=\"node\">\n<title>varB2</title>\n<ellipse fill=\"none\" stroke=\"black\" cx=\"99\" cy=\"-18\" rx=\"27\" ry=\"18\"/>\n<text text-anchor=\"middle\" x=\"99\" y=\"-14.3\" font-family=\"Times,serif\" font-size=\"14.00\">B2</text>\n</g>\n<!-- varA1&#45;&gt;varB2 -->\n<g id=\"edge5\" class=\"edge\">\n<title>varA1&#45;&gt;varB2</title>\n<path fill=\"none\" stroke=\"black\" d=\"M36.12,-143.76C48.7,-118.6 71.45,-73.1 85.86,-44.28\"/>\n<polygon fill=\"black\" stroke=\"black\" points=\"89.06,-45.7 90.4,-35.19 82.8,-42.57 89.06,-45.7\"/>\n</g>\n<!-- varX2 -->\n<g id=\"node7\" class=\"node\">\n<title>varX2</title>\n<ellipse fill=\"none\" stroke=\"black\" cx=\"99\" cy=\"-90\" rx=\"27\" ry=\"18\"/>\n<text text-anchor=\"middle\" x=\"99\" y=\"-86.3\" font-family=\"Times,serif\" font-size=\"14.00\">X2</text>\n</g>\n<!-- varA1&#45;&gt;varX2 -->\n<g id=\"edge8\" class=\"edge\">\n<title>varA1&#45;&gt;varX2</title>\n<path fill=\"none\" stroke=\"black\" d=\"M45.17,-143.83C54.73,-134.27 66.53,-122.47 76.65,-112.35\"/>\n<polygon fill=\"black\" stroke=\"black\" points=\"79.4,-114.55 83.99,-105.01 74.45,-109.6 79.4,-114.55\"/>\n</g>\n<!-- varA2 -->\n<g id=\"node2\" class=\"node\">\n<title>varA2</title>\n<polygon fill=\"none\" stroke=\"black\" points=\"126,-180 72,-180 72,-144 126,-144 126,-180\"/>\n<text text-anchor=\"middle\" x=\"99\" y=\"-158.3\" font-family=\"Times,serif\" font-size=\"14.00\">A2</text>\n</g>\n<!-- varB3 -->\n<g id=\"node5\" class=\"node\">\n<title>varB3</title>\n<ellipse fill=\"none\" stroke=\"black\" cx=\"171\" cy=\"-18\" rx=\"27\" ry=\"18\"/>\n<text text-anchor=\"middle\" x=\"171\" y=\"-14.3\" font-family=\"Times,serif\" font-size=\"14.00\">B3</text>\n</g>\n<!-- varA2&#45;&gt;varB3 -->\n<g id=\"edge1\" class=\"edge\">\n<title>varA2&#45;&gt;varB3</title>\n<path fill=\"none\" stroke=\"black\" d=\"M108.12,-143.76C120.7,-118.6 143.45,-73.1 157.86,-44.28\"/>\n<polygon fill=\"black\" stroke=\"black\" points=\"161.06,-45.7 162.4,-35.19 154.8,-42.57 161.06,-45.7\"/>\n</g>\n<!-- varX3 -->\n<g id=\"node8\" class=\"node\">\n<title>varX3</title>\n<ellipse fill=\"none\" stroke=\"black\" cx=\"171\" cy=\"-90\" rx=\"27\" ry=\"18\"/>\n<text text-anchor=\"middle\" x=\"171\" y=\"-86.3\" font-family=\"Times,serif\" font-size=\"14.00\">X3</text>\n</g>\n<!-- varA2&#45;&gt;varX3 -->\n<g id=\"edge4\" class=\"edge\">\n<title>varA2&#45;&gt;varX3</title>\n<path fill=\"none\" stroke=\"black\" d=\"M117.17,-143.83C126.73,-134.27 138.53,-122.47 148.65,-112.35\"/>\n<polygon fill=\"black\" stroke=\"black\" points=\"151.4,-114.55 155.99,-105.01 146.45,-109.6 151.4,-114.55\"/>\n</g>\n<!-- varB1 -->\n<g id=\"node3\" class=\"node\">\n<title>varB1</title>\n<ellipse fill=\"none\" stroke=\"black\" cx=\"27\" cy=\"-18\" rx=\"27\" ry=\"18\"/>\n<text text-anchor=\"middle\" x=\"27\" y=\"-14.3\" font-family=\"Times,serif\" font-size=\"14.00\">B1</text>\n</g>\n<!-- varB1&#45;&gt;varB2 -->\n<g id=\"edge6\" class=\"edge\">\n<title>varB1&#45;&gt;varB2</title>\n<path fill=\"none\" stroke=\"black\" d=\"M54.22,-18C56.64,-18 59.11,-18 61.6,-18\"/>\n<polygon fill=\"black\" stroke=\"black\" points=\"61.74,-21.5 71.74,-18 61.74,-14.5 61.74,-21.5\"/>\n</g>\n<!-- varB2&#45;&gt;varB3 -->\n<g id=\"edge2\" class=\"edge\">\n<title>varB2&#45;&gt;varB3</title>\n<path fill=\"none\" stroke=\"black\" d=\"M126.22,-18C128.64,-18 131.11,-18 133.6,-18\"/>\n<polygon fill=\"black\" stroke=\"black\" points=\"133.74,-21.5 143.74,-18 133.74,-14.5 133.74,-21.5\"/>\n</g>\n<!-- varX1 -->\n<g id=\"node6\" class=\"node\">\n<title>varX1</title>\n<ellipse fill=\"none\" stroke=\"black\" cx=\"27\" cy=\"-90\" rx=\"27\" ry=\"18\"/>\n<text text-anchor=\"middle\" x=\"27\" y=\"-86.3\" font-family=\"Times,serif\" font-size=\"14.00\">X1</text>\n</g>\n<!-- varX1&#45;&gt;varX2 -->\n<g id=\"edge7\" class=\"edge\">\n<title>varX1&#45;&gt;varX2</title>\n<path fill=\"none\" stroke=\"black\" d=\"M54.22,-90C56.64,-90 59.11,-90 61.6,-90\"/>\n<polygon fill=\"black\" stroke=\"black\" points=\"61.74,-93.5 71.74,-90 61.74,-86.5 61.74,-93.5\"/>\n</g>\n<!-- varX2&#45;&gt;varX3 -->\n<g id=\"edge3\" class=\"edge\">\n<title>varX2&#45;&gt;varX3</title>\n<path fill=\"none\" stroke=\"black\" d=\"M126.22,-90C128.64,-90 131.11,-90 133.6,-90\"/>\n<polygon fill=\"black\" stroke=\"black\" points=\"133.74,-93.5 143.74,-90 133.74,-86.5 133.74,-93.5\"/>\n</g>\n</g>\n</svg>\n",
      "text/plain": [
       "<gtbook.display.show at 0x106e19460>"
      ]
     },
     "execution_count": 43,
     "metadata": {},
     "output_type": "execute_result"
    }
   ],
   "source": [
    "factored = gtsam.DiscreteBayesNet()\n",
    "factored.add(state_prior)\n",
    "factored.add(B[1], [], \"1/0/0\")\n",
    "for k in range(1, N):\n",
    "    factored.add(X[k+1], [X[k], A[k]], spec)\n",
    "    factored.add(B[k+1], [A[k], B[k]], \"\".join([spec_b]*4))\n",
    "show(factored, hints={\"A\":2, \"X\":1, \"B\":0}, boxes={A[1][0],A[2][0]})"
   ]
  },
  {
   "cell_type": "markdown",
   "metadata": {},
   "source": [
    "You can see that under the transition models chosen, there are now two semi-independent Markov chains. In fact, as the action sequence is *given*, the chains are truly independent."
   ]
  },
  {
   "cell_type": "markdown",
   "metadata": {},
   "source": [
    "### Exercise\n",
    "Note that  do you above model makes a number of strong statements about the nature of the worlds:\n",
    "1. The next battery state does not depend on where we are in the world. This seems like an OK assumption. Still, can you think of situations where this is not a realistic assumptions?\n",
    "2. The next state does not depend on the battery life. Maybe this is not so defensible: clearly, if the battery is empty the robot cannot move, and the next state is the same as the previous state. It is worthwhile to think about what you would change above to make a more realistic model of the world."
   ]
  },
  {
   "cell_type": "markdown",
   "metadata": {},
   "source": [
    "## GTSAM 101\n",
    "\n",
    "> The GTSAM concepts used in this section, explained."
   ]
  },
  {
   "cell_type": "markdown",
   "metadata": {},
   "source": [
    "Above, we use the `gtsam.DiscreteBayesNet` class, and in particular these methods:\n",
    "\n",
    "- `add(self:, key: Tuple[int, int], parents: List[Tuple[int, int]], spec: str) -> None`: adds a conditional with the same arguments as the `gtsam.DiscreteConditional` constructor.\n",
    "- `at(self, i: int) -> gtsam.DiscreteConditional`: retrieves the $i^{th}$ conditional added."
   ]
  },
  {
   "cell_type": "markdown",
   "metadata": {},
   "source": [
    "We used a sleight of hand above to extend the battery depletion model to depend on the navigation action. The following is a but of python code that replicates our specification four times:"
   ]
  },
  {
   "cell_type": "code",
   "execution_count": 44,
   "metadata": {},
   "outputs": [
    {
     "data": {
      "text/plain": [
       "'9/1/0 0/9/1 0/0/1 9/1/0 0/9/1 0/0/1 9/1/0 0/9/1 0/0/1 9/1/0 0/9/1 0/0/1 '"
      ]
     },
     "execution_count": 44,
     "metadata": {},
     "output_type": "execute_result"
    }
   ],
   "source": [
    "\"\".join([spec_b]*4)"
   ]
  },
  {
   "cell_type": "markdown",
   "metadata": {},
   "source": [
    "We then made sure to specify the action *before* the previous battery state, so that the string above works out. Below we pretty-print to make verify this came out right:"
   ]
  },
  {
   "cell_type": "code",
   "execution_count": 45,
   "metadata": {},
   "outputs": [
    {
     "data": {
      "text/html": [
       "<div>\n",
       "<p>  <i>P(B2|A2,B1):</i></p>\n",
       "<table class='DiscreteConditional'>\n",
       "  <thead>\n",
       "    <tr><th><i>A2</i></th><th><i>B1</i></th><th>full</th><th>half</th><th>empty</th></tr>\n",
       "  </thead>\n",
       "  <tbody>\n",
       "    <tr><th>L</th><th>full</th><td>0.9</td><td>0.1</td><td>0</td></tr>\n",
       "    <tr><th>L</th><th>half</th><td>0</td><td>0.9</td><td>0.1</td></tr>\n",
       "    <tr><th>L</th><th>empty</th><td>0</td><td>0</td><td>1</td></tr>\n",
       "    <tr><th>R</th><th>full</th><td>0.9</td><td>0.1</td><td>0</td></tr>\n",
       "    <tr><th>R</th><th>half</th><td>0</td><td>0.9</td><td>0.1</td></tr>\n",
       "    <tr><th>R</th><th>empty</th><td>0</td><td>0</td><td>1</td></tr>\n",
       "    <tr><th>U</th><th>full</th><td>0.9</td><td>0.1</td><td>0</td></tr>\n",
       "    <tr><th>U</th><th>half</th><td>0</td><td>0.9</td><td>0.1</td></tr>\n",
       "    <tr><th>U</th><th>empty</th><td>0</td><td>0</td><td>1</td></tr>\n",
       "    <tr><th>D</th><th>full</th><td>0.9</td><td>0.1</td><td>0</td></tr>\n",
       "    <tr><th>D</th><th>half</th><td>0</td><td>0.9</td><td>0.1</td></tr>\n",
       "    <tr><th>D</th><th>empty</th><td>0</td><td>0</td><td>1</td></tr>\n",
       "  </tbody>\n",
       "</table>\n",
       "</div>"
      ],
      "text/plain": [
       "<gtbook.display.pretty at 0x106d72130>"
      ]
     },
     "execution_count": 45,
     "metadata": {},
     "output_type": "execute_result"
    }
   ],
   "source": [
    "pretty(gtsam.DiscreteConditional(B[2], [A[2], B[1]], \"\".join([spec_b]*4)))"
   ]
  },
  {
   "cell_type": "markdown",
   "metadata": {},
   "source": [
    "Of course, it is entirely possible to make the battery model *dependent* on the action chosen."
   ]
  },
  {
   "cell_type": "markdown",
   "metadata": {},
   "source": [
    "Finally, a word about the graphs above. You might wonder, why these graphs come out so beautifully positioned, e.g., to indicate time from left to right. This was accomplished with the `hints` argument, which positions variables series at an appropriate height. Similarly, the `boxes` argument (which takes `gtsam.Keys`, not tuples) indicates which variables should considered as given.\n",
    "\n",
    "These arguments are handled in the [`gtbook` library](https://gtbook.github.io/gtbook/), and are passed on in the appropriate format to the underlying GTSAM `dot` methods."
   ]
  }
 ],
 "metadata": {
  "colab": {
   "authorship_tag": "ABX9TyOWJ1do7sX2VVOgPTc45upi",
   "include_colab_link": true,
   "name": "S32_vacuum_actions.ipynb",
   "provenance": []
  },
  "interpreter": {
   "hash": "9f7376ced4243bb13dfcffa8a3ba834e0602aa8334cd3a1d8ba8d285f4628083"
  },
  "kernelspec": {
   "display_name": "Python 3 (ipykernel)",
   "language": "python",
   "name": "python3"
  },
  "language_info": {
   "codemirror_mode": {
    "name": "ipython",
    "version": 3
   },
   "file_extension": ".py",
   "mimetype": "text/x-python",
   "name": "python",
   "nbconvert_exporter": "python",
   "pygments_lexer": "ipython3",
   "version": "3.8.12"
  },
  "latex_metadata": {
   "affiliation": "Georgia Institute of Technology",
   "author": "Frank Dellaert and Seth Hutchinson",
   "title": "Introduction to Robotics"
  }
 },
 "nbformat": 4,
 "nbformat_minor": 4
}
