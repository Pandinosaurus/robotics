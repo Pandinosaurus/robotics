{
 "cells": [
  {
   "cell_type": "markdown",
   "metadata": {
    "colab_type": "text",
    "id": "view-in-github",
    "slideshow": {
     "slide_type": "skip"
    }
   },
   "source": [
    "<a href=\"https://colab.research.google.com/github/gtbook/robotics/blob/main/S26_sorter_learning.ipynb\" target=\"_parent\"><img src=\"https://colab.research.google.com/assets/colab-badge.svg\" alt=\"Open In Colab\"/></a>\n"
   ]
  },
  {
   "cell_type": "code",
   "execution_count": 1,
   "metadata": {
    "id": "JoW4C_OkOMhe",
    "slideshow": {
     "slide_type": "skip"
    },
    "tags": [
     "remove-cell"
    ]
   },
   "outputs": [
    {
     "name": "stdout",
     "output_type": "stream",
     "text": [
      "Note: you may need to restart the kernel to use updated packages.\n"
     ]
    }
   ],
   "source": [
    "%pip install -q -U gtbook\n"
   ]
  },
  {
   "cell_type": "code",
   "execution_count": 2,
   "metadata": {
    "id": "10-snNDwOSuC",
    "slideshow": {
     "slide_type": "skip"
    },
    "tags": [
     "remove-cell"
    ]
   },
   "outputs": [],
   "source": [
    "import numpy as np\n",
    "import pandas as pd\n",
    "import gtsam\n",
    "\n",
    "import plotly.graph_objs as go\n",
    "import plotly.express as px\n",
    "try:\n",
    "    import google.colab\n",
    "except:\n",
    "    import plotly.io as pio\n",
    "    pio.renderers.default = \"png\"\n",
    "\n",
    "from gtbook.discrete import Variables\n",
    "from gtbook.display import pretty, show\n",
    "\n",
    "# recap from S11:\n",
    "variables = Variables()\n",
    "categories = [\"cardboard\", \"paper\", \"can\", \"scrap metal\", \"bottle\"]\n",
    "Category = variables.discrete(\"Category\", categories)\n"
   ]
  },
  {
   "cell_type": "markdown",
   "metadata": {
    "id": "nAvx4-UCNzt2",
    "slideshow": {
     "slide_type": "slide"
    }
   },
   "source": [
    "# Learning\n",
    "\n",
    ">: We can learn prior and sensor models from data we collect."
   ]
  },
  {
   "cell_type": "code",
   "execution_count": 3,
   "metadata": {
    "tags": [
     "remove-input"
    ]
   },
   "outputs": [
    {
     "data": {
      "text/html": [
       "\n",
       "        <div align='center'>\n",
       "        <img src='https://github.com/gtbook/robotics/blob/main/Art/steampunk/S26-Trash%20sorting%20robot%20with%20gripper-05.jpg?raw=1' style='height:256 width:100%'/>\n",
       "        </div>\n",
       "        "
      ],
      "text/plain": [
       "<IPython.core.display.HTML object>"
      ]
     },
     "metadata": {},
     "output_type": "display_data"
    }
   ],
   "source": [
    "from gtbook.display import randomImages\n",
    "from IPython.core.display import display\n",
    "display(randomImages(2, 6, \"steampunk\", 1))"
   ]
  },
  {
   "cell_type": "markdown",
   "metadata": {
    "id": "tSvXl_mnYeJ_",
    "slideshow": {
     "slide_type": "fragment"
    }
   },
   "source": [
    "At various times in this chapter we seemed to pull information out of thin air. But the various probabilistic models we used can be *learned* from data. This is what we will discuss below:\n",
    "\n",
    "- In section 1 we talked about priors over state. Here we will estimate prior from counts, and talk about addding \"bogus counts\" in the case that we do not have a lot of data.\n",
    "- In section 3 we discussed sensor models. Below we estimate those sensor models from counts recorded for each of the possible states.\n",
    "- Counting works for discrete sensors, but for continuous sensors we have to a bit more work. We will end this section by showing how to fit simple Gaussian sensor models to data.\n"
   ]
  },
  {
   "cell_type": "markdown",
   "metadata": {
    "id": "HyMNgnbNYeJ_",
    "slideshow": {
     "slide_type": "slide"
    }
   },
   "source": [
    "## Estimating a Discrete PMF\n",
    "\n",
    "> : Count the occurences."
   ]
  },
  {
   "cell_type": "markdown",
   "metadata": {
    "id": "ER8xW_d2HmHR",
    "slideshow": {
     "slide_type": "skip"
    }
   },
   "source": [
    "In section 1 we introduced the notion of a probability mass function (PMF) to characterize the *a priori* probability of being in a certain state. It turns out that the *normalized counts* we obtain when observing states over a long time period is a good approximation for the PMF. The more samples that go in, the better the approximation.\n",
    "\n",
    "As an example, let us assume that at a different trash sorting cell we observe the a while and note what category each piece of trash is in. We might see something like:"
   ]
  },
  {
   "cell_type": "code",
   "execution_count": 4,
   "metadata": {
    "id": "Gmnf89Q7YeJ_",
    "slideshow": {
     "slide_type": "-"
    }
   },
   "outputs": [],
   "source": [
    "data = [1, 1, 1, 2, 1, 1, 1, 3, 0, 0, 0, 1,\n",
    "        2, 2, 2, 2, 4, 4, 4, 1, 1, 2, 1, 2, 1]\n"
   ]
  },
  {
   "cell_type": "markdown",
   "metadata": {
    "id": "LtttAWbHZgZ7",
    "slideshow": {
     "slide_type": "skip"
    }
   },
   "source": [
    "Using `numpy` can get the counts using the [`bincount`](https://numpy.org/doc/stable/reference/generated/numpy.bincount.html) function. We then plot the counts using plotly express:"
   ]
  },
  {
   "cell_type": "code",
   "execution_count": 5,
   "metadata": {
    "colab": {
     "base_uri": "https://localhost:8080/",
     "height": 542
    },
    "id": "pxBtzSjmZqR0",
    "slideshow": {
     "slide_type": "-"
    }
   },
   "outputs": [
    {
     "data": {
      "image/png": "[encoded data removed]"
     },
     "metadata": {},
     "output_type": "display_data"
    }
   ],
   "source": [
    "counts = np.bincount(data)\n",
    "px.bar(x=categories, y=counts)"
   ]
  },
  {
   "cell_type": "markdown",
   "metadata": {
    "id": "c4Jt2Mwrat5Q",
    "slideshow": {
     "slide_type": "slide"
    }
   },
   "source": [
    "We can then estimate the probability of each category $c_k$ simply by dividing the count $N_k$ by the number of data points $N$:\n",
    "\n",
    "$$P(x_k) \\approx \\frac{C_k}{N}$$\n",
    "\n",
    "In our example:"
   ]
  },
  {
   "cell_type": "code",
   "execution_count": 6,
   "metadata": {
    "colab": {
     "base_uri": "https://localhost:8080/"
    },
    "id": "wLX116r9aNdW",
    "slideshow": {
     "slide_type": "fragment"
    }
   },
   "outputs": [
    {
     "name": "stdout",
     "output_type": "stream",
     "text": [
      "Counts: [ 3 11  7  1  3]\n",
      "Estimated PMF: [0.12 0.44 0.28 0.04 0.12]\n"
     ]
    }
   ],
   "source": [
    "estimated_pmf = counts/sum(counts)\n",
    "print(f\"Counts: {counts}\\nEstimated PMF: {estimated_pmf}\")"
   ]
  },
  {
   "cell_type": "markdown",
   "metadata": {
    "id": "tTucUZMYbkX5",
    "slideshow": {
     "slide_type": "skip"
    }
   },
   "source": [
    "We can now easily turn it into a GTSAM discrete prior for pretty-printing:\n"
   ]
  },
  {
   "cell_type": "code",
   "execution_count": 7,
   "metadata": {
    "colab": {
     "base_uri": "https://localhost:8080/",
     "height": 175
    },
    "id": "NrfBXCjqbFVa",
    "slideshow": {
     "slide_type": "skip"
    }
   },
   "outputs": [
    {
     "data": {
      "text/html": [
       "<div>\n",
       "<p>  <i>P(Category):</i></p>\n",
       "<div>\n",
       "<table class='DecisionTreeFactor'>\n",
       "  <thead>\n",
       "    <tr><th>Category</th><th>value</th></tr>\n",
       "  </thead>\n",
       "  <tbody>\n",
       "    <tr><th>cardboard</th><td>0.12</td></tr>\n",
       "    <tr><th>paper</th><td>0.44</td></tr>\n",
       "    <tr><th>can</th><td>0.28</td></tr>\n",
       "    <tr><th>scrap metal</th><td>0.04</td></tr>\n",
       "    <tr><th>bottle</th><td>0.12</td></tr>\n",
       "  </tbody>\n",
       "</table>\n",
       "</div>"
      ],
      "text/plain": [
       "<gtbook.display.pretty at 0x13755de80>"
      ]
     },
     "execution_count": 7,
     "metadata": {},
     "output_type": "execute_result"
    }
   ],
   "source": [
    "# prior = gtsam.DiscretePrior(Category, estimated_pmf) # will be in gtsam 4.2a3\n",
    "prior = gtsam.DiscretePrior(Category, \"0.12/0.44/0.28/0.04/0.12\")\n",
    "pretty(prior, variables)"
   ]
  },
  {
   "cell_type": "markdown",
   "metadata": {
    "id": "h6s2i0jgaH8I",
    "slideshow": {
     "slide_type": "notes"
    }
   },
   "source": [
    "Note that the counts are the only quantitities one needs to estimate a PMF: a statistication would say that the counts are a **sufficient statistic** for the purpose of estimating the probability distribution. In fact, GTSAM can just take the counts themselves, as it normalizes internally:\n"
   ]
  },
  {
   "cell_type": "code",
   "execution_count": 8,
   "metadata": {
    "colab": {
     "base_uri": "https://localhost:8080/",
     "height": 175
    },
    "id": "rBzeHJ5tKXna",
    "slideshow": {
     "slide_type": "fragment"
    }
   },
   "outputs": [
    {
     "data": {
      "text/html": [
       "<div>\n",
       "<p>  <i>P(Category):</i></p>\n",
       "<div>\n",
       "<table class='DecisionTreeFactor'>\n",
       "  <thead>\n",
       "    <tr><th>Category</th><th>value</th></tr>\n",
       "  </thead>\n",
       "  <tbody>\n",
       "    <tr><th>cardboard</th><td>0.12</td></tr>\n",
       "    <tr><th>paper</th><td>0.44</td></tr>\n",
       "    <tr><th>can</th><td>0.28</td></tr>\n",
       "    <tr><th>scrap metal</th><td>0.04</td></tr>\n",
       "    <tr><th>bottle</th><td>0.12</td></tr>\n",
       "  </tbody>\n",
       "</table>\n",
       "</div>"
      ],
      "text/plain": [
       "<gtbook.display.pretty at 0x137686f10>"
      ]
     },
     "execution_count": 8,
     "metadata": {},
     "output_type": "execute_result"
    }
   ],
   "source": [
    "prior = gtsam.DiscretePrior(Category, \"3/11/7/1/3\")\n",
    "pretty(prior, variables)"
   ]
  },
  {
   "cell_type": "markdown",
   "metadata": {
    "id": "huXj9P8DHmHU",
    "slideshow": {
     "slide_type": "slide"
    }
   },
   "source": [
    "### Smoothing\n",
    "\n",
    "> : We make up fake data to deal with sparse data.\n"
   ]
  },
  {
   "cell_type": "markdown",
   "metadata": {
    "id": "buOzOMiVYeKA",
    "slideshow": {
     "slide_type": "notes"
    }
   },
   "source": [
    "A trick that statisticians and machine learning practicioners employ is \"smoothing\", which is especially important when you have very little data. Indeed, sometimes a category value will get zero counts, even though you *know* that occasionally we wil get that category. **Smoothing* is the process of letting the estimator know this by adding \"pseudo-counts\". For example, a very common approach is to simply add 1 to every count:\n"
   ]
  },
  {
   "cell_type": "code",
   "execution_count": 9,
   "metadata": {
    "id": "EcP7Hw3Fc8yh",
    "slideshow": {
     "slide_type": "-"
    }
   },
   "outputs": [],
   "source": [
    "counts, _ = np.histogram(data, bins=5)\n",
    "smoothed_counts = counts + 1\n",
    "smoothed_pmf = smoothed_counts/sum(smoothed_counts)\n"
   ]
  },
  {
   "cell_type": "markdown",
   "metadata": {
    "id": "1LqZGqHEdWmW",
    "slideshow": {
     "slide_type": "skip"
    }
   },
   "source": [
    "Comparing the two, we see that the smoothed PMF is more uniform, and accords more probability \"undercounted\" categories than the raw counts:\n"
   ]
  },
  {
   "cell_type": "code",
   "execution_count": 10,
   "metadata": {
    "colab": {
     "base_uri": "https://localhost:8080/",
     "height": 206
    },
    "id": "kUEPj_pXeihi",
    "slideshow": {
     "slide_type": "fragment"
    }
   },
   "outputs": [
    {
     "data": {
      "text/html": [
       "<div>\n",
       "<style scoped>\n",
       "    .dataframe tbody tr th:only-of-type {\n",
       "        vertical-align: middle;\n",
       "    }\n",
       "\n",
       "    .dataframe tbody tr th {\n",
       "        vertical-align: top;\n",
       "    }\n",
       "\n",
       "    .dataframe thead th {\n",
       "        text-align: right;\n",
       "    }\n",
       "</style>\n",
       "<table border=\"1\" class=\"dataframe\">\n",
       "  <thead>\n",
       "    <tr style=\"text-align: right;\">\n",
       "      <th></th>\n",
       "      <th>raw</th>\n",
       "      <th>smoothed</th>\n",
       "    </tr>\n",
       "  </thead>\n",
       "  <tbody>\n",
       "    <tr>\n",
       "      <th>cardboard</th>\n",
       "      <td>0.12</td>\n",
       "      <td>0.133333</td>\n",
       "    </tr>\n",
       "    <tr>\n",
       "      <th>paper</th>\n",
       "      <td>0.44</td>\n",
       "      <td>0.400000</td>\n",
       "    </tr>\n",
       "    <tr>\n",
       "      <th>can</th>\n",
       "      <td>0.28</td>\n",
       "      <td>0.266667</td>\n",
       "    </tr>\n",
       "    <tr>\n",
       "      <th>scrap metal</th>\n",
       "      <td>0.04</td>\n",
       "      <td>0.066667</td>\n",
       "    </tr>\n",
       "    <tr>\n",
       "      <th>bottle</th>\n",
       "      <td>0.12</td>\n",
       "      <td>0.133333</td>\n",
       "    </tr>\n",
       "  </tbody>\n",
       "</table>\n",
       "</div>"
      ],
      "text/plain": [
       "              raw  smoothed\n",
       "cardboard    0.12  0.133333\n",
       "paper        0.44  0.400000\n",
       "can          0.28  0.266667\n",
       "scrap metal  0.04  0.066667\n",
       "bottle       0.12  0.133333"
      ]
     },
     "execution_count": 10,
     "metadata": {},
     "output_type": "execute_result"
    }
   ],
   "source": [
    "# Some pandas magic to display a nice side-by-side table:\n",
    "df = pd.DataFrame(\n",
    "    {\"raw\": estimated_pmf, \"smoothed\": smoothed_pmf}, index=categories)\n",
    "df\n"
   ]
  },
  {
   "cell_type": "code",
   "execution_count": 11,
   "metadata": {
    "colab": {
     "base_uri": "https://localhost:8080/",
     "height": 542
    },
    "id": "pt1Pj13kdgDx",
    "slideshow": {
     "slide_type": "slide"
    }
   },
   "outputs": [
    {
     "data": {
      "image/png": "[encoded data removed]"
     },
     "metadata": {},
     "output_type": "display_data"
    }
   ],
   "source": [
    "# and some plotly magic to plot them side by side:\n",
    "fig = px.bar(df, x=categories, y=\"raw\", barmode=\"group\", title=\"Smoothed PMF\")\n",
    "fig.add_bar(x=categories, y=smoothed_pmf, name=\"smoothed\")\n"
   ]
  },
  {
   "cell_type": "markdown",
   "metadata": {
    "id": "omL1vG1RYeKA",
    "slideshow": {
     "slide_type": "slide"
    }
   },
   "source": [
    "## Modeling a Sensor from Data\n",
    "\n",
    "> : When learning a conditional distribution, we need to separate out the counts based on the conditioning variable.\n"
   ]
  },
  {
   "cell_type": "markdown",
   "metadata": {
    "id": "HfVwjRvYKsJX",
    "slideshow": {
     "slide_type": "notes"
    }
   },
   "source": [
    "A `gtsam.DiscreteConditional` takes the counts, grouped by the conditioning variable. In our case, `Category` can take on 5 separate values, and hence we have five groups. For example a binary sensor:\n"
   ]
  },
  {
   "cell_type": "code",
   "execution_count": 12,
   "metadata": {
    "colab": {
     "base_uri": "https://localhost:8080/",
     "height": 175
    },
    "id": "aO_N9CQmYeKB",
    "slideshow": {
     "slide_type": "fragment"
    }
   },
   "outputs": [
    {
     "data": {
      "text/html": [
       "<div>\n",
       "<p>  <i>P(Conductivity|Category):</i></p>\n",
       "<table class='DiscreteConditional'>\n",
       "  <thead>\n",
       "    <tr><th><i>Category</i></th><th>false</th><th>true</th></tr>\n",
       "  </thead>\n",
       "  <tbody>\n",
       "    <tr><th>cardboard</th><td>0.8</td><td>0.2</td></tr>\n",
       "    <tr><th>paper</th><td>0.4</td><td>0.6</td></tr>\n",
       "    <tr><th>can</th><td>0.75</td><td>0.25</td></tr>\n",
       "    <tr><th>scrap metal</th><td>0.4</td><td>0.6</td></tr>\n",
       "    <tr><th>bottle</th><td>0.5</td><td>0.5</td></tr>\n",
       "  </tbody>\n",
       "</table>\n",
       "</div>"
      ],
      "text/plain": [
       "<gtbook.display.pretty at 0x162cb4250>"
      ]
     },
     "execution_count": 12,
     "metadata": {},
     "output_type": "execute_result"
    }
   ],
   "source": [
    "Conductivity = variables.binary(\"Conductivity\")\n",
    "P_Conductivty_Category = gtsam.DiscreteConditional(\n",
    "    Conductivity, [Category], \"80/20 40/60 12/4 100/150 10/10\")\n",
    "pretty(P_Conductivty_Category, variables)\n"
   ]
  },
  {
   "cell_type": "markdown",
   "metadata": {
    "id": "PkScfWimLsx0",
    "slideshow": {
     "slide_type": "slide"
    }
   },
   "source": [
    "And for a three-valued sensor:\n"
   ]
  },
  {
   "cell_type": "code",
   "execution_count": 13,
   "metadata": {
    "colab": {
     "base_uri": "https://localhost:8080/",
     "height": 175
    },
    "id": "uiIv70jsLxJV",
    "slideshow": {
     "slide_type": "fragment"
    }
   },
   "outputs": [
    {
     "data": {
      "text/html": [
       "<div>\n",
       "<p>  <i>P(ThreeValued|Category):</i></p>\n",
       "<table class='DiscreteConditional'>\n",
       "  <thead>\n",
       "    <tr><th><i>Category</i></th><th>Value1</th><th>Value2</th><th>Value3</th></tr>\n",
       "  </thead>\n",
       "  <tbody>\n",
       "    <tr><th>cardboard</th><td>0.1</td><td>0.7</td><td>0.2</td></tr>\n",
       "    <tr><th>paper</th><td>0.2</td><td>0.2</td><td>0.6</td></tr>\n",
       "    <tr><th>can</th><td>0.125</td><td>0.625</td><td>0.25</td></tr>\n",
       "    <tr><th>scrap metal</th><td>0.4</td><td>0.4</td><td>0.2</td></tr>\n",
       "    <tr><th>bottle</th><td>0.25</td><td>0.25</td><td>0.5</td></tr>\n",
       "  </tbody>\n",
       "</table>\n",
       "</div>"
      ],
      "text/plain": [
       "<gtbook.display.pretty at 0x162cb7370>"
      ]
     },
     "execution_count": 13,
     "metadata": {},
     "output_type": "execute_result"
    }
   ],
   "source": [
    "ThreeValued = variables.discrete(\"ThreeValued\", [\"Value1\", \"Value2\", \"Value3\"])\n",
    "P_ThreeValued_Category = gtsam.DiscreteConditional(ThreeValued, [Category],\n",
    "                                                   \"10/70/20 20/20/60 2/10/4 100/100/50 5/5/10\")\n",
    "pretty(P_ThreeValued_Category, variables)\n"
   ]
  },
  {
   "cell_type": "markdown",
   "metadata": {
    "id": "yXz5j39vMV1y",
    "slideshow": {
     "slide_type": "notes"
    }
   },
   "source": [
    "Once again, note that the *rows* are normalized to be proper PMFs, given the conditioning variable. The columns are not, and instead form likelihoods over the category, when a particular value is observed for `ThreeValued` .\n",
    "\n",
    "Again, we can add pseudo-counts to all counts if we have very little data, or to specific groups if you only have prior knowledge about a particular setting. If you really know nothing about the behavior of a sensor, adding a pseudo-count of 1 is a good thing to do in general: it prevents according zero probability to a rare event. The downside is that you will have a biased view of the CPT, but this disadvantage quickly goes away as you add more and more data.\n"
   ]
  },
  {
   "cell_type": "markdown",
   "metadata": {
    "id": "g9BZmNXuYeKB",
    "slideshow": {
     "slide_type": "slide"
    }
   },
   "source": [
    "## Fitting a Gaussian\n",
    "\n",
    "If we observe *continuous* data that we suspect is generated from a Gaussian density, then we can easily fit the estimated mean $\\hat{\\mu}$ by \n",
    "\n",
    "$$\\hat{\\mu} = \\frac{1}{N} \\sum_i x_i.$$ \n",
    "\n",
    "The other statistic we need is the variance $\\sigma^2$ defined as the expectation of the squared error:\n",
    "\n",
    "$$E[(x-\\mu)^2].$$\n",
    "\n",
    "Fitting the variance can be done after we obtained the empirical mean $\\hat{\\mu}$, by\n",
    "\n",
    "$$\\widehat{\\sigma^2} = \\frac{1}{N-1} \\sum_i (x_i-\\hat{\\mu})^2.$$ \n",
    "\n",
    "The standard deviation is defined as the square root of the variance, and hence: \n",
    "\n",
    "$$\\widehat{\\sigma} = \\sqrt{\\widehat{\\sigma^2}}.$$"
   ]
  },
  {
   "cell_type": "markdown",
   "metadata": {
    "slideshow": {
     "slide_type": "skip"
    }
   },
   "source": [
    "**Note**: above we divide by $N-1$ and not by $N$: informally, the reason is that we already \"used up\" one data point by estimating the mean from our samples, and we correct for that to get an \"unbiased\" estimate for the variance.\n"
   ]
  },
  {
   "cell_type": "markdown",
   "metadata": {
    "id": "XC4a7pdNQcli",
    "slideshow": {
     "slide_type": "slide"
    }
   },
   "source": [
    "Below is some python code to do just that, using the `numpy` library. Let us first generate some \"data\" from a Gaussian with known mean and standard deviation:\n"
   ]
  },
  {
   "cell_type": "code",
   "execution_count": 14,
   "metadata": {
    "id": "9lB8zHGlQoQ9",
    "slideshow": {
     "slide_type": "-"
    }
   },
   "outputs": [],
   "source": [
    "mean = 200  # grams, say...\n",
    "stddev = 50  # also in grams\n",
    "N = 200  # number of samples\n",
    "data = np.random.normal(mean, stddev, N)\n"
   ]
  },
  {
   "cell_type": "markdown",
   "metadata": {
    "id": "FiRWQvBLRPwX",
    "slideshow": {
     "slide_type": "notes"
    }
   },
   "source": [
    "When we plot a histogram, we can see the typical \"bell curve\" shape emerge (try increasing N!):\n"
   ]
  },
  {
   "cell_type": "code",
   "execution_count": 15,
   "metadata": {
    "colab": {
     "base_uri": "https://localhost:8080/",
     "height": 542
    },
    "id": "2gtKGPcdQpL9",
    "slideshow": {
     "slide_type": "fragment"
    }
   },
   "outputs": [
    {
     "data": {
      "image/png": "[encoded data removed]"
     },
     "metadata": {},
     "output_type": "display_data"
    }
   ],
   "source": [
    "nbins = N//10\n",
    "px.histogram(x=data, nbins=nbins)\n"
   ]
  },
  {
   "cell_type": "markdown",
   "metadata": {
    "id": "49GNvxAHRjD4",
    "slideshow": {
     "slide_type": "slide"
    }
   },
   "source": [
    "The sample mean is easy enough with `np.mean` :\n"
   ]
  },
  {
   "cell_type": "code",
   "execution_count": 16,
   "metadata": {
    "colab": {
     "base_uri": "https://localhost:8080/"
    },
    "id": "_Ni9Xu0tRDzH",
    "slideshow": {
     "slide_type": "fragment"
    }
   },
   "outputs": [
    {
     "data": {
      "text/plain": [
       "201.15151149975318"
      ]
     },
     "execution_count": 16,
     "metadata": {},
     "output_type": "execute_result"
    }
   ],
   "source": [
    "mu_hat = np.mean(data)\n",
    "mu_hat\n"
   ]
  },
  {
   "cell_type": "code",
   "execution_count": 17,
   "metadata": {
    "colab": {
     "base_uri": "https://localhost:8080/"
    },
    "id": "E9Ye6FDqRrqS",
    "slideshow": {
     "slide_type": "skip"
    }
   },
   "outputs": [
    {
     "data": {
      "text/plain": [
       "2229.428807685623"
      ]
     },
     "execution_count": 17,
     "metadata": {},
     "output_type": "execute_result"
    }
   ],
   "source": [
    "np.var(data, ddof=1)\n"
   ]
  },
  {
   "cell_type": "markdown",
   "metadata": {
    "id": "WVZQIL3BTK1D",
    "slideshow": {
     "slide_type": "skip"
    }
   },
   "source": [
    "Of course we can do this by ourselves as well:\n"
   ]
  },
  {
   "cell_type": "markdown",
   "metadata": {
    "id": "AH1yvETERxjQ",
    "slideshow": {
     "slide_type": "notes"
    }
   },
   "source": [
    "Note that though with 200 samples the histogram is quite \"messy\", the sample mean $\\hat{\\mu}$ is close to the true mean $\\mu=200$.\n",
    "\n",
    "There is also a function `np.var` that calculates the sample variance, but we need to take care to provide the `ddof=1` argument to get the unbiased estimate (do `help(np.var)` to find out more).\n"
   ]
  },
  {
   "cell_type": "markdown",
   "metadata": {
    "slideshow": {
     "slide_type": "fragment"
    }
   },
   "source": [
    "Here is the code for variance:\n"
   ]
  },
  {
   "cell_type": "code",
   "execution_count": 18,
   "metadata": {
    "colab": {
     "base_uri": "https://localhost:8080/"
    },
    "id": "FCc_aiKMTOEL",
    "slideshow": {
     "slide_type": "-"
    }
   },
   "outputs": [
    {
     "data": {
      "text/plain": [
       "2229.428807685623"
      ]
     },
     "execution_count": 18,
     "metadata": {},
     "output_type": "execute_result"
    }
   ],
   "source": [
    "var_hat = np.sum(np.square(data-mu_hat))/(N-1)\n",
    "var_hat\n"
   ]
  },
  {
   "cell_type": "markdown",
   "metadata": {
    "id": "xtuu2iPRTFOK",
    "slideshow": {
     "slide_type": "fragment"
    }
   },
   "source": [
    "By taking the square root, we see that it matches our ground truth standard deviation $\\sigma$ quite well:\n"
   ]
  },
  {
   "cell_type": "code",
   "execution_count": 19,
   "metadata": {
    "colab": {
     "base_uri": "https://localhost:8080/"
    },
    "id": "TexNM3djHmHW",
    "slideshow": {
     "slide_type": "-"
    }
   },
   "outputs": [
    {
     "name": "stdout",
     "output_type": "stream",
     "text": [
      "47.21682759023125\n"
     ]
    }
   ],
   "source": [
    "sigma_hat = np.sqrt(var_hat)\n",
    "print(sigma_hat)\n"
   ]
  },
  {
   "cell_type": "markdown",
   "metadata": {
    "slideshow": {
     "slide_type": "slide"
    }
   },
   "source": [
    "### Comparison\n",
    "\n",
    "We can now plot our estimated Gaussian together with the data:\n"
   ]
  },
  {
   "cell_type": "code",
   "execution_count": 20,
   "metadata": {
    "colab": {
     "base_uri": "https://localhost:8080/",
     "height": 542
    },
    "id": "k6mP0n6iSJl5",
    "slideshow": {
     "slide_type": "-"
    }
   },
   "outputs": [
    {
     "data": {
      "image/png": "[encoded data removed]"
     },
     "metadata": {},
     "output_type": "display_data"
    }
   ],
   "source": [
    "fig = px.histogram(x=data, nbins=nbins)\n",
    "X = np.arange(0, 350)\n",
    "K = N*(400/nbins)/np.sqrt(2*np.pi*var_hat)  # expected height of histogram...\n",
    "fig.add_trace(go.Scatter(x=X, y=K * np.exp(-0.5*np.square(X-mu_hat)/var_hat)))\n",
    "fig\n"
   ]
  },
  {
   "cell_type": "markdown",
   "metadata": {
    "id": "TidGLofzJb2C",
    "slideshow": {
     "slide_type": "skip"
    }
   },
   "source": [
    "## Summary\n",
    "\n",
    "We saw above that learning conditional probability tables accounts amounts to counting the occurrence of certain events. In the case of sensor models, it is really about the co-occurrence of an event: how often do we see a particular sensor reading in a particular state? Finally if the sensor is continuous, we have to posit a parametric model, in this case we use the Gaussian, and use techniques from statistics to estimate its parameters. For a Gaussian, we need to only estimate its mean $\\mu$ and its a variance $\\sigma^2$, and weused techniques from statistics to estimate these.\n",
    "\n",
    "In the case of discrete sensors we also looked at a very simple form of smoothing to cope with the absence of certain counts, which is common for rare events. In fact, this amounts to introducing a *hyperprior* on the parameters to be estimated - in this case the numbers of a conditional probability table. Hyperpriors are also available for estimating parameters of a Gaussian, but that is beyond the scope of this section.\n",
    "\n",
    "You might think it is a bit of a stretch to call these procedures \"learning\". And indeed, they are simple parameter estimation problems as encountered in a statistics 101 class. However, although we will look at much more sophisticated learning approaches, even these simple algorithms *learn* about the world from data. Based on the sensor models, a robot will change how it acts in the world. Together with a value system, supplied in the form of a cost matrix by its user, the robot will make more optimal decisions by observing how the environments behaves."
   ]
  },
  {
   "cell_type": "code",
   "execution_count": null,
   "metadata": {
    "id": "-A9FTkdaLEpo"
   },
   "outputs": [],
   "source": []
  }
 ],
 "metadata": {
  "colab": {
   "collapsed_sections": [],
   "name": "S16_sorter_learning.ipynb",
   "provenance": [],
   "toc_visible": true
  },
  "interpreter": {
   "hash": "c6e4e9f98eb68ad3b7c296f83d20e6de614cb42e90992a65aa266555a3137d0d"
  },
  "kernelspec": {
   "display_name": "Python 3 (ipykernel)",
   "language": "python",
   "name": "python3"
  },
  "language_info": {
   "codemirror_mode": {
    "name": "ipython",
    "version": 3
   },
   "file_extension": ".py",
   "mimetype": "text/x-python",
   "name": "python",
   "nbconvert_exporter": "python",
   "pygments_lexer": "ipython3",
   "version": "3.8.12"
  },
  "latex_metadata": {
   "affiliation": "Georgia Institute of Technology",
   "author": "Frank Dellaert and Seth Hutchinson",
   "title": "Introduction to Robotics"
  }
 },
 "nbformat": 4,
 "nbformat_minor": 1
}
