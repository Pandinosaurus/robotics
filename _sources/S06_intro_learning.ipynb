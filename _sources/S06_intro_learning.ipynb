{
 "cells": [
  {
   "cell_type": "markdown",
   "metadata": {},
   "source": [
    "# Learning\n",
    "\n",
    "> a tweet about learning\n",
    "\n",
    "For many applications, it is impossible to program a robot for all situations that might occur.\n",
    "In some cases, this is due to the fact that arbitrarily many possible situations could occur.\n",
    "For example, a vacuum cleaning robot cannot anticipate all possible arrangements and types of furniture that\n",
    "might be found in a living room.\n",
    "In other accplications, things are simply too complex to model exactly.\n",
    "Consider a bipedal robot walking over uneven terrain; the dynamics of the robot are already\n",
    "complex even for simple environments, but modeling the dynamics of walking over irregular\n",
    "terrain is essentially impossible.\n",
    "\n",
    "Machine learning approaches can be used in these situations to adapt to unknown or changing circumstances,\n",
    "or to improve the robot's performance over time.\n",
    "In this book, we will consider three main types of machine learning: \n",
    "* Reinforement Learning (RL)\n",
    "* Depp Learning\n",
    "* Deep Reinforcement Learning (Deep RL)\n"
   ]
  },
  {
   "cell_type": "markdown",
   "metadata": {},
   "source": [
    "## Reinforcement Learning\n"
   ]
  },
  {
   "cell_type": "markdown",
   "metadata": {},
   "source": [
    "## Neural Networks"
   ]
  },
  {
   "cell_type": "markdown",
   "metadata": {},
   "source": [
    "## Deep Reinforcement Learning"
   ]
  }
 ],
 "metadata": {
  "latex_metadata": {
     "affiliation": "Georgia Institute of Technology",
     "author": "Frank Dellaert and Seth Hutchinson",
     "title": "Introduction to Robotics"
  },    
  "language_info": {
   "name": "plaintext"
  },
  "orig_nbformat": 4
 },
 "nbformat": 4,
 "nbformat_minor": 2
}
