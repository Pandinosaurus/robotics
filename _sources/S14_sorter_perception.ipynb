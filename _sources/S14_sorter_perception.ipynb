{
  "cells": [
    {
      "cell_type": "markdown",
      "metadata": {
        "id": "view-in-github",
        "colab_type": "text"
      },
      "source": [
        "<a href=\"https://colab.research.google.com/github/dellaert/robotics2/blob/main/S14_sorter_perception.ipynb\" target=\"_parent\"><img src=\"https://colab.research.google.com/assets/colab-badge.svg\" alt=\"Open In Colab\"/></a>"
      ]
    },
    {
      "cell_type": "code",
      "execution_count": 1,
      "metadata": {
        "id": "w-CIikP0ZZnm",
        "outputId": "0fa49893-2ca9-4397-8980-718f49df1f8c",
        "colab": {
          "base_uri": "https://localhost:8080/"
        }
      },
      "outputs": [
        {
          "output_type": "stream",
          "name": "stdout",
          "text": [
            "\u001b[K     |████████████████████████████████| 20.5 MB 7.8 MB/s \n",
            "\u001b[?25h"
          ]
        }
      ],
      "source": [
        "%pip install -q -U gtbook"
      ]
    },
    {
      "cell_type": "code",
      "execution_count": 2,
      "metadata": {
        "id": "uef6Kglzcrha"
      },
      "outputs": [],
      "source": [
        "import numpy as np\n",
        "import gtsam\n",
        "\n",
        "from gtbook.discrete import Variables\n",
        "from gtbook.display import show, pretty\n",
        "\n",
        "from IPython.display import SVG, display\n",
        "from ipywidgets import interact\n",
        "import plotly\n",
        "import plotly.express as px\n",
        "import plotly.graph_objects as go\n",
        "from plotly.subplots import make_subplots"
      ]
    },
    {
      "cell_type": "markdown",
      "metadata": {
        "id": "B7tUnIYWUg-m"
      },
      "source": [
        "# Perception\n",
        "> :Perception is the process of turning sensing measurements in actionable information.\n",
        "\n",
        "We define perception to be the act of assigning probabilities to all possible states. In the previous section we learned about how to *model* sensors, and how to simulate how sensors work. However, in this section we want to invert that process: when given one or more measurements, *infer* what our state might be. In general, because sensors are not deterministic devices, we are only be able to pinpoint exactly what the state is: we end up with a probability distribution.\n",
        "\n",
        "However, before going all probabilistic, we look at *maximum likelihood estimation* below. This is a simpler paradigm, and it also introduces some of the building blocks we need later."
      ]
    },
    {
      "cell_type": "markdown",
      "metadata": {
        "id": "b4Gx6xVwn9QQ"
      },
      "source": [
        "## Maximum Likelihood\n",
        "\n",
        "> :Maximum likelihood estimation outputs the state that agrees most with the measurement.\n",
        "\n",
        "Let us revisit the weight sensor from the previous section as an example. We first re-define it in code:"
      ]
    },
    {
      "cell_type": "code",
      "execution_count": 3,
      "metadata": {
        "id": "ypI4NsMcUg-o"
      },
      "outputs": [],
      "source": [
        "def Gaussian(x, mu=0.0, sigma=1.0):\n",
        "    return np.exp(-0.5*(x-mu)**2/sigma**2)/np.sqrt(2*np.pi*sigma**2)\n",
        "# Conditional weight density, mean and standard deviation specified in in grams:\n",
        "pWC = np.array([[20, 10], [5, 5], [15, 5], [150, 100], [300, 200]])"
      ]
    },
    {
      "cell_type": "markdown",
      "metadata": {
        "id": "QGCXyDm_Ug-o"
      },
      "source": [
        "Now, suppose an unknown object enters the sorting area, and the weight sensor outputs **50 grams**. What state is the most *likely* to agree with this measurement? One idea is to simply check the conditional probability $$p(weight=30|Category)$$ value for each of the possible categories. The following piece of code does that for our example:"
      ]
    },
    {
      "cell_type": "code",
      "execution_count": 15,
      "metadata": {
        "colab": {
          "base_uri": "https://localhost:8080/"
        },
        "id": "qmImNulSUg-o",
        "outputId": "72bbe435-7748-4ceb-cf1f-68cf5382f6ed"
      },
      "outputs": [
        {
          "output_type": "stream",
          "name": "stdout",
          "text": [
            "cardboard   :0.00044\n",
            "paper       :0.00000\n",
            "can         :0.00000\n",
            "scrap metal :0.00242\n",
            "bottle      :0.00091\n"
          ]
        }
      ],
      "source": [
        "categories = [\"cardboard\", \"paper\", \"can\", \"scrap metal\", \"bottle\"]\n",
        "for index, category in enumerate(categories):\n",
        "    mu, sigma = pWC[index]\n",
        "    print(f\"{category:12}:{Gaussian(50, mu, sigma):.5f}\")"
      ]
    },
    {
      "cell_type": "markdown",
      "metadata": {
        "id": "ZC7SCL1vUg-p"
      },
      "source": [
        "Above, we `enumerate` all possible categories, and use the `index` to pick out the parameters of the corresponding conditional Gaussian density. Then we just print it nicely."
      ]
    },
    {
      "cell_type": "markdown",
      "metadata": {
        "id": "ERKUcCACUg-q"
      },
      "source": [
        "We can see that choosing the `scrap metal` category for the state would the highest probability to the measurement $weight=50$. We say that `scrap metal` is the **maximum likelihood estimate** of the category given the measurement. Formally, we define it as\n",
        "$$X^{ML} \\doteq \\arg \\max_X p(Z=z|X).$$\n",
        "In other words, we vary the *state* $X$ in the conditional probability while keeping the measurement $Z$ fixed, with known value $z$, and then single out the $X$ that maximizes the resulting number.\n",
        "\n"
      ]
    },
    {
      "cell_type": "markdown",
      "metadata": {
        "id": "ETFFoOyAUg-q"
      },
      "source": [
        "## The Likelihood Function\n",
        "> :Likelihoods are not probabilities.\n",
        "\n",
        "It is convenient to define the **likelihood** of a state $X$ given the measurement $z$ is defined as any function $L(X;z)$ proportional to the conditional density $p(z|X)$:\n",
        "$$L(X;z) \\propto p(z|X).$$ \n",
        "The notation emphasizes that the measurement $z$ is given, and the likelihood is a function defined on the state $X$. This is something many people get confused about. It is the *state* that is likely or unlikely, not the measurement.\n",
        "\n",
        "Let us define the likelihood function in code and plot it:"
      ]
    },
    {
      "cell_type": "code",
      "execution_count": 16,
      "metadata": {
        "colab": {
          "base_uri": "https://localhost:8080/",
          "height": 542
        },
        "id": "YIAynL0zUg-q",
        "outputId": "467ad03a-5cd5-4dd6-c59f-f4c22801c67f"
      },
      "outputs": [
        {
          "output_type": "display_data",
          "data": {
            "text/html": [
              "<html>\n",
              "<head><meta charset=\"utf-8\" /></head>\n",
              "<body>\n",
              "    <div>\n",
              "            <script src=\"https://cdnjs.cloudflare.com/ajax/libs/mathjax/2.7.5/MathJax.js?config=TeX-AMS-MML_SVG\"></script><script type=\"text/javascript\">if (window.MathJax) {MathJax.Hub.Config({SVG: {font: \"STIX-Web\"}});}</script>\n",
              "                <script type=\"text/javascript\">window.PlotlyConfig = {MathJaxConfig: 'local'};</script>\n",
              "        <script src=\"https://cdn.plot.ly/plotly-latest.min.js\"></script>    \n",
              "            <div id=\"bcdfd2cc-6e54-431c-a1c7-650897c76a01\" class=\"plotly-graph-div\" style=\"height:525px; width:100%;\"></div>\n",
              "            <script type=\"text/javascript\">\n",
              "                \n",
              "                    window.PLOTLYENV=window.PLOTLYENV || {};\n",
              "                    \n",
              "                if (document.getElementById(\"bcdfd2cc-6e54-431c-a1c7-650897c76a01\")) {\n",
              "                    Plotly.newPlot(\n",
              "                        'bcdfd2cc-6e54-431c-a1c7-650897c76a01',\n",
              "                        [{\"alignmentgroup\": \"True\", \"hoverlabel\": {\"namelength\": 0}, \"hovertemplate\": \"x=%{x}<br>y=%{y}\", \"legendgroup\": \"\", \"marker\": {\"color\": \"#636efa\"}, \"name\": \"\", \"offsetgroup\": \"\", \"orientation\": \"v\", \"showlegend\": false, \"textposition\": \"auto\", \"type\": \"bar\", \"x\": [\"cardboard\", \"paper\", \"can\", \"scrap metal\", \"bottle\"], \"xaxis\": \"x\", \"y\": [0.0004431848411938007, 2.055954714333783e-19, 1.8269440816729187e-12, 0.0024197072451914332, 0.0009132454269451095], \"yaxis\": \"y\"}],\n",
              "                        {\"barmode\": \"relative\", \"legend\": {\"tracegroupgap\": 0}, \"margin\": {\"t\": 60}, \"template\": {\"data\": {\"bar\": [{\"error_x\": {\"color\": \"#2a3f5f\"}, \"error_y\": {\"color\": \"#2a3f5f\"}, \"marker\": {\"line\": {\"color\": \"#E5ECF6\", \"width\": 0.5}}, \"type\": \"bar\"}], \"barpolar\": [{\"marker\": {\"line\": {\"color\": \"#E5ECF6\", \"width\": 0.5}}, \"type\": \"barpolar\"}], \"carpet\": [{\"aaxis\": {\"endlinecolor\": \"#2a3f5f\", \"gridcolor\": \"white\", \"linecolor\": \"white\", \"minorgridcolor\": \"white\", \"startlinecolor\": \"#2a3f5f\"}, \"baxis\": {\"endlinecolor\": \"#2a3f5f\", \"gridcolor\": \"white\", \"linecolor\": \"white\", \"minorgridcolor\": \"white\", \"startlinecolor\": \"#2a3f5f\"}, \"type\": \"carpet\"}], \"choropleth\": [{\"colorbar\": {\"outlinewidth\": 0, \"ticks\": \"\"}, \"type\": \"choropleth\"}], \"contour\": [{\"colorbar\": {\"outlinewidth\": 0, \"ticks\": \"\"}, \"colorscale\": [[0.0, \"#0d0887\"], [0.1111111111111111, \"#46039f\"], [0.2222222222222222, \"#7201a8\"], [0.3333333333333333, \"#9c179e\"], [0.4444444444444444, \"#bd3786\"], [0.5555555555555556, \"#d8576b\"], [0.6666666666666666, \"#ed7953\"], [0.7777777777777778, \"#fb9f3a\"], [0.8888888888888888, \"#fdca26\"], [1.0, \"#f0f921\"]], \"type\": \"contour\"}], \"contourcarpet\": [{\"colorbar\": {\"outlinewidth\": 0, \"ticks\": \"\"}, \"type\": \"contourcarpet\"}], \"heatmap\": [{\"colorbar\": {\"outlinewidth\": 0, \"ticks\": \"\"}, \"colorscale\": [[0.0, \"#0d0887\"], [0.1111111111111111, \"#46039f\"], [0.2222222222222222, \"#7201a8\"], [0.3333333333333333, \"#9c179e\"], [0.4444444444444444, \"#bd3786\"], [0.5555555555555556, \"#d8576b\"], [0.6666666666666666, \"#ed7953\"], [0.7777777777777778, \"#fb9f3a\"], [0.8888888888888888, \"#fdca26\"], [1.0, \"#f0f921\"]], \"type\": \"heatmap\"}], \"heatmapgl\": [{\"colorbar\": {\"outlinewidth\": 0, \"ticks\": \"\"}, \"colorscale\": [[0.0, \"#0d0887\"], [0.1111111111111111, \"#46039f\"], [0.2222222222222222, \"#7201a8\"], [0.3333333333333333, \"#9c179e\"], [0.4444444444444444, \"#bd3786\"], [0.5555555555555556, \"#d8576b\"], [0.6666666666666666, \"#ed7953\"], [0.7777777777777778, \"#fb9f3a\"], [0.8888888888888888, \"#fdca26\"], [1.0, \"#f0f921\"]], \"type\": \"heatmapgl\"}], \"histogram\": [{\"marker\": {\"colorbar\": {\"outlinewidth\": 0, \"ticks\": \"\"}}, \"type\": \"histogram\"}], \"histogram2d\": [{\"colorbar\": {\"outlinewidth\": 0, \"ticks\": \"\"}, \"colorscale\": [[0.0, \"#0d0887\"], [0.1111111111111111, \"#46039f\"], [0.2222222222222222, \"#7201a8\"], [0.3333333333333333, \"#9c179e\"], [0.4444444444444444, \"#bd3786\"], [0.5555555555555556, \"#d8576b\"], [0.6666666666666666, \"#ed7953\"], [0.7777777777777778, \"#fb9f3a\"], [0.8888888888888888, \"#fdca26\"], [1.0, \"#f0f921\"]], \"type\": \"histogram2d\"}], \"histogram2dcontour\": [{\"colorbar\": {\"outlinewidth\": 0, \"ticks\": \"\"}, \"colorscale\": [[0.0, \"#0d0887\"], [0.1111111111111111, \"#46039f\"], [0.2222222222222222, \"#7201a8\"], [0.3333333333333333, \"#9c179e\"], [0.4444444444444444, \"#bd3786\"], [0.5555555555555556, \"#d8576b\"], [0.6666666666666666, \"#ed7953\"], [0.7777777777777778, \"#fb9f3a\"], [0.8888888888888888, \"#fdca26\"], [1.0, \"#f0f921\"]], \"type\": \"histogram2dcontour\"}], \"mesh3d\": [{\"colorbar\": {\"outlinewidth\": 0, \"ticks\": \"\"}, \"type\": \"mesh3d\"}], \"parcoords\": [{\"line\": {\"colorbar\": {\"outlinewidth\": 0, \"ticks\": \"\"}}, \"type\": \"parcoords\"}], \"pie\": [{\"automargin\": true, \"type\": \"pie\"}], \"scatter\": [{\"marker\": {\"colorbar\": {\"outlinewidth\": 0, \"ticks\": \"\"}}, \"type\": \"scatter\"}], \"scatter3d\": [{\"line\": {\"colorbar\": {\"outlinewidth\": 0, \"ticks\": \"\"}}, \"marker\": {\"colorbar\": {\"outlinewidth\": 0, \"ticks\": \"\"}}, \"type\": \"scatter3d\"}], \"scattercarpet\": [{\"marker\": {\"colorbar\": {\"outlinewidth\": 0, \"ticks\": \"\"}}, \"type\": \"scattercarpet\"}], \"scattergeo\": [{\"marker\": {\"colorbar\": {\"outlinewidth\": 0, \"ticks\": \"\"}}, \"type\": \"scattergeo\"}], \"scattergl\": [{\"marker\": {\"colorbar\": {\"outlinewidth\": 0, \"ticks\": \"\"}}, \"type\": \"scattergl\"}], \"scattermapbox\": [{\"marker\": {\"colorbar\": {\"outlinewidth\": 0, \"ticks\": \"\"}}, \"type\": \"scattermapbox\"}], \"scatterpolar\": [{\"marker\": {\"colorbar\": {\"outlinewidth\": 0, \"ticks\": \"\"}}, \"type\": \"scatterpolar\"}], \"scatterpolargl\": [{\"marker\": {\"colorbar\": {\"outlinewidth\": 0, \"ticks\": \"\"}}, \"type\": \"scatterpolargl\"}], \"scatterternary\": [{\"marker\": {\"colorbar\": {\"outlinewidth\": 0, \"ticks\": \"\"}}, \"type\": \"scatterternary\"}], \"surface\": [{\"colorbar\": {\"outlinewidth\": 0, \"ticks\": \"\"}, \"colorscale\": [[0.0, \"#0d0887\"], [0.1111111111111111, \"#46039f\"], [0.2222222222222222, \"#7201a8\"], [0.3333333333333333, \"#9c179e\"], [0.4444444444444444, \"#bd3786\"], [0.5555555555555556, \"#d8576b\"], [0.6666666666666666, \"#ed7953\"], [0.7777777777777778, \"#fb9f3a\"], [0.8888888888888888, \"#fdca26\"], [1.0, \"#f0f921\"]], \"type\": \"surface\"}], \"table\": [{\"cells\": {\"fill\": {\"color\": \"#EBF0F8\"}, \"line\": {\"color\": \"white\"}}, \"header\": {\"fill\": {\"color\": \"#C8D4E3\"}, \"line\": {\"color\": \"white\"}}, \"type\": \"table\"}]}, \"layout\": {\"annotationdefaults\": {\"arrowcolor\": \"#2a3f5f\", \"arrowhead\": 0, \"arrowwidth\": 1}, \"coloraxis\": {\"colorbar\": {\"outlinewidth\": 0, \"ticks\": \"\"}}, \"colorscale\": {\"diverging\": [[0, \"#8e0152\"], [0.1, \"#c51b7d\"], [0.2, \"#de77ae\"], [0.3, \"#f1b6da\"], [0.4, \"#fde0ef\"], [0.5, \"#f7f7f7\"], [0.6, \"#e6f5d0\"], [0.7, \"#b8e186\"], [0.8, \"#7fbc41\"], [0.9, \"#4d9221\"], [1, \"#276419\"]], \"sequential\": [[0.0, \"#0d0887\"], [0.1111111111111111, \"#46039f\"], [0.2222222222222222, \"#7201a8\"], [0.3333333333333333, \"#9c179e\"], [0.4444444444444444, \"#bd3786\"], [0.5555555555555556, \"#d8576b\"], [0.6666666666666666, \"#ed7953\"], [0.7777777777777778, \"#fb9f3a\"], [0.8888888888888888, \"#fdca26\"], [1.0, \"#f0f921\"]], \"sequentialminus\": [[0.0, \"#0d0887\"], [0.1111111111111111, \"#46039f\"], [0.2222222222222222, \"#7201a8\"], [0.3333333333333333, \"#9c179e\"], [0.4444444444444444, \"#bd3786\"], [0.5555555555555556, \"#d8576b\"], [0.6666666666666666, \"#ed7953\"], [0.7777777777777778, \"#fb9f3a\"], [0.8888888888888888, \"#fdca26\"], [1.0, \"#f0f921\"]]}, \"colorway\": [\"#636efa\", \"#EF553B\", \"#00cc96\", \"#ab63fa\", \"#FFA15A\", \"#19d3f3\", \"#FF6692\", \"#B6E880\", \"#FF97FF\", \"#FECB52\"], \"font\": {\"color\": \"#2a3f5f\"}, \"geo\": {\"bgcolor\": \"white\", \"lakecolor\": \"white\", \"landcolor\": \"#E5ECF6\", \"showlakes\": true, \"showland\": true, \"subunitcolor\": \"white\"}, \"hoverlabel\": {\"align\": \"left\"}, \"hovermode\": \"closest\", \"mapbox\": {\"style\": \"light\"}, \"paper_bgcolor\": \"white\", \"plot_bgcolor\": \"#E5ECF6\", \"polar\": {\"angularaxis\": {\"gridcolor\": \"white\", \"linecolor\": \"white\", \"ticks\": \"\"}, \"bgcolor\": \"#E5ECF6\", \"radialaxis\": {\"gridcolor\": \"white\", \"linecolor\": \"white\", \"ticks\": \"\"}}, \"scene\": {\"xaxis\": {\"backgroundcolor\": \"#E5ECF6\", \"gridcolor\": \"white\", \"gridwidth\": 2, \"linecolor\": \"white\", \"showbackground\": true, \"ticks\": \"\", \"zerolinecolor\": \"white\"}, \"yaxis\": {\"backgroundcolor\": \"#E5ECF6\", \"gridcolor\": \"white\", \"gridwidth\": 2, \"linecolor\": \"white\", \"showbackground\": true, \"ticks\": \"\", \"zerolinecolor\": \"white\"}, \"zaxis\": {\"backgroundcolor\": \"#E5ECF6\", \"gridcolor\": \"white\", \"gridwidth\": 2, \"linecolor\": \"white\", \"showbackground\": true, \"ticks\": \"\", \"zerolinecolor\": \"white\"}}, \"shapedefaults\": {\"line\": {\"color\": \"#2a3f5f\"}}, \"ternary\": {\"aaxis\": {\"gridcolor\": \"white\", \"linecolor\": \"white\", \"ticks\": \"\"}, \"baxis\": {\"gridcolor\": \"white\", \"linecolor\": \"white\", \"ticks\": \"\"}, \"bgcolor\": \"#E5ECF6\", \"caxis\": {\"gridcolor\": \"white\", \"linecolor\": \"white\", \"ticks\": \"\"}}, \"title\": {\"x\": 0.05}, \"xaxis\": {\"automargin\": true, \"gridcolor\": \"white\", \"linecolor\": \"white\", \"ticks\": \"\", \"title\": {\"standoff\": 15}, \"zerolinecolor\": \"white\", \"zerolinewidth\": 2}, \"yaxis\": {\"automargin\": true, \"gridcolor\": \"white\", \"linecolor\": \"white\", \"ticks\": \"\", \"title\": {\"standoff\": 15}, \"zerolinecolor\": \"white\", \"zerolinewidth\": 2}}}, \"xaxis\": {\"anchor\": \"y\", \"domain\": [0.0, 1.0], \"title\": {\"text\": \"x\"}}, \"yaxis\": {\"anchor\": \"x\", \"domain\": [0.0, 1.0], \"title\": {\"text\": \"y\"}}},\n",
              "                        {\"responsive\": true}\n",
              "                    ).then(function(){\n",
              "                            \n",
              "var gd = document.getElementById('bcdfd2cc-6e54-431c-a1c7-650897c76a01');\n",
              "var x = new MutationObserver(function (mutations, observer) {{\n",
              "        var display = window.getComputedStyle(gd).display;\n",
              "        if (!display || display === 'none') {{\n",
              "            console.log([gd, 'removed!']);\n",
              "            Plotly.purge(gd);\n",
              "            observer.disconnect();\n",
              "        }}\n",
              "}});\n",
              "\n",
              "// Listen for the removal of the full notebook cells\n",
              "var notebookContainer = gd.closest('#notebook-container');\n",
              "if (notebookContainer) {{\n",
              "    x.observe(notebookContainer, {childList: true});\n",
              "}}\n",
              "\n",
              "// Listen for the clearing of the current output cell\n",
              "var outputEl = gd.closest('.output');\n",
              "if (outputEl) {{\n",
              "    x.observe(outputEl, {childList: true});\n",
              "}}\n",
              "\n",
              "                        })\n",
              "                };\n",
              "                \n",
              "            </script>\n",
              "        </div>\n",
              "</body>\n",
              "</html>"
            ]
          },
          "metadata": {}
        }
      ],
      "source": [
        "def likelihood(weight):\n",
        "    return [Gaussian(weight, *pWC[index]) for index in range(5)]\n",
        "L = likelihood(weight=50)\n",
        "px.bar(y=L, x=categories)"
      ]
    },
    {
      "cell_type": "markdown",
      "metadata": {
        "id": "ZmAcmBluUg-r"
      },
      "source": [
        "As you can see, when we have a set of discrete categories, even a *continuous* sensor measurement will still induce a *discrete* likelihood function.\n",
        "The plot also shows clearly that some categories are more likely than others. \n",
        "\n",
        "However, it is crucial to realize that the likelihood function $L(X;z)$ is itsel **not** a probability distribution over the state $X$. Indeed, if we take the example from above and add the numbers, we get the following:"
      ]
    },
    {
      "cell_type": "code",
      "execution_count": 6,
      "metadata": {
        "colab": {
          "base_uri": "https://localhost:8080/"
        },
        "id": "oPhvGvNvUg-r",
        "outputId": "db94ed01-86fe-4969-da14-c68cb807cf03"
      },
      "outputs": [
        {
          "output_type": "stream",
          "name": "stdout",
          "text": [
            "sum(L)=0.00378\n"
          ]
        }
      ],
      "source": [
        "print(f\"sum(L)={sum(L):.5f}\")"
      ]
    },
    {
      "cell_type": "markdown",
      "metadata": {
        "id": "mqrZLNPbUg-r"
      },
      "source": [
        "## Playing with Likelihoods\n",
        "\n",
        "With some python notebook magic, we can create a fully interactive applet to explore how the likelihood function changes for different values of the measurement:"
      ]
    },
    {
      "cell_type": "code",
      "execution_count": 30,
      "metadata": {
        "id": "5lGtA1u3Ug-r"
      },
      "outputs": [],
      "source": [
        "def likelihood_figure(weight):\n",
        "    \"\"\"Complicated figure to show likelihood for continuous case.\"\"\"\n",
        "    X = np.arange(0, 500)\n",
        "    fig = make_subplots(\n",
        "        rows=5, cols=2,\n",
        "        column_widths=[0.6, 0.4],\n",
        "        row_heights=[0.2, 0.2, 0.2, 0.2, 0.2],\n",
        "        specs=[[{\"type\": \"xy\"}, {\"type\": \"bar\", \"rowspan\": 5}],\n",
        "               [{\"type\": \"xy\"}, None],\n",
        "               [{\"type\": \"xy\"}, None],\n",
        "               [{\"type\": \"xy\"}, None],\n",
        "               [{\"type\": \"xy\"}, None],\n",
        "               ]\n",
        "    )\n",
        "\n",
        "    for index, category in enumerate(categories):\n",
        "        fig.add_trace(\n",
        "            go.Scatter(x=X, y=Gaussian(X, *pWC[index]), name=category),\n",
        "            row=index+1, col=1\n",
        "        )\n",
        "\n",
        "    L = likelihood(weight)\n",
        "    fig.add_trace(go.Bar(x=L[::-1], y=categories[::-1], orientation=\"h\",\n",
        "                  name=\"Likelihood\"), row=1, col=2)\n",
        "    return fig\n"
      ]
    },
    {
      "cell_type": "code",
      "execution_count": 31,
      "metadata": {
        "colab": {
          "base_uri": "https://localhost:8080/",
          "height": 574,
          "referenced_widgets": [
            "76a6b4345f164d028df42db677fe57c4",
            "da2bc48680874863b08075048cf9f454",
            "e82b35c636c14135a8299a8a8c690767",
            "2b32a597e6744338aa9b2867d5403c69",
            "31b18e43515b4e5fbecfff9a389b860d",
            "181c4c7edeb64dd281c5d3dc8299c11a",
            "6c7aef2076ae4ed9b141ca24e51165c7"
          ]
        },
        "id": "0_zvpgS0Ug-r",
        "outputId": "560f0dac-a808-4d4e-d136-83b9d3139581"
      },
      "outputs": [
        {
          "output_type": "display_data",
          "data": {
            "application/vnd.jupyter.widget-view+json": {
              "model_id": "76a6b4345f164d028df42db677fe57c4",
              "version_minor": 0,
              "version_major": 2
            },
            "text/plain": [
              "interactive(children=(IntSlider(value=50, description='weight', max=500, step=5), Output()), _dom_classes=('wi…"
            ]
          },
          "metadata": {}
        }
      ],
      "source": [
        "# Evaluate this cell to interact with this figure:\n",
        "@interact(weight=(0, 500, 5))\n",
        "def show_likelihood(weight=50):\n",
        "    display(likelihood_figure(weight))"
      ]
    },
    {
      "cell_type": "markdown",
      "metadata": {
        "id": "g1CWfw93Ug-s"
      },
      "source": [
        "## Likelihood Factors\n",
        "> :We can use a *factor* to represent the likelihood of an unknown state.\n",
        "\n",
        "All of the perception algorithms in this book will heavily depend on likelihood functions, and we introduce a special data structure to conveniently represent them in code. For the Gaussian measurement model, we can instantiate a `DecisionTreeFactor` with the likelihood vector `L` we calculated above:"
      ]
    },
    {
      "cell_type": "code",
      "execution_count": 9,
      "metadata": {
        "colab": {
          "base_uri": "https://localhost:8080/",
          "height": 145
        },
        "id": "Z4wWQaMIUg-s",
        "outputId": "a954b640-2dc0-4ec5-9171-85cd397389a1"
      },
      "outputs": [
        {
          "output_type": "execute_result",
          "data": {
            "text/markdown": "|Category|value|\n|:-:|:-:|\n|0|0.000443185|\n|1|2.05595e-19|\n|2|1.82694e-12|\n|3|0.00241971|\n|4|0.000913245|\n",
            "text/plain": [
              "<gtbook.display.pretty at 0x7fb8fe954fd0>"
            ]
          },
          "metadata": {},
          "execution_count": 9
        }
      ],
      "source": [
        "variables = Variables()\n",
        "Category = variables.discrete(\"Category\", categories)\n",
        "factor = gtsam.DecisionTreeFactor(Category, L)\n",
        "pretty(factor, variables)"
      ]
    },
    {
      "cell_type": "markdown",
      "metadata": {
        "id": "xXyfmWX5Ug-s"
      },
      "source": [
        "We can also define the likelihood of the cateory given the *discrete* detector output. This can be done by converting the conditional density to a factor. First, we define the sensor model as a conditional probability distribution:"
      ]
    },
    {
      "cell_type": "code",
      "execution_count": 10,
      "metadata": {
        "colab": {
          "base_uri": "https://localhost:8080/",
          "height": 175
        },
        "id": "jvhhlwmAUg-s",
        "outputId": "f845147c-8ae1-46b6-a3ff-da1941d03c1c"
      },
      "outputs": [
        {
          "output_type": "execute_result",
          "data": {
            "text/markdown": " *P(Detection|Category)*:\n\n|Category|0|1|2|\n|:-:|:-:|:-:|:-:|\n|0|0.02|0.88|0.1|\n|1|0.02|0.2|0.78|\n|2|0.33|0.33|0.34|\n|3|0.33|0.33|0.34|\n|4|0.95|0.02|0.03|\n",
            "text/plain": [
              "<gtbook.display.pretty at 0x7fb8fe908ad0>"
            ]
          },
          "metadata": {},
          "execution_count": 10
        }
      ],
      "source": [
        "Detection = variables.discrete(\"Detection\", [\"bottle\", \"cardboard\", \"paper\"])\n",
        "\n",
        "pDT = gtsam.DiscreteConditional(\n",
        "    Detection, [Category], \"2/88/10 2/20/78 33/33/34 33/33/34 95/2/3\")\n",
        "pretty(pDT, variables)\n"
      ]
    },
    {
      "cell_type": "markdown",
      "metadata": {
        "id": "0-I7kiJtUg-s"
      },
      "source": [
        "After that, the likelihood functions correspond to the *columns* above: one column for each possible detection outcome. Again, note that these likelihood functions do *not* sum to 1.0: rows sum up to 1.0, but columns do not.\n",
        "\n",
        "In GTSAM, a `DiscreteConditional` class actually has a handy `likelihood` method by which we can pick out the column. e.g., corresponding to the `cardboard` detection:"
      ]
    },
    {
      "cell_type": "code",
      "execution_count": 11,
      "metadata": {
        "colab": {
          "base_uri": "https://localhost:8080/",
          "height": 145
        },
        "id": "vp_G2DS4Ug-s",
        "outputId": "fb084a73-0c58-41d2-b6de-fc0b479e0fda"
      },
      "outputs": [
        {
          "output_type": "execute_result",
          "data": {
            "text/markdown": "|Category|value|\n|:-:|:-:|\n|0|0.88|\n|1|0.2|\n|2|0.33|\n|3|0.33|\n|4|0.02|\n",
            "text/plain": [
              "<gtbook.display.pretty at 0x7fb8fe91f750>"
            ]
          },
          "metadata": {},
          "execution_count": 11
        }
      ],
      "source": [
        "factor = pDT.likelihood(1)\n",
        "pretty(factor, variables)"
      ]
    },
    {
      "cell_type": "markdown",
      "metadata": {
        "id": "8DDVoLTMUg-s"
      },
      "source": [
        "The above is a *factor*.\n",
        "\n",
        "Below is a small interactive applet that allows us to examine the likelihood of the trash category for every possible detection outcome:"
      ]
    },
    {
      "cell_type": "code",
      "execution_count": 12,
      "metadata": {
        "colab": {
          "base_uri": "https://localhost:8080/",
          "height": 574,
          "referenced_widgets": [
            "0b7de7e3a84f4096934a45810bec0d21",
            "68a2a0911d9e4ecaaf2a999aade8f887",
            "acc19ca6d69348de8b03ed36dfda1e6f",
            "e2b6bb1ce6e64f84a039eb3a7d808958",
            "e438955e182646bda934ae9914dc25c9",
            "ed14fca488b54abab0d1e238d984c957",
            "2fb8707b477e465cae7995dd4a1709a4"
          ]
        },
        "id": "23CnbznjUg-s",
        "outputId": "2533d3ce-0b2d-4e9a-a229-d5b5edb1553e"
      },
      "outputs": [
        {
          "output_type": "display_data",
          "data": {
            "application/vnd.jupyter.widget-view+json": {
              "model_id": "0b7de7e3a84f4096934a45810bec0d21",
              "version_minor": 0,
              "version_major": 2
            },
            "text/plain": [
              "interactive(children=(Dropdown(description='detection', options=('bottle', 'cardboard', 'paper'), value='bottl…"
            ]
          },
          "metadata": {}
        }
      ],
      "source": [
        "values = [\"bottle\", \"cardboard\", \"paper\"]\n",
        "@interact(detection=values)\n",
        "def show_likelihood(detection=\"bottle\"):\n",
        "    index = values.index(detection)\n",
        "    L_index = [v for (k,v) in pDT.likelihood(index).enumerate()]\n",
        "    display(px.bar(x=L_index, y=categories))"
      ]
    },
    {
      "cell_type": "markdown",
      "metadata": {
        "id": "EcwEvbifUg-s"
      },
      "source": [
        "Picking out the most *likely* category only gets us so far, however: it us unclear on how to fuse multiple sensor measurements, or how to incorporate prior information. In fact, we can do better... we can use Bayes law to accomplish both goals. We will do so below."
      ]
    },
    {
      "cell_type": "markdown",
      "metadata": {
        "id": "_4hxKCWG3GZ0"
      },
      "source": [
        "Joint Distribution\n",
        "------------------\n",
        "\n",
        "If we consider the parameter $Y$ in a conditional probability\n",
        "distribution not as a known parameter but as a random variable itself,\n",
        "with probability distribution $P(Y)$ , we obtain a **joint probability\n",
        "distribution** over the pair of variables $X$ and $Y$, and its PMF is\n",
        "given by the **chain rule**: $$P(X,Y)=P(X|Y)P(Y)$$ Graphically, we have\n",
        "the graph fragment shown in Figure\n",
        "<a href=\"#fig:BN-joint\" data-reference-type=\"ref\" data-reference=\"fig:BN-joint\">2</a>.\n",
        "\n",
        "To sample from a joint distribution $P(X,Y)$ we first sample a value $y$ from $P(y)$, as it does not depend on\n",
        "any other variable, and then sample a value $x$ from the conditional\n",
        "distribution $P(x|y)$.\n",
        "\n",
        "Given a joint distribution $P(X,Y)$ we can ask what the probability is\n",
        "of an outcome $x$ for $X$, irrespective of the value of $Y$. We call\n",
        "this the **marginal probability distribution** of $X$, and it can be\n",
        "calculated as\n",
        "$$P(X)=\\sum_{y}P(X,Y=y)$$ \n",
        "and of course we can also calculate the\n",
        "marginal distribution of $Y$, in the same way: $$P(Y)=\\sum_{x}P(X=x,Y)$$\n",
        "\n",
        "We can also calculate the conditional distributions when given the joint\n",
        "distribution, by taking the joint probability distribution and dividing\n",
        "by the appropriate marginal: $$\\begin{aligned}\n",
        "P(X|Y) & =P(X,Y)/P(Y)\\\\\n",
        "P(Y|X) & =P(X,Y)/P(X)\\end{aligned}$$ This is really just the chain rule,\n",
        "re-arranged.\n",
        "\n",
        "### Example\n",
        "\n",
        "| $a_i$ | *T=Left* | *T=Right* | *P(A)* |\n",
        "|:-------:|:--------:|:---------:|:----:|\n",
        "|   Left  |   0.18   |    0.14   | 0.32 |\n",
        "|  Right  |   0.06   |    0.42   | 0.48 |\n",
        "|    Up   |   0.03   |    0.07   | 0.10 |\n",
        "|   Down  |   0.03   |    0.07   | 0.10 |\n",
        "|   P(T)  |    0.3   |    0.7    |      |\n",
        "\n",
        "Table\n",
        "<a href=\"#tab:joint\" data-reference-type=\"ref\" data-reference=\"tab:joint\">4</a>\n",
        "calculates the joint density $$P(A,T)=P(A|T)P(T)$$ where the CPT for\n",
        "$P(A|T)$ is taken from Table\n",
        "<a href=\"#tab:CPT\" data-reference-type=\"ref\" data-reference=\"tab:CPT\">3</a>,\n",
        "and where take $P(T=Right)=0.7$. The marginals $P(T)$ and $P(A)$ are\n",
        "also shown, respectively as row-wise and column-wise sums of the\n",
        "$4\\times2$ table of joint probabiltites.\n",
        "\n",
        "### Exercises\n",
        "\n",
        "1.  Calculate the conditional distribution $P(T|A)$ given the joint\n",
        "    distribution $P(A,T)$ in Table\n",
        "    <a href=\"#tab:joint\" data-reference-type=\"ref\" data-reference=\"tab:joint\">4</a>.\n",
        "\n",
        "2.  Viewing the integer coordinates $i$ and $j$ as separate random\n",
        "    variables, use the distribution $P(i,j)=P(S)$ from Table\n",
        "    <a href=\"#tab:prior-on-grid\" data-reference-type=\"ref\" data-reference=\"tab:prior-on-grid\">1</a>\n",
        "    and calculate the marginals $P(i)$ and $P(j)$.\n",
        "\n",
        "3.  Similarly, what do the conditional probability tables for $P(i|j)$\n",
        "    and $P(j|i)$ look like? Before you start calculating, ponder the\n",
        "    relationship with Table\n",
        "    <a href=\"#tab:prior-on-grid\" data-reference-type=\"ref\" data-reference=\"tab:prior-on-grid\">1</a>.\n"
      ]
    },
    {
      "cell_type": "markdown",
      "metadata": {
        "id": "5_gRa4NQZsD4"
      },
      "source": [
        "## MAP Estimation\n",
        "> :We combine likelihooods with the prior (from S11) into a posterior. We introduce joint probabilities, the chain rule, and then Bayes law.\n",
        "\n",
        "\n",
        "\n",
        "Our goal is to get a posterior probability over the possible classes:"
      ]
    },
    {
      "cell_type": "code",
      "execution_count": 13,
      "metadata": {
        "colab": {
          "base_uri": "https://localhost:8080/",
          "height": 542
        },
        "id": "wTjUvyLVcb7v",
        "outputId": "04f7c3a6-d6da-45c1-aa6c-7d1e5004eb3e"
      },
      "outputs": [
        {
          "output_type": "display_data",
          "data": {
            "text/html": [
              "<html>\n",
              "<head><meta charset=\"utf-8\" /></head>\n",
              "<body>\n",
              "    <div>\n",
              "            <script src=\"https://cdnjs.cloudflare.com/ajax/libs/mathjax/2.7.5/MathJax.js?config=TeX-AMS-MML_SVG\"></script><script type=\"text/javascript\">if (window.MathJax) {MathJax.Hub.Config({SVG: {font: \"STIX-Web\"}});}</script>\n",
              "                <script type=\"text/javascript\">window.PlotlyConfig = {MathJaxConfig: 'local'};</script>\n",
              "        <script src=\"https://cdn.plot.ly/plotly-latest.min.js\"></script>    \n",
              "            <div id=\"66f79bdd-9200-405a-b704-0d951ad635c8\" class=\"plotly-graph-div\" style=\"height:525px; width:100%;\"></div>\n",
              "            <script type=\"text/javascript\">\n",
              "                \n",
              "                    window.PLOTLYENV=window.PLOTLYENV || {};\n",
              "                    \n",
              "                if (document.getElementById(\"66f79bdd-9200-405a-b704-0d951ad635c8\")) {\n",
              "                    Plotly.newPlot(\n",
              "                        '66f79bdd-9200-405a-b704-0d951ad635c8',\n",
              "                        [{\"alignmentgroup\": \"True\", \"hoverlabel\": {\"namelength\": 0}, \"hovertemplate\": \"x=%{x}<br>y=%{y}\", \"legendgroup\": \"\", \"marker\": {\"color\": \"#636efa\"}, \"name\": \"\", \"offsetgroup\": \"\", \"orientation\": \"v\", \"showlegend\": false, \"textposition\": \"auto\", \"type\": \"bar\", \"x\": [\"glass\", \"metal\", \"mixed paper\", \"other\"], \"xaxis\": \"x\", \"y\": [0.1, 0.6, 0.1, 0.2], \"yaxis\": \"y\"}],\n",
              "                        {\"barmode\": \"relative\", \"legend\": {\"tracegroupgap\": 0}, \"margin\": {\"t\": 60}, \"template\": {\"data\": {\"bar\": [{\"error_x\": {\"color\": \"#2a3f5f\"}, \"error_y\": {\"color\": \"#2a3f5f\"}, \"marker\": {\"line\": {\"color\": \"#E5ECF6\", \"width\": 0.5}}, \"type\": \"bar\"}], \"barpolar\": [{\"marker\": {\"line\": {\"color\": \"#E5ECF6\", \"width\": 0.5}}, \"type\": \"barpolar\"}], \"carpet\": [{\"aaxis\": {\"endlinecolor\": \"#2a3f5f\", \"gridcolor\": \"white\", \"linecolor\": \"white\", \"minorgridcolor\": \"white\", \"startlinecolor\": \"#2a3f5f\"}, \"baxis\": {\"endlinecolor\": \"#2a3f5f\", \"gridcolor\": \"white\", \"linecolor\": \"white\", \"minorgridcolor\": \"white\", \"startlinecolor\": \"#2a3f5f\"}, \"type\": \"carpet\"}], \"choropleth\": [{\"colorbar\": {\"outlinewidth\": 0, \"ticks\": \"\"}, \"type\": \"choropleth\"}], \"contour\": [{\"colorbar\": {\"outlinewidth\": 0, \"ticks\": \"\"}, \"colorscale\": [[0.0, \"#0d0887\"], [0.1111111111111111, \"#46039f\"], [0.2222222222222222, \"#7201a8\"], [0.3333333333333333, \"#9c179e\"], [0.4444444444444444, \"#bd3786\"], [0.5555555555555556, \"#d8576b\"], [0.6666666666666666, \"#ed7953\"], [0.7777777777777778, \"#fb9f3a\"], [0.8888888888888888, \"#fdca26\"], [1.0, \"#f0f921\"]], \"type\": \"contour\"}], \"contourcarpet\": [{\"colorbar\": {\"outlinewidth\": 0, \"ticks\": \"\"}, \"type\": \"contourcarpet\"}], \"heatmap\": [{\"colorbar\": {\"outlinewidth\": 0, \"ticks\": \"\"}, \"colorscale\": [[0.0, \"#0d0887\"], [0.1111111111111111, \"#46039f\"], [0.2222222222222222, \"#7201a8\"], [0.3333333333333333, \"#9c179e\"], [0.4444444444444444, \"#bd3786\"], [0.5555555555555556, \"#d8576b\"], [0.6666666666666666, \"#ed7953\"], [0.7777777777777778, \"#fb9f3a\"], [0.8888888888888888, \"#fdca26\"], [1.0, \"#f0f921\"]], \"type\": \"heatmap\"}], \"heatmapgl\": [{\"colorbar\": {\"outlinewidth\": 0, \"ticks\": \"\"}, \"colorscale\": [[0.0, \"#0d0887\"], [0.1111111111111111, \"#46039f\"], [0.2222222222222222, \"#7201a8\"], [0.3333333333333333, \"#9c179e\"], [0.4444444444444444, \"#bd3786\"], [0.5555555555555556, \"#d8576b\"], [0.6666666666666666, \"#ed7953\"], [0.7777777777777778, \"#fb9f3a\"], [0.8888888888888888, \"#fdca26\"], [1.0, \"#f0f921\"]], \"type\": \"heatmapgl\"}], \"histogram\": [{\"marker\": {\"colorbar\": {\"outlinewidth\": 0, \"ticks\": \"\"}}, \"type\": \"histogram\"}], \"histogram2d\": [{\"colorbar\": {\"outlinewidth\": 0, \"ticks\": \"\"}, \"colorscale\": [[0.0, \"#0d0887\"], [0.1111111111111111, \"#46039f\"], [0.2222222222222222, \"#7201a8\"], [0.3333333333333333, \"#9c179e\"], [0.4444444444444444, \"#bd3786\"], [0.5555555555555556, \"#d8576b\"], [0.6666666666666666, \"#ed7953\"], [0.7777777777777778, \"#fb9f3a\"], [0.8888888888888888, \"#fdca26\"], [1.0, \"#f0f921\"]], \"type\": \"histogram2d\"}], \"histogram2dcontour\": [{\"colorbar\": {\"outlinewidth\": 0, \"ticks\": \"\"}, \"colorscale\": [[0.0, \"#0d0887\"], [0.1111111111111111, \"#46039f\"], [0.2222222222222222, \"#7201a8\"], [0.3333333333333333, \"#9c179e\"], [0.4444444444444444, \"#bd3786\"], [0.5555555555555556, \"#d8576b\"], [0.6666666666666666, \"#ed7953\"], [0.7777777777777778, \"#fb9f3a\"], [0.8888888888888888, \"#fdca26\"], [1.0, \"#f0f921\"]], \"type\": \"histogram2dcontour\"}], \"mesh3d\": [{\"colorbar\": {\"outlinewidth\": 0, \"ticks\": \"\"}, \"type\": \"mesh3d\"}], \"parcoords\": [{\"line\": {\"colorbar\": {\"outlinewidth\": 0, \"ticks\": \"\"}}, \"type\": \"parcoords\"}], \"pie\": [{\"automargin\": true, \"type\": \"pie\"}], \"scatter\": [{\"marker\": {\"colorbar\": {\"outlinewidth\": 0, \"ticks\": \"\"}}, \"type\": \"scatter\"}], \"scatter3d\": [{\"line\": {\"colorbar\": {\"outlinewidth\": 0, \"ticks\": \"\"}}, \"marker\": {\"colorbar\": {\"outlinewidth\": 0, \"ticks\": \"\"}}, \"type\": \"scatter3d\"}], \"scattercarpet\": [{\"marker\": {\"colorbar\": {\"outlinewidth\": 0, \"ticks\": \"\"}}, \"type\": \"scattercarpet\"}], \"scattergeo\": [{\"marker\": {\"colorbar\": {\"outlinewidth\": 0, \"ticks\": \"\"}}, \"type\": \"scattergeo\"}], \"scattergl\": [{\"marker\": {\"colorbar\": {\"outlinewidth\": 0, \"ticks\": \"\"}}, \"type\": \"scattergl\"}], \"scattermapbox\": [{\"marker\": {\"colorbar\": {\"outlinewidth\": 0, \"ticks\": \"\"}}, \"type\": \"scattermapbox\"}], \"scatterpolar\": [{\"marker\": {\"colorbar\": {\"outlinewidth\": 0, \"ticks\": \"\"}}, \"type\": \"scatterpolar\"}], \"scatterpolargl\": [{\"marker\": {\"colorbar\": {\"outlinewidth\": 0, \"ticks\": \"\"}}, \"type\": \"scatterpolargl\"}], \"scatterternary\": [{\"marker\": {\"colorbar\": {\"outlinewidth\": 0, \"ticks\": \"\"}}, \"type\": \"scatterternary\"}], \"surface\": [{\"colorbar\": {\"outlinewidth\": 0, \"ticks\": \"\"}, \"colorscale\": [[0.0, \"#0d0887\"], [0.1111111111111111, \"#46039f\"], [0.2222222222222222, \"#7201a8\"], [0.3333333333333333, \"#9c179e\"], [0.4444444444444444, \"#bd3786\"], [0.5555555555555556, \"#d8576b\"], [0.6666666666666666, \"#ed7953\"], [0.7777777777777778, \"#fb9f3a\"], [0.8888888888888888, \"#fdca26\"], [1.0, \"#f0f921\"]], \"type\": \"surface\"}], \"table\": [{\"cells\": {\"fill\": {\"color\": \"#EBF0F8\"}, \"line\": {\"color\": \"white\"}}, \"header\": {\"fill\": {\"color\": \"#C8D4E3\"}, \"line\": {\"color\": \"white\"}}, \"type\": \"table\"}]}, \"layout\": {\"annotationdefaults\": {\"arrowcolor\": \"#2a3f5f\", \"arrowhead\": 0, \"arrowwidth\": 1}, \"coloraxis\": {\"colorbar\": {\"outlinewidth\": 0, \"ticks\": \"\"}}, \"colorscale\": {\"diverging\": [[0, \"#8e0152\"], [0.1, \"#c51b7d\"], [0.2, \"#de77ae\"], [0.3, \"#f1b6da\"], [0.4, \"#fde0ef\"], [0.5, \"#f7f7f7\"], [0.6, \"#e6f5d0\"], [0.7, \"#b8e186\"], [0.8, \"#7fbc41\"], [0.9, \"#4d9221\"], [1, \"#276419\"]], \"sequential\": [[0.0, \"#0d0887\"], [0.1111111111111111, \"#46039f\"], [0.2222222222222222, \"#7201a8\"], [0.3333333333333333, \"#9c179e\"], [0.4444444444444444, \"#bd3786\"], [0.5555555555555556, \"#d8576b\"], [0.6666666666666666, \"#ed7953\"], [0.7777777777777778, \"#fb9f3a\"], [0.8888888888888888, \"#fdca26\"], [1.0, \"#f0f921\"]], \"sequentialminus\": [[0.0, \"#0d0887\"], [0.1111111111111111, \"#46039f\"], [0.2222222222222222, \"#7201a8\"], [0.3333333333333333, \"#9c179e\"], [0.4444444444444444, \"#bd3786\"], [0.5555555555555556, \"#d8576b\"], [0.6666666666666666, \"#ed7953\"], [0.7777777777777778, \"#fb9f3a\"], [0.8888888888888888, \"#fdca26\"], [1.0, \"#f0f921\"]]}, \"colorway\": [\"#636efa\", \"#EF553B\", \"#00cc96\", \"#ab63fa\", \"#FFA15A\", \"#19d3f3\", \"#FF6692\", \"#B6E880\", \"#FF97FF\", \"#FECB52\"], \"font\": {\"color\": \"#2a3f5f\"}, \"geo\": {\"bgcolor\": \"white\", \"lakecolor\": \"white\", \"landcolor\": \"#E5ECF6\", \"showlakes\": true, \"showland\": true, \"subunitcolor\": \"white\"}, \"hoverlabel\": {\"align\": \"left\"}, \"hovermode\": \"closest\", \"mapbox\": {\"style\": \"light\"}, \"paper_bgcolor\": \"white\", \"plot_bgcolor\": \"#E5ECF6\", \"polar\": {\"angularaxis\": {\"gridcolor\": \"white\", \"linecolor\": \"white\", \"ticks\": \"\"}, \"bgcolor\": \"#E5ECF6\", \"radialaxis\": {\"gridcolor\": \"white\", \"linecolor\": \"white\", \"ticks\": \"\"}}, \"scene\": {\"xaxis\": {\"backgroundcolor\": \"#E5ECF6\", \"gridcolor\": \"white\", \"gridwidth\": 2, \"linecolor\": \"white\", \"showbackground\": true, \"ticks\": \"\", \"zerolinecolor\": \"white\"}, \"yaxis\": {\"backgroundcolor\": \"#E5ECF6\", \"gridcolor\": \"white\", \"gridwidth\": 2, \"linecolor\": \"white\", \"showbackground\": true, \"ticks\": \"\", \"zerolinecolor\": \"white\"}, \"zaxis\": {\"backgroundcolor\": \"#E5ECF6\", \"gridcolor\": \"white\", \"gridwidth\": 2, \"linecolor\": \"white\", \"showbackground\": true, \"ticks\": \"\", \"zerolinecolor\": \"white\"}}, \"shapedefaults\": {\"line\": {\"color\": \"#2a3f5f\"}}, \"ternary\": {\"aaxis\": {\"gridcolor\": \"white\", \"linecolor\": \"white\", \"ticks\": \"\"}, \"baxis\": {\"gridcolor\": \"white\", \"linecolor\": \"white\", \"ticks\": \"\"}, \"bgcolor\": \"#E5ECF6\", \"caxis\": {\"gridcolor\": \"white\", \"linecolor\": \"white\", \"ticks\": \"\"}}, \"title\": {\"x\": 0.05}, \"xaxis\": {\"automargin\": true, \"gridcolor\": \"white\", \"linecolor\": \"white\", \"ticks\": \"\", \"title\": {\"standoff\": 15}, \"zerolinecolor\": \"white\", \"zerolinewidth\": 2}, \"yaxis\": {\"automargin\": true, \"gridcolor\": \"white\", \"linecolor\": \"white\", \"ticks\": \"\", \"title\": {\"standoff\": 15}, \"zerolinecolor\": \"white\", \"zerolinewidth\": 2}}}, \"xaxis\": {\"anchor\": \"y\", \"domain\": [0.0, 1.0], \"title\": {\"text\": \"x\"}}, \"yaxis\": {\"anchor\": \"x\", \"domain\": [0.0, 1.0], \"title\": {\"text\": \"y\"}}},\n",
              "                        {\"responsive\": true}\n",
              "                    ).then(function(){\n",
              "                            \n",
              "var gd = document.getElementById('66f79bdd-9200-405a-b704-0d951ad635c8');\n",
              "var x = new MutationObserver(function (mutations, observer) {{\n",
              "        var display = window.getComputedStyle(gd).display;\n",
              "        if (!display || display === 'none') {{\n",
              "            console.log([gd, 'removed!']);\n",
              "            Plotly.purge(gd);\n",
              "            observer.disconnect();\n",
              "        }}\n",
              "}});\n",
              "\n",
              "// Listen for the removal of the full notebook cells\n",
              "var notebookContainer = gd.closest('#notebook-container');\n",
              "if (notebookContainer) {{\n",
              "    x.observe(notebookContainer, {childList: true});\n",
              "}}\n",
              "\n",
              "// Listen for the clearing of the current output cell\n",
              "var outputEl = gd.closest('.output');\n",
              "if (outputEl) {{\n",
              "    x.observe(outputEl, {childList: true});\n",
              "}}\n",
              "\n",
              "                        })\n",
              "                };\n",
              "                \n",
              "            </script>\n",
              "        </div>\n",
              "</body>\n",
              "</html>"
            ]
          },
          "metadata": {}
        }
      ],
      "source": [
        "P = [0.1, 0.6, 0.1, 0.2]\n",
        "assert np.sum(P)==1\n",
        "px.bar(x=['glass', 'metal', 'mixed paper', 'other'],y=P)"
      ]
    },
    {
      "cell_type": "markdown",
      "metadata": {
        "id": "fVYaTYiRUg-t"
      },
      "source": [
        "## Bayes’ Rule\n",
        "\n",
        "> :Bayes’ Rule says that the posterior is the likelihood times the prior.\n",
        "\n",
        "Given the formulas we discussed above, we can now derive Bayes’ rule,\n",
        "which allows us to infer knowledge about a variable, say the robot state\n",
        "$S$, given an observed sensor value $o$. The rule is named after the\n",
        "reverend Thomas Bayes, an eighteenth century minister who took an\n",
        "interest in probability later in life. He also lends his name to the\n",
        "Bayes nets which we discuss in the next chapter.\n",
        "\n",
        "Bayes’ rule allows us to calculate the **posterior probability\n",
        "distribution** $P(S|O=o)$ on the variable $S$ given an observed value\n",
        "for $O$. In Bayes’ rule we use the term “prior” to indicate knowledge we\n",
        "have about a variable $S$ before seeing evidence for it, and use\n",
        "“posterior” to denote the knowledge after having incorporated evidence.\n",
        "In our case, the evidence is the observed value $o$. To calculate the\n",
        "posterior, the elements we need are a prior probability distribution\n",
        "$P(S)$, a conditional probability distribution $P(O|S)$ modeling the\n",
        "measurement, and the value $o$ itself. Given these elements, we can\n",
        "calculate the posterior probability distribution on $S$:\n",
        "$$P(S|O=o)=\\frac{P(O=o|S)P(S)}{P(O=o)}$$ \n",
        "The proof is simple and involves applying the chain rule in two ways:\n",
        "$$P(O|S)P(S)=P(S,O)=P(S|O)P(O).$$\n",
        "\n",
        "As we have already seen, because the observation is *known*, we can use the \n",
        "definition of the likelihood function\n",
        "$$L(S;o)\\propto P(O=o|S)$$ \n",
        "and subsitute that in Bayes' law.\n",
        "In addition, note that above the quantity $P(O=o)$ simply acts as a normalization constant. Given\n",
        "these two facts, we can state Bayes’ rule in a more intuitive way - and\n",
        "easier to remember - as\n",
        "$$P(S|O=o)\\propto L(S;o)P(S)$$ \n",
        "or “the posterior\n",
        "is proportional to the likelihood weigthed by the prior.”\n",
        "\n",
        "Note that above we developed this for discrete sensor, but for continuous sensors we have exactly the same expression, even though the likelihood $L(C;S) \\propto p(S|C)$ is calculated by referring to a continuous density $p(S|C)$.\n",
        "\n",
        "Finally, when actually computing a posterior there is not even a need to\n",
        "think about anything but the joint distribution. Indeed, because by the\n",
        "chain rule we have $P(O=o|S)P(S)=P(S,O=o)$, and because $P(O=o)$ is just\n",
        "a normalization factor, we obtain a *third* form of Bayes’ rule, which\n",
        "is the simplest of all:\n",
        "\n",
        "$$P(S|O=o)\\propto P(S,O=o)$$ \n",
        "\n",
        "Hence, if we are\n",
        "given a formula or table of joint probability entries $P(S,O)$, it\n",
        "suffices to just select all of them where $O=o$, normalize, and voila!\n",
        "\n",
        "### Exercises\n",
        "\n",
        "1.  Apply Bayes’ rule to calculate the posterior probability $P(S|O=5)$,\n",
        "    using the prior $P(S)$ from Table\n",
        "    <a href=\"#tab:prior-on-grid\" data-reference-type=\"ref\" data-reference=\"tab:prior-on-grid\">1</a>\n",
        "    and the sensor model specified in Equation\n",
        "    <a href=\"#eq:Noisy-sensor\" data-reference-type=\"ref\" data-reference=\"eq:Noisy-sensor\">[eq:Noisy-sensor]</a>.\n",
        "\n",
        "2.  Suppose we are interested in estimating the probability of an\n",
        "    obstacle in front of the robot, given an “obstacle sensor” that is\n",
        "    accurate $90\\%$ of the time. Apply Bayes’ rule to this example by\n",
        "    creating the sensor model, prior, and deriving the posterior.\n",
        "\n",
        "3.  For the previous example, what happens if the sensor is random,\n",
        "    i.e., it just outputs “obstacle detected” with 50% probability?"
      ]
    },
    {
      "cell_type": "markdown",
      "metadata": {
        "id": "4erU7yFIUg-t"
      },
      "source": [
        "## Fusing Multiple Measurements\n",
        "\n",
        "> :Bayes law can easily accomodate multiple measurements as well. Applying the chain rule in twio different ways:\n",
        "\n",
        "$$P(S_1, S_2, C) = P(S_1, S_2| C) P(C) = P(C | S_1, S_2) P(S_1, S_2)$$\n",
        "\n",
        "which give sus Bayes law for two sensor measurements:\n",
        "\n",
        "$$P(C | S_1, S_2) = \\frac{P(S_1, S_2| C) P(C)}{P(S_1, S_2)} \\propto P(S_1, S_2| C) P(C) $$\n",
        "\n",
        "We can simplify this even more by applying the chain rule once more, and using the fact that we know from Section 1.3 that a sensor measurement $S$ only depends on the category:\n",
        "\n",
        "$$P(S_1, S_2| C) = P(S_1| S_2, C) P(S_2 | C) = P(S_1| C) P(S_2 | C)$$\n",
        "\n",
        "And hence:\n",
        "\n",
        "$$P(C | S_1, S_2) \\propto P(S_1| C) P(S_2 | C) P(C)$$\n",
        "\n",
        "Finally, by defining the likelihoods $L_i(C;S_i) \\propto P(S_i|C)$, we finally have:\n",
        "\n",
        "$$P(C | S_1, S_2) \\propto L(C;S_1) L(C;S_2) P(C)$$\n",
        "\n",
        "Note: if the category is *not* known, sensor measurements are not independent. Above, the category $C$ always appears behind the bar, which is our way of saying \"given a *known* category\".\n",
        "\n"
      ]
    },
    {
      "cell_type": "markdown",
      "metadata": {
        "id": "9vDUYok83GZ1"
      },
      "source": [
        ""
      ]
    }
  ],
  "metadata": {
    "latex_metadata": {
       "affiliation": "Georgia Institute of Technology",
       "author": "Frank Dellaert and Seth Hutchinson",
       "title": "Introduction to Robotics"
    },    
    "colab": {
      "name": "S14_sorter_perception.ipynb",
      "provenance": [],
      "include_colab_link": true
    },
    "interpreter": {
      "hash": "95ec9ec1504d83f612128e0fb229072f90bbb4cb09d9d5d93b5dd26e0ca2cfd1"
    },
    "kernelspec": {
      "display_name": "Python 3.9.6 64-bit ('base': conda)",
      "name": "python3"
    },
    "language_info": {
      "codemirror_mode": {
        "name": "ipython",
        "version": 3
      },
      "file_extension": ".py",
      "mimetype": "text/x-python",
      "name": "python",
      "nbconvert_exporter": "python",
      "pygments_lexer": "ipython3",
      "version": "3.9.7"
    },
    "widgets": {
      "application/vnd.jupyter.widget-state+json": {
        "76a6b4345f164d028df42db677fe57c4": {
          "model_module": "@jupyter-widgets/controls",
          "model_name": "VBoxModel",
          "model_module_version": "1.5.0",
          "state": {
            "_view_name": "VBoxView",
            "_dom_classes": [
              "widget-interact"
            ],
            "_model_name": "VBoxModel",
            "_view_module": "@jupyter-widgets/controls",
            "_model_module_version": "1.5.0",
            "_view_count": null,
            "_view_module_version": "1.5.0",
            "box_style": "",
            "layout": "IPY_MODEL_da2bc48680874863b08075048cf9f454",
            "_model_module": "@jupyter-widgets/controls",
            "children": [
              "IPY_MODEL_e82b35c636c14135a8299a8a8c690767",
              "IPY_MODEL_2b32a597e6744338aa9b2867d5403c69"
            ]
          }
        },
        "da2bc48680874863b08075048cf9f454": {
          "model_module": "@jupyter-widgets/base",
          "model_name": "LayoutModel",
          "model_module_version": "1.2.0",
          "state": {
            "_view_name": "LayoutView",
            "grid_template_rows": null,
            "right": null,
            "justify_content": null,
            "_view_module": "@jupyter-widgets/base",
            "overflow": null,
            "_model_module_version": "1.2.0",
            "_view_count": null,
            "flex_flow": null,
            "width": null,
            "min_width": null,
            "border": null,
            "align_items": null,
            "bottom": null,
            "_model_module": "@jupyter-widgets/base",
            "top": null,
            "grid_column": null,
            "overflow_y": null,
            "overflow_x": null,
            "grid_auto_flow": null,
            "grid_area": null,
            "grid_template_columns": null,
            "flex": null,
            "_model_name": "LayoutModel",
            "justify_items": null,
            "grid_row": null,
            "max_height": null,
            "align_content": null,
            "visibility": null,
            "align_self": null,
            "height": null,
            "min_height": null,
            "padding": null,
            "grid_auto_rows": null,
            "grid_gap": null,
            "max_width": null,
            "order": null,
            "_view_module_version": "1.2.0",
            "grid_template_areas": null,
            "object_position": null,
            "object_fit": null,
            "grid_auto_columns": null,
            "margin": null,
            "display": null,
            "left": null
          }
        },
        "e82b35c636c14135a8299a8a8c690767": {
          "model_module": "@jupyter-widgets/controls",
          "model_name": "IntSliderModel",
          "model_module_version": "1.5.0",
          "state": {
            "_view_name": "IntSliderView",
            "style": "IPY_MODEL_31b18e43515b4e5fbecfff9a389b860d",
            "_dom_classes": [],
            "description": "weight",
            "step": 5,
            "_model_name": "IntSliderModel",
            "orientation": "horizontal",
            "max": 500,
            "_view_module": "@jupyter-widgets/controls",
            "_model_module_version": "1.5.0",
            "value": 0,
            "_view_count": null,
            "disabled": false,
            "_view_module_version": "1.5.0",
            "min": 0,
            "continuous_update": true,
            "readout_format": "d",
            "description_tooltip": null,
            "readout": true,
            "_model_module": "@jupyter-widgets/controls",
            "layout": "IPY_MODEL_181c4c7edeb64dd281c5d3dc8299c11a"
          }
        },
        "2b32a597e6744338aa9b2867d5403c69": {
          "model_module": "@jupyter-widgets/output",
          "model_name": "OutputModel",
          "model_module_version": "1.0.0",
          "state": {
            "_view_name": "OutputView",
            "msg_id": "",
            "_dom_classes": [],
            "_model_name": "OutputModel",
            "outputs": [
              {
                "output_type": "display_data",
                "data": {
                  "text/html": "<html>\n<head><meta charset=\"utf-8\" /></head>\n<body>\n    <div>\n            <script src=\"https://cdnjs.cloudflare.com/ajax/libs/mathjax/2.7.5/MathJax.js?config=TeX-AMS-MML_SVG\"></script><script type=\"text/javascript\">if (window.MathJax) {MathJax.Hub.Config({SVG: {font: \"STIX-Web\"}});}</script>\n                <script type=\"text/javascript\">window.PlotlyConfig = {MathJaxConfig: 'local'};</script>\n        <script src=\"https://cdn.plot.ly/plotly-latest.min.js\"></script>    \n            <div id=\"704eda68-4627-4679-9b12-4043b7de77f4\" class=\"plotly-graph-div\" style=\"height:525px; width:100%;\"></div>\n            <script type=\"text/javascript\">\n                \n                    window.PLOTLYENV=window.PLOTLYENV || {};\n                    \n                if (document.getElementById(\"704eda68-4627-4679-9b12-4043b7de77f4\")) {\n                    Plotly.newPlot(\n                        '704eda68-4627-4679-9b12-4043b7de77f4',\n                        [{\"name\": \"cardboard\", \"type\": \"scatter\", \"x\": [0, 1, 2, 3, 4, 5, 6, 7, 8, 9, 10, 11, 12, 13, 14, 15, 16, 17, 18, 19, 20, 21, 22, 23, 24, 25, 26, 27, 28, 29, 30, 31, 32, 33, 34, 35, 36, 37, 38, 39, 40, 41, 42, 43, 44, 45, 46, 47, 48, 49, 50, 51, 52, 53, 54, 55, 56, 57, 58, 59, 60, 61, 62, 63, 64, 65, 66, 67, 68, 69, 70, 71, 72, 73, 74, 75, 76, 77, 78, 79, 80, 81, 82, 83, 84, 85, 86, 87, 88, 89, 90, 91, 92, 93, 94, 95, 96, 97, 98, 99, 100, 101, 102, 103, 104, 105, 106, 107, 108, 109, 110, 111, 112, 113, 114, 115, 116, 117, 118, 119, 120, 121, 122, 123, 124, 125, 126, 127, 128, 129, 130, 131, 132, 133, 134, 135, 136, 137, 138, 139, 140, 141, 142, 143, 144, 145, 146, 147, 148, 149, 150, 151, 152, 153, 154, 155, 156, 157, 158, 159, 160, 161, 162, 163, 164, 165, 166, 167, 168, 169, 170, 171, 172, 173, 174, 175, 176, 177, 178, 179, 180, 181, 182, 183, 184, 185, 186, 187, 188, 189, 190, 191, 192, 193, 194, 195, 196, 197, 198, 199, 200, 201, 202, 203, 204, 205, 206, 207, 208, 209, 210, 211, 212, 213, 214, 215, 216, 217, 218, 219, 220, 221, 222, 223, 224, 225, 226, 227, 228, 229, 230, 231, 232, 233, 234, 235, 236, 237, 238, 239, 240, 241, 242, 243, 244, 245, 246, 247, 248, 249, 250, 251, 252, 253, 254, 255, 256, 257, 258, 259, 260, 261, 262, 263, 264, 265, 266, 267, 268, 269, 270, 271, 272, 273, 274, 275, 276, 277, 278, 279, 280, 281, 282, 283, 284, 285, 286, 287, 288, 289, 290, 291, 292, 293, 294, 295, 296, 297, 298, 299, 300, 301, 302, 303, 304, 305, 306, 307, 308, 309, 310, 311, 312, 313, 314, 315, 316, 317, 318, 319, 320, 321, 322, 323, 324, 325, 326, 327, 328, 329, 330, 331, 332, 333, 334, 335, 336, 337, 338, 339, 340, 341, 342, 343, 344, 345, 346, 347, 348, 349, 350, 351, 352, 353, 354, 355, 356, 357, 358, 359, 360, 361, 362, 363, 364, 365, 366, 367, 368, 369, 370, 371, 372, 373, 374, 375, 376, 377, 378, 379, 380, 381, 382, 383, 384, 385, 386, 387, 388, 389, 390, 391, 392, 393, 394, 395, 396, 397, 398, 399, 400, 401, 402, 403, 404, 405, 406, 407, 408, 409, 410, 411, 412, 413, 414, 415, 416, 417, 418, 419, 420, 421, 422, 423, 424, 425, 426, 427, 428, 429, 430, 431, 432, 433, 434, 435, 436, 437, 438, 439, 440, 441, 442, 443, 444, 445, 446, 447, 448, 449, 450, 451, 452, 453, 454, 455, 456, 457, 458, 459, 460, 461, 462, 463, 464, 465, 466, 467, 468, 469, 470, 471, 472, 473, 474, 475, 476, 477, 478, 479, 480, 481, 482, 483, 484, 485, 486, 487, 488, 489, 490, 491, 492, 493, 494, 495, 496, 497, 498, 499], \"xaxis\": \"x\", \"y\": [0.005399096651318805, 0.0065615814774676595, 0.007895015830089414, 0.009404907737688692, 0.011092083467945556, 0.012951759566589173, 0.014972746563574486, 0.017136859204780735, 0.019418605498321296, 0.021785217703255054, 0.024197072451914336, 0.02660852498987548, 0.028969155276148274, 0.031225393336676125, 0.03332246028917996, 0.03520653267642995, 0.03682701403033233, 0.03813878154605241, 0.039104269397545584, 0.03969525474770118, 0.03989422804014327, 0.03969525474770118, 0.039104269397545584, 0.03813878154605241, 0.03682701403033233, 0.03520653267642995, 0.03332246028917996, 0.031225393336676125, 0.028969155276148274, 0.02660852498987548, 0.024197072451914336, 0.021785217703255054, 0.019418605498321296, 0.017136859204780735, 0.014972746563574486, 0.012951759566589173, 0.011092083467945556, 0.009404907737688692, 0.007895015830089414, 0.0065615814774676595, 0.005399096651318805, 0.004398359598042719, 0.003547459284623144, 0.0028327037741601173, 0.0022394530294842898, 0.0017528300493568538, 0.0013582969233685619, 0.0010420934814422593, 0.0007915451582979964, 0.0005952532419775853, 0.0004431848411938007, 0.0003266819056199922, 0.00023840882014648424, 0.00017225689390536797, 0.00012322191684730185, 8.726826950457601e-05, 6.119019301137719e-05, 4.2478027055075176e-05, 2.9194692579146026e-05, 1.986554713927725e-05, 1.3383022576488536e-05, 8.926165717713292e-06, 5.894306775653985e-06, 3.853519674208713e-06, 2.4942471290053574e-06, 1.5983741106905475e-06, 1.0140852065486741e-06, 6.369825178867102e-07, 3.961299091032075e-07, 2.4389607458933567e-07, 1.4867195147342977e-07, 8.972435162383321e-08, 5.3610353446976234e-08, 3.1713492167159754e-08, 1.857361844555293e-08, 1.0769760042543275e-08, 6.182620500165846e-09, 3.5139550948204335e-09, 1.977319640624467e-09, 1.1015763624682308e-09, 6.075882849823286e-10, 3.317884243547293e-10, 1.7937839079640858e-10, 9.601433370312335e-11, 5.0881402816450566e-11, 2.669556614762852e-11, 1.3866799941653121e-11, 7.1313281239960756e-12, 3.6309615017917877e-12, 1.8303322170155778e-12, 9.134720408364594e-13, 4.5135436772055175e-13, 2.207989963137139e-13, 1.0693837871541639e-13, 5.127753636796681e-14, 2.4343205330290098e-14, 1.1441564901801369e-14, 5.324148372252962e-15, 2.4528552856964236e-15, 1.1187956214351854e-15, 5.052271083536893e-16, 2.258809403154303e-16, 9.998378748497179e-17, 4.3816394355093574e-17, 1.9010815379079636e-17, 8.16623563166955e-18, 3.4729627485662076e-18, 1.4622963575006476e-18, 6.095758129562461e-19, 2.515805776951422e-19, 1.0279773571668915e-19, 4.1585989791151307e-20, 1.6655880323799168e-20, 6.604579860739355e-21, 2.592864701100389e-21, 1.007793539430001e-21, 3.878111931746961e-22, 1.4774954927042541e-22, 5.57300002272073e-23, 2.0811768202028245e-23, 7.69459862670642e-24, 2.816566544276222e-24, 1.0207305594306029e-24, 3.6623451685554037e-25, 1.300961619923922e-25, 4.575375590520805e-26, 1.5931111327009667e-26, 5.491897831817817e-27, 1.8743724023418098e-27, 6.333537821830605e-28, 2.1188192535093533e-28, 7.017759942661308e-29, 2.301230708848139e-29, 7.471002275883523e-30, 2.4013454000085358e-30, 7.641655411587203e-31, 2.4075611318393007e-31, 7.509728772496528e-32, 2.3191467772561169e-32, 7.09070266842806e-33, 2.1463837356630603e-33, 6.432540334635749e-34, 1.9085991346367892e-34, 5.606656926303913e-35, 1.6306107348396682e-35, 4.695195357975146e-36, 1.3384867992542878e-36, 3.777735721149119e-37, 1.0556163502452888e-37, 2.9203687938681377e-38, 7.998827757006811e-39, 2.1690624002606318e-39, 5.823375599736485e-40, 1.5478704662962282e-40, 4.073347677527845e-41, 1.0612688139152162e-41, 2.7375141923552695e-42, 6.991082249706488e-43, 1.7676224102535261e-43, 4.424779583316167e-44, 1.0966065593889712e-44, 2.690711235642427e-45, 6.536426775318657e-46, 1.572065958605732e-46, 3.743330579885009e-47, 8.824754974594824e-48, 2.0597010224089307e-48, 4.7595157530205755e-49, 1.088875955327737e-49, 2.4663295258805857e-50, 5.530709549844416e-51, 1.227913167226982e-51, 2.6990536443882883e-52, 5.873709066277344e-53, 1.2655240466047696e-53, 2.6995130245885873e-54, 5.701084890941206e-55, 1.192028512779122e-55, 2.467589051565629e-56, 5.057269304375426e-57, 1.0261630727919035e-57, 2.0614544295848368e-58, 4.100040535833219e-59, 8.073458503160205e-60, 1.5739398797766447e-60, 3.0379016987899227e-61, 5.80518880652889e-62, 1.0982874900168464e-62, 2.0571823030286123e-63, 3.8149300361501603e-64, 7.0041821343185816e-65, 1.273166899761951e-65, 2.291238523699444e-66, 4.082369601071511e-67, 7.201308152718911e-68, 1.2576723828781935e-68, 2.174606634299211e-69, 3.7226392159450953e-70, 6.309257355603919e-71, 1.0586748413641157e-71, 1.7587495425951037e-72, 2.8926937527364746e-73, 4.710402003089982e-74, 7.59399913842357e-75, 1.2121047949078474e-75, 1.9154324916719353e-76, 2.9967504981729808e-77, 4.641852941376975e-78, 7.118512039238996e-79, 1.0807969874547448e-79, 1.6246360367736078e-80, 2.417826282918089e-81, 3.5624695540014213e-82, 5.196779424672182e-83, 7.505410686455053e-84, 1.0731778340682652e-84, 1.5192385847961625e-85, 2.1293023083306808e-86, 2.9546478246591228e-87, 4.0591133265099926e-88, 5.520948362159763e-89, 7.4345253896805585e-90, 9.911739237865894e-91, 1.3082885546815643e-91, 1.709677795802761e-92, 2.21198438021057e-93, 2.8333935151437967e-94, 3.593261220969798e-95, 4.511570419548169e-96, 5.608203262791455e-97, 6.902029420127221e-98, 8.409824285204394e-99, 1.014504768088235e-99, 1.2116531577351792e-100, 1.432714313149544e-101, 1.6772505228543916e-102, 1.9439868705594289e-103, 2.2307236625466486e-104, 2.534283966516057e-105, 2.850505169901289e-106, 3.174281552825262e-107, 3.499662086633178e-108, 3.8200041543813365e-109, 4.1281798813830546e-110, 4.41682757925957e-111, 4.678636817250047e-112, 4.9066522288007703e-113, 5.094578703960693e-114, 5.237069405473894e-115, 5.329978269276355e-116, 5.3705603650205916e-117, 5.357606608523108e-118, 5.291503601084304e-119, 5.174214463241503e-120, 5.009181988818095e-121, 4.8011607859068815e-122, 4.555989824112226e-123, 4.280320564612503e-124, 3.9813183097533074e-125, 3.666355405254939e-126, 3.3427144417944576e-127, 3.0173177577056834e-128, 2.6964965868750268e-129, 2.3858094601010803e-130, 2.0899153359079689e-131, 1.812502793551525e-132, 1.5562728160037792e-133, 1.3229695050302202e-134, 1.1134506956258095e-135, 9.277889663488385e-137, 7.653929736419392e-138, 6.251392881594763e-139, 5.055058337540165e-140, 4.046994415418962e-141, 3.2077173522088444e-142, 2.5171937051934047e-143, 1.955663975022374e-144, 1.504280721340056e-145, 1.1455672749229767e-146, 8.637128144854152e-148, 6.447259971397852e-149, 4.7647273821451745e-150, 3.4862456629075555e-151, 2.5254278878273624e-152, 1.811210854306943e-153, 1.2860566740713692e-154, 9.040829064488595e-156, 6.292358582931827e-157, 4.335864730717606e-158, 2.957978689360788e-159, 1.9978892591682793e-160, 1.3359950177021635e-161, 8.844948736465289e-163, 5.797528029109068e-164, 3.7622482510587987e-165, 2.41718057861955e-166, 1.5375448696838486e-167, 9.682857846524228e-169, 6.0372111959126316e-170, 3.7267154741120394e-171, 2.277577478736661e-172, 1.3780885933374081e-173, 8.255400958283445e-175, 4.8961674242425806e-176, 2.8749573338735774e-177, 1.67133536513008e-178, 9.619507930844258e-180, 5.481496818489349e-181, 3.092448892014068e-182, 1.7272808201578242e-183, 9.551694541948838e-185, 5.229437243665688e-186, 2.8345657864063636e-187, 1.5211609963386134e-188, 8.08203779163086e-190, 4.2513183535275505e-191, 2.2140296553373817e-192, 1.141564079517902e-193, 5.827391701070536e-195, 2.9451348355844834e-196, 1.4736461348785474e-197, 7.300259384280957e-199, 3.580473207739987e-200, 1.7385997808349164e-201, 8.358259833922495e-203, 3.9782234272821206e-204, 1.8746471172579101e-205, 8.745949016023834e-207, 4.039721348952662e-208, 1.8473659423504442e-209, 8.363951605856461e-211, 3.749101039855161e-212, 1.6637950729386792e-213, 7.310205368265905e-215, 3.179921339612172e-216, 1.3694943080797673e-217, 5.839304746506257e-219, 2.465012386647951e-220, 1.0302298425818013e-221, 4.2629103657844705e-223, 1.7463662567587766e-224, 7.083069723157502e-226, 2.8442302922941696e-227, 1.130745982529165e-228, 4.450639360754901e-230, 1.7343502636064356e-231, 6.691265648767566e-233, 2.5558583961363574e-234, 9.665456273536335e-236, 3.618803380759152e-237, 1.3414196673494361e-238, 4.922904453355458e-240, 1.7886904954981085e-241, 6.434370239338416e-243, 2.2915743360482116e-244, 8.080140413872446e-246, 2.820726126102695e-247, 9.748998183483576e-249, 3.335923732626582e-250, 1.1301323110637129e-251, 3.790526400092868e-253, 1.2587132818392329e-254, 4.1381969774340143e-256, 1.3469533620676437e-257, 4.3406124655891744e-259, 1.3848620783379356e-260, 4.374405995966703e-262, 1.3680082244885738e-263, 4.2356043315353515e-265, 1.2983719198057994e-266, 3.9403962771360245e-268, 1.1839619382533032e-269, 3.5220266444311145e-271, 1.0373005028065088e-272, 3.024639328631203e-274, 8.73171710062051e-276, 2.4956448011575125e-277, 7.061922471203665e-279, 1.9784276481530637e-280, 5.487499010718539e-282, 1.5069047176203945e-283, 4.096888884883343e-285, 1.10275651737697e-286, 2.9387465769879268e-288, 7.753569686851747e-290, 2.0253417162117463e-291, 5.237836969636186e-293, 1.3411047492671699e-294, 3.399620813762739e-296, 8.532087755636322e-298, 2.1200065515246056e-299, 5.215262198832045e-301, 1.270200113830733e-302, 3.0628462906953985e-304, 7.311985345504755e-306, 1.7282337322841053e-307, 4.044144809348685e-309, 9.3693178766415e-311, 2.149048933895e-312, 4.880245734e-314, 1.09722105e-315, 2.442326e-317, 5.38235e-319, 1.1744e-320, 2.5e-322, 5e-324, 0.0, 0.0, 0.0, 0.0, 0.0, 0.0, 0.0, 0.0, 0.0, 0.0, 0.0, 0.0, 0.0, 0.0, 0.0, 0.0, 0.0, 0.0, 0.0, 0.0, 0.0, 0.0, 0.0, 0.0, 0.0, 0.0, 0.0, 0.0, 0.0, 0.0, 0.0, 0.0, 0.0, 0.0, 0.0, 0.0, 0.0, 0.0, 0.0, 0.0, 0.0, 0.0, 0.0, 0.0, 0.0, 0.0, 0.0, 0.0, 0.0, 0.0, 0.0, 0.0, 0.0, 0.0, 0.0, 0.0, 0.0, 0.0, 0.0, 0.0, 0.0, 0.0, 0.0, 0.0, 0.0, 0.0, 0.0, 0.0, 0.0, 0.0, 0.0, 0.0, 0.0, 0.0, 0.0, 0.0, 0.0, 0.0, 0.0, 0.0, 0.0, 0.0, 0.0, 0.0, 0.0, 0.0, 0.0, 0.0, 0.0, 0.0, 0.0, 0.0, 0.0, 0.0], \"yaxis\": \"y\"}, {\"name\": \"paper\", \"type\": \"scatter\", \"x\": [0, 1, 2, 3, 4, 5, 6, 7, 8, 9, 10, 11, 12, 13, 14, 15, 16, 17, 18, 19, 20, 21, 22, 23, 24, 25, 26, 27, 28, 29, 30, 31, 32, 33, 34, 35, 36, 37, 38, 39, 40, 41, 42, 43, 44, 45, 46, 47, 48, 49, 50, 51, 52, 53, 54, 55, 56, 57, 58, 59, 60, 61, 62, 63, 64, 65, 66, 67, 68, 69, 70, 71, 72, 73, 74, 75, 76, 77, 78, 79, 80, 81, 82, 83, 84, 85, 86, 87, 88, 89, 90, 91, 92, 93, 94, 95, 96, 97, 98, 99, 100, 101, 102, 103, 104, 105, 106, 107, 108, 109, 110, 111, 112, 113, 114, 115, 116, 117, 118, 119, 120, 121, 122, 123, 124, 125, 126, 127, 128, 129, 130, 131, 132, 133, 134, 135, 136, 137, 138, 139, 140, 141, 142, 143, 144, 145, 146, 147, 148, 149, 150, 151, 152, 153, 154, 155, 156, 157, 158, 159, 160, 161, 162, 163, 164, 165, 166, 167, 168, 169, 170, 171, 172, 173, 174, 175, 176, 177, 178, 179, 180, 181, 182, 183, 184, 185, 186, 187, 188, 189, 190, 191, 192, 193, 194, 195, 196, 197, 198, 199, 200, 201, 202, 203, 204, 205, 206, 207, 208, 209, 210, 211, 212, 213, 214, 215, 216, 217, 218, 219, 220, 221, 222, 223, 224, 225, 226, 227, 228, 229, 230, 231, 232, 233, 234, 235, 236, 237, 238, 239, 240, 241, 242, 243, 244, 245, 246, 247, 248, 249, 250, 251, 252, 253, 254, 255, 256, 257, 258, 259, 260, 261, 262, 263, 264, 265, 266, 267, 268, 269, 270, 271, 272, 273, 274, 275, 276, 277, 278, 279, 280, 281, 282, 283, 284, 285, 286, 287, 288, 289, 290, 291, 292, 293, 294, 295, 296, 297, 298, 299, 300, 301, 302, 303, 304, 305, 306, 307, 308, 309, 310, 311, 312, 313, 314, 315, 316, 317, 318, 319, 320, 321, 322, 323, 324, 325, 326, 327, 328, 329, 330, 331, 332, 333, 334, 335, 336, 337, 338, 339, 340, 341, 342, 343, 344, 345, 346, 347, 348, 349, 350, 351, 352, 353, 354, 355, 356, 357, 358, 359, 360, 361, 362, 363, 364, 365, 366, 367, 368, 369, 370, 371, 372, 373, 374, 375, 376, 377, 378, 379, 380, 381, 382, 383, 384, 385, 386, 387, 388, 389, 390, 391, 392, 393, 394, 395, 396, 397, 398, 399, 400, 401, 402, 403, 404, 405, 406, 407, 408, 409, 410, 411, 412, 413, 414, 415, 416, 417, 418, 419, 420, 421, 422, 423, 424, 425, 426, 427, 428, 429, 430, 431, 432, 433, 434, 435, 436, 437, 438, 439, 440, 441, 442, 443, 444, 445, 446, 447, 448, 449, 450, 451, 452, 453, 454, 455, 456, 457, 458, 459, 460, 461, 462, 463, 464, 465, 466, 467, 468, 469, 470, 471, 472, 473, 474, 475, 476, 477, 478, 479, 480, 481, 482, 483, 484, 485, 486, 487, 488, 489, 490, 491, 492, 493, 494, 495, 496, 497, 498, 499], \"xaxis\": \"x3\", \"y\": [0.04839414490382867, 0.05793831055229655, 0.06664492057835993, 0.07365402806066466, 0.07820853879509117, 0.07978845608028654, 0.07820853879509117, 0.07365402806066466, 0.06664492057835993, 0.05793831055229655, 0.04839414490382867, 0.03883721099664259, 0.029945493127148972, 0.022184166935891113, 0.015790031660178828, 0.01079819330263761, 0.007094918569246288, 0.0044789060589685795, 0.0027165938467371238, 0.0015830903165959928, 0.0008863696823876014, 0.0004768176402929685, 0.0002464438336946037, 0.00012238038602275437, 5.838938515829205e-05, 2.676604515297707e-05, 1.178861355130797e-05, 4.988494258010715e-06, 2.0281704130973483e-06, 7.92259818206415e-07, 2.9734390294685955e-07, 1.0722070689395247e-07, 3.714723689110586e-08, 1.2365241000331692e-08, 3.954639281248934e-09, 1.2151765699646572e-09, 3.5875678159281716e-10, 1.0176280563290113e-10, 2.7733599883306243e-11, 7.261923003583575e-12, 1.8269440816729187e-12, 4.415979926274278e-13, 1.0255507273593362e-13, 2.2883129803602738e-14, 4.905710571392847e-15, 1.0104542167073785e-15, 1.9996757496994358e-16, 3.802163075815927e-17, 6.945925497132415e-18, 1.2191516259124923e-18, 2.055954714333783e-19, 3.3311760647598336e-20, 5.185729402200778e-21, 7.756223863493922e-22, 1.114600004544146e-22, 1.538919725341284e-23, 2.0414611188612057e-24, 2.601923239847844e-25, 3.1862222654019333e-26, 3.7487448046836196e-27, 4.237638507018707e-28, 4.602461417696278e-29, 4.8026908000170716e-30, 4.8151222636786015e-31, 4.6382935545122337e-32, 4.2927674713261205e-33, 3.8171982692735784e-34, 3.2612214696793364e-35, 2.6769735985085756e-36, 2.1112327004905776e-37, 1.5997655514013623e-38, 1.164675119947297e-39, 8.14669535505569e-41, 5.475028384710539e-42, 3.5352448205070523e-43, 2.1932131187779423e-44, 1.3072853550637314e-45, 7.486661159770018e-47, 4.1194020448178614e-48, 2.177751910655474e-49, 1.1061419099688832e-50, 5.3981072887765765e-52, 2.5310480932095393e-53, 1.1402169781882412e-54, 4.935178103131258e-56, 2.052326145583807e-57, 8.200081071666438e-59, 3.1478797595532894e-60, 1.161037761305778e-61, 4.1143646060572245e-63, 1.4008364268637163e-64, 4.582477047398888e-66, 1.4402616305437822e-67, 4.349213268598422e-69, 1.2618514711207838e-70, 3.5174990851902074e-72, 9.420804006179964e-74, 2.424209589815695e-75, 5.9935009963459616e-77, 1.4237024078477993e-78, 3.2492720735472156e-80, 7.124939108002843e-82, 1.5010821372910106e-83, 3.038477169592325e-85, 5.9092956493182455e-87, 1.1041896724319526e-88, 1.982347847573179e-90, 3.419355591605522e-92, 5.666787030287593e-94, 9.023140839096338e-96, 1.3804058840254442e-97, 2.02900953617647e-99, 2.865428626299088e-101, 3.8879737411188577e-103, 5.068567933032114e-105, 6.348563105650524e-107, 7.640008308762673e-109, 8.83365515851914e-111, 9.813304457601541e-113, 1.0474138810947788e-114, 1.0741120730041183e-116, 1.0583007202168608e-118, 1.001836397763619e-120, 9.111979648224451e-123, 7.962636619506615e-125, 6.685428883588915e-127, 5.3929931737500537e-129, 4.1798306718159377e-131, 3.1125456320075583e-133, 2.226901391251619e-135, 1.5307859472838784e-137, 1.011011667508033e-139, 6.415434704417689e-142, 3.911327950044748e-144, 2.2911345498459533e-146, 1.2894519942795703e-148, 6.972491325815111e-151, 3.622421708613886e-153, 1.808165812897719e-155, 8.671729461435212e-158, 3.9957785183365585e-160, 1.7689897472930578e-162, 7.524496502117597e-165, 3.0750897393676973e-167, 1.2074422391825263e-169, 4.555154957473322e-172, 1.651080191656689e-174, 5.749914667747155e-177, 1.9239015861688515e-179, 6.184897784028136e-182, 1.9103389083897676e-184, 5.669131572812727e-187, 1.616407558326172e-189, 4.4280593106747635e-192, 1.1654783402141071e-194, 2.947292269757095e-197, 7.160946415479974e-200, 1.671651966784499e-202, 3.7492942345158202e-205, 8.079442697905325e-208, 1.6727903211712922e-210, 3.3275901458773585e-213, 6.359842679224344e-216, 1.1678609493012514e-218, 2.0604596851636027e-221, 3.4927325135175533e-224, 5.688460584588339e-227, 8.901278721509802e-230, 1.3382531297535133e-232, 1.933091254707267e-235, 2.6828393346988722e-238, 3.577380990996217e-241, 4.583148672096423e-244, 5.64145225220539e-247, 6.671847465253164e-250, 7.581052800185736e-253, 8.276393954868029e-256, 8.681224931178349e-259, 8.748811991933406e-262, 8.471208663070703e-265, 7.880792554272049e-268, 7.044053288862229e-271, 6.049278657262406e-274, 4.991289602315025e-277, 3.9568552963061274e-280, 3.013809435240789e-283, 2.20551303475394e-286, 1.5507139373703494e-289, 1.0475673939272372e-292, 6.799241627525478e-296, 4.240013103049211e-299, 2.540400227661466e-302, 1.462397069100951e-305, 8.088289618697375e-309, 4.29809786779e-312, 2.194442106e-315, 1.076465e-318, 5.1e-322, 0.0, 0.0, 0.0, 0.0, 0.0, 0.0, 0.0, 0.0, 0.0, 0.0, 0.0, 0.0, 0.0, 0.0, 0.0, 0.0, 0.0, 0.0, 0.0, 0.0, 0.0, 0.0, 0.0, 0.0, 0.0, 0.0, 0.0, 0.0, 0.0, 0.0, 0.0, 0.0, 0.0, 0.0, 0.0, 0.0, 0.0, 0.0, 0.0, 0.0, 0.0, 0.0, 0.0, 0.0, 0.0, 0.0, 0.0, 0.0, 0.0, 0.0, 0.0, 0.0, 0.0, 0.0, 0.0, 0.0, 0.0, 0.0, 0.0, 0.0, 0.0, 0.0, 0.0, 0.0, 0.0, 0.0, 0.0, 0.0, 0.0, 0.0, 0.0, 0.0, 0.0, 0.0, 0.0, 0.0, 0.0, 0.0, 0.0, 0.0, 0.0, 0.0, 0.0, 0.0, 0.0, 0.0, 0.0, 0.0, 0.0, 0.0, 0.0, 0.0, 0.0, 0.0, 0.0, 0.0, 0.0, 0.0, 0.0, 0.0, 0.0, 0.0, 0.0, 0.0, 0.0, 0.0, 0.0, 0.0, 0.0, 0.0, 0.0, 0.0, 0.0, 0.0, 0.0, 0.0, 0.0, 0.0, 0.0, 0.0, 0.0, 0.0, 0.0, 0.0, 0.0, 0.0, 0.0, 0.0, 0.0, 0.0, 0.0, 0.0, 0.0, 0.0, 0.0, 0.0, 0.0, 0.0, 0.0, 0.0, 0.0, 0.0, 0.0, 0.0, 0.0, 0.0, 0.0, 0.0, 0.0, 0.0, 0.0, 0.0, 0.0, 0.0, 0.0, 0.0, 0.0, 0.0, 0.0, 0.0, 0.0, 0.0, 0.0, 0.0, 0.0, 0.0, 0.0, 0.0, 0.0, 0.0, 0.0, 0.0, 0.0, 0.0, 0.0, 0.0, 0.0, 0.0, 0.0, 0.0, 0.0, 0.0, 0.0, 0.0, 0.0, 0.0, 0.0, 0.0, 0.0, 0.0, 0.0, 0.0, 0.0, 0.0, 0.0, 0.0, 0.0, 0.0, 0.0, 0.0, 0.0, 0.0, 0.0, 0.0, 0.0, 0.0, 0.0, 0.0, 0.0, 0.0, 0.0, 0.0, 0.0, 0.0, 0.0, 0.0, 0.0, 0.0, 0.0, 0.0, 0.0, 0.0, 0.0, 0.0, 0.0, 0.0, 0.0, 0.0, 0.0, 0.0, 0.0, 0.0, 0.0, 0.0, 0.0, 0.0, 0.0, 0.0, 0.0, 0.0, 0.0, 0.0, 0.0, 0.0, 0.0, 0.0, 0.0, 0.0, 0.0, 0.0, 0.0, 0.0, 0.0, 0.0, 0.0, 0.0, 0.0, 0.0, 0.0, 0.0, 0.0, 0.0, 0.0, 0.0, 0.0, 0.0, 0.0, 0.0, 0.0, 0.0, 0.0, 0.0, 0.0, 0.0, 0.0, 0.0, 0.0, 0.0, 0.0, 0.0, 0.0, 0.0, 0.0, 0.0, 0.0, 0.0, 0.0, 0.0, 0.0, 0.0, 0.0, 0.0, 0.0, 0.0, 0.0, 0.0, 0.0, 0.0, 0.0, 0.0, 0.0, 0.0], \"yaxis\": \"y3\"}, {\"name\": \"can\", \"type\": \"scatter\", \"x\": [0, 1, 2, 3, 4, 5, 6, 7, 8, 9, 10, 11, 12, 13, 14, 15, 16, 17, 18, 19, 20, 21, 22, 23, 24, 25, 26, 27, 28, 29, 30, 31, 32, 33, 34, 35, 36, 37, 38, 39, 40, 41, 42, 43, 44, 45, 46, 47, 48, 49, 50, 51, 52, 53, 54, 55, 56, 57, 58, 59, 60, 61, 62, 63, 64, 65, 66, 67, 68, 69, 70, 71, 72, 73, 74, 75, 76, 77, 78, 79, 80, 81, 82, 83, 84, 85, 86, 87, 88, 89, 90, 91, 92, 93, 94, 95, 96, 97, 98, 99, 100, 101, 102, 103, 104, 105, 106, 107, 108, 109, 110, 111, 112, 113, 114, 115, 116, 117, 118, 119, 120, 121, 122, 123, 124, 125, 126, 127, 128, 129, 130, 131, 132, 133, 134, 135, 136, 137, 138, 139, 140, 141, 142, 143, 144, 145, 146, 147, 148, 149, 150, 151, 152, 153, 154, 155, 156, 157, 158, 159, 160, 161, 162, 163, 164, 165, 166, 167, 168, 169, 170, 171, 172, 173, 174, 175, 176, 177, 178, 179, 180, 181, 182, 183, 184, 185, 186, 187, 188, 189, 190, 191, 192, 193, 194, 195, 196, 197, 198, 199, 200, 201, 202, 203, 204, 205, 206, 207, 208, 209, 210, 211, 212, 213, 214, 215, 216, 217, 218, 219, 220, 221, 222, 223, 224, 225, 226, 227, 228, 229, 230, 231, 232, 233, 234, 235, 236, 237, 238, 239, 240, 241, 242, 243, 244, 245, 246, 247, 248, 249, 250, 251, 252, 253, 254, 255, 256, 257, 258, 259, 260, 261, 262, 263, 264, 265, 266, 267, 268, 269, 270, 271, 272, 273, 274, 275, 276, 277, 278, 279, 280, 281, 282, 283, 284, 285, 286, 287, 288, 289, 290, 291, 292, 293, 294, 295, 296, 297, 298, 299, 300, 301, 302, 303, 304, 305, 306, 307, 308, 309, 310, 311, 312, 313, 314, 315, 316, 317, 318, 319, 320, 321, 322, 323, 324, 325, 326, 327, 328, 329, 330, 331, 332, 333, 334, 335, 336, 337, 338, 339, 340, 341, 342, 343, 344, 345, 346, 347, 348, 349, 350, 351, 352, 353, 354, 355, 356, 357, 358, 359, 360, 361, 362, 363, 364, 365, 366, 367, 368, 369, 370, 371, 372, 373, 374, 375, 376, 377, 378, 379, 380, 381, 382, 383, 384, 385, 386, 387, 388, 389, 390, 391, 392, 393, 394, 395, 396, 397, 398, 399, 400, 401, 402, 403, 404, 405, 406, 407, 408, 409, 410, 411, 412, 413, 414, 415, 416, 417, 418, 419, 420, 421, 422, 423, 424, 425, 426, 427, 428, 429, 430, 431, 432, 433, 434, 435, 436, 437, 438, 439, 440, 441, 442, 443, 444, 445, 446, 447, 448, 449, 450, 451, 452, 453, 454, 455, 456, 457, 458, 459, 460, 461, 462, 463, 464, 465, 466, 467, 468, 469, 470, 471, 472, 473, 474, 475, 476, 477, 478, 479, 480, 481, 482, 483, 484, 485, 486, 487, 488, 489, 490, 491, 492, 493, 494, 495, 496, 497, 498, 499], \"xaxis\": \"x4\", \"y\": [0.0008863696823876014, 0.0015830903165959928, 0.0027165938467371238, 0.0044789060589685795, 0.007094918569246288, 0.01079819330263761, 0.015790031660178828, 0.022184166935891113, 0.029945493127148972, 0.03883721099664259, 0.04839414490382867, 0.05793831055229655, 0.06664492057835993, 0.07365402806066466, 0.07820853879509117, 0.07978845608028654, 0.07820853879509117, 0.07365402806066466, 0.06664492057835993, 0.05793831055229655, 0.04839414490382867, 0.03883721099664259, 0.029945493127148972, 0.022184166935891113, 0.015790031660178828, 0.01079819330263761, 0.007094918569246288, 0.0044789060589685795, 0.0027165938467371238, 0.0015830903165959928, 0.0008863696823876014, 0.0004768176402929685, 0.0002464438336946037, 0.00012238038602275437, 5.838938515829205e-05, 2.676604515297707e-05, 1.178861355130797e-05, 4.988494258010715e-06, 2.0281704130973483e-06, 7.92259818206415e-07, 2.9734390294685955e-07, 1.0722070689395247e-07, 3.714723689110586e-08, 1.2365241000331692e-08, 3.954639281248934e-09, 1.2151765699646572e-09, 3.5875678159281716e-10, 1.0176280563290113e-10, 2.7733599883306243e-11, 7.261923003583575e-12, 1.8269440816729187e-12, 4.415979926274278e-13, 1.0255507273593362e-13, 2.2883129803602738e-14, 4.905710571392847e-15, 1.0104542167073785e-15, 1.9996757496994358e-16, 3.802163075815927e-17, 6.945925497132415e-18, 1.2191516259124923e-18, 2.055954714333783e-19, 3.3311760647598336e-20, 5.185729402200778e-21, 7.756223863493922e-22, 1.114600004544146e-22, 1.538919725341284e-23, 2.0414611188612057e-24, 2.601923239847844e-25, 3.1862222654019333e-26, 3.7487448046836196e-27, 4.237638507018707e-28, 4.602461417696278e-29, 4.8026908000170716e-30, 4.8151222636786015e-31, 4.6382935545122337e-32, 4.2927674713261205e-33, 3.8171982692735784e-34, 3.2612214696793364e-35, 2.6769735985085756e-36, 2.1112327004905776e-37, 1.5997655514013623e-38, 1.164675119947297e-39, 8.14669535505569e-41, 5.475028384710539e-42, 3.5352448205070523e-43, 2.1932131187779423e-44, 1.3072853550637314e-45, 7.486661159770018e-47, 4.1194020448178614e-48, 2.177751910655474e-49, 1.1061419099688832e-50, 5.3981072887765765e-52, 2.5310480932095393e-53, 1.1402169781882412e-54, 4.935178103131258e-56, 2.052326145583807e-57, 8.200081071666438e-59, 3.1478797595532894e-60, 1.161037761305778e-61, 4.1143646060572245e-63, 1.4008364268637163e-64, 4.582477047398888e-66, 1.4402616305437822e-67, 4.349213268598422e-69, 1.2618514711207838e-70, 3.5174990851902074e-72, 9.420804006179964e-74, 2.424209589815695e-75, 5.9935009963459616e-77, 1.4237024078477993e-78, 3.2492720735472156e-80, 7.124939108002843e-82, 1.5010821372910106e-83, 3.038477169592325e-85, 5.9092956493182455e-87, 1.1041896724319526e-88, 1.982347847573179e-90, 3.419355591605522e-92, 5.666787030287593e-94, 9.023140839096338e-96, 1.3804058840254442e-97, 2.02900953617647e-99, 2.865428626299088e-101, 3.8879737411188577e-103, 5.068567933032114e-105, 6.348563105650524e-107, 7.640008308762673e-109, 8.83365515851914e-111, 9.813304457601541e-113, 1.0474138810947788e-114, 1.0741120730041183e-116, 1.0583007202168608e-118, 1.001836397763619e-120, 9.111979648224451e-123, 7.962636619506615e-125, 6.685428883588915e-127, 5.3929931737500537e-129, 4.1798306718159377e-131, 3.1125456320075583e-133, 2.226901391251619e-135, 1.5307859472838784e-137, 1.011011667508033e-139, 6.415434704417689e-142, 3.911327950044748e-144, 2.2911345498459533e-146, 1.2894519942795703e-148, 6.972491325815111e-151, 3.622421708613886e-153, 1.808165812897719e-155, 8.671729461435212e-158, 3.9957785183365585e-160, 1.7689897472930578e-162, 7.524496502117597e-165, 3.0750897393676973e-167, 1.2074422391825263e-169, 4.555154957473322e-172, 1.651080191656689e-174, 5.749914667747155e-177, 1.9239015861688515e-179, 6.184897784028136e-182, 1.9103389083897676e-184, 5.669131572812727e-187, 1.616407558326172e-189, 4.4280593106747635e-192, 1.1654783402141071e-194, 2.947292269757095e-197, 7.160946415479974e-200, 1.671651966784499e-202, 3.7492942345158202e-205, 8.079442697905325e-208, 1.6727903211712922e-210, 3.3275901458773585e-213, 6.359842679224344e-216, 1.1678609493012514e-218, 2.0604596851636027e-221, 3.4927325135175533e-224, 5.688460584588339e-227, 8.901278721509802e-230, 1.3382531297535133e-232, 1.933091254707267e-235, 2.6828393346988722e-238, 3.577380990996217e-241, 4.583148672096423e-244, 5.64145225220539e-247, 6.671847465253164e-250, 7.581052800185736e-253, 8.276393954868029e-256, 8.681224931178349e-259, 8.748811991933406e-262, 8.471208663070703e-265, 7.880792554272049e-268, 7.044053288862229e-271, 6.049278657262406e-274, 4.991289602315025e-277, 3.9568552963061274e-280, 3.013809435240789e-283, 2.20551303475394e-286, 1.5507139373703494e-289, 1.0475673939272372e-292, 6.799241627525478e-296, 4.240013103049211e-299, 2.540400227661466e-302, 1.462397069100951e-305, 8.088289618697375e-309, 4.29809786779e-312, 2.194442106e-315, 1.076465e-318, 5.1e-322, 0.0, 0.0, 0.0, 0.0, 0.0, 0.0, 0.0, 0.0, 0.0, 0.0, 0.0, 0.0, 0.0, 0.0, 0.0, 0.0, 0.0, 0.0, 0.0, 0.0, 0.0, 0.0, 0.0, 0.0, 0.0, 0.0, 0.0, 0.0, 0.0, 0.0, 0.0, 0.0, 0.0, 0.0, 0.0, 0.0, 0.0, 0.0, 0.0, 0.0, 0.0, 0.0, 0.0, 0.0, 0.0, 0.0, 0.0, 0.0, 0.0, 0.0, 0.0, 0.0, 0.0, 0.0, 0.0, 0.0, 0.0, 0.0, 0.0, 0.0, 0.0, 0.0, 0.0, 0.0, 0.0, 0.0, 0.0, 0.0, 0.0, 0.0, 0.0, 0.0, 0.0, 0.0, 0.0, 0.0, 0.0, 0.0, 0.0, 0.0, 0.0, 0.0, 0.0, 0.0, 0.0, 0.0, 0.0, 0.0, 0.0, 0.0, 0.0, 0.0, 0.0, 0.0, 0.0, 0.0, 0.0, 0.0, 0.0, 0.0, 0.0, 0.0, 0.0, 0.0, 0.0, 0.0, 0.0, 0.0, 0.0, 0.0, 0.0, 0.0, 0.0, 0.0, 0.0, 0.0, 0.0, 0.0, 0.0, 0.0, 0.0, 0.0, 0.0, 0.0, 0.0, 0.0, 0.0, 0.0, 0.0, 0.0, 0.0, 0.0, 0.0, 0.0, 0.0, 0.0, 0.0, 0.0, 0.0, 0.0, 0.0, 0.0, 0.0, 0.0, 0.0, 0.0, 0.0, 0.0, 0.0, 0.0, 0.0, 0.0, 0.0, 0.0, 0.0, 0.0, 0.0, 0.0, 0.0, 0.0, 0.0, 0.0, 0.0, 0.0, 0.0, 0.0, 0.0, 0.0, 0.0, 0.0, 0.0, 0.0, 0.0, 0.0, 0.0, 0.0, 0.0, 0.0, 0.0, 0.0, 0.0, 0.0, 0.0, 0.0, 0.0, 0.0, 0.0, 0.0, 0.0, 0.0, 0.0, 0.0, 0.0, 0.0, 0.0, 0.0, 0.0, 0.0, 0.0, 0.0, 0.0, 0.0, 0.0, 0.0, 0.0, 0.0, 0.0, 0.0, 0.0, 0.0, 0.0, 0.0, 0.0, 0.0, 0.0, 0.0, 0.0, 0.0, 0.0, 0.0, 0.0, 0.0, 0.0, 0.0, 0.0, 0.0, 0.0, 0.0, 0.0, 0.0, 0.0, 0.0, 0.0, 0.0, 0.0, 0.0, 0.0, 0.0, 0.0, 0.0, 0.0, 0.0, 0.0, 0.0, 0.0, 0.0, 0.0, 0.0, 0.0, 0.0, 0.0, 0.0, 0.0, 0.0, 0.0, 0.0, 0.0, 0.0, 0.0, 0.0, 0.0, 0.0, 0.0, 0.0, 0.0, 0.0, 0.0, 0.0, 0.0, 0.0, 0.0, 0.0, 0.0, 0.0, 0.0, 0.0, 0.0, 0.0, 0.0, 0.0, 0.0, 0.0, 0.0, 0.0, 0.0, 0.0, 0.0, 0.0, 0.0, 0.0, 0.0, 0.0], \"yaxis\": \"y4\"}, {\"name\": \"scrap metal\", \"type\": \"scatter\", \"x\": [0, 1, 2, 3, 4, 5, 6, 7, 8, 9, 10, 11, 12, 13, 14, 15, 16, 17, 18, 19, 20, 21, 22, 23, 24, 25, 26, 27, 28, 29, 30, 31, 32, 33, 34, 35, 36, 37, 38, 39, 40, 41, 42, 43, 44, 45, 46, 47, 48, 49, 50, 51, 52, 53, 54, 55, 56, 57, 58, 59, 60, 61, 62, 63, 64, 65, 66, 67, 68, 69, 70, 71, 72, 73, 74, 75, 76, 77, 78, 79, 80, 81, 82, 83, 84, 85, 86, 87, 88, 89, 90, 91, 92, 93, 94, 95, 96, 97, 98, 99, 100, 101, 102, 103, 104, 105, 106, 107, 108, 109, 110, 111, 112, 113, 114, 115, 116, 117, 118, 119, 120, 121, 122, 123, 124, 125, 126, 127, 128, 129, 130, 131, 132, 133, 134, 135, 136, 137, 138, 139, 140, 141, 142, 143, 144, 145, 146, 147, 148, 149, 150, 151, 152, 153, 154, 155, 156, 157, 158, 159, 160, 161, 162, 163, 164, 165, 166, 167, 168, 169, 170, 171, 172, 173, 174, 175, 176, 177, 178, 179, 180, 181, 182, 183, 184, 185, 186, 187, 188, 189, 190, 191, 192, 193, 194, 195, 196, 197, 198, 199, 200, 201, 202, 203, 204, 205, 206, 207, 208, 209, 210, 211, 212, 213, 214, 215, 216, 217, 218, 219, 220, 221, 222, 223, 224, 225, 226, 227, 228, 229, 230, 231, 232, 233, 234, 235, 236, 237, 238, 239, 240, 241, 242, 243, 244, 245, 246, 247, 248, 249, 250, 251, 252, 253, 254, 255, 256, 257, 258, 259, 260, 261, 262, 263, 264, 265, 266, 267, 268, 269, 270, 271, 272, 273, 274, 275, 276, 277, 278, 279, 280, 281, 282, 283, 284, 285, 286, 287, 288, 289, 290, 291, 292, 293, 294, 295, 296, 297, 298, 299, 300, 301, 302, 303, 304, 305, 306, 307, 308, 309, 310, 311, 312, 313, 314, 315, 316, 317, 318, 319, 320, 321, 322, 323, 324, 325, 326, 327, 328, 329, 330, 331, 332, 333, 334, 335, 336, 337, 338, 339, 340, 341, 342, 343, 344, 345, 346, 347, 348, 349, 350, 351, 352, 353, 354, 355, 356, 357, 358, 359, 360, 361, 362, 363, 364, 365, 366, 367, 368, 369, 370, 371, 372, 373, 374, 375, 376, 377, 378, 379, 380, 381, 382, 383, 384, 385, 386, 387, 388, 389, 390, 391, 392, 393, 394, 395, 396, 397, 398, 399, 400, 401, 402, 403, 404, 405, 406, 407, 408, 409, 410, 411, 412, 413, 414, 415, 416, 417, 418, 419, 420, 421, 422, 423, 424, 425, 426, 427, 428, 429, 430, 431, 432, 433, 434, 435, 436, 437, 438, 439, 440, 441, 442, 443, 444, 445, 446, 447, 448, 449, 450, 451, 452, 453, 454, 455, 456, 457, 458, 459, 460, 461, 462, 463, 464, 465, 466, 467, 468, 469, 470, 471, 472, 473, 474, 475, 476, 477, 478, 479, 480, 481, 482, 483, 484, 485, 486, 487, 488, 489, 490, 491, 492, 493, 494, 495, 496, 497, 498, 499], \"xaxis\": \"x5\", \"y\": [0.0012951759566589172, 0.0013146842987223103, 0.001334353039510023, 0.001354180615740713, 0.0013741653928228174, 0.0013943056644536026, 0.0014145996522483878, 0.0014350455054006237, 0.001455641300373476, 0.0014763850406235572, 0.0014972746563574487, 0.0015183080043216165, 0.0015394828676263367, 0.0015607969556042085, 0.0015822479037038305, 0.0016038332734191957, 0.0016255505522553414, 0.001647397153730768, 0.0016693704174171383, 0.001691467609016724, 0.0017136859204780735, 0.00173602247015033, 0.0017584743029766235, 0.0017810383907269358, 0.0018037116322708031, 0.001826490853890219, 0.0018493728096330528, 0.0018723541817072954, 0.0018954315809164024, 0.0019186015471359937, 0.0019418605498321294, 0.0019652049886213652, 0.001988631193872759, 0.0020121354273519732, 0.002035713882907594, 0.002059362687199747, 0.002083077900471083, 0.0021068555173601525, 0.0021306914677571786, 0.002154581617702197, 0.0021785217703255053, 0.002202507666830333, 0.002226534987517611, 0.0022505993528526965, 0.0022746963245738588, 0.0022988214068423297, 0.002322970047433662, 0.002347137638970118, 0.002371319520193796, 0.002395510977280133, 0.0024197072451914332, 0.0024439035090699957, 0.002468094905670427, 0.0024922765248306593, 0.002516443410981171, 0.00254059056469189, 0.0025647129442562034, 0.0025888054673114886, 0.0026128630124955315, 0.0026368804211381815, 0.002660852498987548, 0.0026847740179700235, 0.00270863971798338, 0.002732444308722162, 0.002756182471534567, 0.0027798488613099645, 0.0028034381083962053, 0.002826944820545802, 0.0028503635848900716, 0.0028736889699402827, 0.002896915527614827, 0.002920037795291414, 0.002943050297883251, 0.002965947549938157, 0.002988724057759527, 0.003011374321548044, 0.003033892837563001, 0.0030562741003020985, 0.0030785126046985294, 0.003100602848334161, 0.0031225393336676123, 0.0031443165702759726, 0.003165929077108928, 0.003187371384754015, 0.003208638037711725, 0.0032297235966791426, 0.0032506226408408213, 0.0032713297701655445, 0.0032918396077076476, 0.0033121468019115296, 0.003332246028917996, 0.003352131994871061, 0.0033717994382238053, 0.0033912431320419216, 0.0034104578863035253, 0.0034294385501938388, 0.0034481800143933332, 0.003466677213357916, 0.003484925127589745, 0.0035029187858972577, 0.003520653267642995, 0.003538123704977797, 0.0035553252850599702, 0.0035722532522580075, 0.0035889029103354456, 0.003605269624616479, 0.003621348824130922, 0.003637136003737134, 0.0036526267262215386, 0.0036678166243733607, 0.0036827014030332327, 0.0036972768411143234, 0.00371153879359466, 0.0037254831934793336, 0.0037391060537312836, 0.0037524034691693788, 0.003765371618332539, 0.0037780067653086454, 0.0037903052615270165, 0.003802263547513249, 0.003813878154605241, 0.00382514570662924, 0.003836062921534785, 0.003846626612987428, 0.003856833691918161, 0.003866681168028492, 0.0038761661512501412, 0.0038852858531583587, 0.003894037588337904, 0.0039024187757007427, 0.003910426939754559, 0.00391805971182121, 0.003925314831204289, 0.003932190146304972, 0.003938683615685408, 0.003944793309078889, 0.003950517408346112, 0.003955854208376874, 0.003960802117936561, 0.0039653596604568575, 0.003969525474770118, 0.003973298315786883, 0.003976677055116088, 0.00397966068162751, 0.0039822483019560685, 0.00398443914094764, 0.00398623254204605, 0.003987627967620997, 0.003988624999236661, 0.003989223337860821, 0.003989422804014327, 0.003989223337860821, 0.003988624999236661, 0.003987627967620997, 0.00398623254204605, 0.00398443914094764, 0.0039822483019560685, 0.00397966068162751, 0.003976677055116088, 0.003973298315786883, 0.003969525474770118, 0.0039653596604568575, 0.003960802117936561, 0.003955854208376874, 0.003950517408346112, 0.003944793309078889, 0.003938683615685408, 0.003932190146304972, 0.003925314831204289, 0.00391805971182121, 0.003910426939754559, 0.0039024187757007427, 0.003894037588337904, 0.0038852858531583587, 0.0038761661512501412, 0.003866681168028492, 0.003856833691918161, 0.003846626612987428, 0.003836062921534785, 0.00382514570662924, 0.003813878154605241, 0.003802263547513249, 0.0037903052615270165, 0.0037780067653086454, 0.003765371618332539, 0.0037524034691693788, 0.0037391060537312836, 0.0037254831934793336, 0.00371153879359466, 0.0036972768411143234, 0.0036827014030332327, 0.0036678166243733607, 0.0036526267262215386, 0.003637136003737134, 0.003621348824130922, 0.003605269624616479, 0.0035889029103354456, 0.0035722532522580075, 0.0035553252850599702, 0.003538123704977797, 0.003520653267642995, 0.0035029187858972577, 0.003484925127589745, 0.003466677213357916, 0.0034481800143933332, 0.0034294385501938388, 0.0034104578863035253, 0.0033912431320419216, 0.0033717994382238053, 0.003352131994871061, 0.003332246028917996, 0.0033121468019115296, 0.0032918396077076476, 0.0032713297701655445, 0.0032506226408408213, 0.0032297235966791426, 0.003208638037711725, 0.003187371384754015, 0.003165929077108928, 0.0031443165702759726, 0.0031225393336676123, 0.003100602848334161, 0.0030785126046985294, 0.0030562741003020985, 0.003033892837563001, 0.003011374321548044, 0.002988724057759527, 0.002965947549938157, 0.002943050297883251, 0.002920037795291414, 0.002896915527614827, 0.0028736889699402827, 0.0028503635848900716, 0.002826944820545802, 0.0028034381083962053, 0.0027798488613099645, 0.002756182471534567, 0.002732444308722162, 0.00270863971798338, 0.0026847740179700235, 0.002660852498987548, 0.0026368804211381815, 0.0026128630124955315, 0.0025888054673114886, 0.0025647129442562034, 0.00254059056469189, 0.002516443410981171, 0.0024922765248306593, 0.002468094905670427, 0.0024439035090699957, 0.0024197072451914332, 0.002395510977280133, 0.002371319520193796, 0.002347137638970118, 0.002322970047433662, 0.0022988214068423297, 0.0022746963245738588, 0.0022505993528526965, 0.002226534987517611, 0.002202507666830333, 0.0021785217703255053, 0.002154581617702197, 0.0021306914677571786, 0.0021068555173601525, 0.002083077900471083, 0.002059362687199747, 0.002035713882907594, 0.0020121354273519732, 0.001988631193872759, 0.0019652049886213652, 0.0019418605498321294, 0.0019186015471359937, 0.0018954315809164024, 0.0018723541817072954, 0.0018493728096330528, 0.001826490853890219, 0.0018037116322708031, 0.0017810383907269358, 0.0017584743029766235, 0.00173602247015033, 0.0017136859204780735, 0.001691467609016724, 0.0016693704174171383, 0.001647397153730768, 0.0016255505522553414, 0.0016038332734191957, 0.0015822479037038305, 0.0015607969556042085, 0.0015394828676263367, 0.0015183080043216165, 0.0014972746563574487, 0.0014763850406235572, 0.001455641300373476, 0.0014350455054006237, 0.0014145996522483878, 0.0013943056644536026, 0.0013741653928228174, 0.001354180615740713, 0.001334353039510023, 0.0013146842987223103, 0.0012951759566589172, 0.0012758295057214185, 0.0012566463678908813, 0.0012376278952152312, 0.0012187753703240176, 0.001200090006969856, 0.0011815729505958226, 0.001163225278928071, 0.0011450480025929238, 0.0011270420657577057, 0.0011092083467945555, 0.0010915476589664736, 0.001074060751134838, 0.0010567483084876362, 0.001039610953287642, 0.00102264924563978, 0.0010058636842769056, 0.0009892547073632372, 0.0009728226933146748, 0.0009565679616352398, 0.0009404907737688692, 0.0009245913339658065, 0.0009088697901628285, 0.0008933262348765498, 0.0008779607061090562, 0.0008627731882651151, 0.0008477636130802223, 0.0008329318605587448, 0.000818277759921428, 0.0008038010905615416, 0.0007895015830089414, 0.0007753789199013399, 0.0007614327369620732, 0.0007476626239836761, 0.0007340681258165688, 0.0007206487433621799, 0.0007074039345698337, 0.0006943331154367419, 0.0006814356610104456, 0.0006687109063930715, 0.0006561581477467659, 0.0006437766432996934, 0.0006315656143519864, 0.0006195242462810515, 0.0006076516895456478, 0.0005959470606881605, 0.0005844094433345145, 0.0005730378891911713, 0.0005618314190386804, 0.0005507890237212576, 0.0005399096651318805, 0.0005291922771924029, 0.0005186357668282056, 0.0005082390149369118, 0.0004980008773507077, 0.00048792018579182765, 0.0004779957488207703, 0.0004682263527768314, 0.00045861076271054904, 0.0004491477233076707, 0.0004398359598042719, 0.00043067417889265734, 0.00042166106961770324, 0.00041279530426330393, 0.00040407553922860306, 0.0003955004158937022, 0.00038706856147455605, 0.0003787785898667748, 0.00037062910247806486, 0.0003626186890490622, 0.00035474592846231436, 0.0003470093895391882, 0.00033940763182449193, 0.0003319392063586112, 0.00032460265643697455, 0.00031739651835667416, 0.0003103193221500826, 0.00030336959230531634, 0.0002965458484734126, 0.0002898466061620941, 0.0002832703774160117, 0.0002768156714833657, 0.0002704809954688178, 0.0002642648549726173, 0.0002581657547158768, 0.0002521821991519439, 0.0002463126930638249, 0.0002405557421476297, 0.00023490985358201363, 0.00022937353658360692, 0.00022394530294842898, 0.0002186236675792939, 0.00021340714899922782, 0.00020829426985092194, 0.00020328355738225836, 0.0001983735439179532, 0.0001935627673173696, 0.0001888497714185617, 0.00018423310646862044, 0.0001797113295403964, 0.0001752830049356854, 0.00017094670457496944, 0.00016670100837381063, 0.00016254450460600496, 0.00015847579025360817, 0.00015449347134395168, 0.00015059616327377448, 0.00014678249112060038, 0.00014305108994149695, 0.00013940060505935817, 0.00013582969233685618, 0.0001323370184382137, 0.00012892126107895307, 0.00012558110926378204, 0.00012231526351277975, 0.00011912243607605178, 0.00011600135113702565, 0.00011295074500456135, 0.00010996936629405576, 0.00010705597609772181, 0.00010420934814422594, 0.00010142826894787076, 9.871153794751138e-05, 9.605796763539586e-05, 9.346638367612287e-05, 9.093562501591052e-05, 8.846454398237222e-05, 8.605200637499672e-05, 8.369689154653028e-05, 8.139809247546024e-05, 7.915451582979963e-05, 7.696508202237323e-05, 7.482872525780559e-05, 7.274439357141218e-05, 7.071104886019448e-05, 6.87276669061397e-05, 6.679323739202614e-05, 6.490676390993363e-05, 6.306726396265926e-05, 6.127376895823687e-05, 5.9525324197758534e-05, 5.782098885669477e-05, 5.6159835959909635e-05, 5.45409523505655e-05, 5.2963438653110194e-05, 5.142640923053939e-05, 4.992899213612376e-05, 4.847032905978948e-05, 4.704957526933979e-05, 4.566589954670148e-05, 4.431848411938007e-05, 4.300652458730446e-05, 4.172922984523962e-05, 4.04858220009443e-05, 3.9275536289247784e-05, 3.8097620982218065e-05, 3.695133729559034e-05, 3.583595929162361e-05, 3.475077377854937e-05, 3.369508020677481e-05, 3.266819056199922e-05, 3.1669429255400774e-05, 3.0698133011047404e-05, 2.9753650750682505e-05, 2.883534347603439e-05, 2.7942584148794468e-05, 2.7074757568407022e-05, 2.623126024781024e-05, 2.5411500287265233e-05, 2.4614897246407003e-05, 2.3840882014648423e-05, 2.3088896680064953e-05, 2.23583943968854e-05, 2.1648839251710618e-05, 2.0959706128579434e-05, 2.0290480572997677e-05, 1.9640658655043756e-05, 1.90097468316608e-05, 1.8397261808242793e-05, 1.7802730399618784e-05, 1.7225689390536795e-05, 1.666568539574581e-05, 1.6122274719771243e-05, 1.5595023216476914e-05, 1.5083506148503072e-05, 1.4587308046667458e-05, 1.4106022569413835e-05, 1.3639252362389047e-05, 1.3186608918227408e-05, 1.2747712436618326e-05, 1.2322191684730185e-05, 1.1909683858061176e-05, 1.1509834441784834e-05, 1.1122297072655647e-05, 1.0746733401537346e-05, 1.038281295661411e-05, 1.0030213007342376e-05, 9.688618429198457e-06, 9.357721569274797e-06, 9.037222112775251e-06], \"yaxis\": \"y5\"}, {\"name\": \"bottle\", \"type\": \"scatter\", \"x\": [0, 1, 2, 3, 4, 5, 6, 7, 8, 9, 10, 11, 12, 13, 14, 15, 16, 17, 18, 19, 20, 21, 22, 23, 24, 25, 26, 27, 28, 29, 30, 31, 32, 33, 34, 35, 36, 37, 38, 39, 40, 41, 42, 43, 44, 45, 46, 47, 48, 49, 50, 51, 52, 53, 54, 55, 56, 57, 58, 59, 60, 61, 62, 63, 64, 65, 66, 67, 68, 69, 70, 71, 72, 73, 74, 75, 76, 77, 78, 79, 80, 81, 82, 83, 84, 85, 86, 87, 88, 89, 90, 91, 92, 93, 94, 95, 96, 97, 98, 99, 100, 101, 102, 103, 104, 105, 106, 107, 108, 109, 110, 111, 112, 113, 114, 115, 116, 117, 118, 119, 120, 121, 122, 123, 124, 125, 126, 127, 128, 129, 130, 131, 132, 133, 134, 135, 136, 137, 138, 139, 140, 141, 142, 143, 144, 145, 146, 147, 148, 149, 150, 151, 152, 153, 154, 155, 156, 157, 158, 159, 160, 161, 162, 163, 164, 165, 166, 167, 168, 169, 170, 171, 172, 173, 174, 175, 176, 177, 178, 179, 180, 181, 182, 183, 184, 185, 186, 187, 188, 189, 190, 191, 192, 193, 194, 195, 196, 197, 198, 199, 200, 201, 202, 203, 204, 205, 206, 207, 208, 209, 210, 211, 212, 213, 214, 215, 216, 217, 218, 219, 220, 221, 222, 223, 224, 225, 226, 227, 228, 229, 230, 231, 232, 233, 234, 235, 236, 237, 238, 239, 240, 241, 242, 243, 244, 245, 246, 247, 248, 249, 250, 251, 252, 253, 254, 255, 256, 257, 258, 259, 260, 261, 262, 263, 264, 265, 266, 267, 268, 269, 270, 271, 272, 273, 274, 275, 276, 277, 278, 279, 280, 281, 282, 283, 284, 285, 286, 287, 288, 289, 290, 291, 292, 293, 294, 295, 296, 297, 298, 299, 300, 301, 302, 303, 304, 305, 306, 307, 308, 309, 310, 311, 312, 313, 314, 315, 316, 317, 318, 319, 320, 321, 322, 323, 324, 325, 326, 327, 328, 329, 330, 331, 332, 333, 334, 335, 336, 337, 338, 339, 340, 341, 342, 343, 344, 345, 346, 347, 348, 349, 350, 351, 352, 353, 354, 355, 356, 357, 358, 359, 360, 361, 362, 363, 364, 365, 366, 367, 368, 369, 370, 371, 372, 373, 374, 375, 376, 377, 378, 379, 380, 381, 382, 383, 384, 385, 386, 387, 388, 389, 390, 391, 392, 393, 394, 395, 396, 397, 398, 399, 400, 401, 402, 403, 404, 405, 406, 407, 408, 409, 410, 411, 412, 413, 414, 415, 416, 417, 418, 419, 420, 421, 422, 423, 424, 425, 426, 427, 428, 429, 430, 431, 432, 433, 434, 435, 436, 437, 438, 439, 440, 441, 442, 443, 444, 445, 446, 447, 448, 449, 450, 451, 452, 453, 454, 455, 456, 457, 458, 459, 460, 461, 462, 463, 464, 465, 466, 467, 468, 469, 470, 471, 472, 473, 474, 475, 476, 477, 478, 479, 480, 481, 482, 483, 484, 485, 486, 487, 488, 489, 490, 491, 492, 493, 494, 495, 496, 497, 498, 499], \"xaxis\": \"x6\", \"y\": [0.0006475879783294586, 0.000652454991459487, 0.0006573421493611552, 0.0006622493576571396, 0.0006671765197550115, 0.0006721235368403953, 0.0006770903078703565, 0.0006820767295670173, 0.0006870826964114087, 0.0006921081006375557, 0.0006971528322268013, 0.0007022167789023736, 0.0007072998261241939, 0.0007124018570839323, 0.0007175227527003119, 0.0007226623916146643, 0.000727820650186738, 0.0007329974024907637, 0.0007381925203117786, 0.00074340587314221, 0.0007486373281787243, 0.0007538867503193396, 0.0007591540021608083, 0.0007644389439962684, 0.0007697414338131683, 0.000775061327291466, 0.0007803984778021043, 0.0007857527364057671, 0.0007911239518519152, 0.0007965119705781058, 0.0008019166367095979, 0.0008073377920592436, 0.0008127752761276707, 0.0008182289261037544, 0.000823698576865384, 0.0008291840609805235, 0.0008346852087085691, 0.0008402018480020053, 0.000845733804508362, 0.0008512809015724727, 0.0008568429602390367, 0.0008624197992554872, 0.000868011235075165, 0.0008736170818608015, 0.0008792371514883117, 0.0008848712535508983, 0.0008905191953634679, 0.0008961807819673615, 0.0009018558161354016, 0.0009075440983772543, 0.0009132454269451095, 0.0009189595978396813, 0.0009246864048165264, 0.000930425639392686, 0.0009361770908536477, 0.0009419405462606316, 0.0009477157904582012, 0.0009535026060821966, 0.0009593007735679968, 0.0009651100711591052, 0.0009709302749160647, 0.0009767611587256989, 0.0009826024943106826, 0.0009884540512394412, 0.0009943155969363794, 0.0010001868966924385, 0.0010060677136759866, 0.001011957808944037, 0.001017856941453797, 0.0010237648680745518, 0.0010296813435998736, 0.0010356061207601667, 0.0010415389502355416, 0.001047479580669021, 0.0010534277586800762, 0.0010593832288784972, 0.0010653457338785893, 0.0010713150143137039, 0.0010772908088510986, 0.0010832728542071255, 0.0010892608851627527, 0.0010952546345794098, 0.0011012538334151665, 0.0011072582107412357, 0.0011132674937588056, 0.0011192814078161972, 0.0011252996764263483, 0.0011313220212846196, 0.0011373481622869294, 0.0011433778175482059, 0.0011494107034211649, 0.0011554465345154064, 0.001161485023716831, 0.001167525882207374, 0.001173568819485059, 0.0011796135433843628, 0.001185659760096898, 0.0011917071741924068, 0.0011977554886400666, 0.001203804404830104, 0.0012098536225957166, 0.001215902840235304, 0.0012219517545349978, 0.0012280000607914991, 0.0012340474528352136, 0.0012400936230536855, 0.0012461382624153296, 0.0012521810604934553, 0.0012582217054905856, 0.0012642598842630625, 0.001270295282345945, 0.0012763275839781866, 0.0012823564721281017, 0.0012883816285191067, 0.0012944027336557443, 0.0013004194668499783, 0.0013064315062477658, 0.0013124385288558942, 0.0013184402105690907, 0.0013244362261973911, 0.001330426249493774, 0.0013364099531820506, 0.0013423870089850117, 0.0013483570876528265, 0.00135431985899169, 0.0013602749918927176, 0.001366222154361081, 0.0013721610135453862, 0.0013780912357672834, 0.0013840124865513133, 0.0013899244306549822, 0.0013958267320990597, 0.0014017190541981027, 0.0014076010595911945, 0.001413472410272901, 0.0014193327676244364, 0.0014251817924450358, 0.0014310191449835347, 0.0014368444849701414, 0.0014426574716484126, 0.0014484577638074136, 0.0014542450198140715, 0.001460018897645707, 0.0014657790549227501, 0.0014715251489416255, 0.0014772568367078147, 0.0014829737749690786, 0.0014886756202488471, 0.0014943620288797635, 0.0015000326570373838, 0.001505687160774022, 0.0015113251960527448, 0.0015169464187815005, 0.0015225504848473874, 0.0015281370501510493, 0.0015337057706411997, 0.0015392563023492647, 0.0015447883014241433, 0.0015503014241670806, 0.0015557953270666444, 0.0015612696668338062, 0.0015667241004371194, 0.0015721582851379863, 0.0015775718785260167, 0.001582964538554464, 0.001588335923575741, 0.0015936856923770076, 0.0015990135042158232, 0.0016043190188558625, 0.0016096018966026877, 0.0016148617983395713, 0.0016200983855633652, 0.0016253113204204106, 0.0016305002657424838, 0.0016356648850827723, 0.0016408048427518753, 0.0016459198038538238, 0.001651009434322117, 0.0016560734009557648, 0.0016611113714553342, 0.001666123014458998, 0.0016711079995785697, 0.0016760659974355305, 0.0016809966796970364, 0.0016858997191119027, 0.001690774789546557, 0.0016956215660209608, 0.0017004397247444886, 0.0017052289431517627, 0.001709988899938436, 0.0017147192750969194, 0.0017194197499520458, 0.0017240900071966666, 0.0017287297309271769, 0.001733338606678958, 0.0017379163214617402, 0.0017424625637948725, 0.001746977023742498, 0.0017514593929486288, 0.0017559093646721145, 0.0017603266338214974, 0.0017647108969897512, 0.0017690618524888984, 0.0017733792003844946, 0.0017776626425299851, 0.0017819118826009164, 0.0017861266261290038, 0.001790306580536054, 0.0017944514551677228, 0.0017985609613271197, 0.0018026348123082396, 0.0018066727234292274, 0.001810674412065461, 0.0018146395976824535, 0.001818568001868567, 0.001822459348367532, 0.0018263133631107693, 0.0018301297742495052, 0.0018339083121866803, 0.0018376487096086421, 0.0018413507015166163, 0.001845014025257957, 0.0018486384205571617, 0.0018522236295466549, 0.00185576939679733, 0.0018592754693488446, 0.0018627415967396668, 0.0018661675310368661, 0.0018695530268656418, 0.0018728978414385882, 0.0018762017345846894, 0.0018794644687780367, 0.0018826858091662694, 0.001885865523598729, 0.0018890033826543227, 0.0018920991596690971, 0.0018951526307635083, 0.001898163574869392, 0.0019011317737566244, 0.0019040570120594713, 0.0019069390773026205, 0.0019097777599268906, 0.00191257285331462, 0.001915324153814719, 0.0019180314607673925, 0.0019206945765285238, 0.001923313306493714, 0.0019258874591219762, 0.0019284168459590804, 0.0019309012816605404, 0.001933340584014246, 0.00193573457396273, 0.0019380830756250706, 0.0019403859163184232, 0.0019426429265791793, 0.001944853940183747, 0.001947018794168952, 0.0019491373288520533, 0.0019512093878503714, 0.0019532348181005264, 0.0019552134698772794, 0.001957145196811979, 0.001959029855910605, 0.0019608673075714087, 0.0019626574156021443, 0.0019644000472368965, 0.001966095073152486, 0.0019677423674844675, 0.001969341807842704, 0.0019708932753265225, 0.0019723966545394443, 0.0019738518336034905, 0.001975258704173056, 0.0019766171614483564, 0.001977927104188437, 0.0019791884347237472, 0.0019804010589682805, 0.0019815648864312664, 0.0019826798302284288, 0.001983745807092795, 0.001984762737385059, 0.001985730545103498, 0.0019866491578934414, 0.0019875185070562826, 0.001988338527558044, 0.0019891091580374856, 0.001989830340813755, 0.0019905020218935862, 0.0019911241509780343, 0.001991696681468755, 0.00199221957047382, 0.0019926927788130734, 0.001993116271023025, 0.0019934900153612783, 0.0019938139838104984, 0.001994088152081909, 0.0019943124996183305, 0.001994487009596747, 0.0019946116689304105, 0.0019946864682704743, 0.0019947114020071634, 0.0019946864682704743, 0.0019946116689304105, 0.001994487009596747, 0.0019943124996183305, 0.001994088152081909, 0.0019938139838104984, 0.0019934900153612783, 0.001993116271023025, 0.0019926927788130734, 0.00199221957047382, 0.001991696681468755, 0.0019911241509780343, 0.0019905020218935862, 0.001989830340813755, 0.0019891091580374856, 0.001988338527558044, 0.0019875185070562826, 0.0019866491578934414, 0.001985730545103498, 0.001984762737385059, 0.001983745807092795, 0.0019826798302284288, 0.0019815648864312664, 0.0019804010589682805, 0.0019791884347237472, 0.001977927104188437, 0.0019766171614483564, 0.001975258704173056, 0.0019738518336034905, 0.0019723966545394443, 0.0019708932753265225, 0.001969341807842704, 0.0019677423674844675, 0.001966095073152486, 0.0019644000472368965, 0.0019626574156021443, 0.0019608673075714087, 0.001959029855910605, 0.001957145196811979, 0.0019552134698772794, 0.0019532348181005264, 0.0019512093878503714, 0.0019491373288520533, 0.001947018794168952, 0.001944853940183747, 0.0019426429265791793, 0.0019403859163184232, 0.0019380830756250706, 0.00193573457396273, 0.001933340584014246, 0.0019309012816605404, 0.0019284168459590804, 0.0019258874591219762, 0.001923313306493714, 0.0019206945765285238, 0.0019180314607673925, 0.001915324153814719, 0.00191257285331462, 0.0019097777599268906, 0.0019069390773026205, 0.0019040570120594713, 0.0019011317737566244, 0.001898163574869392, 0.0018951526307635083, 0.0018920991596690971, 0.0018890033826543227, 0.001885865523598729, 0.0018826858091662694, 0.0018794644687780367, 0.0018762017345846894, 0.0018728978414385882, 0.0018695530268656418, 0.0018661675310368661, 0.0018627415967396668, 0.0018592754693488446, 0.00185576939679733, 0.0018522236295466549, 0.0018486384205571617, 0.001845014025257957, 0.0018413507015166163, 0.0018376487096086421, 0.0018339083121866803, 0.0018301297742495052, 0.0018263133631107693, 0.001822459348367532, 0.001818568001868567, 0.0018146395976824535, 0.001810674412065461, 0.0018066727234292274, 0.0018026348123082396, 0.0017985609613271197, 0.0017944514551677228, 0.001790306580536054, 0.0017861266261290038, 0.0017819118826009164, 0.0017776626425299851, 0.0017733792003844946, 0.0017690618524888984, 0.0017647108969897512, 0.0017603266338214974, 0.0017559093646721145, 0.0017514593929486288, 0.001746977023742498, 0.0017424625637948725, 0.0017379163214617402, 0.001733338606678958, 0.0017287297309271769, 0.0017240900071966666, 0.0017194197499520458, 0.0017147192750969194, 0.001709988899938436, 0.0017052289431517627, 0.0017004397247444886, 0.0016956215660209608, 0.001690774789546557, 0.0016858997191119027, 0.0016809966796970364, 0.0016760659974355305, 0.0016711079995785697, 0.001666123014458998, 0.0016611113714553342, 0.0016560734009557648, 0.001651009434322117, 0.0016459198038538238, 0.0016408048427518753, 0.0016356648850827723, 0.0016305002657424838, 0.0016253113204204106, 0.0016200983855633652, 0.0016148617983395713, 0.0016096018966026877, 0.0016043190188558625, 0.0015990135042158232, 0.0015936856923770076, 0.001588335923575741, 0.001582964538554464, 0.0015775718785260167, 0.0015721582851379863, 0.0015667241004371194, 0.0015612696668338062, 0.0015557953270666444, 0.0015503014241670806, 0.0015447883014241433, 0.0015392563023492647, 0.0015337057706411997, 0.0015281370501510493, 0.0015225504848473874, 0.0015169464187815005, 0.0015113251960527448, 0.001505687160774022, 0.0015000326570373838, 0.0014943620288797635, 0.0014886756202488471, 0.0014829737749690786, 0.0014772568367078147, 0.0014715251489416255, 0.0014657790549227501, 0.001460018897645707, 0.0014542450198140715, 0.0014484577638074136, 0.0014426574716484126, 0.0014368444849701414, 0.0014310191449835347, 0.0014251817924450358, 0.0014193327676244364, 0.001413472410272901, 0.0014076010595911945, 0.0014017190541981027, 0.0013958267320990597, 0.0013899244306549822, 0.0013840124865513133, 0.0013780912357672834, 0.0013721610135453862, 0.001366222154361081, 0.0013602749918927176, 0.00135431985899169, 0.0013483570876528265, 0.0013423870089850117, 0.0013364099531820506, 0.001330426249493774, 0.0013244362261973911, 0.0013184402105690907, 0.0013124385288558942, 0.0013064315062477658, 0.0013004194668499783, 0.0012944027336557443, 0.0012883816285191067, 0.0012823564721281017, 0.0012763275839781866, 0.001270295282345945, 0.0012642598842630625, 0.0012582217054905856, 0.0012521810604934553, 0.0012461382624153296, 0.0012400936230536855, 0.0012340474528352136, 0.0012280000607914991, 0.0012219517545349978, 0.001215902840235304], \"yaxis\": \"y6\"}, {\"name\": \"Likelihood\", \"orientation\": \"h\", \"type\": \"bar\", \"x\": [0.0006475879783294586, 0.0012951759566589172, 0.0008863696823876014, 0.04839414490382867, 0.005399096651318805], \"xaxis\": \"x2\", \"y\": [\"bottle\", \"scrap metal\", \"can\", \"paper\", \"cardboard\"], \"yaxis\": \"y2\"}],\n                        {\"template\": {\"data\": {\"bar\": [{\"error_x\": {\"color\": \"#2a3f5f\"}, \"error_y\": {\"color\": \"#2a3f5f\"}, \"marker\": {\"line\": {\"color\": \"#E5ECF6\", \"width\": 0.5}}, \"type\": \"bar\"}], \"barpolar\": [{\"marker\": {\"line\": {\"color\": \"#E5ECF6\", \"width\": 0.5}}, \"type\": \"barpolar\"}], \"carpet\": [{\"aaxis\": {\"endlinecolor\": \"#2a3f5f\", \"gridcolor\": \"white\", \"linecolor\": \"white\", \"minorgridcolor\": \"white\", \"startlinecolor\": \"#2a3f5f\"}, \"baxis\": {\"endlinecolor\": \"#2a3f5f\", \"gridcolor\": \"white\", \"linecolor\": \"white\", \"minorgridcolor\": \"white\", \"startlinecolor\": \"#2a3f5f\"}, \"type\": \"carpet\"}], \"choropleth\": [{\"colorbar\": {\"outlinewidth\": 0, \"ticks\": \"\"}, \"type\": \"choropleth\"}], \"contour\": [{\"colorbar\": {\"outlinewidth\": 0, \"ticks\": \"\"}, \"colorscale\": [[0.0, \"#0d0887\"], [0.1111111111111111, \"#46039f\"], [0.2222222222222222, \"#7201a8\"], [0.3333333333333333, \"#9c179e\"], [0.4444444444444444, \"#bd3786\"], [0.5555555555555556, \"#d8576b\"], [0.6666666666666666, \"#ed7953\"], [0.7777777777777778, \"#fb9f3a\"], [0.8888888888888888, \"#fdca26\"], [1.0, \"#f0f921\"]], \"type\": \"contour\"}], \"contourcarpet\": [{\"colorbar\": {\"outlinewidth\": 0, \"ticks\": \"\"}, \"type\": \"contourcarpet\"}], \"heatmap\": [{\"colorbar\": {\"outlinewidth\": 0, \"ticks\": \"\"}, \"colorscale\": [[0.0, \"#0d0887\"], [0.1111111111111111, \"#46039f\"], [0.2222222222222222, \"#7201a8\"], [0.3333333333333333, \"#9c179e\"], [0.4444444444444444, \"#bd3786\"], [0.5555555555555556, \"#d8576b\"], [0.6666666666666666, \"#ed7953\"], [0.7777777777777778, \"#fb9f3a\"], [0.8888888888888888, \"#fdca26\"], [1.0, \"#f0f921\"]], \"type\": \"heatmap\"}], \"heatmapgl\": [{\"colorbar\": {\"outlinewidth\": 0, \"ticks\": \"\"}, \"colorscale\": [[0.0, \"#0d0887\"], [0.1111111111111111, \"#46039f\"], [0.2222222222222222, \"#7201a8\"], [0.3333333333333333, \"#9c179e\"], [0.4444444444444444, \"#bd3786\"], [0.5555555555555556, \"#d8576b\"], [0.6666666666666666, \"#ed7953\"], [0.7777777777777778, \"#fb9f3a\"], [0.8888888888888888, \"#fdca26\"], [1.0, \"#f0f921\"]], \"type\": \"heatmapgl\"}], \"histogram\": [{\"marker\": {\"colorbar\": {\"outlinewidth\": 0, \"ticks\": \"\"}}, \"type\": \"histogram\"}], \"histogram2d\": [{\"colorbar\": {\"outlinewidth\": 0, \"ticks\": \"\"}, \"colorscale\": [[0.0, \"#0d0887\"], [0.1111111111111111, \"#46039f\"], [0.2222222222222222, \"#7201a8\"], [0.3333333333333333, \"#9c179e\"], [0.4444444444444444, \"#bd3786\"], [0.5555555555555556, \"#d8576b\"], [0.6666666666666666, \"#ed7953\"], [0.7777777777777778, \"#fb9f3a\"], [0.8888888888888888, \"#fdca26\"], [1.0, \"#f0f921\"]], \"type\": \"histogram2d\"}], \"histogram2dcontour\": [{\"colorbar\": {\"outlinewidth\": 0, \"ticks\": \"\"}, \"colorscale\": [[0.0, \"#0d0887\"], [0.1111111111111111, \"#46039f\"], [0.2222222222222222, \"#7201a8\"], [0.3333333333333333, \"#9c179e\"], [0.4444444444444444, \"#bd3786\"], [0.5555555555555556, \"#d8576b\"], [0.6666666666666666, \"#ed7953\"], [0.7777777777777778, \"#fb9f3a\"], [0.8888888888888888, \"#fdca26\"], [1.0, \"#f0f921\"]], \"type\": \"histogram2dcontour\"}], \"mesh3d\": [{\"colorbar\": {\"outlinewidth\": 0, \"ticks\": \"\"}, \"type\": \"mesh3d\"}], \"parcoords\": [{\"line\": {\"colorbar\": {\"outlinewidth\": 0, \"ticks\": \"\"}}, \"type\": \"parcoords\"}], \"pie\": [{\"automargin\": true, \"type\": \"pie\"}], \"scatter\": [{\"marker\": {\"colorbar\": {\"outlinewidth\": 0, \"ticks\": \"\"}}, \"type\": \"scatter\"}], \"scatter3d\": [{\"line\": {\"colorbar\": {\"outlinewidth\": 0, \"ticks\": \"\"}}, \"marker\": {\"colorbar\": {\"outlinewidth\": 0, \"ticks\": \"\"}}, \"type\": \"scatter3d\"}], \"scattercarpet\": [{\"marker\": {\"colorbar\": {\"outlinewidth\": 0, \"ticks\": \"\"}}, \"type\": \"scattercarpet\"}], \"scattergeo\": [{\"marker\": {\"colorbar\": {\"outlinewidth\": 0, \"ticks\": \"\"}}, \"type\": \"scattergeo\"}], \"scattergl\": [{\"marker\": {\"colorbar\": {\"outlinewidth\": 0, \"ticks\": \"\"}}, \"type\": \"scattergl\"}], \"scattermapbox\": [{\"marker\": {\"colorbar\": {\"outlinewidth\": 0, \"ticks\": \"\"}}, \"type\": \"scattermapbox\"}], \"scatterpolar\": [{\"marker\": {\"colorbar\": {\"outlinewidth\": 0, \"ticks\": \"\"}}, \"type\": \"scatterpolar\"}], \"scatterpolargl\": [{\"marker\": {\"colorbar\": {\"outlinewidth\": 0, \"ticks\": \"\"}}, \"type\": \"scatterpolargl\"}], \"scatterternary\": [{\"marker\": {\"colorbar\": {\"outlinewidth\": 0, \"ticks\": \"\"}}, \"type\": \"scatterternary\"}], \"surface\": [{\"colorbar\": {\"outlinewidth\": 0, \"ticks\": \"\"}, \"colorscale\": [[0.0, \"#0d0887\"], [0.1111111111111111, \"#46039f\"], [0.2222222222222222, \"#7201a8\"], [0.3333333333333333, \"#9c179e\"], [0.4444444444444444, \"#bd3786\"], [0.5555555555555556, \"#d8576b\"], [0.6666666666666666, \"#ed7953\"], [0.7777777777777778, \"#fb9f3a\"], [0.8888888888888888, \"#fdca26\"], [1.0, \"#f0f921\"]], \"type\": \"surface\"}], \"table\": [{\"cells\": {\"fill\": {\"color\": \"#EBF0F8\"}, \"line\": {\"color\": \"white\"}}, \"header\": {\"fill\": {\"color\": \"#C8D4E3\"}, \"line\": {\"color\": \"white\"}}, \"type\": \"table\"}]}, \"layout\": {\"annotationdefaults\": {\"arrowcolor\": \"#2a3f5f\", \"arrowhead\": 0, \"arrowwidth\": 1}, \"coloraxis\": {\"colorbar\": {\"outlinewidth\": 0, \"ticks\": \"\"}}, \"colorscale\": {\"diverging\": [[0, \"#8e0152\"], [0.1, \"#c51b7d\"], [0.2, \"#de77ae\"], [0.3, \"#f1b6da\"], [0.4, \"#fde0ef\"], [0.5, \"#f7f7f7\"], [0.6, \"#e6f5d0\"], [0.7, \"#b8e186\"], [0.8, \"#7fbc41\"], [0.9, \"#4d9221\"], [1, \"#276419\"]], \"sequential\": [[0.0, \"#0d0887\"], [0.1111111111111111, \"#46039f\"], [0.2222222222222222, \"#7201a8\"], [0.3333333333333333, \"#9c179e\"], [0.4444444444444444, \"#bd3786\"], [0.5555555555555556, \"#d8576b\"], [0.6666666666666666, \"#ed7953\"], [0.7777777777777778, \"#fb9f3a\"], [0.8888888888888888, \"#fdca26\"], [1.0, \"#f0f921\"]], \"sequentialminus\": [[0.0, \"#0d0887\"], [0.1111111111111111, \"#46039f\"], [0.2222222222222222, \"#7201a8\"], [0.3333333333333333, \"#9c179e\"], [0.4444444444444444, \"#bd3786\"], [0.5555555555555556, \"#d8576b\"], [0.6666666666666666, \"#ed7953\"], [0.7777777777777778, \"#fb9f3a\"], [0.8888888888888888, \"#fdca26\"], [1.0, \"#f0f921\"]]}, \"colorway\": [\"#636efa\", \"#EF553B\", \"#00cc96\", \"#ab63fa\", \"#FFA15A\", \"#19d3f3\", \"#FF6692\", \"#B6E880\", \"#FF97FF\", \"#FECB52\"], \"font\": {\"color\": \"#2a3f5f\"}, \"geo\": {\"bgcolor\": \"white\", \"lakecolor\": \"white\", \"landcolor\": \"#E5ECF6\", \"showlakes\": true, \"showland\": true, \"subunitcolor\": \"white\"}, \"hoverlabel\": {\"align\": \"left\"}, \"hovermode\": \"closest\", \"mapbox\": {\"style\": \"light\"}, \"paper_bgcolor\": \"white\", \"plot_bgcolor\": \"#E5ECF6\", \"polar\": {\"angularaxis\": {\"gridcolor\": \"white\", \"linecolor\": \"white\", \"ticks\": \"\"}, \"bgcolor\": \"#E5ECF6\", \"radialaxis\": {\"gridcolor\": \"white\", \"linecolor\": \"white\", \"ticks\": \"\"}}, \"scene\": {\"xaxis\": {\"backgroundcolor\": \"#E5ECF6\", \"gridcolor\": \"white\", \"gridwidth\": 2, \"linecolor\": \"white\", \"showbackground\": true, \"ticks\": \"\", \"zerolinecolor\": \"white\"}, \"yaxis\": {\"backgroundcolor\": \"#E5ECF6\", \"gridcolor\": \"white\", \"gridwidth\": 2, \"linecolor\": \"white\", \"showbackground\": true, \"ticks\": \"\", \"zerolinecolor\": \"white\"}, \"zaxis\": {\"backgroundcolor\": \"#E5ECF6\", \"gridcolor\": \"white\", \"gridwidth\": 2, \"linecolor\": \"white\", \"showbackground\": true, \"ticks\": \"\", \"zerolinecolor\": \"white\"}}, \"shapedefaults\": {\"line\": {\"color\": \"#2a3f5f\"}}, \"ternary\": {\"aaxis\": {\"gridcolor\": \"white\", \"linecolor\": \"white\", \"ticks\": \"\"}, \"baxis\": {\"gridcolor\": \"white\", \"linecolor\": \"white\", \"ticks\": \"\"}, \"bgcolor\": \"#E5ECF6\", \"caxis\": {\"gridcolor\": \"white\", \"linecolor\": \"white\", \"ticks\": \"\"}}, \"title\": {\"x\": 0.05}, \"xaxis\": {\"automargin\": true, \"gridcolor\": \"white\", \"linecolor\": \"white\", \"ticks\": \"\", \"title\": {\"standoff\": 15}, \"zerolinecolor\": \"white\", \"zerolinewidth\": 2}, \"yaxis\": {\"automargin\": true, \"gridcolor\": \"white\", \"linecolor\": \"white\", \"ticks\": \"\", \"title\": {\"standoff\": 15}, \"zerolinecolor\": \"white\", \"zerolinewidth\": 2}}}, \"xaxis\": {\"anchor\": \"y\", \"domain\": [0.0, 0.54]}, \"xaxis2\": {\"anchor\": \"y2\", \"domain\": [0.64, 1.0]}, \"xaxis3\": {\"anchor\": \"y3\", \"domain\": [0.0, 0.54]}, \"xaxis4\": {\"anchor\": \"y4\", \"domain\": [0.0, 0.54]}, \"xaxis5\": {\"anchor\": \"y5\", \"domain\": [0.0, 0.54]}, \"xaxis6\": {\"anchor\": \"y6\", \"domain\": [0.0, 0.54]}, \"yaxis\": {\"anchor\": \"x\", \"domain\": [0.8480000000000001, 1.0]}, \"yaxis2\": {\"anchor\": \"x2\", \"domain\": [0.0, 1.0]}, \"yaxis3\": {\"anchor\": \"x3\", \"domain\": [0.6360000000000001, 0.7880000000000001]}, \"yaxis4\": {\"anchor\": \"x4\", \"domain\": [0.42400000000000004, 0.5760000000000001]}, \"yaxis5\": {\"anchor\": \"x5\", \"domain\": [0.21200000000000002, 0.36400000000000005]}, \"yaxis6\": {\"anchor\": \"x6\", \"domain\": [0.0, 0.15200000000000002]}},\n                        {\"responsive\": true}\n                    ).then(function(){\n                            \nvar gd = document.getElementById('704eda68-4627-4679-9b12-4043b7de77f4');\nvar x = new MutationObserver(function (mutations, observer) {{\n        var display = window.getComputedStyle(gd).display;\n        if (!display || display === 'none') {{\n            console.log([gd, 'removed!']);\n            Plotly.purge(gd);\n            observer.disconnect();\n        }}\n}});\n\n// Listen for the removal of the full notebook cells\nvar notebookContainer = gd.closest('#notebook-container');\nif (notebookContainer) {{\n    x.observe(notebookContainer, {childList: true});\n}}\n\n// Listen for the clearing of the current output cell\nvar outputEl = gd.closest('.output');\nif (outputEl) {{\n    x.observe(outputEl, {childList: true});\n}}\n\n                        })\n                };\n                \n            </script>\n        </div>\n</body>\n</html>"
                },
                "metadata": {}
              }
            ],
            "_view_module": "@jupyter-widgets/output",
            "_model_module_version": "1.0.0",
            "_view_count": null,
            "_view_module_version": "1.0.0",
            "layout": "IPY_MODEL_6c7aef2076ae4ed9b141ca24e51165c7",
            "_model_module": "@jupyter-widgets/output"
          }
        },
        "31b18e43515b4e5fbecfff9a389b860d": {
          "model_module": "@jupyter-widgets/controls",
          "model_name": "SliderStyleModel",
          "model_module_version": "1.5.0",
          "state": {
            "_view_name": "StyleView",
            "handle_color": null,
            "_model_name": "SliderStyleModel",
            "description_width": "",
            "_view_module": "@jupyter-widgets/base",
            "_model_module_version": "1.5.0",
            "_view_count": null,
            "_view_module_version": "1.2.0",
            "_model_module": "@jupyter-widgets/controls"
          }
        },
        "181c4c7edeb64dd281c5d3dc8299c11a": {
          "model_module": "@jupyter-widgets/base",
          "model_name": "LayoutModel",
          "model_module_version": "1.2.0",
          "state": {
            "_view_name": "LayoutView",
            "grid_template_rows": null,
            "right": null,
            "justify_content": null,
            "_view_module": "@jupyter-widgets/base",
            "overflow": null,
            "_model_module_version": "1.2.0",
            "_view_count": null,
            "flex_flow": null,
            "width": null,
            "min_width": null,
            "border": null,
            "align_items": null,
            "bottom": null,
            "_model_module": "@jupyter-widgets/base",
            "top": null,
            "grid_column": null,
            "overflow_y": null,
            "overflow_x": null,
            "grid_auto_flow": null,
            "grid_area": null,
            "grid_template_columns": null,
            "flex": null,
            "_model_name": "LayoutModel",
            "justify_items": null,
            "grid_row": null,
            "max_height": null,
            "align_content": null,
            "visibility": null,
            "align_self": null,
            "height": null,
            "min_height": null,
            "padding": null,
            "grid_auto_rows": null,
            "grid_gap": null,
            "max_width": null,
            "order": null,
            "_view_module_version": "1.2.0",
            "grid_template_areas": null,
            "object_position": null,
            "object_fit": null,
            "grid_auto_columns": null,
            "margin": null,
            "display": null,
            "left": null
          }
        },
        "6c7aef2076ae4ed9b141ca24e51165c7": {
          "model_module": "@jupyter-widgets/base",
          "model_name": "LayoutModel",
          "model_module_version": "1.2.0",
          "state": {
            "_view_name": "LayoutView",
            "grid_template_rows": null,
            "right": null,
            "justify_content": null,
            "_view_module": "@jupyter-widgets/base",
            "overflow": null,
            "_model_module_version": "1.2.0",
            "_view_count": null,
            "flex_flow": null,
            "width": null,
            "min_width": null,
            "border": null,
            "align_items": null,
            "bottom": null,
            "_model_module": "@jupyter-widgets/base",
            "top": null,
            "grid_column": null,
            "overflow_y": null,
            "overflow_x": null,
            "grid_auto_flow": null,
            "grid_area": null,
            "grid_template_columns": null,
            "flex": null,
            "_model_name": "LayoutModel",
            "justify_items": null,
            "grid_row": null,
            "max_height": null,
            "align_content": null,
            "visibility": null,
            "align_self": null,
            "height": null,
            "min_height": null,
            "padding": null,
            "grid_auto_rows": null,
            "grid_gap": null,
            "max_width": null,
            "order": null,
            "_view_module_version": "1.2.0",
            "grid_template_areas": null,
            "object_position": null,
            "object_fit": null,
            "grid_auto_columns": null,
            "margin": null,
            "display": null,
            "left": null
          }
        },
        "0b7de7e3a84f4096934a45810bec0d21": {
          "model_module": "@jupyter-widgets/controls",
          "model_name": "VBoxModel",
          "model_module_version": "1.5.0",
          "state": {
            "_view_name": "VBoxView",
            "_dom_classes": [
              "widget-interact"
            ],
            "_model_name": "VBoxModel",
            "_view_module": "@jupyter-widgets/controls",
            "_model_module_version": "1.5.0",
            "_view_count": null,
            "_view_module_version": "1.5.0",
            "box_style": "",
            "layout": "IPY_MODEL_68a2a0911d9e4ecaaf2a999aade8f887",
            "_model_module": "@jupyter-widgets/controls",
            "children": [
              "IPY_MODEL_acc19ca6d69348de8b03ed36dfda1e6f",
              "IPY_MODEL_e2b6bb1ce6e64f84a039eb3a7d808958"
            ]
          }
        },
        "68a2a0911d9e4ecaaf2a999aade8f887": {
          "model_module": "@jupyter-widgets/base",
          "model_name": "LayoutModel",
          "model_module_version": "1.2.0",
          "state": {
            "_view_name": "LayoutView",
            "grid_template_rows": null,
            "right": null,
            "justify_content": null,
            "_view_module": "@jupyter-widgets/base",
            "overflow": null,
            "_model_module_version": "1.2.0",
            "_view_count": null,
            "flex_flow": null,
            "width": null,
            "min_width": null,
            "border": null,
            "align_items": null,
            "bottom": null,
            "_model_module": "@jupyter-widgets/base",
            "top": null,
            "grid_column": null,
            "overflow_y": null,
            "overflow_x": null,
            "grid_auto_flow": null,
            "grid_area": null,
            "grid_template_columns": null,
            "flex": null,
            "_model_name": "LayoutModel",
            "justify_items": null,
            "grid_row": null,
            "max_height": null,
            "align_content": null,
            "visibility": null,
            "align_self": null,
            "height": null,
            "min_height": null,
            "padding": null,
            "grid_auto_rows": null,
            "grid_gap": null,
            "max_width": null,
            "order": null,
            "_view_module_version": "1.2.0",
            "grid_template_areas": null,
            "object_position": null,
            "object_fit": null,
            "grid_auto_columns": null,
            "margin": null,
            "display": null,
            "left": null
          }
        },
        "acc19ca6d69348de8b03ed36dfda1e6f": {
          "model_module": "@jupyter-widgets/controls",
          "model_name": "DropdownModel",
          "model_module_version": "1.5.0",
          "state": {
            "_options_labels": [
              "bottle",
              "cardboard",
              "paper"
            ],
            "_view_name": "DropdownView",
            "style": "IPY_MODEL_e438955e182646bda934ae9914dc25c9",
            "_dom_classes": [],
            "description": "detection",
            "_model_name": "DropdownModel",
            "index": 0,
            "_view_module": "@jupyter-widgets/controls",
            "_model_module_version": "1.5.0",
            "_view_count": null,
            "disabled": false,
            "_view_module_version": "1.5.0",
            "description_tooltip": null,
            "_model_module": "@jupyter-widgets/controls",
            "layout": "IPY_MODEL_ed14fca488b54abab0d1e238d984c957"
          }
        },
        "e2b6bb1ce6e64f84a039eb3a7d808958": {
          "model_module": "@jupyter-widgets/output",
          "model_name": "OutputModel",
          "model_module_version": "1.0.0",
          "state": {
            "_view_name": "OutputView",
            "msg_id": "",
            "_dom_classes": [],
            "_model_name": "OutputModel",
            "outputs": [
              {
                "output_type": "display_data",
                "data": {
                  "text/html": "<html>\n<head><meta charset=\"utf-8\" /></head>\n<body>\n    <div>\n            <script src=\"https://cdnjs.cloudflare.com/ajax/libs/mathjax/2.7.5/MathJax.js?config=TeX-AMS-MML_SVG\"></script><script type=\"text/javascript\">if (window.MathJax) {MathJax.Hub.Config({SVG: {font: \"STIX-Web\"}});}</script>\n                <script type=\"text/javascript\">window.PlotlyConfig = {MathJaxConfig: 'local'};</script>\n        <script src=\"https://cdn.plot.ly/plotly-latest.min.js\"></script>    \n            <div id=\"93c12bd7-a53d-4f6b-aa1f-596fde858879\" class=\"plotly-graph-div\" style=\"height:525px; width:100%;\"></div>\n            <script type=\"text/javascript\">\n                \n                    window.PLOTLYENV=window.PLOTLYENV || {};\n                    \n                if (document.getElementById(\"93c12bd7-a53d-4f6b-aa1f-596fde858879\")) {\n                    Plotly.newPlot(\n                        '93c12bd7-a53d-4f6b-aa1f-596fde858879',\n                        [{\"alignmentgroup\": \"True\", \"hoverlabel\": {\"namelength\": 0}, \"hovertemplate\": \"x=%{x}<br>y=%{y}\", \"legendgroup\": \"\", \"marker\": {\"color\": \"#636efa\"}, \"name\": \"\", \"offsetgroup\": \"\", \"orientation\": \"v\", \"showlegend\": false, \"textposition\": \"auto\", \"type\": \"bar\", \"x\": [0.02, 0.02, 0.33, 0.33, 0.95], \"xaxis\": \"x\", \"y\": [\"cardboard\", \"paper\", \"can\", \"scrap metal\", \"bottle\"], \"yaxis\": \"y\"}],\n                        {\"barmode\": \"relative\", \"legend\": {\"tracegroupgap\": 0}, \"margin\": {\"t\": 60}, \"template\": {\"data\": {\"bar\": [{\"error_x\": {\"color\": \"#2a3f5f\"}, \"error_y\": {\"color\": \"#2a3f5f\"}, \"marker\": {\"line\": {\"color\": \"#E5ECF6\", \"width\": 0.5}}, \"type\": \"bar\"}], \"barpolar\": [{\"marker\": {\"line\": {\"color\": \"#E5ECF6\", \"width\": 0.5}}, \"type\": \"barpolar\"}], \"carpet\": [{\"aaxis\": {\"endlinecolor\": \"#2a3f5f\", \"gridcolor\": \"white\", \"linecolor\": \"white\", \"minorgridcolor\": \"white\", \"startlinecolor\": \"#2a3f5f\"}, \"baxis\": {\"endlinecolor\": \"#2a3f5f\", \"gridcolor\": \"white\", \"linecolor\": \"white\", \"minorgridcolor\": \"white\", \"startlinecolor\": \"#2a3f5f\"}, \"type\": \"carpet\"}], \"choropleth\": [{\"colorbar\": {\"outlinewidth\": 0, \"ticks\": \"\"}, \"type\": \"choropleth\"}], \"contour\": [{\"colorbar\": {\"outlinewidth\": 0, \"ticks\": \"\"}, \"colorscale\": [[0.0, \"#0d0887\"], [0.1111111111111111, \"#46039f\"], [0.2222222222222222, \"#7201a8\"], [0.3333333333333333, \"#9c179e\"], [0.4444444444444444, \"#bd3786\"], [0.5555555555555556, \"#d8576b\"], [0.6666666666666666, \"#ed7953\"], [0.7777777777777778, \"#fb9f3a\"], [0.8888888888888888, \"#fdca26\"], [1.0, \"#f0f921\"]], \"type\": \"contour\"}], \"contourcarpet\": [{\"colorbar\": {\"outlinewidth\": 0, \"ticks\": \"\"}, \"type\": \"contourcarpet\"}], \"heatmap\": [{\"colorbar\": {\"outlinewidth\": 0, \"ticks\": \"\"}, \"colorscale\": [[0.0, \"#0d0887\"], [0.1111111111111111, \"#46039f\"], [0.2222222222222222, \"#7201a8\"], [0.3333333333333333, \"#9c179e\"], [0.4444444444444444, \"#bd3786\"], [0.5555555555555556, \"#d8576b\"], [0.6666666666666666, \"#ed7953\"], [0.7777777777777778, \"#fb9f3a\"], [0.8888888888888888, \"#fdca26\"], [1.0, \"#f0f921\"]], \"type\": \"heatmap\"}], \"heatmapgl\": [{\"colorbar\": {\"outlinewidth\": 0, \"ticks\": \"\"}, \"colorscale\": [[0.0, \"#0d0887\"], [0.1111111111111111, \"#46039f\"], [0.2222222222222222, \"#7201a8\"], [0.3333333333333333, \"#9c179e\"], [0.4444444444444444, \"#bd3786\"], [0.5555555555555556, \"#d8576b\"], [0.6666666666666666, \"#ed7953\"], [0.7777777777777778, \"#fb9f3a\"], [0.8888888888888888, \"#fdca26\"], [1.0, \"#f0f921\"]], \"type\": \"heatmapgl\"}], \"histogram\": [{\"marker\": {\"colorbar\": {\"outlinewidth\": 0, \"ticks\": \"\"}}, \"type\": \"histogram\"}], \"histogram2d\": [{\"colorbar\": {\"outlinewidth\": 0, \"ticks\": \"\"}, \"colorscale\": [[0.0, \"#0d0887\"], [0.1111111111111111, \"#46039f\"], [0.2222222222222222, \"#7201a8\"], [0.3333333333333333, \"#9c179e\"], [0.4444444444444444, \"#bd3786\"], [0.5555555555555556, \"#d8576b\"], [0.6666666666666666, \"#ed7953\"], [0.7777777777777778, \"#fb9f3a\"], [0.8888888888888888, \"#fdca26\"], [1.0, \"#f0f921\"]], \"type\": \"histogram2d\"}], \"histogram2dcontour\": [{\"colorbar\": {\"outlinewidth\": 0, \"ticks\": \"\"}, \"colorscale\": [[0.0, \"#0d0887\"], [0.1111111111111111, \"#46039f\"], [0.2222222222222222, \"#7201a8\"], [0.3333333333333333, \"#9c179e\"], [0.4444444444444444, \"#bd3786\"], [0.5555555555555556, \"#d8576b\"], [0.6666666666666666, \"#ed7953\"], [0.7777777777777778, \"#fb9f3a\"], [0.8888888888888888, \"#fdca26\"], [1.0, \"#f0f921\"]], \"type\": \"histogram2dcontour\"}], \"mesh3d\": [{\"colorbar\": {\"outlinewidth\": 0, \"ticks\": \"\"}, \"type\": \"mesh3d\"}], \"parcoords\": [{\"line\": {\"colorbar\": {\"outlinewidth\": 0, \"ticks\": \"\"}}, \"type\": \"parcoords\"}], \"pie\": [{\"automargin\": true, \"type\": \"pie\"}], \"scatter\": [{\"marker\": {\"colorbar\": {\"outlinewidth\": 0, \"ticks\": \"\"}}, \"type\": \"scatter\"}], \"scatter3d\": [{\"line\": {\"colorbar\": {\"outlinewidth\": 0, \"ticks\": \"\"}}, \"marker\": {\"colorbar\": {\"outlinewidth\": 0, \"ticks\": \"\"}}, \"type\": \"scatter3d\"}], \"scattercarpet\": [{\"marker\": {\"colorbar\": {\"outlinewidth\": 0, \"ticks\": \"\"}}, \"type\": \"scattercarpet\"}], \"scattergeo\": [{\"marker\": {\"colorbar\": {\"outlinewidth\": 0, \"ticks\": \"\"}}, \"type\": \"scattergeo\"}], \"scattergl\": [{\"marker\": {\"colorbar\": {\"outlinewidth\": 0, \"ticks\": \"\"}}, \"type\": \"scattergl\"}], \"scattermapbox\": [{\"marker\": {\"colorbar\": {\"outlinewidth\": 0, \"ticks\": \"\"}}, \"type\": \"scattermapbox\"}], \"scatterpolar\": [{\"marker\": {\"colorbar\": {\"outlinewidth\": 0, \"ticks\": \"\"}}, \"type\": \"scatterpolar\"}], \"scatterpolargl\": [{\"marker\": {\"colorbar\": {\"outlinewidth\": 0, \"ticks\": \"\"}}, \"type\": \"scatterpolargl\"}], \"scatterternary\": [{\"marker\": {\"colorbar\": {\"outlinewidth\": 0, \"ticks\": \"\"}}, \"type\": \"scatterternary\"}], \"surface\": [{\"colorbar\": {\"outlinewidth\": 0, \"ticks\": \"\"}, \"colorscale\": [[0.0, \"#0d0887\"], [0.1111111111111111, \"#46039f\"], [0.2222222222222222, \"#7201a8\"], [0.3333333333333333, \"#9c179e\"], [0.4444444444444444, \"#bd3786\"], [0.5555555555555556, \"#d8576b\"], [0.6666666666666666, \"#ed7953\"], [0.7777777777777778, \"#fb9f3a\"], [0.8888888888888888, \"#fdca26\"], [1.0, \"#f0f921\"]], \"type\": \"surface\"}], \"table\": [{\"cells\": {\"fill\": {\"color\": \"#EBF0F8\"}, \"line\": {\"color\": \"white\"}}, \"header\": {\"fill\": {\"color\": \"#C8D4E3\"}, \"line\": {\"color\": \"white\"}}, \"type\": \"table\"}]}, \"layout\": {\"annotationdefaults\": {\"arrowcolor\": \"#2a3f5f\", \"arrowhead\": 0, \"arrowwidth\": 1}, \"coloraxis\": {\"colorbar\": {\"outlinewidth\": 0, \"ticks\": \"\"}}, \"colorscale\": {\"diverging\": [[0, \"#8e0152\"], [0.1, \"#c51b7d\"], [0.2, \"#de77ae\"], [0.3, \"#f1b6da\"], [0.4, \"#fde0ef\"], [0.5, \"#f7f7f7\"], [0.6, \"#e6f5d0\"], [0.7, \"#b8e186\"], [0.8, \"#7fbc41\"], [0.9, \"#4d9221\"], [1, \"#276419\"]], \"sequential\": [[0.0, \"#0d0887\"], [0.1111111111111111, \"#46039f\"], [0.2222222222222222, \"#7201a8\"], [0.3333333333333333, \"#9c179e\"], [0.4444444444444444, \"#bd3786\"], [0.5555555555555556, \"#d8576b\"], [0.6666666666666666, \"#ed7953\"], [0.7777777777777778, \"#fb9f3a\"], [0.8888888888888888, \"#fdca26\"], [1.0, \"#f0f921\"]], \"sequentialminus\": [[0.0, \"#0d0887\"], [0.1111111111111111, \"#46039f\"], [0.2222222222222222, \"#7201a8\"], [0.3333333333333333, \"#9c179e\"], [0.4444444444444444, \"#bd3786\"], [0.5555555555555556, \"#d8576b\"], [0.6666666666666666, \"#ed7953\"], [0.7777777777777778, \"#fb9f3a\"], [0.8888888888888888, \"#fdca26\"], [1.0, \"#f0f921\"]]}, \"colorway\": [\"#636efa\", \"#EF553B\", \"#00cc96\", \"#ab63fa\", \"#FFA15A\", \"#19d3f3\", \"#FF6692\", \"#B6E880\", \"#FF97FF\", \"#FECB52\"], \"font\": {\"color\": \"#2a3f5f\"}, \"geo\": {\"bgcolor\": \"white\", \"lakecolor\": \"white\", \"landcolor\": \"#E5ECF6\", \"showlakes\": true, \"showland\": true, \"subunitcolor\": \"white\"}, \"hoverlabel\": {\"align\": \"left\"}, \"hovermode\": \"closest\", \"mapbox\": {\"style\": \"light\"}, \"paper_bgcolor\": \"white\", \"plot_bgcolor\": \"#E5ECF6\", \"polar\": {\"angularaxis\": {\"gridcolor\": \"white\", \"linecolor\": \"white\", \"ticks\": \"\"}, \"bgcolor\": \"#E5ECF6\", \"radialaxis\": {\"gridcolor\": \"white\", \"linecolor\": \"white\", \"ticks\": \"\"}}, \"scene\": {\"xaxis\": {\"backgroundcolor\": \"#E5ECF6\", \"gridcolor\": \"white\", \"gridwidth\": 2, \"linecolor\": \"white\", \"showbackground\": true, \"ticks\": \"\", \"zerolinecolor\": \"white\"}, \"yaxis\": {\"backgroundcolor\": \"#E5ECF6\", \"gridcolor\": \"white\", \"gridwidth\": 2, \"linecolor\": \"white\", \"showbackground\": true, \"ticks\": \"\", \"zerolinecolor\": \"white\"}, \"zaxis\": {\"backgroundcolor\": \"#E5ECF6\", \"gridcolor\": \"white\", \"gridwidth\": 2, \"linecolor\": \"white\", \"showbackground\": true, \"ticks\": \"\", \"zerolinecolor\": \"white\"}}, \"shapedefaults\": {\"line\": {\"color\": \"#2a3f5f\"}}, \"ternary\": {\"aaxis\": {\"gridcolor\": \"white\", \"linecolor\": \"white\", \"ticks\": \"\"}, \"baxis\": {\"gridcolor\": \"white\", \"linecolor\": \"white\", \"ticks\": \"\"}, \"bgcolor\": \"#E5ECF6\", \"caxis\": {\"gridcolor\": \"white\", \"linecolor\": \"white\", \"ticks\": \"\"}}, \"title\": {\"x\": 0.05}, \"xaxis\": {\"automargin\": true, \"gridcolor\": \"white\", \"linecolor\": \"white\", \"ticks\": \"\", \"title\": {\"standoff\": 15}, \"zerolinecolor\": \"white\", \"zerolinewidth\": 2}, \"yaxis\": {\"automargin\": true, \"gridcolor\": \"white\", \"linecolor\": \"white\", \"ticks\": \"\", \"title\": {\"standoff\": 15}, \"zerolinecolor\": \"white\", \"zerolinewidth\": 2}}}, \"xaxis\": {\"anchor\": \"y\", \"domain\": [0.0, 1.0], \"title\": {\"text\": \"x\"}}, \"yaxis\": {\"anchor\": \"x\", \"domain\": [0.0, 1.0], \"title\": {\"text\": \"y\"}}},\n                        {\"responsive\": true}\n                    ).then(function(){\n                            \nvar gd = document.getElementById('93c12bd7-a53d-4f6b-aa1f-596fde858879');\nvar x = new MutationObserver(function (mutations, observer) {{\n        var display = window.getComputedStyle(gd).display;\n        if (!display || display === 'none') {{\n            console.log([gd, 'removed!']);\n            Plotly.purge(gd);\n            observer.disconnect();\n        }}\n}});\n\n// Listen for the removal of the full notebook cells\nvar notebookContainer = gd.closest('#notebook-container');\nif (notebookContainer) {{\n    x.observe(notebookContainer, {childList: true});\n}}\n\n// Listen for the clearing of the current output cell\nvar outputEl = gd.closest('.output');\nif (outputEl) {{\n    x.observe(outputEl, {childList: true});\n}}\n\n                        })\n                };\n                \n            </script>\n        </div>\n</body>\n</html>"
                },
                "metadata": {}
              }
            ],
            "_view_module": "@jupyter-widgets/output",
            "_model_module_version": "1.0.0",
            "_view_count": null,
            "_view_module_version": "1.0.0",
            "layout": "IPY_MODEL_2fb8707b477e465cae7995dd4a1709a4",
            "_model_module": "@jupyter-widgets/output"
          }
        },
        "e438955e182646bda934ae9914dc25c9": {
          "model_module": "@jupyter-widgets/controls",
          "model_name": "DescriptionStyleModel",
          "model_module_version": "1.5.0",
          "state": {
            "_view_name": "StyleView",
            "_model_name": "DescriptionStyleModel",
            "description_width": "",
            "_view_module": "@jupyter-widgets/base",
            "_model_module_version": "1.5.0",
            "_view_count": null,
            "_view_module_version": "1.2.0",
            "_model_module": "@jupyter-widgets/controls"
          }
        },
        "ed14fca488b54abab0d1e238d984c957": {
          "model_module": "@jupyter-widgets/base",
          "model_name": "LayoutModel",
          "model_module_version": "1.2.0",
          "state": {
            "_view_name": "LayoutView",
            "grid_template_rows": null,
            "right": null,
            "justify_content": null,
            "_view_module": "@jupyter-widgets/base",
            "overflow": null,
            "_model_module_version": "1.2.0",
            "_view_count": null,
            "flex_flow": null,
            "width": null,
            "min_width": null,
            "border": null,
            "align_items": null,
            "bottom": null,
            "_model_module": "@jupyter-widgets/base",
            "top": null,
            "grid_column": null,
            "overflow_y": null,
            "overflow_x": null,
            "grid_auto_flow": null,
            "grid_area": null,
            "grid_template_columns": null,
            "flex": null,
            "_model_name": "LayoutModel",
            "justify_items": null,
            "grid_row": null,
            "max_height": null,
            "align_content": null,
            "visibility": null,
            "align_self": null,
            "height": null,
            "min_height": null,
            "padding": null,
            "grid_auto_rows": null,
            "grid_gap": null,
            "max_width": null,
            "order": null,
            "_view_module_version": "1.2.0",
            "grid_template_areas": null,
            "object_position": null,
            "object_fit": null,
            "grid_auto_columns": null,
            "margin": null,
            "display": null,
            "left": null
          }
        },
        "2fb8707b477e465cae7995dd4a1709a4": {
          "model_module": "@jupyter-widgets/base",
          "model_name": "LayoutModel",
          "model_module_version": "1.2.0",
          "state": {
            "_view_name": "LayoutView",
            "grid_template_rows": null,
            "right": null,
            "justify_content": null,
            "_view_module": "@jupyter-widgets/base",
            "overflow": null,
            "_model_module_version": "1.2.0",
            "_view_count": null,
            "flex_flow": null,
            "width": null,
            "min_width": null,
            "border": null,
            "align_items": null,
            "bottom": null,
            "_model_module": "@jupyter-widgets/base",
            "top": null,
            "grid_column": null,
            "overflow_y": null,
            "overflow_x": null,
            "grid_auto_flow": null,
            "grid_area": null,
            "grid_template_columns": null,
            "flex": null,
            "_model_name": "LayoutModel",
            "justify_items": null,
            "grid_row": null,
            "max_height": null,
            "align_content": null,
            "visibility": null,
            "align_self": null,
            "height": null,
            "min_height": null,
            "padding": null,
            "grid_auto_rows": null,
            "grid_gap": null,
            "max_width": null,
            "order": null,
            "_view_module_version": "1.2.0",
            "grid_template_areas": null,
            "object_position": null,
            "object_fit": null,
            "grid_auto_columns": null,
            "margin": null,
            "display": null,
            "left": null
          }
        }
      }
    }
  },
  "nbformat": 4,
  "nbformat_minor": 0
}